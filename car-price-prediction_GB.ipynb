{
 "cells": [
  {
   "cell_type": "markdown",
   "metadata": {},
   "source": [
    "# Определение стоимости автомобилей"
   ]
  },
  {
   "cell_type": "markdown",
   "metadata": {},
   "source": [
    "Условный сервис по продаже автомобилей разрабатывает приложение для привлечения новых клиентов. В нём можно быстро узнать рыночную стоимость своего автомобиля. В распоряжении исторические данные: технические характеристики, комплектации и цены автомобилей. Необходимо построить модель для определения стоимости. \n",
    "\n",
    "Заказчику важны:\n",
    "\n",
    "- качество предсказания;\n",
    "- скорость предсказания;\n",
    "- время обучения."
   ]
  },
  {
   "cell_type": "code",
   "execution_count": 1,
   "metadata": {},
   "outputs": [
    {
     "name": "stdout",
     "output_type": "stream",
     "text": [
      "Requirement already satisfied: catboost in c:\\users\\ialek\\anaconda3\\lib\\site-packages (1.0.6)\n",
      "Requirement already satisfied: pandas>=0.24.0 in c:\\users\\ialek\\anaconda3\\lib\\site-packages (from catboost) (1.4.1)\n",
      "Requirement already satisfied: plotly in c:\\users\\ialek\\anaconda3\\lib\\site-packages (from catboost) (5.6.0)\n",
      "Requirement already satisfied: six in c:\\users\\ialek\\anaconda3\\lib\\site-packages (from catboost) (1.16.0)\n",
      "Requirement already satisfied: scipy in c:\\users\\ialek\\anaconda3\\lib\\site-packages (from catboost) (1.8.0)\n",
      "Requirement already satisfied: numpy>=1.16.0 in c:\\users\\ialek\\anaconda3\\lib\\site-packages (from catboost) (1.21.5)\n",
      "Requirement already satisfied: graphviz in c:\\users\\ialek\\anaconda3\\lib\\site-packages (from catboost) (0.20)\n",
      "Requirement already satisfied: matplotlib in c:\\users\\ialek\\anaconda3\\lib\\site-packages (from catboost) (3.5.1)\n",
      "Requirement already satisfied: pytz>=2020.1 in c:\\users\\ialek\\anaconda3\\lib\\site-packages (from pandas>=0.24.0->catboost) (2021.3)\n",
      "Requirement already satisfied: python-dateutil>=2.8.1 in c:\\users\\ialek\\anaconda3\\lib\\site-packages (from pandas>=0.24.0->catboost) (2.8.2)\n",
      "Requirement already satisfied: pillow>=6.2.0 in c:\\users\\ialek\\anaconda3\\lib\\site-packages (from matplotlib->catboost) (9.0.1)\n",
      "Requirement already satisfied: packaging>=20.0 in c:\\users\\ialek\\anaconda3\\lib\\site-packages (from matplotlib->catboost) (21.3)\n",
      "Requirement already satisfied: fonttools>=4.22.0 in c:\\users\\ialek\\anaconda3\\lib\\site-packages (from matplotlib->catboost) (4.25.0)\n",
      "Requirement already satisfied: pyparsing>=2.2.1 in c:\\users\\ialek\\anaconda3\\lib\\site-packages (from matplotlib->catboost) (3.0.4)\n",
      "Requirement already satisfied: cycler>=0.10 in c:\\users\\ialek\\anaconda3\\lib\\site-packages (from matplotlib->catboost) (0.11.0)\n",
      "Requirement already satisfied: kiwisolver>=1.0.1 in c:\\users\\ialek\\anaconda3\\lib\\site-packages (from matplotlib->catboost) (1.3.2)\n",
      "Requirement already satisfied: tenacity>=6.2.0 in c:\\users\\ialek\\anaconda3\\lib\\site-packages (from plotly->catboost) (8.0.1)\n",
      "Requirement already satisfied: lightgbm in c:\\users\\ialek\\anaconda3\\lib\\site-packages (3.3.2)\n",
      "Requirement already satisfied: wheel in c:\\users\\ialek\\anaconda3\\lib\\site-packages (from lightgbm) (0.37.1)\n",
      "Requirement already satisfied: scikit-learn!=0.22.0 in c:\\users\\ialek\\anaconda3\\lib\\site-packages (from lightgbm) (1.0.2)\n",
      "Requirement already satisfied: scipy in c:\\users\\ialek\\anaconda3\\lib\\site-packages (from lightgbm) (1.8.0)\n",
      "Requirement already satisfied: numpy in c:\\users\\ialek\\anaconda3\\lib\\site-packages (from lightgbm) (1.21.5)\n",
      "Requirement already satisfied: threadpoolctl>=2.0.0 in c:\\users\\ialek\\anaconda3\\lib\\site-packages (from scikit-learn!=0.22.0->lightgbm) (3.1.0)\n",
      "Requirement already satisfied: joblib>=0.11 in c:\\users\\ialek\\anaconda3\\lib\\site-packages (from scikit-learn!=0.22.0->lightgbm) (1.1.0)\n",
      "Requirement already satisfied: xgboost in c:\\users\\ialek\\anaconda3\\lib\\site-packages (1.6.1)\n",
      "Requirement already satisfied: numpy in c:\\users\\ialek\\anaconda3\\lib\\site-packages (from xgboost) (1.21.5)\n",
      "Requirement already satisfied: scipy in c:\\users\\ialek\\anaconda3\\lib\\site-packages (from xgboost) (1.8.0)\n"
     ]
    }
   ],
   "source": [
    "!pip install catboost\n",
    "!pip install lightgbm\n",
    "!pip install xgboost"
   ]
  },
  {
   "cell_type": "code",
   "execution_count": 2,
   "metadata": {},
   "outputs": [],
   "source": [
    "import pandas as pd\n",
    "import numpy as np\n",
    "import matplotlib.pyplot as plt\n",
    "import seaborn as sns\n",
    "import time\n",
    "from tqdm import tqdm\n",
    "\n",
    "from sklearn.model_selection import train_test_split\n",
    "from sklearn.metrics import mean_squared_error\n",
    "from sklearn.ensemble import RandomForestRegressor\n",
    "from sklearn.preprocessing import StandardScaler\n",
    "from sklearn.linear_model import LinearRegression\n",
    "from sklearn.tree import DecisionTreeRegressor\n",
    "from sklearn.preprocessing import OrdinalEncoder\n",
    "from sklearn.metrics import make_scorer\n",
    "from sklearn.model_selection import GridSearchCV\n",
    "from lightgbm import LGBMRegressor\n",
    "from xgboost import XGBRegressor\n",
    "from catboost import CatBoostRegressor, Pool\n",
    "\n",
    "import warnings\n",
    "warnings.simplefilter(action='ignore', category=FutureWarning)\n",
    "warnings.filterwarnings('ignore')\n",
    "\n",
    "\n",
    "STATE = 12345"
   ]
  },
  {
   "cell_type": "markdown",
   "metadata": {},
   "source": [
    "Создадим датафрейм для внесения результатов:\n",
    "- `model_name` - наименование модели\n",
    "- `rmse_model` - качество предсказания;\n",
    "- `time_predict` - скорость предсказания в милисекундах;\n",
    "- `time_fit` - время обучения  в милисекундах."
   ]
  },
  {
   "cell_type": "code",
   "execution_count": 3,
   "metadata": {},
   "outputs": [
    {
     "data": {
      "text/html": [
       "<div>\n",
       "<style scoped>\n",
       "    .dataframe tbody tr th:only-of-type {\n",
       "        vertical-align: middle;\n",
       "    }\n",
       "\n",
       "    .dataframe tbody tr th {\n",
       "        vertical-align: top;\n",
       "    }\n",
       "\n",
       "    .dataframe thead th {\n",
       "        text-align: right;\n",
       "    }\n",
       "</style>\n",
       "<table border=\"1\" class=\"dataframe\">\n",
       "  <thead>\n",
       "    <tr style=\"text-align: right;\">\n",
       "      <th></th>\n",
       "      <th>model_name</th>\n",
       "      <th>time_fit</th>\n",
       "      <th>time_predict</th>\n",
       "      <th>rmse_model</th>\n",
       "    </tr>\n",
       "  </thead>\n",
       "  <tbody>\n",
       "  </tbody>\n",
       "</table>\n",
       "</div>"
      ],
      "text/plain": [
       "Empty DataFrame\n",
       "Columns: [model_name, time_fit, time_predict, rmse_model]\n",
       "Index: []"
      ]
     },
     "metadata": {},
     "output_type": "display_data"
    }
   ],
   "source": [
    "column_names = ['model_name', 'time_fit', 'time_predict', 'rmse_model']\n",
    "df_results = pd.DataFrame(columns = column_names)\n",
    "display(df_results)"
   ]
  },
  {
   "cell_type": "code",
   "execution_count": 4,
   "metadata": {},
   "outputs": [],
   "source": [
    "def update_results(model_name, time_fit, time_predict, rmse_model, df_results):\n",
    "    \"\"\"функция обновления датафрейма с результатами\"\"\"\n",
    "    resultRowStr= [model_name, time_fit, time_predict, rmse_model]\n",
    "    rows = [pd.Series(resultRowStr, index=df_results.columns)]\n",
    "    df_results=df_results.append(rows,ignore_index=True)\n",
    "    return(df_results)"
   ]
  },
  {
   "cell_type": "markdown",
   "metadata": {},
   "source": [
    "## Подготовка данных"
   ]
  },
  {
   "cell_type": "code",
   "execution_count": 5,
   "metadata": {},
   "outputs": [],
   "source": [
    "def review(df): \n",
    "    \"\"\"функция для отображения общей информации\"\"\"\n",
    "    info = display(df.head(10)), df.info(), display(df.describe()) \n",
    "    if df.duplicated().sum() == 0:\n",
    "        print('Дубликатов не обнаружено')\n",
    "    else:\n",
    "        print('Дубликатов найдено: {}'.format(df.duplicated().sum()))"
   ]
  },
  {
   "cell_type": "code",
   "execution_count": 6,
   "metadata": {},
   "outputs": [],
   "source": [
    "try:\n",
    "    df = pd.read_csv('/datasets/autos.csv')\n",
    "except:\n",
    "    df = pd.read_csv('autos.csv')"
   ]
  },
  {
   "cell_type": "code",
   "execution_count": 7,
   "metadata": {},
   "outputs": [
    {
     "data": {
      "text/html": [
       "<div>\n",
       "<style scoped>\n",
       "    .dataframe tbody tr th:only-of-type {\n",
       "        vertical-align: middle;\n",
       "    }\n",
       "\n",
       "    .dataframe tbody tr th {\n",
       "        vertical-align: top;\n",
       "    }\n",
       "\n",
       "    .dataframe thead th {\n",
       "        text-align: right;\n",
       "    }\n",
       "</style>\n",
       "<table border=\"1\" class=\"dataframe\">\n",
       "  <thead>\n",
       "    <tr style=\"text-align: right;\">\n",
       "      <th></th>\n",
       "      <th>DateCrawled</th>\n",
       "      <th>Price</th>\n",
       "      <th>VehicleType</th>\n",
       "      <th>RegistrationYear</th>\n",
       "      <th>Gearbox</th>\n",
       "      <th>Power</th>\n",
       "      <th>Model</th>\n",
       "      <th>Kilometer</th>\n",
       "      <th>RegistrationMonth</th>\n",
       "      <th>FuelType</th>\n",
       "      <th>Brand</th>\n",
       "      <th>NotRepaired</th>\n",
       "      <th>DateCreated</th>\n",
       "      <th>NumberOfPictures</th>\n",
       "      <th>PostalCode</th>\n",
       "      <th>LastSeen</th>\n",
       "    </tr>\n",
       "  </thead>\n",
       "  <tbody>\n",
       "    <tr>\n",
       "      <th>0</th>\n",
       "      <td>2016-03-24 11:52:17</td>\n",
       "      <td>480</td>\n",
       "      <td>NaN</td>\n",
       "      <td>1993</td>\n",
       "      <td>manual</td>\n",
       "      <td>0</td>\n",
       "      <td>golf</td>\n",
       "      <td>150000</td>\n",
       "      <td>0</td>\n",
       "      <td>petrol</td>\n",
       "      <td>volkswagen</td>\n",
       "      <td>NaN</td>\n",
       "      <td>2016-03-24 00:00:00</td>\n",
       "      <td>0</td>\n",
       "      <td>70435</td>\n",
       "      <td>2016-04-07 03:16:57</td>\n",
       "    </tr>\n",
       "    <tr>\n",
       "      <th>1</th>\n",
       "      <td>2016-03-24 10:58:45</td>\n",
       "      <td>18300</td>\n",
       "      <td>coupe</td>\n",
       "      <td>2011</td>\n",
       "      <td>manual</td>\n",
       "      <td>190</td>\n",
       "      <td>NaN</td>\n",
       "      <td>125000</td>\n",
       "      <td>5</td>\n",
       "      <td>gasoline</td>\n",
       "      <td>audi</td>\n",
       "      <td>yes</td>\n",
       "      <td>2016-03-24 00:00:00</td>\n",
       "      <td>0</td>\n",
       "      <td>66954</td>\n",
       "      <td>2016-04-07 01:46:50</td>\n",
       "    </tr>\n",
       "    <tr>\n",
       "      <th>2</th>\n",
       "      <td>2016-03-14 12:52:21</td>\n",
       "      <td>9800</td>\n",
       "      <td>suv</td>\n",
       "      <td>2004</td>\n",
       "      <td>auto</td>\n",
       "      <td>163</td>\n",
       "      <td>grand</td>\n",
       "      <td>125000</td>\n",
       "      <td>8</td>\n",
       "      <td>gasoline</td>\n",
       "      <td>jeep</td>\n",
       "      <td>NaN</td>\n",
       "      <td>2016-03-14 00:00:00</td>\n",
       "      <td>0</td>\n",
       "      <td>90480</td>\n",
       "      <td>2016-04-05 12:47:46</td>\n",
       "    </tr>\n",
       "    <tr>\n",
       "      <th>3</th>\n",
       "      <td>2016-03-17 16:54:04</td>\n",
       "      <td>1500</td>\n",
       "      <td>small</td>\n",
       "      <td>2001</td>\n",
       "      <td>manual</td>\n",
       "      <td>75</td>\n",
       "      <td>golf</td>\n",
       "      <td>150000</td>\n",
       "      <td>6</td>\n",
       "      <td>petrol</td>\n",
       "      <td>volkswagen</td>\n",
       "      <td>no</td>\n",
       "      <td>2016-03-17 00:00:00</td>\n",
       "      <td>0</td>\n",
       "      <td>91074</td>\n",
       "      <td>2016-03-17 17:40:17</td>\n",
       "    </tr>\n",
       "    <tr>\n",
       "      <th>4</th>\n",
       "      <td>2016-03-31 17:25:20</td>\n",
       "      <td>3600</td>\n",
       "      <td>small</td>\n",
       "      <td>2008</td>\n",
       "      <td>manual</td>\n",
       "      <td>69</td>\n",
       "      <td>fabia</td>\n",
       "      <td>90000</td>\n",
       "      <td>7</td>\n",
       "      <td>gasoline</td>\n",
       "      <td>skoda</td>\n",
       "      <td>no</td>\n",
       "      <td>2016-03-31 00:00:00</td>\n",
       "      <td>0</td>\n",
       "      <td>60437</td>\n",
       "      <td>2016-04-06 10:17:21</td>\n",
       "    </tr>\n",
       "    <tr>\n",
       "      <th>5</th>\n",
       "      <td>2016-04-04 17:36:23</td>\n",
       "      <td>650</td>\n",
       "      <td>sedan</td>\n",
       "      <td>1995</td>\n",
       "      <td>manual</td>\n",
       "      <td>102</td>\n",
       "      <td>3er</td>\n",
       "      <td>150000</td>\n",
       "      <td>10</td>\n",
       "      <td>petrol</td>\n",
       "      <td>bmw</td>\n",
       "      <td>yes</td>\n",
       "      <td>2016-04-04 00:00:00</td>\n",
       "      <td>0</td>\n",
       "      <td>33775</td>\n",
       "      <td>2016-04-06 19:17:07</td>\n",
       "    </tr>\n",
       "    <tr>\n",
       "      <th>6</th>\n",
       "      <td>2016-04-01 20:48:51</td>\n",
       "      <td>2200</td>\n",
       "      <td>convertible</td>\n",
       "      <td>2004</td>\n",
       "      <td>manual</td>\n",
       "      <td>109</td>\n",
       "      <td>2_reihe</td>\n",
       "      <td>150000</td>\n",
       "      <td>8</td>\n",
       "      <td>petrol</td>\n",
       "      <td>peugeot</td>\n",
       "      <td>no</td>\n",
       "      <td>2016-04-01 00:00:00</td>\n",
       "      <td>0</td>\n",
       "      <td>67112</td>\n",
       "      <td>2016-04-05 18:18:39</td>\n",
       "    </tr>\n",
       "    <tr>\n",
       "      <th>7</th>\n",
       "      <td>2016-03-21 18:54:38</td>\n",
       "      <td>0</td>\n",
       "      <td>sedan</td>\n",
       "      <td>1980</td>\n",
       "      <td>manual</td>\n",
       "      <td>50</td>\n",
       "      <td>other</td>\n",
       "      <td>40000</td>\n",
       "      <td>7</td>\n",
       "      <td>petrol</td>\n",
       "      <td>volkswagen</td>\n",
       "      <td>no</td>\n",
       "      <td>2016-03-21 00:00:00</td>\n",
       "      <td>0</td>\n",
       "      <td>19348</td>\n",
       "      <td>2016-03-25 16:47:58</td>\n",
       "    </tr>\n",
       "    <tr>\n",
       "      <th>8</th>\n",
       "      <td>2016-04-04 23:42:13</td>\n",
       "      <td>14500</td>\n",
       "      <td>bus</td>\n",
       "      <td>2014</td>\n",
       "      <td>manual</td>\n",
       "      <td>125</td>\n",
       "      <td>c_max</td>\n",
       "      <td>30000</td>\n",
       "      <td>8</td>\n",
       "      <td>petrol</td>\n",
       "      <td>ford</td>\n",
       "      <td>NaN</td>\n",
       "      <td>2016-04-04 00:00:00</td>\n",
       "      <td>0</td>\n",
       "      <td>94505</td>\n",
       "      <td>2016-04-04 23:42:13</td>\n",
       "    </tr>\n",
       "    <tr>\n",
       "      <th>9</th>\n",
       "      <td>2016-03-17 10:53:50</td>\n",
       "      <td>999</td>\n",
       "      <td>small</td>\n",
       "      <td>1998</td>\n",
       "      <td>manual</td>\n",
       "      <td>101</td>\n",
       "      <td>golf</td>\n",
       "      <td>150000</td>\n",
       "      <td>0</td>\n",
       "      <td>NaN</td>\n",
       "      <td>volkswagen</td>\n",
       "      <td>NaN</td>\n",
       "      <td>2016-03-17 00:00:00</td>\n",
       "      <td>0</td>\n",
       "      <td>27472</td>\n",
       "      <td>2016-03-31 17:17:06</td>\n",
       "    </tr>\n",
       "  </tbody>\n",
       "</table>\n",
       "</div>"
      ],
      "text/plain": [
       "           DateCrawled  Price  VehicleType  RegistrationYear Gearbox  Power  \\\n",
       "0  2016-03-24 11:52:17    480          NaN              1993  manual      0   \n",
       "1  2016-03-24 10:58:45  18300        coupe              2011  manual    190   \n",
       "2  2016-03-14 12:52:21   9800          suv              2004    auto    163   \n",
       "3  2016-03-17 16:54:04   1500        small              2001  manual     75   \n",
       "4  2016-03-31 17:25:20   3600        small              2008  manual     69   \n",
       "5  2016-04-04 17:36:23    650        sedan              1995  manual    102   \n",
       "6  2016-04-01 20:48:51   2200  convertible              2004  manual    109   \n",
       "7  2016-03-21 18:54:38      0        sedan              1980  manual     50   \n",
       "8  2016-04-04 23:42:13  14500          bus              2014  manual    125   \n",
       "9  2016-03-17 10:53:50    999        small              1998  manual    101   \n",
       "\n",
       "     Model  Kilometer  RegistrationMonth  FuelType       Brand NotRepaired  \\\n",
       "0     golf     150000                  0    petrol  volkswagen         NaN   \n",
       "1      NaN     125000                  5  gasoline        audi         yes   \n",
       "2    grand     125000                  8  gasoline        jeep         NaN   \n",
       "3     golf     150000                  6    petrol  volkswagen          no   \n",
       "4    fabia      90000                  7  gasoline       skoda          no   \n",
       "5      3er     150000                 10    petrol         bmw         yes   \n",
       "6  2_reihe     150000                  8    petrol     peugeot          no   \n",
       "7    other      40000                  7    petrol  volkswagen          no   \n",
       "8    c_max      30000                  8    petrol        ford         NaN   \n",
       "9     golf     150000                  0       NaN  volkswagen         NaN   \n",
       "\n",
       "           DateCreated  NumberOfPictures  PostalCode             LastSeen  \n",
       "0  2016-03-24 00:00:00                 0       70435  2016-04-07 03:16:57  \n",
       "1  2016-03-24 00:00:00                 0       66954  2016-04-07 01:46:50  \n",
       "2  2016-03-14 00:00:00                 0       90480  2016-04-05 12:47:46  \n",
       "3  2016-03-17 00:00:00                 0       91074  2016-03-17 17:40:17  \n",
       "4  2016-03-31 00:00:00                 0       60437  2016-04-06 10:17:21  \n",
       "5  2016-04-04 00:00:00                 0       33775  2016-04-06 19:17:07  \n",
       "6  2016-04-01 00:00:00                 0       67112  2016-04-05 18:18:39  \n",
       "7  2016-03-21 00:00:00                 0       19348  2016-03-25 16:47:58  \n",
       "8  2016-04-04 00:00:00                 0       94505  2016-04-04 23:42:13  \n",
       "9  2016-03-17 00:00:00                 0       27472  2016-03-31 17:17:06  "
      ]
     },
     "metadata": {},
     "output_type": "display_data"
    },
    {
     "name": "stdout",
     "output_type": "stream",
     "text": [
      "<class 'pandas.core.frame.DataFrame'>\n",
      "RangeIndex: 354369 entries, 0 to 354368\n",
      "Data columns (total 16 columns):\n",
      " #   Column             Non-Null Count   Dtype \n",
      "---  ------             --------------   ----- \n",
      " 0   DateCrawled        354369 non-null  object\n",
      " 1   Price              354369 non-null  int64 \n",
      " 2   VehicleType        316879 non-null  object\n",
      " 3   RegistrationYear   354369 non-null  int64 \n",
      " 4   Gearbox            334536 non-null  object\n",
      " 5   Power              354369 non-null  int64 \n",
      " 6   Model              334664 non-null  object\n",
      " 7   Kilometer          354369 non-null  int64 \n",
      " 8   RegistrationMonth  354369 non-null  int64 \n",
      " 9   FuelType           321474 non-null  object\n",
      " 10  Brand              354369 non-null  object\n",
      " 11  NotRepaired        283215 non-null  object\n",
      " 12  DateCreated        354369 non-null  object\n",
      " 13  NumberOfPictures   354369 non-null  int64 \n",
      " 14  PostalCode         354369 non-null  int64 \n",
      " 15  LastSeen           354369 non-null  object\n",
      "dtypes: int64(7), object(9)\n",
      "memory usage: 43.3+ MB\n"
     ]
    },
    {
     "data": {
      "text/html": [
       "<div>\n",
       "<style scoped>\n",
       "    .dataframe tbody tr th:only-of-type {\n",
       "        vertical-align: middle;\n",
       "    }\n",
       "\n",
       "    .dataframe tbody tr th {\n",
       "        vertical-align: top;\n",
       "    }\n",
       "\n",
       "    .dataframe thead th {\n",
       "        text-align: right;\n",
       "    }\n",
       "</style>\n",
       "<table border=\"1\" class=\"dataframe\">\n",
       "  <thead>\n",
       "    <tr style=\"text-align: right;\">\n",
       "      <th></th>\n",
       "      <th>Price</th>\n",
       "      <th>RegistrationYear</th>\n",
       "      <th>Power</th>\n",
       "      <th>Kilometer</th>\n",
       "      <th>RegistrationMonth</th>\n",
       "      <th>NumberOfPictures</th>\n",
       "      <th>PostalCode</th>\n",
       "    </tr>\n",
       "  </thead>\n",
       "  <tbody>\n",
       "    <tr>\n",
       "      <th>count</th>\n",
       "      <td>354369.000000</td>\n",
       "      <td>354369.000000</td>\n",
       "      <td>354369.000000</td>\n",
       "      <td>354369.000000</td>\n",
       "      <td>354369.000000</td>\n",
       "      <td>354369.0</td>\n",
       "      <td>354369.000000</td>\n",
       "    </tr>\n",
       "    <tr>\n",
       "      <th>mean</th>\n",
       "      <td>4416.656776</td>\n",
       "      <td>2004.234448</td>\n",
       "      <td>110.094337</td>\n",
       "      <td>128211.172535</td>\n",
       "      <td>5.714645</td>\n",
       "      <td>0.0</td>\n",
       "      <td>50508.689087</td>\n",
       "    </tr>\n",
       "    <tr>\n",
       "      <th>std</th>\n",
       "      <td>4514.158514</td>\n",
       "      <td>90.227958</td>\n",
       "      <td>189.850405</td>\n",
       "      <td>37905.341530</td>\n",
       "      <td>3.726421</td>\n",
       "      <td>0.0</td>\n",
       "      <td>25783.096248</td>\n",
       "    </tr>\n",
       "    <tr>\n",
       "      <th>min</th>\n",
       "      <td>0.000000</td>\n",
       "      <td>1000.000000</td>\n",
       "      <td>0.000000</td>\n",
       "      <td>5000.000000</td>\n",
       "      <td>0.000000</td>\n",
       "      <td>0.0</td>\n",
       "      <td>1067.000000</td>\n",
       "    </tr>\n",
       "    <tr>\n",
       "      <th>25%</th>\n",
       "      <td>1050.000000</td>\n",
       "      <td>1999.000000</td>\n",
       "      <td>69.000000</td>\n",
       "      <td>125000.000000</td>\n",
       "      <td>3.000000</td>\n",
       "      <td>0.0</td>\n",
       "      <td>30165.000000</td>\n",
       "    </tr>\n",
       "    <tr>\n",
       "      <th>50%</th>\n",
       "      <td>2700.000000</td>\n",
       "      <td>2003.000000</td>\n",
       "      <td>105.000000</td>\n",
       "      <td>150000.000000</td>\n",
       "      <td>6.000000</td>\n",
       "      <td>0.0</td>\n",
       "      <td>49413.000000</td>\n",
       "    </tr>\n",
       "    <tr>\n",
       "      <th>75%</th>\n",
       "      <td>6400.000000</td>\n",
       "      <td>2008.000000</td>\n",
       "      <td>143.000000</td>\n",
       "      <td>150000.000000</td>\n",
       "      <td>9.000000</td>\n",
       "      <td>0.0</td>\n",
       "      <td>71083.000000</td>\n",
       "    </tr>\n",
       "    <tr>\n",
       "      <th>max</th>\n",
       "      <td>20000.000000</td>\n",
       "      <td>9999.000000</td>\n",
       "      <td>20000.000000</td>\n",
       "      <td>150000.000000</td>\n",
       "      <td>12.000000</td>\n",
       "      <td>0.0</td>\n",
       "      <td>99998.000000</td>\n",
       "    </tr>\n",
       "  </tbody>\n",
       "</table>\n",
       "</div>"
      ],
      "text/plain": [
       "               Price  RegistrationYear          Power      Kilometer  \\\n",
       "count  354369.000000     354369.000000  354369.000000  354369.000000   \n",
       "mean     4416.656776       2004.234448     110.094337  128211.172535   \n",
       "std      4514.158514         90.227958     189.850405   37905.341530   \n",
       "min         0.000000       1000.000000       0.000000    5000.000000   \n",
       "25%      1050.000000       1999.000000      69.000000  125000.000000   \n",
       "50%      2700.000000       2003.000000     105.000000  150000.000000   \n",
       "75%      6400.000000       2008.000000     143.000000  150000.000000   \n",
       "max     20000.000000       9999.000000   20000.000000  150000.000000   \n",
       "\n",
       "       RegistrationMonth  NumberOfPictures     PostalCode  \n",
       "count      354369.000000          354369.0  354369.000000  \n",
       "mean            5.714645               0.0   50508.689087  \n",
       "std             3.726421               0.0   25783.096248  \n",
       "min             0.000000               0.0    1067.000000  \n",
       "25%             3.000000               0.0   30165.000000  \n",
       "50%             6.000000               0.0   49413.000000  \n",
       "75%             9.000000               0.0   71083.000000  \n",
       "max            12.000000               0.0   99998.000000  "
      ]
     },
     "metadata": {},
     "output_type": "display_data"
    },
    {
     "name": "stdout",
     "output_type": "stream",
     "text": [
      "Дубликатов найдено: 4\n"
     ]
    }
   ],
   "source": [
    "review(df)"
   ]
  },
  {
   "cell_type": "code",
   "execution_count": 8,
   "metadata": {},
   "outputs": [
    {
     "data": {
      "text/plain": [
       "DateCrawled           0.00\n",
       "Price                 0.00\n",
       "VehicleType          10.58\n",
       "RegistrationYear      0.00\n",
       "Gearbox               5.60\n",
       "Power                 0.00\n",
       "Model                 5.56\n",
       "Kilometer             0.00\n",
       "RegistrationMonth     0.00\n",
       "FuelType              9.28\n",
       "Brand                 0.00\n",
       "NotRepaired          20.08\n",
       "DateCreated           0.00\n",
       "NumberOfPictures      0.00\n",
       "PostalCode            0.00\n",
       "LastSeen              0.00\n",
       "dtype: float64"
      ]
     },
     "execution_count": 8,
     "metadata": {},
     "output_type": "execute_result"
    }
   ],
   "source": [
    "(df.isna().mean() * 100).round(2)"
   ]
  },
  {
   "cell_type": "markdown",
   "metadata": {},
   "source": [
    "### Вывод"
   ]
  },
  {
   "cell_type": "markdown",
   "metadata": {},
   "source": [
    "- в данных обнаружены дубликаты;\n",
    "- пропущенные значения в столбцах `VehicleType`, `Gearbox`, `Model`, `FuelType`, `NotRepaired`.;\n",
    "- неверный тип данных в столбцах `DateCrawled`, `DateCreated`, `LastSeen`."
   ]
  },
  {
   "cell_type": "markdown",
   "metadata": {},
   "source": [
    "## Предобработка"
   ]
  },
  {
   "cell_type": "markdown",
   "metadata": {},
   "source": [
    "Избавимся от дубликатов"
   ]
  },
  {
   "cell_type": "code",
   "execution_count": 9,
   "metadata": {},
   "outputs": [],
   "source": [
    "df = df.drop_duplicates().reset_index(drop = True)"
   ]
  },
  {
   "cell_type": "markdown",
   "metadata": {},
   "source": [
    "Проверим неявные дубликаты в столбцах `VehicleType`, `Gearbox`, `Model`, `FuelType`, `Brand`, `NotRepaired`."
   ]
  },
  {
   "cell_type": "code",
   "execution_count": 10,
   "metadata": {},
   "outputs": [
    {
     "name": "stdout",
     "output_type": "stream",
     "text": [
      "[nan 'coupe' 'suv' 'small' 'sedan' 'convertible' 'bus' 'wagon' 'other']\n",
      "['manual' 'auto' nan]\n",
      "['golf' nan 'grand' 'fabia' '3er' '2_reihe' 'other' 'c_max' '3_reihe'\n",
      " 'passat' 'navara' 'ka' 'polo' 'twingo' 'a_klasse' 'scirocco' '5er'\n",
      " 'meriva' 'arosa' 'c4' 'civic' 'transporter' 'punto' 'e_klasse' 'clio'\n",
      " 'kadett' 'kangoo' 'corsa' 'one' 'fortwo' '1er' 'b_klasse' 'signum'\n",
      " 'astra' 'a8' 'jetta' 'fiesta' 'c_klasse' 'micra' 'vito' 'sprinter' '156'\n",
      " 'escort' 'forester' 'xc_reihe' 'scenic' 'a4' 'a1' 'insignia' 'combo'\n",
      " 'focus' 'tt' 'a6' 'jazz' 'omega' 'slk' '7er' '80' '147' '100' 'z_reihe'\n",
      " 'sportage' 'sorento' 'v40' 'ibiza' 'mustang' 'eos' 'touran' 'getz' 'a3'\n",
      " 'almera' 'megane' 'lupo' 'r19' 'zafira' 'caddy' 'mondeo' 'cordoba' 'colt'\n",
      " 'impreza' 'vectra' 'berlingo' 'tiguan' 'i_reihe' 'espace' 'sharan'\n",
      " '6_reihe' 'panda' 'up' 'seicento' 'ceed' '5_reihe' 'yeti' 'octavia' 'mii'\n",
      " 'rx_reihe' '6er' 'modus' 'fox' 'matiz' 'beetle' 'c1' 'rio' 'touareg'\n",
      " 'logan' 'spider' 'cuore' 's_max' 'a2' 'galaxy' 'c3' 'viano' 's_klasse'\n",
      " '1_reihe' 'avensis' 'roomster' 'sl' 'kaefer' 'santa' 'cooper' 'leon'\n",
      " '4_reihe' 'a5' '500' 'laguna' 'ptcruiser' 'clk' 'primera' 'x_reihe'\n",
      " 'exeo' '159' 'transit' 'juke' 'qashqai' 'carisma' 'accord' 'corolla'\n",
      " 'lanos' 'phaeton' 'verso' 'swift' 'rav' 'picanto' 'boxster' 'kalos'\n",
      " 'superb' 'stilo' 'alhambra' 'mx_reihe' 'roadster' 'ypsilon' 'cayenne'\n",
      " 'galant' 'justy' '90' 'sirion' 'crossfire' 'agila' 'duster' 'cr_reihe'\n",
      " 'v50' 'c_reihe' 'v_klasse' 'm_klasse' 'yaris' 'c5' 'aygo' 'cc' 'carnival'\n",
      " 'fusion' '911' 'bora' 'forfour' 'm_reihe' 'cl' 'tigra' '300c' 'spark'\n",
      " 'v70' 'kuga' 'x_type' 'ducato' 's_type' 'x_trail' 'toledo' 'altea'\n",
      " 'voyager' 'calibra' 'bravo' 'antara' 'tucson' 'citigo' 'jimny' 'wrangler'\n",
      " 'lybra' 'q7' 'lancer' 'captiva' 'c2' 'discovery' 'freelander' 'sandero'\n",
      " 'note' '900' 'cherokee' 'clubman' 'samara' 'defender' '601' 'cx_reihe'\n",
      " 'legacy' 'pajero' 'auris' 'niva' 's60' 'nubira' 'vivaro' 'g_klasse'\n",
      " 'lodgy' '850' 'range_rover' 'q3' 'serie_2' 'glk' 'charade' 'croma'\n",
      " 'outlander' 'doblo' 'musa' 'move' '9000' 'v60' '145' 'aveo' '200' 'b_max'\n",
      " 'range_rover_sport' 'terios' 'rangerover' 'q5' 'range_rover_evoque'\n",
      " 'materia' 'delta' 'gl' 'kalina' 'amarok' 'elefantino' 'i3' 'kappa'\n",
      " 'serie_3' 'serie_1']\n",
      "['petrol' 'gasoline' nan 'lpg' 'other' 'hybrid' 'cng' 'electric']\n",
      "['volkswagen' 'audi' 'jeep' 'skoda' 'bmw' 'peugeot' 'ford' 'mazda'\n",
      " 'nissan' 'renault' 'mercedes_benz' 'opel' 'seat' 'citroen' 'honda' 'fiat'\n",
      " 'mini' 'smart' 'hyundai' 'sonstige_autos' 'alfa_romeo' 'subaru' 'volvo'\n",
      " 'mitsubishi' 'kia' 'suzuki' 'lancia' 'toyota' 'chevrolet' 'dacia'\n",
      " 'daihatsu' 'trabant' 'saab' 'chrysler' 'jaguar' 'daewoo' 'porsche'\n",
      " 'rover' 'land_rover' 'lada']\n",
      "[nan 'yes' 'no']\n"
     ]
    }
   ],
   "source": [
    "df_unique = df[['VehicleType', 'Gearbox', 'Model', 'FuelType', 'Brand', 'NotRepaired']]\n",
    "for column in df_unique.columns:\n",
    "    print(df[column].unique())"
   ]
  },
  {
   "cell_type": "markdown",
   "metadata": {},
   "source": [
    "Пропущенные значения в категорийный столбцах `VehicleType`, `Gearbox`, `Model`, `FuelType` заменим модой."
   ]
  },
  {
   "cell_type": "code",
   "execution_count": 11,
   "metadata": {},
   "outputs": [],
   "source": [
    "df['VehicleType'] = df['VehicleType'].fillna(df['VehicleType'].mode().values[0])\n",
    "df['Gearbox'] = df['Gearbox'].fillna(df['Gearbox'].mode().values[0])\n",
    "df['Model'] = df['Model'].fillna(df['Model'].mode().values[0])\n",
    "df['FuelType'] = df['FuelType'].fillna(df['FuelType'].mode().values[0])"
   ]
  },
  {
   "cell_type": "markdown",
   "metadata": {},
   "source": [
    "Пропущенные значения в столбце `NotRepaired` заменим на `no`"
   ]
  },
  {
   "cell_type": "code",
   "execution_count": 131,
   "metadata": {},
   "outputs": [],
   "source": [
    "df['NotRepaired'] = df['NotRepaired'].fillna('no')"
   ]
  },
  {
   "cell_type": "markdown",
   "metadata": {},
   "source": [
    "Приведем значения `DateCrawled`, `DateCreated`, `LastSeen` к типу данных `datetime`."
   ]
  },
  {
   "cell_type": "code",
   "execution_count": 13,
   "metadata": {},
   "outputs": [],
   "source": [
    "columns_to_datetime = {'DateCrawled':df,\n",
    "                       'DateCreated':df,\n",
    "                       'LastSeen':df\n",
    "                      }\n",
    "\n",
    "for column, frame in columns_to_datetime.items():\n",
    "    frame[column] = pd.to_datetime(frame[column],format = '%Y-%m-%d %H:%M:%S')"
   ]
  },
  {
   "cell_type": "code",
   "execution_count": 14,
   "metadata": {},
   "outputs": [],
   "source": [
    "df = df.drop_duplicates().reset_index(drop = True)"
   ]
  },
  {
   "cell_type": "code",
   "execution_count": 15,
   "metadata": {},
   "outputs": [
    {
     "data": {
      "text/html": [
       "<div>\n",
       "<style scoped>\n",
       "    .dataframe tbody tr th:only-of-type {\n",
       "        vertical-align: middle;\n",
       "    }\n",
       "\n",
       "    .dataframe tbody tr th {\n",
       "        vertical-align: top;\n",
       "    }\n",
       "\n",
       "    .dataframe thead th {\n",
       "        text-align: right;\n",
       "    }\n",
       "</style>\n",
       "<table border=\"1\" class=\"dataframe\">\n",
       "  <thead>\n",
       "    <tr style=\"text-align: right;\">\n",
       "      <th></th>\n",
       "      <th>DateCrawled</th>\n",
       "      <th>Price</th>\n",
       "      <th>VehicleType</th>\n",
       "      <th>RegistrationYear</th>\n",
       "      <th>Gearbox</th>\n",
       "      <th>Power</th>\n",
       "      <th>Model</th>\n",
       "      <th>Kilometer</th>\n",
       "      <th>RegistrationMonth</th>\n",
       "      <th>FuelType</th>\n",
       "      <th>Brand</th>\n",
       "      <th>NotRepaired</th>\n",
       "      <th>DateCreated</th>\n",
       "      <th>NumberOfPictures</th>\n",
       "      <th>PostalCode</th>\n",
       "      <th>LastSeen</th>\n",
       "    </tr>\n",
       "  </thead>\n",
       "  <tbody>\n",
       "    <tr>\n",
       "      <th>0</th>\n",
       "      <td>2016-03-24 11:52:17</td>\n",
       "      <td>480</td>\n",
       "      <td>sedan</td>\n",
       "      <td>1993</td>\n",
       "      <td>manual</td>\n",
       "      <td>0</td>\n",
       "      <td>golf</td>\n",
       "      <td>150000</td>\n",
       "      <td>0</td>\n",
       "      <td>petrol</td>\n",
       "      <td>volkswagen</td>\n",
       "      <td>no</td>\n",
       "      <td>2016-03-24</td>\n",
       "      <td>0</td>\n",
       "      <td>70435</td>\n",
       "      <td>2016-04-07 03:16:57</td>\n",
       "    </tr>\n",
       "    <tr>\n",
       "      <th>1</th>\n",
       "      <td>2016-03-24 10:58:45</td>\n",
       "      <td>18300</td>\n",
       "      <td>coupe</td>\n",
       "      <td>2011</td>\n",
       "      <td>manual</td>\n",
       "      <td>190</td>\n",
       "      <td>golf</td>\n",
       "      <td>125000</td>\n",
       "      <td>5</td>\n",
       "      <td>gasoline</td>\n",
       "      <td>audi</td>\n",
       "      <td>yes</td>\n",
       "      <td>2016-03-24</td>\n",
       "      <td>0</td>\n",
       "      <td>66954</td>\n",
       "      <td>2016-04-07 01:46:50</td>\n",
       "    </tr>\n",
       "    <tr>\n",
       "      <th>2</th>\n",
       "      <td>2016-03-14 12:52:21</td>\n",
       "      <td>9800</td>\n",
       "      <td>suv</td>\n",
       "      <td>2004</td>\n",
       "      <td>auto</td>\n",
       "      <td>163</td>\n",
       "      <td>grand</td>\n",
       "      <td>125000</td>\n",
       "      <td>8</td>\n",
       "      <td>gasoline</td>\n",
       "      <td>jeep</td>\n",
       "      <td>no</td>\n",
       "      <td>2016-03-14</td>\n",
       "      <td>0</td>\n",
       "      <td>90480</td>\n",
       "      <td>2016-04-05 12:47:46</td>\n",
       "    </tr>\n",
       "    <tr>\n",
       "      <th>3</th>\n",
       "      <td>2016-03-17 16:54:04</td>\n",
       "      <td>1500</td>\n",
       "      <td>small</td>\n",
       "      <td>2001</td>\n",
       "      <td>manual</td>\n",
       "      <td>75</td>\n",
       "      <td>golf</td>\n",
       "      <td>150000</td>\n",
       "      <td>6</td>\n",
       "      <td>petrol</td>\n",
       "      <td>volkswagen</td>\n",
       "      <td>no</td>\n",
       "      <td>2016-03-17</td>\n",
       "      <td>0</td>\n",
       "      <td>91074</td>\n",
       "      <td>2016-03-17 17:40:17</td>\n",
       "    </tr>\n",
       "    <tr>\n",
       "      <th>4</th>\n",
       "      <td>2016-03-31 17:25:20</td>\n",
       "      <td>3600</td>\n",
       "      <td>small</td>\n",
       "      <td>2008</td>\n",
       "      <td>manual</td>\n",
       "      <td>69</td>\n",
       "      <td>fabia</td>\n",
       "      <td>90000</td>\n",
       "      <td>7</td>\n",
       "      <td>gasoline</td>\n",
       "      <td>skoda</td>\n",
       "      <td>no</td>\n",
       "      <td>2016-03-31</td>\n",
       "      <td>0</td>\n",
       "      <td>60437</td>\n",
       "      <td>2016-04-06 10:17:21</td>\n",
       "    </tr>\n",
       "    <tr>\n",
       "      <th>5</th>\n",
       "      <td>2016-04-04 17:36:23</td>\n",
       "      <td>650</td>\n",
       "      <td>sedan</td>\n",
       "      <td>1995</td>\n",
       "      <td>manual</td>\n",
       "      <td>102</td>\n",
       "      <td>3er</td>\n",
       "      <td>150000</td>\n",
       "      <td>10</td>\n",
       "      <td>petrol</td>\n",
       "      <td>bmw</td>\n",
       "      <td>yes</td>\n",
       "      <td>2016-04-04</td>\n",
       "      <td>0</td>\n",
       "      <td>33775</td>\n",
       "      <td>2016-04-06 19:17:07</td>\n",
       "    </tr>\n",
       "    <tr>\n",
       "      <th>6</th>\n",
       "      <td>2016-04-01 20:48:51</td>\n",
       "      <td>2200</td>\n",
       "      <td>convertible</td>\n",
       "      <td>2004</td>\n",
       "      <td>manual</td>\n",
       "      <td>109</td>\n",
       "      <td>2_reihe</td>\n",
       "      <td>150000</td>\n",
       "      <td>8</td>\n",
       "      <td>petrol</td>\n",
       "      <td>peugeot</td>\n",
       "      <td>no</td>\n",
       "      <td>2016-04-01</td>\n",
       "      <td>0</td>\n",
       "      <td>67112</td>\n",
       "      <td>2016-04-05 18:18:39</td>\n",
       "    </tr>\n",
       "    <tr>\n",
       "      <th>7</th>\n",
       "      <td>2016-03-21 18:54:38</td>\n",
       "      <td>0</td>\n",
       "      <td>sedan</td>\n",
       "      <td>1980</td>\n",
       "      <td>manual</td>\n",
       "      <td>50</td>\n",
       "      <td>other</td>\n",
       "      <td>40000</td>\n",
       "      <td>7</td>\n",
       "      <td>petrol</td>\n",
       "      <td>volkswagen</td>\n",
       "      <td>no</td>\n",
       "      <td>2016-03-21</td>\n",
       "      <td>0</td>\n",
       "      <td>19348</td>\n",
       "      <td>2016-03-25 16:47:58</td>\n",
       "    </tr>\n",
       "    <tr>\n",
       "      <th>8</th>\n",
       "      <td>2016-04-04 23:42:13</td>\n",
       "      <td>14500</td>\n",
       "      <td>bus</td>\n",
       "      <td>2014</td>\n",
       "      <td>manual</td>\n",
       "      <td>125</td>\n",
       "      <td>c_max</td>\n",
       "      <td>30000</td>\n",
       "      <td>8</td>\n",
       "      <td>petrol</td>\n",
       "      <td>ford</td>\n",
       "      <td>no</td>\n",
       "      <td>2016-04-04</td>\n",
       "      <td>0</td>\n",
       "      <td>94505</td>\n",
       "      <td>2016-04-04 23:42:13</td>\n",
       "    </tr>\n",
       "    <tr>\n",
       "      <th>9</th>\n",
       "      <td>2016-03-17 10:53:50</td>\n",
       "      <td>999</td>\n",
       "      <td>small</td>\n",
       "      <td>1998</td>\n",
       "      <td>manual</td>\n",
       "      <td>101</td>\n",
       "      <td>golf</td>\n",
       "      <td>150000</td>\n",
       "      <td>0</td>\n",
       "      <td>petrol</td>\n",
       "      <td>volkswagen</td>\n",
       "      <td>no</td>\n",
       "      <td>2016-03-17</td>\n",
       "      <td>0</td>\n",
       "      <td>27472</td>\n",
       "      <td>2016-03-31 17:17:06</td>\n",
       "    </tr>\n",
       "  </tbody>\n",
       "</table>\n",
       "</div>"
      ],
      "text/plain": [
       "          DateCrawled  Price  VehicleType  RegistrationYear Gearbox  Power  \\\n",
       "0 2016-03-24 11:52:17    480        sedan              1993  manual      0   \n",
       "1 2016-03-24 10:58:45  18300        coupe              2011  manual    190   \n",
       "2 2016-03-14 12:52:21   9800          suv              2004    auto    163   \n",
       "3 2016-03-17 16:54:04   1500        small              2001  manual     75   \n",
       "4 2016-03-31 17:25:20   3600        small              2008  manual     69   \n",
       "5 2016-04-04 17:36:23    650        sedan              1995  manual    102   \n",
       "6 2016-04-01 20:48:51   2200  convertible              2004  manual    109   \n",
       "7 2016-03-21 18:54:38      0        sedan              1980  manual     50   \n",
       "8 2016-04-04 23:42:13  14500          bus              2014  manual    125   \n",
       "9 2016-03-17 10:53:50    999        small              1998  manual    101   \n",
       "\n",
       "     Model  Kilometer  RegistrationMonth  FuelType       Brand NotRepaired  \\\n",
       "0     golf     150000                  0    petrol  volkswagen          no   \n",
       "1     golf     125000                  5  gasoline        audi         yes   \n",
       "2    grand     125000                  8  gasoline        jeep          no   \n",
       "3     golf     150000                  6    petrol  volkswagen          no   \n",
       "4    fabia      90000                  7  gasoline       skoda          no   \n",
       "5      3er     150000                 10    petrol         bmw         yes   \n",
       "6  2_reihe     150000                  8    petrol     peugeot          no   \n",
       "7    other      40000                  7    petrol  volkswagen          no   \n",
       "8    c_max      30000                  8    petrol        ford          no   \n",
       "9     golf     150000                  0    petrol  volkswagen          no   \n",
       "\n",
       "  DateCreated  NumberOfPictures  PostalCode            LastSeen  \n",
       "0  2016-03-24                 0       70435 2016-04-07 03:16:57  \n",
       "1  2016-03-24                 0       66954 2016-04-07 01:46:50  \n",
       "2  2016-03-14                 0       90480 2016-04-05 12:47:46  \n",
       "3  2016-03-17                 0       91074 2016-03-17 17:40:17  \n",
       "4  2016-03-31                 0       60437 2016-04-06 10:17:21  \n",
       "5  2016-04-04                 0       33775 2016-04-06 19:17:07  \n",
       "6  2016-04-01                 0       67112 2016-04-05 18:18:39  \n",
       "7  2016-03-21                 0       19348 2016-03-25 16:47:58  \n",
       "8  2016-04-04                 0       94505 2016-04-04 23:42:13  \n",
       "9  2016-03-17                 0       27472 2016-03-31 17:17:06  "
      ]
     },
     "metadata": {},
     "output_type": "display_data"
    },
    {
     "name": "stdout",
     "output_type": "stream",
     "text": [
      "<class 'pandas.core.frame.DataFrame'>\n",
      "RangeIndex: 354364 entries, 0 to 354363\n",
      "Data columns (total 16 columns):\n",
      " #   Column             Non-Null Count   Dtype         \n",
      "---  ------             --------------   -----         \n",
      " 0   DateCrawled        354364 non-null  datetime64[ns]\n",
      " 1   Price              354364 non-null  int64         \n",
      " 2   VehicleType        354364 non-null  object        \n",
      " 3   RegistrationYear   354364 non-null  int64         \n",
      " 4   Gearbox            354364 non-null  object        \n",
      " 5   Power              354364 non-null  int64         \n",
      " 6   Model              354364 non-null  object        \n",
      " 7   Kilometer          354364 non-null  int64         \n",
      " 8   RegistrationMonth  354364 non-null  int64         \n",
      " 9   FuelType           354364 non-null  object        \n",
      " 10  Brand              354364 non-null  object        \n",
      " 11  NotRepaired        354364 non-null  object        \n",
      " 12  DateCreated        354364 non-null  datetime64[ns]\n",
      " 13  NumberOfPictures   354364 non-null  int64         \n",
      " 14  PostalCode         354364 non-null  int64         \n",
      " 15  LastSeen           354364 non-null  datetime64[ns]\n",
      "dtypes: datetime64[ns](3), int64(7), object(6)\n",
      "memory usage: 43.3+ MB\n"
     ]
    },
    {
     "data": {
      "text/html": [
       "<div>\n",
       "<style scoped>\n",
       "    .dataframe tbody tr th:only-of-type {\n",
       "        vertical-align: middle;\n",
       "    }\n",
       "\n",
       "    .dataframe tbody tr th {\n",
       "        vertical-align: top;\n",
       "    }\n",
       "\n",
       "    .dataframe thead th {\n",
       "        text-align: right;\n",
       "    }\n",
       "</style>\n",
       "<table border=\"1\" class=\"dataframe\">\n",
       "  <thead>\n",
       "    <tr style=\"text-align: right;\">\n",
       "      <th></th>\n",
       "      <th>Price</th>\n",
       "      <th>RegistrationYear</th>\n",
       "      <th>Power</th>\n",
       "      <th>Kilometer</th>\n",
       "      <th>RegistrationMonth</th>\n",
       "      <th>NumberOfPictures</th>\n",
       "      <th>PostalCode</th>\n",
       "    </tr>\n",
       "  </thead>\n",
       "  <tbody>\n",
       "    <tr>\n",
       "      <th>count</th>\n",
       "      <td>354364.000000</td>\n",
       "      <td>354364.000000</td>\n",
       "      <td>354364.000000</td>\n",
       "      <td>354364.000000</td>\n",
       "      <td>354364.000000</td>\n",
       "      <td>354364.0</td>\n",
       "      <td>354364.000000</td>\n",
       "    </tr>\n",
       "    <tr>\n",
       "      <th>mean</th>\n",
       "      <td>4416.655608</td>\n",
       "      <td>2004.234471</td>\n",
       "      <td>110.093723</td>\n",
       "      <td>128211.373051</td>\n",
       "      <td>5.714641</td>\n",
       "      <td>0.0</td>\n",
       "      <td>50508.461698</td>\n",
       "    </tr>\n",
       "    <tr>\n",
       "      <th>std</th>\n",
       "      <td>4514.159690</td>\n",
       "      <td>90.228593</td>\n",
       "      <td>189.851590</td>\n",
       "      <td>37905.136957</td>\n",
       "      <td>3.726433</td>\n",
       "      <td>0.0</td>\n",
       "      <td>25783.124276</td>\n",
       "    </tr>\n",
       "    <tr>\n",
       "      <th>min</th>\n",
       "      <td>0.000000</td>\n",
       "      <td>1000.000000</td>\n",
       "      <td>0.000000</td>\n",
       "      <td>5000.000000</td>\n",
       "      <td>0.000000</td>\n",
       "      <td>0.0</td>\n",
       "      <td>1067.000000</td>\n",
       "    </tr>\n",
       "    <tr>\n",
       "      <th>25%</th>\n",
       "      <td>1050.000000</td>\n",
       "      <td>1999.000000</td>\n",
       "      <td>69.000000</td>\n",
       "      <td>125000.000000</td>\n",
       "      <td>3.000000</td>\n",
       "      <td>0.0</td>\n",
       "      <td>30165.000000</td>\n",
       "    </tr>\n",
       "    <tr>\n",
       "      <th>50%</th>\n",
       "      <td>2700.000000</td>\n",
       "      <td>2003.000000</td>\n",
       "      <td>105.000000</td>\n",
       "      <td>150000.000000</td>\n",
       "      <td>6.000000</td>\n",
       "      <td>0.0</td>\n",
       "      <td>49409.500000</td>\n",
       "    </tr>\n",
       "    <tr>\n",
       "      <th>75%</th>\n",
       "      <td>6400.000000</td>\n",
       "      <td>2008.000000</td>\n",
       "      <td>143.000000</td>\n",
       "      <td>150000.000000</td>\n",
       "      <td>9.000000</td>\n",
       "      <td>0.0</td>\n",
       "      <td>71083.000000</td>\n",
       "    </tr>\n",
       "    <tr>\n",
       "      <th>max</th>\n",
       "      <td>20000.000000</td>\n",
       "      <td>9999.000000</td>\n",
       "      <td>20000.000000</td>\n",
       "      <td>150000.000000</td>\n",
       "      <td>12.000000</td>\n",
       "      <td>0.0</td>\n",
       "      <td>99998.000000</td>\n",
       "    </tr>\n",
       "  </tbody>\n",
       "</table>\n",
       "</div>"
      ],
      "text/plain": [
       "               Price  RegistrationYear          Power      Kilometer  \\\n",
       "count  354364.000000     354364.000000  354364.000000  354364.000000   \n",
       "mean     4416.655608       2004.234471     110.093723  128211.373051   \n",
       "std      4514.159690         90.228593     189.851590   37905.136957   \n",
       "min         0.000000       1000.000000       0.000000    5000.000000   \n",
       "25%      1050.000000       1999.000000      69.000000  125000.000000   \n",
       "50%      2700.000000       2003.000000     105.000000  150000.000000   \n",
       "75%      6400.000000       2008.000000     143.000000  150000.000000   \n",
       "max     20000.000000       9999.000000   20000.000000  150000.000000   \n",
       "\n",
       "       RegistrationMonth  NumberOfPictures     PostalCode  \n",
       "count      354364.000000          354364.0  354364.000000  \n",
       "mean            5.714641               0.0   50508.461698  \n",
       "std             3.726433               0.0   25783.124276  \n",
       "min             0.000000               0.0    1067.000000  \n",
       "25%             3.000000               0.0   30165.000000  \n",
       "50%             6.000000               0.0   49409.500000  \n",
       "75%             9.000000               0.0   71083.000000  \n",
       "max            12.000000               0.0   99998.000000  "
      ]
     },
     "metadata": {},
     "output_type": "display_data"
    },
    {
     "name": "stdout",
     "output_type": "stream",
     "text": [
      "Дубликатов не обнаружено\n"
     ]
    }
   ],
   "source": [
    "review(df)"
   ]
  },
  {
   "cell_type": "markdown",
   "metadata": {},
   "source": [
    "На основе датафрейма `df` создадим датафрейм `filtered_df` для дальнейшего исследования."
   ]
  },
  {
   "cell_type": "code",
   "execution_count": 16,
   "metadata": {},
   "outputs": [],
   "source": [
    "filtered_df = df.drop(['DateCrawled', \n",
    "                       'DateCreated', \n",
    "                       'LastSeen', \n",
    "                       'NumberOfPictures', \n",
    "                       'PostalCode'], axis = 1).reset_index(drop = True)"
   ]
  },
  {
   "cell_type": "markdown",
   "metadata": {},
   "source": [
    "Посмотрим на распределения данных и избавимся от выбросов"
   ]
  },
  {
   "cell_type": "code",
   "execution_count": 17,
   "metadata": {},
   "outputs": [],
   "source": [
    "def show_hist(df):\n",
    "    \"\"\"функция для построения гистограммы\"\"\"\n",
    "    plt.figure(figsize=(15,5))\n",
    "    ax = sns.distplot(df, bins=100)"
   ]
  },
  {
   "cell_type": "code",
   "execution_count": 18,
   "metadata": {},
   "outputs": [
    {
     "data": {
      "image/png": "[encoded data removed]",
      "text/plain": [
       "<Figure size 1080x360 with 1 Axes>"
      ]
     },
     "metadata": {
      "needs_background": "light"
     },
     "output_type": "display_data"
    }
   ],
   "source": [
    "show_hist(filtered_df['Power'])"
   ]
  },
  {
   "cell_type": "code",
   "execution_count": 19,
   "metadata": {},
   "outputs": [
    {
     "data": {
      "image/png": "[encoded data removed]",
      "text/plain": [
       "<Figure size 1080x360 with 1 Axes>"
      ]
     },
     "metadata": {
      "needs_background": "light"
     },
     "output_type": "display_data"
    }
   ],
   "source": [
    "show_hist(filtered_df['RegistrationYear'])"
   ]
  },
  {
   "cell_type": "markdown",
   "metadata": {},
   "source": [
    "В данные столбца `Power` наблюдаются аномальные значения (0 и 20 000 лошадиных сил), ограничим их мощность - отбросим данные менее `20` и превышающие [2000](https://atlanticexpress.com.ua/samye-moshhnye-serijnye-avto-v-mire-ot-1750-l-s/#:~:text=1.-,Lotus%20Evija,-%D0%9C%D0%BE%D1%89%D0%BD%D0%BE%D1%81%D1%82%D1%8C%3A%202000%20%D0%BB)."
   ]
  },
  {
   "cell_type": "code",
   "execution_count": 20,
   "metadata": {},
   "outputs": [],
   "source": [
    "filtered_df = filtered_df.query('20 < Power < 2000')"
   ]
  },
  {
   "cell_type": "code",
   "execution_count": 21,
   "metadata": {},
   "outputs": [
    {
     "data": {
      "image/png": "[encoded data removed]",
      "text/plain": [
       "<Figure size 1080x360 with 1 Axes>"
      ]
     },
     "metadata": {
      "needs_background": "light"
     },
     "output_type": "display_data"
    }
   ],
   "source": [
    "show_hist(filtered_df['Power'])"
   ]
  },
  {
   "cell_type": "markdown",
   "metadata": {},
   "source": [
    "В данных столбца `RegistrationYear` также наблюдаются аномальные значения (1000 и 9999 год выпуска) - отбросим данные до 1900 года и превышающие дату последнего скачивания анкеты из базы"
   ]
  },
  {
   "cell_type": "code",
   "execution_count": 22,
   "metadata": {},
   "outputs": [
    {
     "data": {
      "text/plain": [
       "Timestamp('2016-04-07 14:36:58')"
      ]
     },
     "execution_count": 22,
     "metadata": {},
     "output_type": "execute_result"
    }
   ],
   "source": [
    "df['DateCrawled'].max()"
   ]
  },
  {
   "cell_type": "code",
   "execution_count": 23,
   "metadata": {},
   "outputs": [],
   "source": [
    "filtered_df = filtered_df.query('1900 < RegistrationYear < 2017')"
   ]
  },
  {
   "cell_type": "markdown",
   "metadata": {},
   "source": [
    "Посмотрим на распределение данных"
   ]
  },
  {
   "cell_type": "code",
   "execution_count": 24,
   "metadata": {},
   "outputs": [
    {
     "data": {
      "image/png": "[encoded data removed]",
      "text/plain": [
       "<Figure size 1080x360 with 1 Axes>"
      ]
     },
     "metadata": {
      "needs_background": "light"
     },
     "output_type": "display_data"
    }
   ],
   "source": [
    "show_hist(filtered_df['RegistrationYear'])"
   ]
  },
  {
   "cell_type": "markdown",
   "metadata": {},
   "source": [
    "Также отбросим данные до 1960 года"
   ]
  },
  {
   "cell_type": "code",
   "execution_count": 25,
   "metadata": {},
   "outputs": [],
   "source": [
    "filtered_df = filtered_df.query('1960 < RegistrationYear')"
   ]
  },
  {
   "cell_type": "code",
   "execution_count": 26,
   "metadata": {},
   "outputs": [
    {
     "data": {
      "image/png": "[encoded data removed]",
      "text/plain": [
       "<Figure size 1080x360 with 1 Axes>"
      ]
     },
     "metadata": {
      "needs_background": "light"
     },
     "output_type": "display_data"
    }
   ],
   "source": [
    "show_hist(filtered_df['RegistrationYear'])"
   ]
  },
  {
   "cell_type": "markdown",
   "metadata": {},
   "source": [
    "В данные столбца `RegistrationMonth` также наблюдаются аномальные значения (0 месяц) - проверим по какой логике идет заполнение данных"
   ]
  },
  {
   "cell_type": "code",
   "execution_count": 27,
   "metadata": {},
   "outputs": [
    {
     "data": {
      "text/plain": [
       "3     30818\n",
       "6     28075\n",
       "4     26171\n",
       "5     26081\n",
       "7     24234\n",
       "10    23341\n",
       "12    21616\n",
       "11    21381\n",
       "9     21303\n",
       "1     20539\n",
       "8     20109\n",
       "0     19717\n",
       "2     19196\n",
       "Name: RegistrationMonth, dtype: int64"
      ]
     },
     "execution_count": 27,
     "metadata": {},
     "output_type": "execute_result"
    }
   ],
   "source": [
    "filtered_df['RegistrationMonth'].value_counts()"
   ]
  },
  {
   "cell_type": "markdown",
   "metadata": {},
   "source": [
    "Вероятно запись месяцев ведется от `1` до `12`, т.е. `1` - январь, `2` - февраль и т.д. Отбросим значения равные `0`."
   ]
  },
  {
   "cell_type": "code",
   "execution_count": 28,
   "metadata": {},
   "outputs": [],
   "source": [
    "filtered_df = filtered_df.query('0 < RegistrationMonth < 13')"
   ]
  },
  {
   "cell_type": "code",
   "execution_count": 29,
   "metadata": {},
   "outputs": [
    {
     "data": {
      "text/plain": [
       "3     30818\n",
       "6     28075\n",
       "4     26171\n",
       "5     26081\n",
       "7     24234\n",
       "10    23341\n",
       "12    21616\n",
       "11    21381\n",
       "9     21303\n",
       "1     20539\n",
       "8     20109\n",
       "2     19196\n",
       "Name: RegistrationMonth, dtype: int64"
      ]
     },
     "execution_count": 29,
     "metadata": {},
     "output_type": "execute_result"
    }
   ],
   "source": [
    "filtered_df['RegistrationMonth'].value_counts()"
   ]
  },
  {
   "cell_type": "code",
   "execution_count": 30,
   "metadata": {},
   "outputs": [
    {
     "data": {
      "text/plain": [
       "Index(['Price', 'VehicleType', 'RegistrationYear', 'Gearbox', 'Power', 'Model',\n",
       "       'Kilometer', 'RegistrationMonth', 'FuelType', 'Brand', 'NotRepaired'],\n",
       "      dtype='object')"
      ]
     },
     "execution_count": 30,
     "metadata": {},
     "output_type": "execute_result"
    }
   ],
   "source": [
    "filtered_df.columns"
   ]
  },
  {
   "cell_type": "code",
   "execution_count": 31,
   "metadata": {},
   "outputs": [],
   "source": [
    "def remove_ouliers(df, column):\n",
    "    q25=np.array(df[column].quantile(0.25))\n",
    "    \n",
    "    q75=np.array(df[column].quantile(0.75))\n",
    "    first_part=q25-1.5*(q75-q25)\n",
    "    second_part=q75+1.5*(q75-q25)\n",
    "    del_index = []\n",
    "    for index_value, value in zip(df[column].index, df[column]):\n",
    "        if second_part <= value or value <= first_part:\n",
    "            del_index.append(index_value)\n",
    "    return del_index"
   ]
  },
  {
   "cell_type": "code",
   "execution_count": 32,
   "metadata": {},
   "outputs": [
    {
     "name": "stdout",
     "output_type": "stream",
     "text": [
      "Было удалено: 12360\n"
     ]
    }
   ],
   "source": [
    "array_num_col = ['Price']\n",
    "count = 0 \n",
    "for column in array_num_col:\n",
    "    index_del = remove_ouliers(filtered_df, column)\n",
    "    count += len(index_del)\n",
    "    filtered_df = filtered_df.drop(index_del,axis = 0)\n",
    "print(\"Было удалено:\", count)"
   ]
  },
  {
   "cell_type": "code",
   "execution_count": 33,
   "metadata": {},
   "outputs": [],
   "source": [
    "filtered_df.reset_index(drop=True, inplace=True)"
   ]
  },
  {
   "cell_type": "code",
   "execution_count": 34,
   "metadata": {},
   "outputs": [
    {
     "data": {
      "text/html": [
       "<div>\n",
       "<style scoped>\n",
       "    .dataframe tbody tr th:only-of-type {\n",
       "        vertical-align: middle;\n",
       "    }\n",
       "\n",
       "    .dataframe tbody tr th {\n",
       "        vertical-align: top;\n",
       "    }\n",
       "\n",
       "    .dataframe thead th {\n",
       "        text-align: right;\n",
       "    }\n",
       "</style>\n",
       "<table border=\"1\" class=\"dataframe\">\n",
       "  <thead>\n",
       "    <tr style=\"text-align: right;\">\n",
       "      <th></th>\n",
       "      <th>Price</th>\n",
       "      <th>RegistrationYear</th>\n",
       "      <th>Power</th>\n",
       "      <th>Kilometer</th>\n",
       "      <th>RegistrationMonth</th>\n",
       "    </tr>\n",
       "  </thead>\n",
       "  <tbody>\n",
       "    <tr>\n",
       "      <th>count</th>\n",
       "      <td>270504.000000</td>\n",
       "      <td>270504.000000</td>\n",
       "      <td>270504.000000</td>\n",
       "      <td>270504.000000</td>\n",
       "      <td>270504.000000</td>\n",
       "    </tr>\n",
       "    <tr>\n",
       "      <th>mean</th>\n",
       "      <td>4344.139310</td>\n",
       "      <td>2002.693369</td>\n",
       "      <td>119.274913</td>\n",
       "      <td>129720.318369</td>\n",
       "      <td>6.381384</td>\n",
       "    </tr>\n",
       "    <tr>\n",
       "      <th>std</th>\n",
       "      <td>3840.510057</td>\n",
       "      <td>6.166625</td>\n",
       "      <td>61.054449</td>\n",
       "      <td>35337.470987</td>\n",
       "      <td>3.348278</td>\n",
       "    </tr>\n",
       "    <tr>\n",
       "      <th>min</th>\n",
       "      <td>0.000000</td>\n",
       "      <td>1961.000000</td>\n",
       "      <td>21.000000</td>\n",
       "      <td>5000.000000</td>\n",
       "      <td>1.000000</td>\n",
       "    </tr>\n",
       "    <tr>\n",
       "      <th>25%</th>\n",
       "      <td>1300.000000</td>\n",
       "      <td>1999.000000</td>\n",
       "      <td>75.000000</td>\n",
       "      <td>125000.000000</td>\n",
       "      <td>4.000000</td>\n",
       "    </tr>\n",
       "    <tr>\n",
       "      <th>50%</th>\n",
       "      <td>3000.000000</td>\n",
       "      <td>2003.000000</td>\n",
       "      <td>110.000000</td>\n",
       "      <td>150000.000000</td>\n",
       "      <td>6.000000</td>\n",
       "    </tr>\n",
       "    <tr>\n",
       "      <th>75%</th>\n",
       "      <td>6500.000000</td>\n",
       "      <td>2007.000000</td>\n",
       "      <td>145.000000</td>\n",
       "      <td>150000.000000</td>\n",
       "      <td>9.000000</td>\n",
       "    </tr>\n",
       "    <tr>\n",
       "      <th>max</th>\n",
       "      <td>15700.000000</td>\n",
       "      <td>2016.000000</td>\n",
       "      <td>1998.000000</td>\n",
       "      <td>150000.000000</td>\n",
       "      <td>12.000000</td>\n",
       "    </tr>\n",
       "  </tbody>\n",
       "</table>\n",
       "</div>"
      ],
      "text/plain": [
       "               Price  RegistrationYear          Power      Kilometer  \\\n",
       "count  270504.000000     270504.000000  270504.000000  270504.000000   \n",
       "mean     4344.139310       2002.693369     119.274913  129720.318369   \n",
       "std      3840.510057          6.166625      61.054449   35337.470987   \n",
       "min         0.000000       1961.000000      21.000000    5000.000000   \n",
       "25%      1300.000000       1999.000000      75.000000  125000.000000   \n",
       "50%      3000.000000       2003.000000     110.000000  150000.000000   \n",
       "75%      6500.000000       2007.000000     145.000000  150000.000000   \n",
       "max     15700.000000       2016.000000    1998.000000  150000.000000   \n",
       "\n",
       "       RegistrationMonth  \n",
       "count      270504.000000  \n",
       "mean            6.381384  \n",
       "std             3.348278  \n",
       "min             1.000000  \n",
       "25%             4.000000  \n",
       "50%             6.000000  \n",
       "75%             9.000000  \n",
       "max            12.000000  "
      ]
     },
     "execution_count": 34,
     "metadata": {},
     "output_type": "execute_result"
    }
   ],
   "source": [
    "filtered_df.describe()"
   ]
  },
  {
   "cell_type": "markdown",
   "metadata": {},
   "source": [
    "Проверим корреляцию данных"
   ]
  },
  {
   "cell_type": "code",
   "execution_count": 35,
   "metadata": {},
   "outputs": [
    {
     "data": {
      "text/html": [
       "<div>\n",
       "<style scoped>\n",
       "    .dataframe tbody tr th:only-of-type {\n",
       "        vertical-align: middle;\n",
       "    }\n",
       "\n",
       "    .dataframe tbody tr th {\n",
       "        vertical-align: top;\n",
       "    }\n",
       "\n",
       "    .dataframe thead th {\n",
       "        text-align: right;\n",
       "    }\n",
       "</style>\n",
       "<table border=\"1\" class=\"dataframe\">\n",
       "  <thead>\n",
       "    <tr style=\"text-align: right;\">\n",
       "      <th></th>\n",
       "      <th>Price</th>\n",
       "      <th>RegistrationYear</th>\n",
       "      <th>Power</th>\n",
       "      <th>Kilometer</th>\n",
       "      <th>RegistrationMonth</th>\n",
       "    </tr>\n",
       "  </thead>\n",
       "  <tbody>\n",
       "    <tr>\n",
       "      <th>Price</th>\n",
       "      <td>1.000000</td>\n",
       "      <td>0.501205</td>\n",
       "      <td>0.384809</td>\n",
       "      <td>-0.345101</td>\n",
       "      <td>0.015551</td>\n",
       "    </tr>\n",
       "    <tr>\n",
       "      <th>RegistrationYear</th>\n",
       "      <td>0.501205</td>\n",
       "      <td>1.000000</td>\n",
       "      <td>0.085328</td>\n",
       "      <td>-0.289867</td>\n",
       "      <td>0.005250</td>\n",
       "    </tr>\n",
       "    <tr>\n",
       "      <th>Power</th>\n",
       "      <td>0.384809</td>\n",
       "      <td>0.085328</td>\n",
       "      <td>1.000000</td>\n",
       "      <td>0.121521</td>\n",
       "      <td>0.019653</td>\n",
       "    </tr>\n",
       "    <tr>\n",
       "      <th>Kilometer</th>\n",
       "      <td>-0.345101</td>\n",
       "      <td>-0.289867</td>\n",
       "      <td>0.121521</td>\n",
       "      <td>1.000000</td>\n",
       "      <td>0.004505</td>\n",
       "    </tr>\n",
       "    <tr>\n",
       "      <th>RegistrationMonth</th>\n",
       "      <td>0.015551</td>\n",
       "      <td>0.005250</td>\n",
       "      <td>0.019653</td>\n",
       "      <td>0.004505</td>\n",
       "      <td>1.000000</td>\n",
       "    </tr>\n",
       "  </tbody>\n",
       "</table>\n",
       "</div>"
      ],
      "text/plain": [
       "                      Price  RegistrationYear     Power  Kilometer  \\\n",
       "Price              1.000000          0.501205  0.384809  -0.345101   \n",
       "RegistrationYear   0.501205          1.000000  0.085328  -0.289867   \n",
       "Power              0.384809          0.085328  1.000000   0.121521   \n",
       "Kilometer         -0.345101         -0.289867  0.121521   1.000000   \n",
       "RegistrationMonth  0.015551          0.005250  0.019653   0.004505   \n",
       "\n",
       "                   RegistrationMonth  \n",
       "Price                       0.015551  \n",
       "RegistrationYear            0.005250  \n",
       "Power                       0.019653  \n",
       "Kilometer                   0.004505  \n",
       "RegistrationMonth           1.000000  "
      ]
     },
     "execution_count": 35,
     "metadata": {},
     "output_type": "execute_result"
    }
   ],
   "source": [
    "filtered_df.corr()"
   ]
  },
  {
   "cell_type": "markdown",
   "metadata": {},
   "source": [
    "Каких либо аномалий нет - наиболее коррелирующим с целевим признаком является признак `RegistrationYear`."
   ]
  },
  {
   "cell_type": "markdown",
   "metadata": {},
   "source": [
    "### Вывод"
   ]
  },
  {
   "cell_type": "markdown",
   "metadata": {},
   "source": [
    "- из данных были удалены дубликаты;\n",
    "- пропущенные значения в категорийный столбцах `VehicleType`, `Gearbox`, `Model`, `FuelType` были заменены модой;\n",
    "- пропущенные значения в столбце `NotRepaired` были заменены на `no`;\n",
    "- на основе датафрейма `df` создан датафрейм `filtered_df` для дальнейшего исследования, где были очищены выбросы и аномальные значения.\n"
   ]
  },
  {
   "cell_type": "markdown",
   "metadata": {},
   "source": [
    "## Обучение моделей"
   ]
  },
  {
   "cell_type": "markdown",
   "metadata": {},
   "source": [
    "### Разделим и закодируем выборки"
   ]
  },
  {
   "cell_type": "markdown",
   "metadata": {},
   "source": [
    "Исследование будем проводить на двух выборках:\n",
    "- `filtered_df_ohe` - с преобразованными категориальными признаками;\n",
    "- `filtered_df_encoder` - с закодированными данными с помошью Ordinal Encoder."
   ]
  },
  {
   "cell_type": "code",
   "execution_count": 36,
   "metadata": {},
   "outputs": [],
   "source": [
    "filtered_df_ohe = filtered_df.copy()\n",
    "filtered_df_ohe = pd.get_dummies(filtered_df_ohe)"
   ]
  },
  {
   "cell_type": "code",
   "execution_count": 37,
   "metadata": {},
   "outputs": [],
   "source": [
    "listCategory = ['VehicleType', \n",
    "                'RegistrationYear', \n",
    "                'Gearbox', \n",
    "                'Model', \n",
    "                'RegistrationMonth', \n",
    "                'FuelType', \n",
    "                'Brand', \n",
    "                'NotRepaired']\n",
    "encoder = OrdinalEncoder()\n",
    "filtered_df_encoder = filtered_df.copy()\n",
    "filtered_df_encoder[listCategory] = encoder.fit_transform(filtered_df_encoder[listCategory])"
   ]
  },
  {
   "cell_type": "code",
   "execution_count": 38,
   "metadata": {},
   "outputs": [],
   "source": [
    "def split_data(features, target):\n",
    "    \"\"\"функция для формирования обучающей, тестовой выборок\"\"\"\n",
    "    (features_train, features_test, target_train, target_test) = train_test_split(features, target, test_size = 0.25, random_state=STATE)\n",
    "    return (features_train, features_test, target_train, target_test)"
   ]
  },
  {
   "cell_type": "code",
   "execution_count": 39,
   "metadata": {},
   "outputs": [],
   "source": [
    "(x_train_filtered_df_ohe, \n",
    " x_test_filtered_df_ohe, \n",
    " y_train_filtered_df_ohe,\n",
    " y_test_filtered_df_ohe) = split_data(filtered_df_ohe.drop('Price', axis = 1), \n",
    "                                           filtered_df_ohe['Price'])"
   ]
  },
  {
   "cell_type": "code",
   "execution_count": 40,
   "metadata": {},
   "outputs": [
    {
     "name": "stdout",
     "output_type": "stream",
     "text": [
      "(202878, 312)\n",
      "(202878,)\n",
      "(67626, 312)\n",
      "(67626,)\n"
     ]
    }
   ],
   "source": [
    "print(x_train_filtered_df_ohe.shape)\n",
    "print(y_train_filtered_df_ohe.shape)\n",
    "print(x_test_filtered_df_ohe.shape)\n",
    "print(y_test_filtered_df_ohe.shape)"
   ]
  },
  {
   "cell_type": "code",
   "execution_count": 41,
   "metadata": {},
   "outputs": [],
   "source": [
    "(x_train_filtered_df_encoder, \n",
    " x_test_filtered_df_encoder, \n",
    " y_train_filtered_df_encoder,\n",
    " y_test_filtered_df_encoder) = split_data(filtered_df_encoder.drop('Price', axis = 1), \n",
    "                                        filtered_df_encoder['Price'])"
   ]
  },
  {
   "cell_type": "code",
   "execution_count": 42,
   "metadata": {},
   "outputs": [
    {
     "name": "stdout",
     "output_type": "stream",
     "text": [
      "(202878, 10)\n",
      "(202878,)\n",
      "(67626, 10)\n",
      "(67626,)\n"
     ]
    }
   ],
   "source": [
    "print(x_train_filtered_df_encoder.shape)\n",
    "print(y_train_filtered_df_encoder.shape)\n",
    "print(x_test_filtered_df_encoder.shape)\n",
    "print(y_test_filtered_df_encoder.shape)"
   ]
  },
  {
   "cell_type": "markdown",
   "metadata": {},
   "source": [
    "### Обучение моделей"
   ]
  },
  {
   "cell_type": "code",
   "execution_count": 43,
   "metadata": {},
   "outputs": [],
   "source": [
    "def rmse_scorer(target: np.ndarray, predicted: np.ndarray):\n",
    "    return np.sqrt(mean_squared_error(target, \n",
    "                                      predicted))\n",
    "rmse_scoring = make_scorer(rmse_scorer,\n",
    "                           greater_is_better=False)"
   ]
  },
  {
   "cell_type": "code",
   "execution_count": 44,
   "metadata": {},
   "outputs": [],
   "source": [
    "def fit_models(model, features_train, target_train, features_test, target_test):\n",
    "    \"\"\"функция обучения и предсказания моделей с регистрацией затраченного времени\"\"\"\n",
    "    start_fit = time.time()\n",
    "    model.fit(features_train, target_train)\n",
    "    time_fit = time.time() - start_fit\n",
    "\n",
    "    start_predict = time.time()\n",
    "    predicted_test = model.predict(features_test)\n",
    "    time_predict = time.time() - start_predict\n",
    "\n",
    "    rmse_model = rmse_scorer(target_test, predicted_test) \n",
    "\n",
    "    return(rmse_model,\n",
    "           time_fit * 1000,\n",
    "           time_predict * 1000)"
   ]
  },
  {
   "cell_type": "markdown",
   "metadata": {},
   "source": [
    "#### LinearRegression"
   ]
  },
  {
   "cell_type": "code",
   "execution_count": 45,
   "metadata": {},
   "outputs": [],
   "source": [
    "model_lr = LinearRegression()"
   ]
  },
  {
   "cell_type": "code",
   "execution_count": 46,
   "metadata": {},
   "outputs": [],
   "source": [
    "(rmse_model,\n",
    " time_fit, \n",
    " time_predict) = fit_models(model_lr,\n",
    "                            x_train_filtered_df_ohe, \n",
    "                            y_train_filtered_df_ohe,\n",
    "                            x_test_filtered_df_ohe, \n",
    "                            y_test_filtered_df_ohe)"
   ]
  },
  {
   "cell_type": "code",
   "execution_count": 47,
   "metadata": {},
   "outputs": [],
   "source": [
    "model_name = 'LinearRegression for filtered_df_ohe'"
   ]
  },
  {
   "cell_type": "code",
   "execution_count": 48,
   "metadata": {},
   "outputs": [
    {
     "data": {
      "text/html": [
       "<div>\n",
       "<style scoped>\n",
       "    .dataframe tbody tr th:only-of-type {\n",
       "        vertical-align: middle;\n",
       "    }\n",
       "\n",
       "    .dataframe tbody tr th {\n",
       "        vertical-align: top;\n",
       "    }\n",
       "\n",
       "    .dataframe thead th {\n",
       "        text-align: right;\n",
       "    }\n",
       "</style>\n",
       "<table border=\"1\" class=\"dataframe\">\n",
       "  <thead>\n",
       "    <tr style=\"text-align: right;\">\n",
       "      <th></th>\n",
       "      <th>model_name</th>\n",
       "      <th>time_fit</th>\n",
       "      <th>time_predict</th>\n",
       "      <th>rmse_model</th>\n",
       "    </tr>\n",
       "  </thead>\n",
       "  <tbody>\n",
       "    <tr>\n",
       "      <th>0</th>\n",
       "      <td>LinearRegression for filtered_df_ohe</td>\n",
       "      <td>4602.689505</td>\n",
       "      <td>186.501741</td>\n",
       "      <td>2367.197584</td>\n",
       "    </tr>\n",
       "  </tbody>\n",
       "</table>\n",
       "</div>"
      ],
      "text/plain": [
       "                             model_name     time_fit time_predict   rmse_model\n",
       "0  LinearRegression for filtered_df_ohe  4602.689505   186.501741  2367.197584"
      ]
     },
     "execution_count": 48,
     "metadata": {},
     "output_type": "execute_result"
    }
   ],
   "source": [
    "df_results = update_results(model_name, time_fit, time_predict, rmse_model, df_results)\n",
    "df_results"
   ]
  },
  {
   "cell_type": "code",
   "execution_count": 49,
   "metadata": {},
   "outputs": [],
   "source": [
    "(rmse_model,\n",
    " time_fit, \n",
    " time_predict) = fit_models(model_lr,\n",
    "                            x_train_filtered_df_encoder,\n",
    "                            y_train_filtered_df_encoder, \n",
    "                            x_test_filtered_df_encoder, \n",
    "                            y_test_filtered_df_encoder)"
   ]
  },
  {
   "cell_type": "code",
   "execution_count": 50,
   "metadata": {},
   "outputs": [],
   "source": [
    "model_name = 'LinearRegression for filtered_df_encoder'"
   ]
  },
  {
   "cell_type": "code",
   "execution_count": 51,
   "metadata": {},
   "outputs": [
    {
     "data": {
      "text/html": [
       "<div>\n",
       "<style scoped>\n",
       "    .dataframe tbody tr th:only-of-type {\n",
       "        vertical-align: middle;\n",
       "    }\n",
       "\n",
       "    .dataframe tbody tr th {\n",
       "        vertical-align: top;\n",
       "    }\n",
       "\n",
       "    .dataframe thead th {\n",
       "        text-align: right;\n",
       "    }\n",
       "</style>\n",
       "<table border=\"1\" class=\"dataframe\">\n",
       "  <thead>\n",
       "    <tr style=\"text-align: right;\">\n",
       "      <th></th>\n",
       "      <th>model_name</th>\n",
       "      <th>time_fit</th>\n",
       "      <th>time_predict</th>\n",
       "      <th>rmse_model</th>\n",
       "    </tr>\n",
       "  </thead>\n",
       "  <tbody>\n",
       "    <tr>\n",
       "      <th>0</th>\n",
       "      <td>LinearRegression for filtered_df_ohe</td>\n",
       "      <td>4602.689505</td>\n",
       "      <td>186.501741</td>\n",
       "      <td>2367.197584</td>\n",
       "    </tr>\n",
       "    <tr>\n",
       "      <th>1</th>\n",
       "      <td>LinearRegression for filtered_df_encoder</td>\n",
       "      <td>93.75</td>\n",
       "      <td>5.98526</td>\n",
       "      <td>2696.782272</td>\n",
       "    </tr>\n",
       "  </tbody>\n",
       "</table>\n",
       "</div>"
      ],
      "text/plain": [
       "                                 model_name     time_fit time_predict  \\\n",
       "0      LinearRegression for filtered_df_ohe  4602.689505   186.501741   \n",
       "1  LinearRegression for filtered_df_encoder        93.75      5.98526   \n",
       "\n",
       "    rmse_model  \n",
       "0  2367.197584  \n",
       "1  2696.782272  "
      ]
     },
     "execution_count": 51,
     "metadata": {},
     "output_type": "execute_result"
    }
   ],
   "source": [
    "df_results = update_results(model_name, time_fit, time_predict, rmse_model, df_results)\n",
    "df_results"
   ]
  },
  {
   "cell_type": "markdown",
   "metadata": {},
   "source": [
    "#### RandomForestRegressor"
   ]
  },
  {
   "cell_type": "code",
   "execution_count": 52,
   "metadata": {},
   "outputs": [],
   "source": [
    "model_rfr = RandomForestRegressor()"
   ]
  },
  {
   "cell_type": "code",
   "execution_count": 53,
   "metadata": {},
   "outputs": [],
   "source": [
    "parametrs_rfr = {'n_estimators':[10,30,50], \n",
    "                 'max_depth':[1,5,10],\n",
    "                'random_state':[STATE]} "
   ]
  },
  {
   "cell_type": "code",
   "execution_count": 54,
   "metadata": {},
   "outputs": [],
   "source": [
    "grid_rfr = GridSearchCV(estimator=model_rfr, \n",
    "                        param_grid=parametrs_rfr, \n",
    "                        scoring=rmse_scoring, \n",
    "                        cv=3)"
   ]
  },
  {
   "cell_type": "code",
   "execution_count": 55,
   "metadata": {},
   "outputs": [
    {
     "data": {
      "text/plain": [
       "GridSearchCV(cv=3, estimator=RandomForestRegressor(),\n",
       "             param_grid={'max_depth': [1, 5, 10], 'n_estimators': [10, 30, 50],\n",
       "                         'random_state': [12345]},\n",
       "             scoring=make_scorer(rmse_scorer, greater_is_better=False))"
      ]
     },
     "execution_count": 55,
     "metadata": {},
     "output_type": "execute_result"
    }
   ],
   "source": [
    "grid_rfr.fit(x_train_filtered_df_ohe, y_train_filtered_df_ohe)"
   ]
  },
  {
   "cell_type": "code",
   "execution_count": 60,
   "metadata": {},
   "outputs": [
    {
     "name": "stdout",
     "output_type": "stream",
     "text": [
      "Лучшие параметры модели RandomForestRegressor для filtered_df_ohe - {'max_depth': 10, 'n_estimators': 50, 'random_state': 12345}\n"
     ]
    }
   ],
   "source": [
    "print('Лучшие параметры модели RandomForestRegressor для filtered_df_ohe - {}'.format(grid_rfr.best_params_))"
   ]
  },
  {
   "cell_type": "code",
   "execution_count": 63,
   "metadata": {},
   "outputs": [],
   "source": [
    "model_rfr = RandomForestRegressor(max_depth=10, \n",
    "                                  n_estimators=50, \n",
    "                                  random_state=STATE)"
   ]
  },
  {
   "cell_type": "code",
   "execution_count": 64,
   "metadata": {},
   "outputs": [],
   "source": [
    "(rmse_model,\n",
    " time_fit, \n",
    " time_predict) = fit_models(model_rfr,\n",
    "                            x_train_filtered_df_ohe, \n",
    "                            y_train_filtered_df_ohe,\n",
    "                            x_test_filtered_df_ohe, \n",
    "                            y_test_filtered_df_ohe)"
   ]
  },
  {
   "cell_type": "code",
   "execution_count": 65,
   "metadata": {},
   "outputs": [],
   "source": [
    "model_name = 'RandomForestRegressor for filtered_df_ohe'"
   ]
  },
  {
   "cell_type": "code",
   "execution_count": 66,
   "metadata": {},
   "outputs": [
    {
     "data": {
      "text/html": [
       "<div>\n",
       "<style scoped>\n",
       "    .dataframe tbody tr th:only-of-type {\n",
       "        vertical-align: middle;\n",
       "    }\n",
       "\n",
       "    .dataframe tbody tr th {\n",
       "        vertical-align: top;\n",
       "    }\n",
       "\n",
       "    .dataframe thead th {\n",
       "        text-align: right;\n",
       "    }\n",
       "</style>\n",
       "<table border=\"1\" class=\"dataframe\">\n",
       "  <thead>\n",
       "    <tr style=\"text-align: right;\">\n",
       "      <th></th>\n",
       "      <th>model_name</th>\n",
       "      <th>time_fit</th>\n",
       "      <th>time_predict</th>\n",
       "      <th>rmse_model</th>\n",
       "    </tr>\n",
       "  </thead>\n",
       "  <tbody>\n",
       "    <tr>\n",
       "      <th>0</th>\n",
       "      <td>LinearRegression for filtered_df_ohe</td>\n",
       "      <td>4602.689505</td>\n",
       "      <td>186.501741</td>\n",
       "      <td>2367.197584</td>\n",
       "    </tr>\n",
       "    <tr>\n",
       "      <th>1</th>\n",
       "      <td>LinearRegression for filtered_df_encoder</td>\n",
       "      <td>93.75</td>\n",
       "      <td>5.98526</td>\n",
       "      <td>2696.782272</td>\n",
       "    </tr>\n",
       "    <tr>\n",
       "      <th>2</th>\n",
       "      <td>RandomForestRegressor for filtered_df_ohe</td>\n",
       "      <td>154792.466164</td>\n",
       "      <td>496.670723</td>\n",
       "      <td>1713.614552</td>\n",
       "    </tr>\n",
       "  </tbody>\n",
       "</table>\n",
       "</div>"
      ],
      "text/plain": [
       "                                  model_name       time_fit time_predict  \\\n",
       "0       LinearRegression for filtered_df_ohe    4602.689505   186.501741   \n",
       "1   LinearRegression for filtered_df_encoder          93.75      5.98526   \n",
       "2  RandomForestRegressor for filtered_df_ohe  154792.466164   496.670723   \n",
       "\n",
       "    rmse_model  \n",
       "0  2367.197584  \n",
       "1  2696.782272  \n",
       "2  1713.614552  "
      ]
     },
     "execution_count": 66,
     "metadata": {},
     "output_type": "execute_result"
    }
   ],
   "source": [
    "df_results = update_results(model_name, time_fit, time_predict, rmse_model, df_results)\n",
    "df_results"
   ]
  },
  {
   "cell_type": "code",
   "execution_count": 67,
   "metadata": {},
   "outputs": [
    {
     "data": {
      "text/plain": [
       "GridSearchCV(cv=3, estimator=RandomForestRegressor(),\n",
       "             param_grid={'max_depth': [1, 5, 10], 'n_estimators': [10, 30, 50],\n",
       "                         'random_state': [12345]},\n",
       "             scoring=make_scorer(rmse_scorer, greater_is_better=False))"
      ]
     },
     "execution_count": 67,
     "metadata": {},
     "output_type": "execute_result"
    }
   ],
   "source": [
    "grid_rfr.fit(x_train_filtered_df_encoder, y_train_filtered_df_encoder)"
   ]
  },
  {
   "cell_type": "code",
   "execution_count": 68,
   "metadata": {},
   "outputs": [
    {
     "name": "stdout",
     "output_type": "stream",
     "text": [
      "Лучшие параметры модели RandomForestRegressor для filtered_df_encoder- {'max_depth': 10, 'n_estimators': 50, 'random_state': 12345}\n"
     ]
    }
   ],
   "source": [
    "print('Лучшие параметры модели RandomForestRegressor для filtered_df_encoder- {}'.format(grid_rfr.best_params_))"
   ]
  },
  {
   "cell_type": "code",
   "execution_count": 69,
   "metadata": {},
   "outputs": [],
   "source": [
    "model_rfr = RandomForestRegressor(max_depth=10, \n",
    "                                  n_estimators=50, \n",
    "                                  random_state=STATE)"
   ]
  },
  {
   "cell_type": "code",
   "execution_count": 70,
   "metadata": {},
   "outputs": [],
   "source": [
    "(rmse_model,\n",
    " time_fit,\n",
    " time_predict) = fit_models(model_rfr,\n",
    "                            x_train_filtered_df_encoder,\n",
    "                            y_train_filtered_df_encoder, \n",
    "                            x_test_filtered_df_encoder, \n",
    "                            y_test_filtered_df_encoder)"
   ]
  },
  {
   "cell_type": "code",
   "execution_count": 71,
   "metadata": {},
   "outputs": [],
   "source": [
    "model_name = 'RandomForestRegressor for filtered_df_encoder'"
   ]
  },
  {
   "cell_type": "code",
   "execution_count": 72,
   "metadata": {},
   "outputs": [
    {
     "data": {
      "text/html": [
       "<div>\n",
       "<style scoped>\n",
       "    .dataframe tbody tr th:only-of-type {\n",
       "        vertical-align: middle;\n",
       "    }\n",
       "\n",
       "    .dataframe tbody tr th {\n",
       "        vertical-align: top;\n",
       "    }\n",
       "\n",
       "    .dataframe thead th {\n",
       "        text-align: right;\n",
       "    }\n",
       "</style>\n",
       "<table border=\"1\" class=\"dataframe\">\n",
       "  <thead>\n",
       "    <tr style=\"text-align: right;\">\n",
       "      <th></th>\n",
       "      <th>model_name</th>\n",
       "      <th>time_fit</th>\n",
       "      <th>time_predict</th>\n",
       "      <th>rmse_model</th>\n",
       "    </tr>\n",
       "  </thead>\n",
       "  <tbody>\n",
       "    <tr>\n",
       "      <th>0</th>\n",
       "      <td>LinearRegression for filtered_df_ohe</td>\n",
       "      <td>4602.689505</td>\n",
       "      <td>186.501741</td>\n",
       "      <td>2367.197584</td>\n",
       "    </tr>\n",
       "    <tr>\n",
       "      <th>1</th>\n",
       "      <td>LinearRegression for filtered_df_encoder</td>\n",
       "      <td>93.75</td>\n",
       "      <td>5.98526</td>\n",
       "      <td>2696.782272</td>\n",
       "    </tr>\n",
       "    <tr>\n",
       "      <th>2</th>\n",
       "      <td>RandomForestRegressor for filtered_df_ohe</td>\n",
       "      <td>154792.466164</td>\n",
       "      <td>496.670723</td>\n",
       "      <td>1713.614552</td>\n",
       "    </tr>\n",
       "    <tr>\n",
       "      <th>3</th>\n",
       "      <td>RandomForestRegressor for filtered_df_encoder</td>\n",
       "      <td>21973.091364</td>\n",
       "      <td>384.974241</td>\n",
       "      <td>1709.050554</td>\n",
       "    </tr>\n",
       "  </tbody>\n",
       "</table>\n",
       "</div>"
      ],
      "text/plain": [
       "                                      model_name       time_fit time_predict  \\\n",
       "0           LinearRegression for filtered_df_ohe    4602.689505   186.501741   \n",
       "1       LinearRegression for filtered_df_encoder          93.75      5.98526   \n",
       "2      RandomForestRegressor for filtered_df_ohe  154792.466164   496.670723   \n",
       "3  RandomForestRegressor for filtered_df_encoder   21973.091364   384.974241   \n",
       "\n",
       "    rmse_model  \n",
       "0  2367.197584  \n",
       "1  2696.782272  \n",
       "2  1713.614552  \n",
       "3  1709.050554  "
      ]
     },
     "execution_count": 72,
     "metadata": {},
     "output_type": "execute_result"
    }
   ],
   "source": [
    "df_results = update_results(model_name, time_fit, time_predict, rmse_model, df_results)\n",
    "df_results"
   ]
  },
  {
   "cell_type": "markdown",
   "metadata": {},
   "source": [
    "#### CatBoostRegressor"
   ]
  },
  {
   "cell_type": "code",
   "execution_count": 73,
   "metadata": {},
   "outputs": [],
   "source": [
    "model_cbr = CatBoostRegressor()"
   ]
  },
  {
   "cell_type": "code",
   "execution_count": 74,
   "metadata": {},
   "outputs": [],
   "source": [
    "parameters_cbr = {'depth':[6,8,10],\n",
    "                  'learning_rate':[0.1,0.5],\n",
    "                  'metric_period':[10],\n",
    "                  'random_state':[STATE]} "
   ]
  },
  {
   "cell_type": "code",
   "execution_count": 75,
   "metadata": {},
   "outputs": [],
   "source": [
    "grid_cbr = GridSearchCV(estimator=model_cbr, \n",
    "                        param_grid=parameters_cbr, \n",
    "                        scoring=rmse_scoring, \n",
    "                        cv=3, \n",
    "                        n_jobs=-1, \n",
    "                        verbose=1)"
   ]
  },
  {
   "cell_type": "code",
   "execution_count": 76,
   "metadata": {},
   "outputs": [
    {
     "name": "stdout",
     "output_type": "stream",
     "text": [
      "Fitting 3 folds for each of 6 candidates, totalling 18 fits\n",
      "0:\tlearn: 3578.0108270\ttotal: 224ms\tremaining: 3m 43s\n",
      "10:\tlearn: 2208.6095118\ttotal: 870ms\tremaining: 1m 18s\n",
      "20:\tlearn: 1832.1251174\ttotal: 1.6s\tremaining: 1m 14s\n",
      "30:\tlearn: 1710.0481719\ttotal: 2.24s\tremaining: 1m 10s\n",
      "40:\tlearn: 1654.2210008\ttotal: 3.08s\tremaining: 1m 12s\n",
      "50:\tlearn: 1624.5169621\ttotal: 3.72s\tremaining: 1m 9s\n",
      "60:\tlearn: 1602.2761722\ttotal: 4.35s\tremaining: 1m 6s\n",
      "70:\tlearn: 1585.3603956\ttotal: 5s\tremaining: 1m 5s\n",
      "80:\tlearn: 1570.7029167\ttotal: 5.65s\tremaining: 1m 4s\n",
      "90:\tlearn: 1558.4072838\ttotal: 6.29s\tremaining: 1m 2s\n",
      "100:\tlearn: 1548.1907078\ttotal: 6.91s\tremaining: 1m 1s\n",
      "110:\tlearn: 1538.3605334\ttotal: 7.67s\tremaining: 1m 1s\n",
      "120:\tlearn: 1529.4901446\ttotal: 8.3s\tremaining: 1m\n",
      "130:\tlearn: 1519.9840912\ttotal: 9.03s\tremaining: 59.9s\n",
      "140:\tlearn: 1511.9329031\ttotal: 9.66s\tremaining: 58.9s\n",
      "150:\tlearn: 1504.5235749\ttotal: 10.3s\tremaining: 57.9s\n",
      "160:\tlearn: 1497.9596987\ttotal: 10.9s\tremaining: 57.1s\n",
      "170:\tlearn: 1490.8169641\ttotal: 11.7s\tremaining: 56.6s\n",
      "180:\tlearn: 1485.9158953\ttotal: 12.4s\tremaining: 56s\n",
      "190:\tlearn: 1479.0515934\ttotal: 13.1s\tremaining: 55.3s\n",
      "200:\tlearn: 1473.9389143\ttotal: 13.7s\tremaining: 54.5s\n",
      "210:\tlearn: 1468.5281763\ttotal: 14.6s\tremaining: 54.5s\n",
      "220:\tlearn: 1464.4942682\ttotal: 15.4s\tremaining: 54.1s\n",
      "230:\tlearn: 1459.6626154\ttotal: 16s\tremaining: 53.2s\n",
      "240:\tlearn: 1455.0785584\ttotal: 16.7s\tremaining: 52.7s\n",
      "250:\tlearn: 1450.8617685\ttotal: 17.3s\tremaining: 51.7s\n",
      "260:\tlearn: 1446.8373191\ttotal: 18s\tremaining: 50.9s\n",
      "270:\tlearn: 1442.8334751\ttotal: 18.6s\tremaining: 50s\n",
      "280:\tlearn: 1438.6740172\ttotal: 19.2s\tremaining: 49.2s\n",
      "290:\tlearn: 1434.7968340\ttotal: 19.8s\tremaining: 48.3s\n",
      "300:\tlearn: 1431.7154292\ttotal: 20.5s\tremaining: 47.6s\n",
      "310:\tlearn: 1428.1865209\ttotal: 21.1s\tremaining: 46.7s\n",
      "320:\tlearn: 1425.1993225\ttotal: 21.7s\tremaining: 45.9s\n",
      "330:\tlearn: 1421.8697394\ttotal: 22.4s\tremaining: 45.2s\n",
      "340:\tlearn: 1419.2994134\ttotal: 23s\tremaining: 44.5s\n",
      "350:\tlearn: 1416.2922888\ttotal: 23.6s\tremaining: 43.7s\n",
      "360:\tlearn: 1413.3968976\ttotal: 24.3s\tremaining: 43s\n",
      "370:\tlearn: 1410.2586631\ttotal: 25s\tremaining: 42.4s\n",
      "380:\tlearn: 1407.5791041\ttotal: 25.7s\tremaining: 41.8s\n",
      "390:\tlearn: 1404.8336676\ttotal: 26.4s\tremaining: 41.2s\n",
      "400:\tlearn: 1401.8720076\ttotal: 27s\tremaining: 40.4s\n",
      "410:\tlearn: 1399.4775048\ttotal: 27.6s\tremaining: 39.6s\n",
      "420:\tlearn: 1397.1408107\ttotal: 28.2s\tremaining: 38.8s\n",
      "430:\tlearn: 1394.9307260\ttotal: 28.9s\tremaining: 38.1s\n",
      "440:\tlearn: 1392.3702494\ttotal: 29.5s\tremaining: 37.5s\n",
      "450:\tlearn: 1389.9831669\ttotal: 30.2s\tremaining: 36.7s\n",
      "460:\tlearn: 1387.5785370\ttotal: 30.8s\tremaining: 36s\n",
      "470:\tlearn: 1385.0548303\ttotal: 31.4s\tremaining: 35.3s\n",
      "480:\tlearn: 1382.8848727\ttotal: 32s\tremaining: 34.5s\n",
      "490:\tlearn: 1380.1400864\ttotal: 32.6s\tremaining: 33.8s\n",
      "500:\tlearn: 1377.6517775\ttotal: 33.2s\tremaining: 33.1s\n",
      "510:\tlearn: 1375.5155023\ttotal: 33.9s\tremaining: 32.4s\n",
      "520:\tlearn: 1373.6463308\ttotal: 34.6s\tremaining: 31.8s\n",
      "530:\tlearn: 1371.2637686\ttotal: 35.2s\tremaining: 31.1s\n",
      "540:\tlearn: 1369.2513540\ttotal: 35.8s\tremaining: 30.4s\n",
      "550:\tlearn: 1367.2269935\ttotal: 36.4s\tremaining: 29.7s\n",
      "560:\tlearn: 1365.0742370\ttotal: 37s\tremaining: 29s\n",
      "570:\tlearn: 1363.0565858\ttotal: 37.6s\tremaining: 28.3s\n",
      "580:\tlearn: 1360.8085146\ttotal: 38.4s\tremaining: 27.7s\n",
      "590:\tlearn: 1359.2343751\ttotal: 39.1s\tremaining: 27.1s\n",
      "600:\tlearn: 1357.3530367\ttotal: 39.9s\tremaining: 26.5s\n",
      "610:\tlearn: 1355.3192138\ttotal: 40.8s\tremaining: 26s\n",
      "620:\tlearn: 1353.4825869\ttotal: 41.5s\tremaining: 25.3s\n",
      "630:\tlearn: 1351.6362193\ttotal: 42.3s\tremaining: 24.7s\n",
      "640:\tlearn: 1349.7509848\ttotal: 43s\tremaining: 24.1s\n",
      "650:\tlearn: 1347.7459646\ttotal: 43.6s\tremaining: 23.4s\n",
      "660:\tlearn: 1345.7419784\ttotal: 44.2s\tremaining: 22.7s\n",
      "670:\tlearn: 1343.8364816\ttotal: 44.8s\tremaining: 22s\n",
      "680:\tlearn: 1341.8369225\ttotal: 45.5s\tremaining: 21.3s\n",
      "690:\tlearn: 1340.4226376\ttotal: 46.1s\tremaining: 20.6s\n",
      "700:\tlearn: 1338.6386699\ttotal: 46.7s\tremaining: 19.9s\n",
      "710:\tlearn: 1337.1295861\ttotal: 47.4s\tremaining: 19.3s\n",
      "720:\tlearn: 1335.5693387\ttotal: 48s\tremaining: 18.6s\n",
      "730:\tlearn: 1333.7199289\ttotal: 48.6s\tremaining: 17.9s\n",
      "740:\tlearn: 1332.2984781\ttotal: 49.2s\tremaining: 17.2s\n",
      "750:\tlearn: 1330.5942789\ttotal: 49.8s\tremaining: 16.5s\n",
      "760:\tlearn: 1329.1807663\ttotal: 50.4s\tremaining: 15.8s\n",
      "770:\tlearn: 1327.3936958\ttotal: 51s\tremaining: 15.2s\n",
      "780:\tlearn: 1325.7977887\ttotal: 51.6s\tremaining: 14.5s\n",
      "790:\tlearn: 1324.4588948\ttotal: 52.3s\tremaining: 13.8s\n",
      "800:\tlearn: 1323.0806538\ttotal: 52.9s\tremaining: 13.1s\n",
      "810:\tlearn: 1321.5670102\ttotal: 53.6s\tremaining: 12.5s\n",
      "820:\tlearn: 1319.8114205\ttotal: 54.3s\tremaining: 11.8s\n",
      "830:\tlearn: 1318.3742818\ttotal: 54.9s\tremaining: 11.2s\n",
      "840:\tlearn: 1316.7483435\ttotal: 55.8s\tremaining: 10.6s\n",
      "850:\tlearn: 1315.2471146\ttotal: 56.4s\tremaining: 9.88s\n",
      "860:\tlearn: 1313.7218831\ttotal: 57s\tremaining: 9.21s\n",
      "870:\tlearn: 1312.0712983\ttotal: 57.6s\tremaining: 8.54s\n",
      "880:\tlearn: 1310.7171832\ttotal: 58.2s\tremaining: 7.87s\n",
      "890:\tlearn: 1309.3055817\ttotal: 58.8s\tremaining: 7.2s\n",
      "900:\tlearn: 1307.8374640\ttotal: 59.4s\tremaining: 6.53s\n",
      "910:\tlearn: 1306.5867280\ttotal: 1m\tremaining: 5.88s\n",
      "920:\tlearn: 1305.1858649\ttotal: 1m\tremaining: 5.22s\n",
      "930:\tlearn: 1303.7128226\ttotal: 1m 1s\tremaining: 4.55s\n",
      "940:\tlearn: 1302.4398676\ttotal: 1m 2s\tremaining: 3.89s\n",
      "950:\tlearn: 1301.1636238\ttotal: 1m 2s\tremaining: 3.23s\n",
      "960:\tlearn: 1299.7128485\ttotal: 1m 3s\tremaining: 2.58s\n",
      "970:\tlearn: 1298.5931077\ttotal: 1m 4s\tremaining: 1.91s\n",
      "980:\tlearn: 1297.0307333\ttotal: 1m 4s\tremaining: 1.25s\n",
      "990:\tlearn: 1295.4295849\ttotal: 1m 5s\tremaining: 593ms\n",
      "999:\tlearn: 1294.0718231\ttotal: 1m 5s\tremaining: 0us\n"
     ]
    },
    {
     "data": {
      "text/plain": [
       "GridSearchCV(cv=3,\n",
       "             estimator=<catboost.core.CatBoostRegressor object at 0x000001CF0F419C10>,\n",
       "             n_jobs=-1,\n",
       "             param_grid={'depth': [6, 8, 10], 'learning_rate': [0.1, 0.5],\n",
       "                         'metric_period': [10], 'random_state': [12345]},\n",
       "             scoring=make_scorer(rmse_scorer, greater_is_better=False),\n",
       "             verbose=1)"
      ]
     },
     "execution_count": 76,
     "metadata": {},
     "output_type": "execute_result"
    }
   ],
   "source": [
    "grid_cbr.fit(x_train_filtered_df_ohe, y_train_filtered_df_ohe)"
   ]
  },
  {
   "cell_type": "code",
   "execution_count": 77,
   "metadata": {},
   "outputs": [
    {
     "name": "stdout",
     "output_type": "stream",
     "text": [
      "Лучшие параметры модели CatBoostRegressor для filtered_df_ohe - {'depth': 10, 'learning_rate': 0.1, 'metric_period': 10, 'random_state': 12345}\n"
     ]
    }
   ],
   "source": [
    "print('Лучшие параметры модели CatBoostRegressor для filtered_df_ohe - {}'.format(grid_cbr.best_params_))"
   ]
  },
  {
   "cell_type": "code",
   "execution_count": 78,
   "metadata": {},
   "outputs": [],
   "source": [
    "model_cbr = CatBoostRegressor(depth=10,\n",
    "                              learning_rate=0.1,\n",
    "                              metric_period=10,\n",
    "                              random_state=STATE) "
   ]
  },
  {
   "cell_type": "code",
   "execution_count": 79,
   "metadata": {},
   "outputs": [
    {
     "name": "stdout",
     "output_type": "stream",
     "text": [
      "0:\tlearn: 3578.0108270\ttotal: 117ms\tremaining: 1m 56s\n",
      "10:\tlearn: 2208.6095118\ttotal: 886ms\tremaining: 1m 19s\n",
      "20:\tlearn: 1832.1251174\ttotal: 1.6s\tremaining: 1m 14s\n",
      "30:\tlearn: 1710.0481719\ttotal: 2.24s\tremaining: 1m 10s\n",
      "40:\tlearn: 1654.2210008\ttotal: 2.9s\tremaining: 1m 7s\n",
      "50:\tlearn: 1624.5169621\ttotal: 3.55s\tremaining: 1m 5s\n",
      "60:\tlearn: 1602.2761722\ttotal: 4.17s\tremaining: 1m 4s\n",
      "70:\tlearn: 1585.3603956\ttotal: 4.95s\tremaining: 1m 4s\n",
      "80:\tlearn: 1570.7029167\ttotal: 5.72s\tremaining: 1m 4s\n",
      "90:\tlearn: 1558.4072838\ttotal: 6.47s\tremaining: 1m 4s\n",
      "100:\tlearn: 1548.1907078\ttotal: 7.14s\tremaining: 1m 3s\n",
      "110:\tlearn: 1538.3605334\ttotal: 7.78s\tremaining: 1m 2s\n",
      "120:\tlearn: 1529.4901446\ttotal: 8.41s\tremaining: 1m 1s\n",
      "130:\tlearn: 1519.9840912\ttotal: 9.07s\tremaining: 1m\n",
      "140:\tlearn: 1511.9329031\ttotal: 9.7s\tremaining: 59.1s\n",
      "150:\tlearn: 1504.5235749\ttotal: 10.4s\tremaining: 58.3s\n",
      "160:\tlearn: 1497.9596987\ttotal: 11s\tremaining: 57.2s\n",
      "170:\tlearn: 1490.8169641\ttotal: 11.6s\tremaining: 56.2s\n",
      "180:\tlearn: 1485.9158953\ttotal: 12.2s\tremaining: 55.4s\n",
      "190:\tlearn: 1479.0515934\ttotal: 12.9s\tremaining: 54.5s\n",
      "200:\tlearn: 1473.9389143\ttotal: 13.5s\tremaining: 53.5s\n",
      "210:\tlearn: 1468.5281763\ttotal: 14.1s\tremaining: 52.8s\n",
      "220:\tlearn: 1464.4942682\ttotal: 14.8s\tremaining: 52.3s\n",
      "230:\tlearn: 1459.6626154\ttotal: 15.6s\tremaining: 51.9s\n",
      "240:\tlearn: 1455.0785584\ttotal: 16.3s\tremaining: 51.4s\n",
      "250:\tlearn: 1450.8617685\ttotal: 17s\tremaining: 50.8s\n",
      "260:\tlearn: 1446.8373191\ttotal: 17.7s\tremaining: 50s\n",
      "270:\tlearn: 1442.8334751\ttotal: 18.3s\tremaining: 49.2s\n",
      "280:\tlearn: 1438.6740172\ttotal: 18.9s\tremaining: 48.4s\n",
      "290:\tlearn: 1434.7968340\ttotal: 19.5s\tremaining: 47.6s\n",
      "300:\tlearn: 1431.7154292\ttotal: 20.2s\tremaining: 46.9s\n",
      "310:\tlearn: 1428.1865209\ttotal: 20.8s\tremaining: 46.1s\n",
      "320:\tlearn: 1425.1993225\ttotal: 21.4s\tremaining: 45.4s\n",
      "330:\tlearn: 1421.8697394\ttotal: 22.1s\tremaining: 44.7s\n",
      "340:\tlearn: 1419.2994134\ttotal: 22.7s\tremaining: 43.9s\n",
      "350:\tlearn: 1416.2922888\ttotal: 23.4s\tremaining: 43.3s\n",
      "360:\tlearn: 1413.3968976\ttotal: 24.2s\tremaining: 42.8s\n",
      "370:\tlearn: 1410.2586631\ttotal: 24.9s\tremaining: 42.2s\n",
      "380:\tlearn: 1407.5791041\ttotal: 25.5s\tremaining: 41.5s\n",
      "390:\tlearn: 1404.8336676\ttotal: 26.1s\tremaining: 40.7s\n",
      "400:\tlearn: 1401.8720076\ttotal: 26.7s\tremaining: 39.9s\n",
      "410:\tlearn: 1399.4775048\ttotal: 27.3s\tremaining: 39.2s\n",
      "420:\tlearn: 1397.1408107\ttotal: 27.9s\tremaining: 38.4s\n",
      "430:\tlearn: 1394.9307260\ttotal: 28.6s\tremaining: 37.7s\n",
      "440:\tlearn: 1392.3702494\ttotal: 29.2s\tremaining: 37s\n",
      "450:\tlearn: 1389.9831669\ttotal: 29.8s\tremaining: 36.3s\n",
      "460:\tlearn: 1387.5785370\ttotal: 30.6s\tremaining: 35.8s\n",
      "470:\tlearn: 1385.0548303\ttotal: 31.3s\tremaining: 35.1s\n",
      "480:\tlearn: 1382.8848727\ttotal: 32.1s\tremaining: 34.7s\n",
      "490:\tlearn: 1380.1400864\ttotal: 32.9s\tremaining: 34.1s\n",
      "500:\tlearn: 1377.6517775\ttotal: 33.8s\tremaining: 33.6s\n",
      "510:\tlearn: 1375.5155023\ttotal: 34.7s\tremaining: 33.2s\n",
      "520:\tlearn: 1373.6463308\ttotal: 35.4s\tremaining: 32.6s\n",
      "530:\tlearn: 1371.2637686\ttotal: 36.2s\tremaining: 32s\n",
      "540:\tlearn: 1369.2513540\ttotal: 36.9s\tremaining: 31.3s\n",
      "550:\tlearn: 1367.2269935\ttotal: 37.7s\tremaining: 30.7s\n",
      "560:\tlearn: 1365.0742370\ttotal: 38.4s\tremaining: 30s\n",
      "570:\tlearn: 1363.0565858\ttotal: 39s\tremaining: 29.3s\n",
      "580:\tlearn: 1360.8085146\ttotal: 39.7s\tremaining: 28.6s\n",
      "590:\tlearn: 1359.2343751\ttotal: 40.3s\tremaining: 27.9s\n",
      "600:\tlearn: 1357.3530367\ttotal: 41s\tremaining: 27.2s\n",
      "610:\tlearn: 1355.3192138\ttotal: 41.6s\tremaining: 26.5s\n",
      "620:\tlearn: 1353.4825869\ttotal: 42.2s\tremaining: 25.8s\n",
      "630:\tlearn: 1351.6362193\ttotal: 42.9s\tremaining: 25.1s\n",
      "640:\tlearn: 1349.7509848\ttotal: 43.7s\tremaining: 24.5s\n",
      "650:\tlearn: 1347.7459646\ttotal: 44.4s\tremaining: 23.8s\n",
      "660:\tlearn: 1345.7419784\ttotal: 45.2s\tremaining: 23.2s\n",
      "670:\tlearn: 1343.8364816\ttotal: 45.9s\tremaining: 22.5s\n",
      "680:\tlearn: 1341.8369225\ttotal: 46.7s\tremaining: 21.9s\n",
      "690:\tlearn: 1340.4226376\ttotal: 47.5s\tremaining: 21.2s\n",
      "700:\tlearn: 1338.6386699\ttotal: 48.4s\tremaining: 20.7s\n",
      "710:\tlearn: 1337.1295861\ttotal: 49.1s\tremaining: 20s\n",
      "720:\tlearn: 1335.5693387\ttotal: 49.7s\tremaining: 19.2s\n",
      "730:\tlearn: 1333.7199289\ttotal: 50.4s\tremaining: 18.6s\n",
      "740:\tlearn: 1332.2984781\ttotal: 51.2s\tremaining: 17.9s\n",
      "750:\tlearn: 1330.5942789\ttotal: 51.9s\tremaining: 17.2s\n",
      "760:\tlearn: 1329.1807663\ttotal: 52.5s\tremaining: 16.5s\n",
      "770:\tlearn: 1327.3936958\ttotal: 53.1s\tremaining: 15.8s\n",
      "780:\tlearn: 1325.7977887\ttotal: 53.7s\tremaining: 15.1s\n",
      "790:\tlearn: 1324.4588948\ttotal: 54.3s\tremaining: 14.4s\n",
      "800:\tlearn: 1323.0806538\ttotal: 54.9s\tremaining: 13.6s\n",
      "810:\tlearn: 1321.5670102\ttotal: 55.5s\tremaining: 12.9s\n",
      "820:\tlearn: 1319.8114205\ttotal: 56.1s\tremaining: 12.2s\n",
      "830:\tlearn: 1318.3742818\ttotal: 56.7s\tremaining: 11.5s\n",
      "840:\tlearn: 1316.7483435\ttotal: 57.3s\tremaining: 10.8s\n",
      "850:\tlearn: 1315.2471146\ttotal: 57.9s\tremaining: 10.1s\n",
      "860:\tlearn: 1313.7218831\ttotal: 58.6s\tremaining: 9.45s\n",
      "870:\tlearn: 1312.0712983\ttotal: 59.2s\tremaining: 8.77s\n",
      "880:\tlearn: 1310.7171832\ttotal: 1m\tremaining: 8.13s\n",
      "890:\tlearn: 1309.3055817\ttotal: 1m\tremaining: 7.44s\n",
      "900:\tlearn: 1307.8374640\ttotal: 1m 1s\tremaining: 6.76s\n",
      "910:\tlearn: 1306.5867280\ttotal: 1m 2s\tremaining: 6.07s\n",
      "920:\tlearn: 1305.1858649\ttotal: 1m 2s\tremaining: 5.38s\n",
      "930:\tlearn: 1303.7128226\ttotal: 1m 3s\tremaining: 4.7s\n",
      "940:\tlearn: 1302.4398676\ttotal: 1m 4s\tremaining: 4.02s\n",
      "950:\tlearn: 1301.1636238\ttotal: 1m 4s\tremaining: 3.34s\n",
      "960:\tlearn: 1299.7128485\ttotal: 1m 5s\tremaining: 2.66s\n",
      "970:\tlearn: 1298.5931077\ttotal: 1m 6s\tremaining: 1.98s\n",
      "980:\tlearn: 1297.0307333\ttotal: 1m 6s\tremaining: 1.29s\n",
      "990:\tlearn: 1295.4295849\ttotal: 1m 7s\tremaining: 613ms\n",
      "999:\tlearn: 1294.0718231\ttotal: 1m 8s\tremaining: 0us\n"
     ]
    }
   ],
   "source": [
    "(rmse_model,\n",
    " time_fit, \n",
    " time_predict) = fit_models(model_cbr,\n",
    "                            x_train_filtered_df_ohe,\n",
    "                            y_train_filtered_df_ohe, \n",
    "                            x_test_filtered_df_ohe, \n",
    "                            y_test_filtered_df_ohe)"
   ]
  },
  {
   "cell_type": "code",
   "execution_count": 80,
   "metadata": {},
   "outputs": [],
   "source": [
    "model_name = 'CatBoostRegressor for filtered_df_ohe'"
   ]
  },
  {
   "cell_type": "code",
   "execution_count": 81,
   "metadata": {},
   "outputs": [
    {
     "data": {
      "text/html": [
       "<div>\n",
       "<style scoped>\n",
       "    .dataframe tbody tr th:only-of-type {\n",
       "        vertical-align: middle;\n",
       "    }\n",
       "\n",
       "    .dataframe tbody tr th {\n",
       "        vertical-align: top;\n",
       "    }\n",
       "\n",
       "    .dataframe thead th {\n",
       "        text-align: right;\n",
       "    }\n",
       "</style>\n",
       "<table border=\"1\" class=\"dataframe\">\n",
       "  <thead>\n",
       "    <tr style=\"text-align: right;\">\n",
       "      <th></th>\n",
       "      <th>model_name</th>\n",
       "      <th>time_fit</th>\n",
       "      <th>time_predict</th>\n",
       "      <th>rmse_model</th>\n",
       "    </tr>\n",
       "  </thead>\n",
       "  <tbody>\n",
       "    <tr>\n",
       "      <th>0</th>\n",
       "      <td>LinearRegression for filtered_df_ohe</td>\n",
       "      <td>4602.689505</td>\n",
       "      <td>186.501741</td>\n",
       "      <td>2367.197584</td>\n",
       "    </tr>\n",
       "    <tr>\n",
       "      <th>1</th>\n",
       "      <td>LinearRegression for filtered_df_encoder</td>\n",
       "      <td>93.75</td>\n",
       "      <td>5.98526</td>\n",
       "      <td>2696.782272</td>\n",
       "    </tr>\n",
       "    <tr>\n",
       "      <th>2</th>\n",
       "      <td>RandomForestRegressor for filtered_df_ohe</td>\n",
       "      <td>154792.466164</td>\n",
       "      <td>496.670723</td>\n",
       "      <td>1713.614552</td>\n",
       "    </tr>\n",
       "    <tr>\n",
       "      <th>3</th>\n",
       "      <td>RandomForestRegressor for filtered_df_encoder</td>\n",
       "      <td>21973.091364</td>\n",
       "      <td>384.974241</td>\n",
       "      <td>1709.050554</td>\n",
       "    </tr>\n",
       "    <tr>\n",
       "      <th>4</th>\n",
       "      <td>CatBoostRegressor for filtered_df_ohe</td>\n",
       "      <td>70294.345617</td>\n",
       "      <td>581.445217</td>\n",
       "      <td>1434.457971</td>\n",
       "    </tr>\n",
       "  </tbody>\n",
       "</table>\n",
       "</div>"
      ],
      "text/plain": [
       "                                      model_name       time_fit time_predict  \\\n",
       "0           LinearRegression for filtered_df_ohe    4602.689505   186.501741   \n",
       "1       LinearRegression for filtered_df_encoder          93.75      5.98526   \n",
       "2      RandomForestRegressor for filtered_df_ohe  154792.466164   496.670723   \n",
       "3  RandomForestRegressor for filtered_df_encoder   21973.091364   384.974241   \n",
       "4          CatBoostRegressor for filtered_df_ohe   70294.345617   581.445217   \n",
       "\n",
       "    rmse_model  \n",
       "0  2367.197584  \n",
       "1  2696.782272  \n",
       "2  1713.614552  \n",
       "3  1709.050554  \n",
       "4  1434.457971  "
      ]
     },
     "execution_count": 81,
     "metadata": {},
     "output_type": "execute_result"
    }
   ],
   "source": [
    "df_results = update_results(model_name, time_fit, time_predict, rmse_model, df_results)\n",
    "df_results"
   ]
  },
  {
   "cell_type": "code",
   "execution_count": 82,
   "metadata": {},
   "outputs": [
    {
     "name": "stdout",
     "output_type": "stream",
     "text": [
      "Fitting 3 folds for each of 6 candidates, totalling 18 fits\n",
      "0:\tlearn: 3579.2974581\ttotal: 76.1ms\tremaining: 1m 16s\n",
      "10:\tlearn: 2211.2298925\ttotal: 944ms\tremaining: 1m 24s\n",
      "20:\tlearn: 1835.5706114\ttotal: 1.73s\tremaining: 1m 20s\n",
      "30:\tlearn: 1705.2664476\ttotal: 2.46s\tremaining: 1m 16s\n",
      "40:\tlearn: 1650.4631473\ttotal: 3.13s\tremaining: 1m 13s\n",
      "50:\tlearn: 1617.2137647\ttotal: 3.76s\tremaining: 1m 9s\n",
      "60:\tlearn: 1587.0467286\ttotal: 4.33s\tremaining: 1m 6s\n",
      "70:\tlearn: 1567.2119002\ttotal: 4.92s\tremaining: 1m 4s\n",
      "80:\tlearn: 1553.6877848\ttotal: 5.56s\tremaining: 1m 3s\n",
      "90:\tlearn: 1540.6724643\ttotal: 6.13s\tremaining: 1m 1s\n",
      "100:\tlearn: 1529.0474542\ttotal: 6.71s\tremaining: 59.7s\n",
      "110:\tlearn: 1517.3211661\ttotal: 7.3s\tremaining: 58.5s\n",
      "120:\tlearn: 1506.7580306\ttotal: 7.92s\tremaining: 57.5s\n",
      "130:\tlearn: 1496.9331339\ttotal: 8.64s\tremaining: 57.3s\n",
      "140:\tlearn: 1487.4100622\ttotal: 9.34s\tremaining: 56.9s\n",
      "150:\tlearn: 1479.6609850\ttotal: 10s\tremaining: 56.3s\n",
      "160:\tlearn: 1472.3731694\ttotal: 10.7s\tremaining: 55.6s\n",
      "170:\tlearn: 1466.1319318\ttotal: 11.4s\tremaining: 55.3s\n",
      "180:\tlearn: 1459.4596425\ttotal: 12.1s\tremaining: 54.7s\n",
      "190:\tlearn: 1453.5931829\ttotal: 12.7s\tremaining: 53.6s\n",
      "200:\tlearn: 1448.3202147\ttotal: 13.3s\tremaining: 52.9s\n",
      "210:\tlearn: 1443.1371114\ttotal: 13.9s\tremaining: 52.1s\n",
      "220:\tlearn: 1438.3326834\ttotal: 14.5s\tremaining: 51.1s\n",
      "230:\tlearn: 1432.6700838\ttotal: 15.1s\tremaining: 50.2s\n",
      "240:\tlearn: 1428.2053727\ttotal: 15.7s\tremaining: 49.4s\n",
      "250:\tlearn: 1424.0246561\ttotal: 16.2s\tremaining: 48.5s\n",
      "260:\tlearn: 1419.2002092\ttotal: 16.9s\tremaining: 47.8s\n",
      "270:\tlearn: 1415.4444506\ttotal: 17.5s\tremaining: 47s\n",
      "280:\tlearn: 1411.1752013\ttotal: 18.1s\tremaining: 46.2s\n",
      "290:\tlearn: 1406.6633288\ttotal: 18.6s\tremaining: 45.4s\n",
      "300:\tlearn: 1401.8848799\ttotal: 19.2s\tremaining: 44.6s\n",
      "310:\tlearn: 1397.7730610\ttotal: 19.8s\tremaining: 43.9s\n",
      "320:\tlearn: 1393.6819716\ttotal: 20.4s\tremaining: 43.1s\n",
      "330:\tlearn: 1390.1615492\ttotal: 21s\tremaining: 42.4s\n",
      "340:\tlearn: 1386.0769534\ttotal: 21.5s\tremaining: 41.6s\n",
      "350:\tlearn: 1382.5418309\ttotal: 22.1s\tremaining: 40.9s\n",
      "360:\tlearn: 1378.8523712\ttotal: 22.7s\tremaining: 40.2s\n",
      "370:\tlearn: 1375.9350749\ttotal: 23.3s\tremaining: 39.5s\n",
      "380:\tlearn: 1371.8662421\ttotal: 23.9s\tremaining: 38.8s\n",
      "390:\tlearn: 1368.2534708\ttotal: 24.7s\tremaining: 38.4s\n",
      "400:\tlearn: 1364.5098211\ttotal: 25.3s\tremaining: 37.8s\n",
      "410:\tlearn: 1361.2950314\ttotal: 26s\tremaining: 37.3s\n",
      "420:\tlearn: 1358.0202090\ttotal: 26.6s\tremaining: 36.6s\n",
      "430:\tlearn: 1354.9269407\ttotal: 27.2s\tremaining: 35.9s\n",
      "440:\tlearn: 1352.1193263\ttotal: 27.8s\tremaining: 35.2s\n",
      "450:\tlearn: 1349.5436750\ttotal: 28.4s\tremaining: 34.5s\n",
      "460:\tlearn: 1346.6404836\ttotal: 29s\tremaining: 33.9s\n",
      "470:\tlearn: 1343.8587026\ttotal: 29.6s\tremaining: 33.3s\n",
      "480:\tlearn: 1340.9396212\ttotal: 30.2s\tremaining: 32.6s\n",
      "490:\tlearn: 1338.1128280\ttotal: 30.8s\tremaining: 31.9s\n",
      "500:\tlearn: 1335.4948585\ttotal: 31.6s\tremaining: 31.5s\n",
      "510:\tlearn: 1333.1345845\ttotal: 32.2s\tremaining: 30.9s\n",
      "520:\tlearn: 1330.6959122\ttotal: 32.8s\tremaining: 30.2s\n",
      "530:\tlearn: 1327.8491298\ttotal: 33.4s\tremaining: 29.5s\n",
      "540:\tlearn: 1325.3367123\ttotal: 34s\tremaining: 28.8s\n",
      "550:\tlearn: 1322.0260420\ttotal: 34.6s\tremaining: 28.2s\n",
      "560:\tlearn: 1319.9031485\ttotal: 35.2s\tremaining: 27.5s\n",
      "570:\tlearn: 1317.4360254\ttotal: 35.8s\tremaining: 26.9s\n",
      "580:\tlearn: 1314.9224900\ttotal: 36.5s\tremaining: 26.3s\n",
      "590:\tlearn: 1312.2217631\ttotal: 37.2s\tremaining: 25.8s\n",
      "600:\tlearn: 1309.9307850\ttotal: 37.9s\tremaining: 25.1s\n",
      "610:\tlearn: 1307.8193543\ttotal: 38.5s\tremaining: 24.5s\n",
      "620:\tlearn: 1305.6026286\ttotal: 39.1s\tremaining: 23.8s\n",
      "630:\tlearn: 1303.3761100\ttotal: 39.7s\tremaining: 23.2s\n",
      "640:\tlearn: 1301.3616671\ttotal: 40.4s\tremaining: 22.6s\n",
      "650:\tlearn: 1299.1657956\ttotal: 41.2s\tremaining: 22.1s\n",
      "660:\tlearn: 1297.2442049\ttotal: 41.9s\tremaining: 21.5s\n",
      "670:\tlearn: 1295.1004111\ttotal: 42.6s\tremaining: 20.9s\n",
      "680:\tlearn: 1293.0862368\ttotal: 43.2s\tremaining: 20.2s\n",
      "690:\tlearn: 1290.6481159\ttotal: 43.8s\tremaining: 19.6s\n",
      "700:\tlearn: 1288.7036468\ttotal: 44.7s\tremaining: 19.1s\n",
      "710:\tlearn: 1286.2250842\ttotal: 45.3s\tremaining: 18.4s\n",
      "720:\tlearn: 1284.3777700\ttotal: 46s\tremaining: 17.8s\n",
      "730:\tlearn: 1282.1655207\ttotal: 46.9s\tremaining: 17.3s\n",
      "740:\tlearn: 1280.1868897\ttotal: 47.7s\tremaining: 16.7s\n",
      "750:\tlearn: 1278.6146418\ttotal: 48.4s\tremaining: 16.1s\n",
      "760:\tlearn: 1276.9441866\ttotal: 49.2s\tremaining: 15.5s\n",
      "770:\tlearn: 1275.0145068\ttotal: 50.1s\tremaining: 14.9s\n",
      "780:\tlearn: 1273.0146862\ttotal: 51.2s\tremaining: 14.4s\n",
      "790:\tlearn: 1271.1036309\ttotal: 52.1s\tremaining: 13.8s\n",
      "800:\tlearn: 1269.2712019\ttotal: 53s\tremaining: 13.2s\n",
      "810:\tlearn: 1267.9855806\ttotal: 54s\tremaining: 12.6s\n",
      "820:\tlearn: 1266.1476168\ttotal: 54.9s\tremaining: 12s\n",
      "830:\tlearn: 1264.2609062\ttotal: 56.1s\tremaining: 11.4s\n",
      "840:\tlearn: 1262.4894440\ttotal: 57.9s\tremaining: 10.9s\n",
      "850:\tlearn: 1260.8918897\ttotal: 59s\tremaining: 10.3s\n",
      "860:\tlearn: 1259.3566779\ttotal: 1m\tremaining: 9.76s\n",
      "870:\tlearn: 1257.9663690\ttotal: 1m 1s\tremaining: 9.09s\n",
      "880:\tlearn: 1256.3906595\ttotal: 1m 2s\tremaining: 8.4s\n",
      "890:\tlearn: 1255.0998912\ttotal: 1m 2s\tremaining: 7.69s\n",
      "900:\tlearn: 1253.4273130\ttotal: 1m 3s\tremaining: 6.97s\n",
      "910:\tlearn: 1251.5906032\ttotal: 1m 4s\tremaining: 6.26s\n",
      "920:\tlearn: 1249.9753529\ttotal: 1m 4s\tremaining: 5.55s\n",
      "930:\tlearn: 1248.7047540\ttotal: 1m 5s\tremaining: 4.84s\n",
      "940:\tlearn: 1247.0382061\ttotal: 1m 6s\tremaining: 4.14s\n",
      "950:\tlearn: 1245.5144507\ttotal: 1m 6s\tremaining: 3.44s\n",
      "960:\tlearn: 1243.9249091\ttotal: 1m 7s\tremaining: 2.73s\n",
      "970:\tlearn: 1242.3894338\ttotal: 1m 7s\tremaining: 2.03s\n",
      "980:\tlearn: 1241.0255443\ttotal: 1m 8s\tremaining: 1.32s\n",
      "990:\tlearn: 1239.5359581\ttotal: 1m 9s\tremaining: 627ms\n",
      "999:\tlearn: 1238.0400453\ttotal: 1m 9s\tremaining: 0us\n"
     ]
    },
    {
     "data": {
      "text/plain": [
       "GridSearchCV(cv=3,\n",
       "             estimator=<catboost.core.CatBoostRegressor object at 0x000001CF0F419C10>,\n",
       "             n_jobs=-1,\n",
       "             param_grid={'depth': [6, 8, 10], 'learning_rate': [0.1, 0.5],\n",
       "                         'metric_period': [10], 'random_state': [12345]},\n",
       "             scoring=make_scorer(rmse_scorer, greater_is_better=False),\n",
       "             verbose=1)"
      ]
     },
     "execution_count": 82,
     "metadata": {},
     "output_type": "execute_result"
    }
   ],
   "source": [
    "grid_cbr.fit(x_train_filtered_df_encoder, y_train_filtered_df_encoder)"
   ]
  },
  {
   "cell_type": "code",
   "execution_count": 83,
   "metadata": {},
   "outputs": [
    {
     "name": "stdout",
     "output_type": "stream",
     "text": [
      "Лучшие параметры модели CatBoostRegressor для filtered_df_encoder - {'depth': 10, 'learning_rate': 0.1, 'metric_period': 10, 'random_state': 12345}\n"
     ]
    }
   ],
   "source": [
    "print('Лучшие параметры модели CatBoostRegressor для filtered_df_encoder - {}'.format(grid_cbr.best_params_))"
   ]
  },
  {
   "cell_type": "code",
   "execution_count": 84,
   "metadata": {},
   "outputs": [],
   "source": [
    "model_cbr = CatBoostRegressor(depth=10,\n",
    "                              learning_rate=0.1,\n",
    "                              metric_period=10,\n",
    "                              random_state=STATE) "
   ]
  },
  {
   "cell_type": "code",
   "execution_count": 85,
   "metadata": {},
   "outputs": [
    {
     "name": "stdout",
     "output_type": "stream",
     "text": [
      "0:\tlearn: 3579.2974581\ttotal: 62.4ms\tremaining: 1m 2s\n",
      "10:\tlearn: 2211.2298925\ttotal: 599ms\tremaining: 53.9s\n",
      "20:\tlearn: 1835.5706114\ttotal: 1.38s\tremaining: 1m 4s\n",
      "30:\tlearn: 1705.2664476\ttotal: 2.04s\tremaining: 1m 3s\n",
      "40:\tlearn: 1650.4631473\ttotal: 2.65s\tremaining: 1m 2s\n",
      "50:\tlearn: 1617.2137647\ttotal: 3.4s\tremaining: 1m 3s\n",
      "60:\tlearn: 1587.0467286\ttotal: 4.08s\tremaining: 1m 2s\n",
      "70:\tlearn: 1567.2119002\ttotal: 4.77s\tremaining: 1m 2s\n",
      "80:\tlearn: 1553.6877848\ttotal: 5.44s\tremaining: 1m 1s\n",
      "90:\tlearn: 1540.6724643\ttotal: 6.13s\tremaining: 1m 1s\n",
      "100:\tlearn: 1529.0474542\ttotal: 6.77s\tremaining: 1m\n",
      "110:\tlearn: 1517.3211661\ttotal: 7.35s\tremaining: 58.9s\n",
      "120:\tlearn: 1506.7580306\ttotal: 7.92s\tremaining: 57.5s\n",
      "130:\tlearn: 1496.9331339\ttotal: 8.57s\tremaining: 56.9s\n",
      "140:\tlearn: 1487.4100622\ttotal: 9.14s\tremaining: 55.7s\n",
      "150:\tlearn: 1479.6609850\ttotal: 9.7s\tremaining: 54.5s\n",
      "160:\tlearn: 1472.3731694\ttotal: 10.3s\tremaining: 53.5s\n",
      "170:\tlearn: 1466.1319318\ttotal: 10.8s\tremaining: 52.5s\n",
      "180:\tlearn: 1459.4596425\ttotal: 11.4s\tremaining: 51.5s\n",
      "190:\tlearn: 1453.5931829\ttotal: 11.9s\tremaining: 50.6s\n",
      "200:\tlearn: 1448.3202147\ttotal: 12.5s\tremaining: 49.8s\n",
      "210:\tlearn: 1443.1371114\ttotal: 13.1s\tremaining: 48.9s\n",
      "220:\tlearn: 1438.3326834\ttotal: 13.7s\tremaining: 48.2s\n",
      "230:\tlearn: 1432.6700838\ttotal: 14.3s\tremaining: 47.6s\n",
      "240:\tlearn: 1428.2053727\ttotal: 14.9s\tremaining: 47s\n",
      "250:\tlearn: 1424.0246561\ttotal: 15.6s\tremaining: 46.6s\n",
      "260:\tlearn: 1419.2002092\ttotal: 16.2s\tremaining: 45.8s\n",
      "270:\tlearn: 1415.4444506\ttotal: 16.8s\tremaining: 45.3s\n",
      "280:\tlearn: 1411.1752013\ttotal: 17.4s\tremaining: 44.6s\n",
      "290:\tlearn: 1406.6633288\ttotal: 18s\tremaining: 43.9s\n",
      "300:\tlearn: 1401.8848799\ttotal: 18.8s\tremaining: 43.6s\n",
      "310:\tlearn: 1397.7730610\ttotal: 19.5s\tremaining: 43.2s\n",
      "320:\tlearn: 1393.6819716\ttotal: 20.3s\tremaining: 42.8s\n",
      "330:\tlearn: 1390.1615492\ttotal: 21s\tremaining: 42.5s\n",
      "340:\tlearn: 1386.0769534\ttotal: 21.6s\tremaining: 41.8s\n",
      "350:\tlearn: 1382.5418309\ttotal: 22.3s\tremaining: 41.2s\n",
      "360:\tlearn: 1378.8523712\ttotal: 22.9s\tremaining: 40.6s\n",
      "370:\tlearn: 1375.9350749\ttotal: 23.6s\tremaining: 40s\n",
      "380:\tlearn: 1371.8662421\ttotal: 24.3s\tremaining: 39.4s\n",
      "390:\tlearn: 1368.2534708\ttotal: 25s\tremaining: 39s\n",
      "400:\tlearn: 1364.5098211\ttotal: 25.8s\tremaining: 38.5s\n",
      "410:\tlearn: 1361.2950314\ttotal: 26.5s\tremaining: 38s\n",
      "420:\tlearn: 1358.0202090\ttotal: 27.2s\tremaining: 37.4s\n",
      "430:\tlearn: 1354.9269407\ttotal: 27.9s\tremaining: 36.8s\n",
      "440:\tlearn: 1352.1193263\ttotal: 28.6s\tremaining: 36.2s\n",
      "450:\tlearn: 1349.5436750\ttotal: 29.2s\tremaining: 35.6s\n",
      "460:\tlearn: 1346.6404836\ttotal: 29.8s\tremaining: 34.9s\n",
      "470:\tlearn: 1343.8587026\ttotal: 30.6s\tremaining: 34.3s\n",
      "480:\tlearn: 1340.9396212\ttotal: 31.2s\tremaining: 33.6s\n",
      "490:\tlearn: 1338.1128280\ttotal: 31.8s\tremaining: 33s\n",
      "500:\tlearn: 1335.4948585\ttotal: 32.5s\tremaining: 32.4s\n",
      "510:\tlearn: 1333.1345845\ttotal: 33.1s\tremaining: 31.7s\n",
      "520:\tlearn: 1330.6959122\ttotal: 33.8s\tremaining: 31s\n",
      "530:\tlearn: 1327.8491298\ttotal: 34.5s\tremaining: 30.5s\n",
      "540:\tlearn: 1325.3367123\ttotal: 35.4s\tremaining: 30.1s\n",
      "550:\tlearn: 1322.0260420\ttotal: 36.3s\tremaining: 29.5s\n",
      "560:\tlearn: 1319.9031485\ttotal: 37.2s\tremaining: 29.1s\n",
      "570:\tlearn: 1317.4360254\ttotal: 38.2s\tremaining: 28.7s\n",
      "580:\tlearn: 1314.9224900\ttotal: 39s\tremaining: 28.1s\n",
      "590:\tlearn: 1312.2217631\ttotal: 39.8s\tremaining: 27.5s\n",
      "600:\tlearn: 1309.9307850\ttotal: 40.6s\tremaining: 27s\n",
      "610:\tlearn: 1307.8193543\ttotal: 41.5s\tremaining: 26.4s\n",
      "620:\tlearn: 1305.6026286\ttotal: 42.2s\tremaining: 25.7s\n",
      "630:\tlearn: 1303.3761100\ttotal: 42.8s\tremaining: 25s\n",
      "640:\tlearn: 1301.3616671\ttotal: 43.4s\tremaining: 24.3s\n",
      "650:\tlearn: 1299.1657956\ttotal: 44s\tremaining: 23.6s\n",
      "660:\tlearn: 1297.2442049\ttotal: 44.6s\tremaining: 22.9s\n",
      "670:\tlearn: 1295.1004111\ttotal: 45.4s\tremaining: 22.2s\n",
      "680:\tlearn: 1293.0862368\ttotal: 46s\tremaining: 21.5s\n",
      "690:\tlearn: 1290.6481159\ttotal: 46.6s\tremaining: 20.8s\n",
      "700:\tlearn: 1288.7036468\ttotal: 47.2s\tremaining: 20.1s\n",
      "710:\tlearn: 1286.2250842\ttotal: 48.1s\tremaining: 19.5s\n",
      "720:\tlearn: 1284.3777700\ttotal: 49s\tremaining: 18.9s\n",
      "730:\tlearn: 1282.1655207\ttotal: 49.6s\tremaining: 18.3s\n",
      "740:\tlearn: 1280.1868897\ttotal: 50.3s\tremaining: 17.6s\n",
      "750:\tlearn: 1278.6146418\ttotal: 51.1s\tremaining: 17s\n",
      "760:\tlearn: 1276.9441866\ttotal: 52s\tremaining: 16.3s\n",
      "770:\tlearn: 1275.0145068\ttotal: 52.8s\tremaining: 15.7s\n",
      "780:\tlearn: 1273.0146862\ttotal: 53.6s\tremaining: 15s\n",
      "790:\tlearn: 1271.1036309\ttotal: 54.6s\tremaining: 14.4s\n",
      "800:\tlearn: 1269.2712019\ttotal: 55.2s\tremaining: 13.7s\n",
      "810:\tlearn: 1267.9855806\ttotal: 55.8s\tremaining: 13s\n",
      "820:\tlearn: 1266.1476168\ttotal: 56.5s\tremaining: 12.3s\n",
      "830:\tlearn: 1264.2609062\ttotal: 57.2s\tremaining: 11.6s\n",
      "840:\tlearn: 1262.4894440\ttotal: 57.8s\tremaining: 10.9s\n",
      "850:\tlearn: 1260.8918897\ttotal: 58.4s\tremaining: 10.2s\n",
      "860:\tlearn: 1259.3566779\ttotal: 59s\tremaining: 9.52s\n",
      "870:\tlearn: 1257.9663690\ttotal: 59.5s\tremaining: 8.81s\n",
      "880:\tlearn: 1256.3906595\ttotal: 1m\tremaining: 8.12s\n",
      "890:\tlearn: 1255.0998912\ttotal: 1m\tremaining: 7.42s\n",
      "900:\tlearn: 1253.4273130\ttotal: 1m 1s\tremaining: 6.73s\n",
      "910:\tlearn: 1251.5906032\ttotal: 1m 1s\tremaining: 6.05s\n",
      "920:\tlearn: 1249.9753529\ttotal: 1m 2s\tremaining: 5.37s\n",
      "930:\tlearn: 1248.7047540\ttotal: 1m 3s\tremaining: 4.7s\n",
      "940:\tlearn: 1247.0382061\ttotal: 1m 4s\tremaining: 4.03s\n",
      "950:\tlearn: 1245.5144507\ttotal: 1m 4s\tremaining: 3.34s\n",
      "960:\tlearn: 1243.9249091\ttotal: 1m 5s\tremaining: 2.66s\n",
      "970:\tlearn: 1242.3894338\ttotal: 1m 6s\tremaining: 1.98s\n",
      "980:\tlearn: 1241.0255443\ttotal: 1m 6s\tremaining: 1.3s\n",
      "990:\tlearn: 1239.5359581\ttotal: 1m 7s\tremaining: 615ms\n",
      "999:\tlearn: 1238.0400453\ttotal: 1m 8s\tremaining: 0us\n"
     ]
    }
   ],
   "source": [
    "(rmse_model,\n",
    " time_fit, \n",
    " time_predict) = fit_models(model_cbr,\n",
    "                            x_train_filtered_df_encoder,\n",
    "                            y_train_filtered_df_encoder, \n",
    "                            x_test_filtered_df_encoder, \n",
    "                            y_test_filtered_df_encoder)"
   ]
  },
  {
   "cell_type": "code",
   "execution_count": 86,
   "metadata": {},
   "outputs": [],
   "source": [
    "model_name = 'CatBoostRegressor for filtered_df_encoder'"
   ]
  },
  {
   "cell_type": "code",
   "execution_count": 87,
   "metadata": {
    "scrolled": true
   },
   "outputs": [
    {
     "data": {
      "text/html": [
       "<div>\n",
       "<style scoped>\n",
       "    .dataframe tbody tr th:only-of-type {\n",
       "        vertical-align: middle;\n",
       "    }\n",
       "\n",
       "    .dataframe tbody tr th {\n",
       "        vertical-align: top;\n",
       "    }\n",
       "\n",
       "    .dataframe thead th {\n",
       "        text-align: right;\n",
       "    }\n",
       "</style>\n",
       "<table border=\"1\" class=\"dataframe\">\n",
       "  <thead>\n",
       "    <tr style=\"text-align: right;\">\n",
       "      <th></th>\n",
       "      <th>model_name</th>\n",
       "      <th>time_fit</th>\n",
       "      <th>time_predict</th>\n",
       "      <th>rmse_model</th>\n",
       "    </tr>\n",
       "  </thead>\n",
       "  <tbody>\n",
       "    <tr>\n",
       "      <th>0</th>\n",
       "      <td>LinearRegression for filtered_df_ohe</td>\n",
       "      <td>4602.689505</td>\n",
       "      <td>186.501741</td>\n",
       "      <td>2367.197584</td>\n",
       "    </tr>\n",
       "    <tr>\n",
       "      <th>1</th>\n",
       "      <td>LinearRegression for filtered_df_encoder</td>\n",
       "      <td>93.75</td>\n",
       "      <td>5.98526</td>\n",
       "      <td>2696.782272</td>\n",
       "    </tr>\n",
       "    <tr>\n",
       "      <th>2</th>\n",
       "      <td>RandomForestRegressor for filtered_df_ohe</td>\n",
       "      <td>154792.466164</td>\n",
       "      <td>496.670723</td>\n",
       "      <td>1713.614552</td>\n",
       "    </tr>\n",
       "    <tr>\n",
       "      <th>3</th>\n",
       "      <td>RandomForestRegressor for filtered_df_encoder</td>\n",
       "      <td>21973.091364</td>\n",
       "      <td>384.974241</td>\n",
       "      <td>1709.050554</td>\n",
       "    </tr>\n",
       "    <tr>\n",
       "      <th>4</th>\n",
       "      <td>CatBoostRegressor for filtered_df_ohe</td>\n",
       "      <td>70294.345617</td>\n",
       "      <td>581.445217</td>\n",
       "      <td>1434.457971</td>\n",
       "    </tr>\n",
       "    <tr>\n",
       "      <th>5</th>\n",
       "      <td>CatBoostRegressor for filtered_df_encoder</td>\n",
       "      <td>69232.55682</td>\n",
       "      <td>554.518223</td>\n",
       "      <td>1433.374578</td>\n",
       "    </tr>\n",
       "  </tbody>\n",
       "</table>\n",
       "</div>"
      ],
      "text/plain": [
       "                                      model_name       time_fit time_predict  \\\n",
       "0           LinearRegression for filtered_df_ohe    4602.689505   186.501741   \n",
       "1       LinearRegression for filtered_df_encoder          93.75      5.98526   \n",
       "2      RandomForestRegressor for filtered_df_ohe  154792.466164   496.670723   \n",
       "3  RandomForestRegressor for filtered_df_encoder   21973.091364   384.974241   \n",
       "4          CatBoostRegressor for filtered_df_ohe   70294.345617   581.445217   \n",
       "5      CatBoostRegressor for filtered_df_encoder    69232.55682   554.518223   \n",
       "\n",
       "    rmse_model  \n",
       "0  2367.197584  \n",
       "1  2696.782272  \n",
       "2  1713.614552  \n",
       "3  1709.050554  \n",
       "4  1434.457971  \n",
       "5  1433.374578  "
      ]
     },
     "execution_count": 87,
     "metadata": {},
     "output_type": "execute_result"
    }
   ],
   "source": [
    "df_results = update_results(model_name, time_fit, time_predict, rmse_model, df_results)\n",
    "df_results"
   ]
  },
  {
   "cell_type": "markdown",
   "metadata": {},
   "source": [
    "#### LGBMRegressor"
   ]
  },
  {
   "cell_type": "code",
   "execution_count": 88,
   "metadata": {},
   "outputs": [],
   "source": [
    "model_lgbmr = LGBMRegressor()"
   ]
  },
  {
   "cell_type": "code",
   "execution_count": 89,
   "metadata": {},
   "outputs": [],
   "source": [
    "parameters_lgbmr = {'num_leaves':[60],\n",
    "                    'learning_rate':[0.1,0.5],\n",
    "                    'max_depth':[6,10],\n",
    "                    'random_state':[STATE]}"
   ]
  },
  {
   "cell_type": "code",
   "execution_count": 90,
   "metadata": {},
   "outputs": [],
   "source": [
    "grid_lgbmr = GridSearchCV(estimator=model_lgbmr, \n",
    "                          param_grid=parameters_lgbmr, \n",
    "                          scoring=rmse_scoring, \n",
    "                          cv=3, \n",
    "                          n_jobs=-1)"
   ]
  },
  {
   "cell_type": "code",
   "execution_count": 91,
   "metadata": {},
   "outputs": [
    {
     "data": {
      "text/plain": [
       "GridSearchCV(cv=3, estimator=LGBMRegressor(), n_jobs=-1,\n",
       "             param_grid={'learning_rate': [0.1, 0.5], 'max_depth': [6, 10],\n",
       "                         'num_leaves': [60], 'random_state': [12345]},\n",
       "             scoring=make_scorer(rmse_scorer, greater_is_better=False))"
      ]
     },
     "execution_count": 91,
     "metadata": {},
     "output_type": "execute_result"
    }
   ],
   "source": [
    "grid_lgbmr.fit(x_train_filtered_df_ohe, y_train_filtered_df_ohe)"
   ]
  },
  {
   "cell_type": "code",
   "execution_count": 92,
   "metadata": {},
   "outputs": [
    {
     "name": "stdout",
     "output_type": "stream",
     "text": [
      "Лучшие параметры модели LGBMRegressor для filtered_df_ohe - {'learning_rate': 0.5, 'max_depth': 10, 'num_leaves': 60, 'random_state': 12345}\n"
     ]
    }
   ],
   "source": [
    "print('Лучшие параметры модели LGBMRegressor для filtered_df_ohe - {}'.format(grid_lgbmr.best_params_))"
   ]
  },
  {
   "cell_type": "code",
   "execution_count": 93,
   "metadata": {},
   "outputs": [],
   "source": [
    "model_lgbmr = LGBMRegressor(learning_rate=0.5,\n",
    "                            max_depth=10,\n",
    "                            num_leaves=60,\n",
    "                            random_state=STATE)"
   ]
  },
  {
   "cell_type": "code",
   "execution_count": 94,
   "metadata": {},
   "outputs": [],
   "source": [
    "(rmse_model,\n",
    " time_fit, \n",
    " time_predict) = fit_models(model_lgbmr,\n",
    "                            x_train_filtered_df_ohe,\n",
    "                            y_train_filtered_df_ohe, \n",
    "                            x_test_filtered_df_ohe, \n",
    "                            y_test_filtered_df_ohe)"
   ]
  },
  {
   "cell_type": "code",
   "execution_count": 95,
   "metadata": {},
   "outputs": [],
   "source": [
    "model_name = 'LGBMRegressor for filtered_df_ohe'"
   ]
  },
  {
   "cell_type": "code",
   "execution_count": 96,
   "metadata": {},
   "outputs": [
    {
     "data": {
      "text/html": [
       "<div>\n",
       "<style scoped>\n",
       "    .dataframe tbody tr th:only-of-type {\n",
       "        vertical-align: middle;\n",
       "    }\n",
       "\n",
       "    .dataframe tbody tr th {\n",
       "        vertical-align: top;\n",
       "    }\n",
       "\n",
       "    .dataframe thead th {\n",
       "        text-align: right;\n",
       "    }\n",
       "</style>\n",
       "<table border=\"1\" class=\"dataframe\">\n",
       "  <thead>\n",
       "    <tr style=\"text-align: right;\">\n",
       "      <th></th>\n",
       "      <th>model_name</th>\n",
       "      <th>time_fit</th>\n",
       "      <th>time_predict</th>\n",
       "      <th>rmse_model</th>\n",
       "    </tr>\n",
       "  </thead>\n",
       "  <tbody>\n",
       "    <tr>\n",
       "      <th>0</th>\n",
       "      <td>LinearRegression for filtered_df_ohe</td>\n",
       "      <td>4602.689505</td>\n",
       "      <td>186.501741</td>\n",
       "      <td>2367.197584</td>\n",
       "    </tr>\n",
       "    <tr>\n",
       "      <th>1</th>\n",
       "      <td>LinearRegression for filtered_df_encoder</td>\n",
       "      <td>93.75</td>\n",
       "      <td>5.98526</td>\n",
       "      <td>2696.782272</td>\n",
       "    </tr>\n",
       "    <tr>\n",
       "      <th>2</th>\n",
       "      <td>RandomForestRegressor for filtered_df_ohe</td>\n",
       "      <td>154792.466164</td>\n",
       "      <td>496.670723</td>\n",
       "      <td>1713.614552</td>\n",
       "    </tr>\n",
       "    <tr>\n",
       "      <th>3</th>\n",
       "      <td>RandomForestRegressor for filtered_df_encoder</td>\n",
       "      <td>21973.091364</td>\n",
       "      <td>384.974241</td>\n",
       "      <td>1709.050554</td>\n",
       "    </tr>\n",
       "    <tr>\n",
       "      <th>4</th>\n",
       "      <td>CatBoostRegressor for filtered_df_ohe</td>\n",
       "      <td>70294.345617</td>\n",
       "      <td>581.445217</td>\n",
       "      <td>1434.457971</td>\n",
       "    </tr>\n",
       "    <tr>\n",
       "      <th>5</th>\n",
       "      <td>CatBoostRegressor for filtered_df_encoder</td>\n",
       "      <td>69232.55682</td>\n",
       "      <td>554.518223</td>\n",
       "      <td>1433.374578</td>\n",
       "    </tr>\n",
       "    <tr>\n",
       "      <th>6</th>\n",
       "      <td>LGBMRegressor for filtered_df_ohe</td>\n",
       "      <td>3091.12525</td>\n",
       "      <td>788.086653</td>\n",
       "      <td>1480.693069</td>\n",
       "    </tr>\n",
       "  </tbody>\n",
       "</table>\n",
       "</div>"
      ],
      "text/plain": [
       "                                      model_name       time_fit time_predict  \\\n",
       "0           LinearRegression for filtered_df_ohe    4602.689505   186.501741   \n",
       "1       LinearRegression for filtered_df_encoder          93.75      5.98526   \n",
       "2      RandomForestRegressor for filtered_df_ohe  154792.466164   496.670723   \n",
       "3  RandomForestRegressor for filtered_df_encoder   21973.091364   384.974241   \n",
       "4          CatBoostRegressor for filtered_df_ohe   70294.345617   581.445217   \n",
       "5      CatBoostRegressor for filtered_df_encoder    69232.55682   554.518223   \n",
       "6              LGBMRegressor for filtered_df_ohe     3091.12525   788.086653   \n",
       "\n",
       "    rmse_model  \n",
       "0  2367.197584  \n",
       "1  2696.782272  \n",
       "2  1713.614552  \n",
       "3  1709.050554  \n",
       "4  1434.457971  \n",
       "5  1433.374578  \n",
       "6  1480.693069  "
      ]
     },
     "execution_count": 96,
     "metadata": {},
     "output_type": "execute_result"
    }
   ],
   "source": [
    "df_results = update_results(model_name, time_fit, time_predict, rmse_model, df_results)\n",
    "df_results"
   ]
  },
  {
   "cell_type": "code",
   "execution_count": 97,
   "metadata": {},
   "outputs": [
    {
     "data": {
      "text/plain": [
       "GridSearchCV(cv=3, estimator=LGBMRegressor(), n_jobs=-1,\n",
       "             param_grid={'learning_rate': [0.1, 0.5], 'max_depth': [6, 10],\n",
       "                         'num_leaves': [60], 'random_state': [12345]},\n",
       "             scoring=make_scorer(rmse_scorer, greater_is_better=False))"
      ]
     },
     "execution_count": 97,
     "metadata": {},
     "output_type": "execute_result"
    }
   ],
   "source": [
    "grid_lgbmr.fit(x_train_filtered_df_encoder, y_train_filtered_df_encoder)"
   ]
  },
  {
   "cell_type": "code",
   "execution_count": 98,
   "metadata": {},
   "outputs": [
    {
     "name": "stdout",
     "output_type": "stream",
     "text": [
      "Лучшие параметры модели LGBMRegressor для filtered_df_encoder - {'learning_rate': 0.5, 'max_depth': 10, 'num_leaves': 60, 'random_state': 12345}\n"
     ]
    }
   ],
   "source": [
    "print('Лучшие параметры модели LGBMRegressor для filtered_df_encoder - {}'.format(grid_lgbmr.best_params_))"
   ]
  },
  {
   "cell_type": "code",
   "execution_count": 99,
   "metadata": {},
   "outputs": [],
   "source": [
    "model_lgbmr = LGBMRegressor(learning_rate=0.5,\n",
    "                            max_depth=10,\n",
    "                            num_leaves=60,\n",
    "                            random_state=STATE)"
   ]
  },
  {
   "cell_type": "code",
   "execution_count": 100,
   "metadata": {},
   "outputs": [],
   "source": [
    "(rmse_model,\n",
    " time_fit, \n",
    " time_predict) = fit_models(model_lgbmr,\n",
    "                            x_train_filtered_df_encoder,\n",
    "                            y_train_filtered_df_encoder, \n",
    "                            x_test_filtered_df_encoder, \n",
    "                            y_test_filtered_df_encoder)"
   ]
  },
  {
   "cell_type": "code",
   "execution_count": 101,
   "metadata": {},
   "outputs": [],
   "source": [
    "model_name = 'LGBMRegressor for filtered_df_encoder'"
   ]
  },
  {
   "cell_type": "code",
   "execution_count": 102,
   "metadata": {},
   "outputs": [
    {
     "data": {
      "text/html": [
       "<div>\n",
       "<style scoped>\n",
       "    .dataframe tbody tr th:only-of-type {\n",
       "        vertical-align: middle;\n",
       "    }\n",
       "\n",
       "    .dataframe tbody tr th {\n",
       "        vertical-align: top;\n",
       "    }\n",
       "\n",
       "    .dataframe thead th {\n",
       "        text-align: right;\n",
       "    }\n",
       "</style>\n",
       "<table border=\"1\" class=\"dataframe\">\n",
       "  <thead>\n",
       "    <tr style=\"text-align: right;\">\n",
       "      <th></th>\n",
       "      <th>model_name</th>\n",
       "      <th>time_fit</th>\n",
       "      <th>time_predict</th>\n",
       "      <th>rmse_model</th>\n",
       "    </tr>\n",
       "  </thead>\n",
       "  <tbody>\n",
       "    <tr>\n",
       "      <th>0</th>\n",
       "      <td>LinearRegression for filtered_df_ohe</td>\n",
       "      <td>4602.689505</td>\n",
       "      <td>186.501741</td>\n",
       "      <td>2367.197584</td>\n",
       "    </tr>\n",
       "    <tr>\n",
       "      <th>1</th>\n",
       "      <td>LinearRegression for filtered_df_encoder</td>\n",
       "      <td>93.75</td>\n",
       "      <td>5.98526</td>\n",
       "      <td>2696.782272</td>\n",
       "    </tr>\n",
       "    <tr>\n",
       "      <th>2</th>\n",
       "      <td>RandomForestRegressor for filtered_df_ohe</td>\n",
       "      <td>154792.466164</td>\n",
       "      <td>496.670723</td>\n",
       "      <td>1713.614552</td>\n",
       "    </tr>\n",
       "    <tr>\n",
       "      <th>3</th>\n",
       "      <td>RandomForestRegressor for filtered_df_encoder</td>\n",
       "      <td>21973.091364</td>\n",
       "      <td>384.974241</td>\n",
       "      <td>1709.050554</td>\n",
       "    </tr>\n",
       "    <tr>\n",
       "      <th>4</th>\n",
       "      <td>CatBoostRegressor for filtered_df_ohe</td>\n",
       "      <td>70294.345617</td>\n",
       "      <td>581.445217</td>\n",
       "      <td>1434.457971</td>\n",
       "    </tr>\n",
       "    <tr>\n",
       "      <th>5</th>\n",
       "      <td>CatBoostRegressor for filtered_df_encoder</td>\n",
       "      <td>69232.55682</td>\n",
       "      <td>554.518223</td>\n",
       "      <td>1433.374578</td>\n",
       "    </tr>\n",
       "    <tr>\n",
       "      <th>6</th>\n",
       "      <td>LGBMRegressor for filtered_df_ohe</td>\n",
       "      <td>3091.12525</td>\n",
       "      <td>788.086653</td>\n",
       "      <td>1480.693069</td>\n",
       "    </tr>\n",
       "    <tr>\n",
       "      <th>7</th>\n",
       "      <td>LGBMRegressor for filtered_df_encoder</td>\n",
       "      <td>1094.083548</td>\n",
       "      <td>238.352299</td>\n",
       "      <td>1491.956922</td>\n",
       "    </tr>\n",
       "  </tbody>\n",
       "</table>\n",
       "</div>"
      ],
      "text/plain": [
       "                                      model_name       time_fit time_predict  \\\n",
       "0           LinearRegression for filtered_df_ohe    4602.689505   186.501741   \n",
       "1       LinearRegression for filtered_df_encoder          93.75      5.98526   \n",
       "2      RandomForestRegressor for filtered_df_ohe  154792.466164   496.670723   \n",
       "3  RandomForestRegressor for filtered_df_encoder   21973.091364   384.974241   \n",
       "4          CatBoostRegressor for filtered_df_ohe   70294.345617   581.445217   \n",
       "5      CatBoostRegressor for filtered_df_encoder    69232.55682   554.518223   \n",
       "6              LGBMRegressor for filtered_df_ohe     3091.12525   788.086653   \n",
       "7          LGBMRegressor for filtered_df_encoder    1094.083548   238.352299   \n",
       "\n",
       "    rmse_model  \n",
       "0  2367.197584  \n",
       "1  2696.782272  \n",
       "2  1713.614552  \n",
       "3  1709.050554  \n",
       "4  1434.457971  \n",
       "5  1433.374578  \n",
       "6  1480.693069  \n",
       "7  1491.956922  "
      ]
     },
     "execution_count": 102,
     "metadata": {},
     "output_type": "execute_result"
    }
   ],
   "source": [
    "df_results = update_results(model_name, time_fit, time_predict, rmse_model, df_results)\n",
    "df_results"
   ]
  },
  {
   "cell_type": "markdown",
   "metadata": {},
   "source": [
    "#### XGBRegressor"
   ]
  },
  {
   "cell_type": "code",
   "execution_count": 103,
   "metadata": {},
   "outputs": [],
   "source": [
    "model_xgbr = XGBRegressor()"
   ]
  },
  {
   "cell_type": "code",
   "execution_count": 108,
   "metadata": {},
   "outputs": [],
   "source": [
    "parameters_xgbr = {'learning_rate':[0.1,0.5],\n",
    "                   'max_depth':[6,12],\n",
    "                   'subsample':[0.5],\n",
    "                   'colsample_bytree':[0.5],\n",
    "                   'random_state':[STATE]}"
   ]
  },
  {
   "cell_type": "code",
   "execution_count": 109,
   "metadata": {},
   "outputs": [],
   "source": [
    "grid_xgbr = GridSearchCV(estimator=model_xgbr,\n",
    "                         param_grid=parameters_xgbr,\n",
    "                         scoring=rmse_scoring,\n",
    "                         cv=3,\n",
    "                         n_jobs=-1,\n",
    "                         verbose=1)"
   ]
  },
  {
   "cell_type": "code",
   "execution_count": 110,
   "metadata": {},
   "outputs": [
    {
     "name": "stdout",
     "output_type": "stream",
     "text": [
      "Fitting 3 folds for each of 4 candidates, totalling 12 fits\n"
     ]
    },
    {
     "data": {
      "text/plain": [
       "GridSearchCV(cv=3,\n",
       "             estimator=XGBRegressor(base_score=None, booster=None,\n",
       "                                    callbacks=None, colsample_bylevel=None,\n",
       "                                    colsample_bynode=None,\n",
       "                                    colsample_bytree=None,\n",
       "                                    early_stopping_rounds=None,\n",
       "                                    enable_categorical=False, eval_metric=None,\n",
       "                                    gamma=None, gpu_id=None, grow_policy=None,\n",
       "                                    importance_type=None,\n",
       "                                    interaction_constraints=None,\n",
       "                                    learning_rate=None, max_bin=None,\n",
       "                                    max_cat...\n",
       "                                    min_child_weight=None, missing=nan,\n",
       "                                    monotone_constraints=None, n_estimators=100,\n",
       "                                    n_jobs=None, num_parallel_tree=None,\n",
       "                                    predictor=None, random_state=None,\n",
       "                                    reg_alpha=None, reg_lambda=None, ...),\n",
       "             n_jobs=-1,\n",
       "             param_grid={'colsample_bytree': [0.5], 'learning_rate': [0.1, 0.5],\n",
       "                         'max_depth': [6, 12], 'random_state': [12345],\n",
       "                         'subsample': [0.5]},\n",
       "             scoring=make_scorer(rmse_scorer, greater_is_better=False),\n",
       "             verbose=1)"
      ]
     },
     "execution_count": 110,
     "metadata": {},
     "output_type": "execute_result"
    }
   ],
   "source": [
    "grid_xgbr.fit(x_train_filtered_df_ohe, y_train_filtered_df_ohe)"
   ]
  },
  {
   "cell_type": "code",
   "execution_count": 111,
   "metadata": {},
   "outputs": [
    {
     "name": "stdout",
     "output_type": "stream",
     "text": [
      "Лучшие параметры модели XGBRegressor для filtered_df_ohe - {'colsample_bytree': 0.5, 'learning_rate': 0.1, 'max_depth': 12, 'random_state': 12345, 'subsample': 0.5}\n"
     ]
    }
   ],
   "source": [
    "print('Лучшие параметры модели XGBRegressor для filtered_df_ohe - {}'.format(grid_xgbr.best_params_))"
   ]
  },
  {
   "cell_type": "code",
   "execution_count": 114,
   "metadata": {},
   "outputs": [],
   "source": [
    "model_xgbr = XGBRegressor(colsample_bytre=0.5,\n",
    "                          learning_rate=0.1,\n",
    "                          max_depth=12,\n",
    "                          random_state=STATE,\n",
    "                          subsample=0.5)"
   ]
  },
  {
   "cell_type": "code",
   "execution_count": 116,
   "metadata": {
    "scrolled": true
   },
   "outputs": [
    {
     "name": "stdout",
     "output_type": "stream",
     "text": [
      "[09:59:56] WARNING: C:/Users/Administrator/workspace/xgboost-win64_release_1.6.0/src/learner.cc:627: \n",
      "Parameters: { \"colsample_bytre\" } might not be used.\n",
      "\n",
      "  This could be a false alarm, with some parameters getting used by language bindings but\n",
      "  then being mistakenly passed down to XGBoost core, or some parameter actually being used\n",
      "  but getting flagged wrongly here. Please open an issue if you find any such cases.\n",
      "\n",
      "\n"
     ]
    }
   ],
   "source": [
    "(rmse_model,\n",
    " time_fit, \n",
    " time_predict) = fit_models(model_xgbr,\n",
    "                            x_train_filtered_df_ohe,\n",
    "                            y_train_filtered_df_ohe, \n",
    "                            x_test_filtered_df_ohe, \n",
    "                            y_test_filtered_df_ohe)"
   ]
  },
  {
   "cell_type": "code",
   "execution_count": 117,
   "metadata": {},
   "outputs": [],
   "source": [
    "model_name = 'XGBRegressor for filtered_df_ohe'"
   ]
  },
  {
   "cell_type": "code",
   "execution_count": 118,
   "metadata": {},
   "outputs": [
    {
     "data": {
      "text/html": [
       "<div>\n",
       "<style scoped>\n",
       "    .dataframe tbody tr th:only-of-type {\n",
       "        vertical-align: middle;\n",
       "    }\n",
       "\n",
       "    .dataframe tbody tr th {\n",
       "        vertical-align: top;\n",
       "    }\n",
       "\n",
       "    .dataframe thead th {\n",
       "        text-align: right;\n",
       "    }\n",
       "</style>\n",
       "<table border=\"1\" class=\"dataframe\">\n",
       "  <thead>\n",
       "    <tr style=\"text-align: right;\">\n",
       "      <th></th>\n",
       "      <th>model_name</th>\n",
       "      <th>time_fit</th>\n",
       "      <th>time_predict</th>\n",
       "      <th>rmse_model</th>\n",
       "    </tr>\n",
       "  </thead>\n",
       "  <tbody>\n",
       "    <tr>\n",
       "      <th>0</th>\n",
       "      <td>LinearRegression for filtered_df_ohe</td>\n",
       "      <td>4602.689505</td>\n",
       "      <td>186.501741</td>\n",
       "      <td>2367.197584</td>\n",
       "    </tr>\n",
       "    <tr>\n",
       "      <th>1</th>\n",
       "      <td>LinearRegression for filtered_df_encoder</td>\n",
       "      <td>93.75</td>\n",
       "      <td>5.98526</td>\n",
       "      <td>2696.782272</td>\n",
       "    </tr>\n",
       "    <tr>\n",
       "      <th>2</th>\n",
       "      <td>RandomForestRegressor for filtered_df_ohe</td>\n",
       "      <td>154792.466164</td>\n",
       "      <td>496.670723</td>\n",
       "      <td>1713.614552</td>\n",
       "    </tr>\n",
       "    <tr>\n",
       "      <th>3</th>\n",
       "      <td>RandomForestRegressor for filtered_df_encoder</td>\n",
       "      <td>21973.091364</td>\n",
       "      <td>384.974241</td>\n",
       "      <td>1709.050554</td>\n",
       "    </tr>\n",
       "    <tr>\n",
       "      <th>4</th>\n",
       "      <td>CatBoostRegressor for filtered_df_ohe</td>\n",
       "      <td>70294.345617</td>\n",
       "      <td>581.445217</td>\n",
       "      <td>1434.457971</td>\n",
       "    </tr>\n",
       "    <tr>\n",
       "      <th>5</th>\n",
       "      <td>CatBoostRegressor for filtered_df_encoder</td>\n",
       "      <td>69232.55682</td>\n",
       "      <td>554.518223</td>\n",
       "      <td>1433.374578</td>\n",
       "    </tr>\n",
       "    <tr>\n",
       "      <th>6</th>\n",
       "      <td>LGBMRegressor for filtered_df_ohe</td>\n",
       "      <td>3091.12525</td>\n",
       "      <td>788.086653</td>\n",
       "      <td>1480.693069</td>\n",
       "    </tr>\n",
       "    <tr>\n",
       "      <th>7</th>\n",
       "      <td>LGBMRegressor for filtered_df_encoder</td>\n",
       "      <td>1094.083548</td>\n",
       "      <td>238.352299</td>\n",
       "      <td>1491.956922</td>\n",
       "    </tr>\n",
       "    <tr>\n",
       "      <th>8</th>\n",
       "      <td>XGBRegressor for filtered_df_ohe</td>\n",
       "      <td>303752.743244</td>\n",
       "      <td>895.543575</td>\n",
       "      <td>1443.285336</td>\n",
       "    </tr>\n",
       "  </tbody>\n",
       "</table>\n",
       "</div>"
      ],
      "text/plain": [
       "                                      model_name       time_fit time_predict  \\\n",
       "0           LinearRegression for filtered_df_ohe    4602.689505   186.501741   \n",
       "1       LinearRegression for filtered_df_encoder          93.75      5.98526   \n",
       "2      RandomForestRegressor for filtered_df_ohe  154792.466164   496.670723   \n",
       "3  RandomForestRegressor for filtered_df_encoder   21973.091364   384.974241   \n",
       "4          CatBoostRegressor for filtered_df_ohe   70294.345617   581.445217   \n",
       "5      CatBoostRegressor for filtered_df_encoder    69232.55682   554.518223   \n",
       "6              LGBMRegressor for filtered_df_ohe     3091.12525   788.086653   \n",
       "7          LGBMRegressor for filtered_df_encoder    1094.083548   238.352299   \n",
       "8               XGBRegressor for filtered_df_ohe  303752.743244   895.543575   \n",
       "\n",
       "    rmse_model  \n",
       "0  2367.197584  \n",
       "1  2696.782272  \n",
       "2  1713.614552  \n",
       "3  1709.050554  \n",
       "4  1434.457971  \n",
       "5  1433.374578  \n",
       "6  1480.693069  \n",
       "7  1491.956922  \n",
       "8  1443.285336  "
      ]
     },
     "execution_count": 118,
     "metadata": {},
     "output_type": "execute_result"
    }
   ],
   "source": [
    "df_results = update_results(model_name, time_fit, time_predict, rmse_model, df_results)\n",
    "df_results"
   ]
  },
  {
   "cell_type": "code",
   "execution_count": 119,
   "metadata": {},
   "outputs": [
    {
     "name": "stdout",
     "output_type": "stream",
     "text": [
      "Fitting 3 folds for each of 4 candidates, totalling 12 fits\n"
     ]
    },
    {
     "data": {
      "text/plain": [
       "GridSearchCV(cv=3,\n",
       "             estimator=XGBRegressor(base_score=None, booster=None,\n",
       "                                    callbacks=None, colsample_bylevel=None,\n",
       "                                    colsample_bynode=None,\n",
       "                                    colsample_bytree=None,\n",
       "                                    early_stopping_rounds=None,\n",
       "                                    enable_categorical=False, eval_metric=None,\n",
       "                                    gamma=None, gpu_id=None, grow_policy=None,\n",
       "                                    importance_type=None,\n",
       "                                    interaction_constraints=None,\n",
       "                                    learning_rate=None, max_bin=None,\n",
       "                                    max_cat...\n",
       "                                    min_child_weight=None, missing=nan,\n",
       "                                    monotone_constraints=None, n_estimators=100,\n",
       "                                    n_jobs=None, num_parallel_tree=None,\n",
       "                                    predictor=None, random_state=None,\n",
       "                                    reg_alpha=None, reg_lambda=None, ...),\n",
       "             n_jobs=-1,\n",
       "             param_grid={'colsample_bytree': [0.5], 'learning_rate': [0.1, 0.5],\n",
       "                         'max_depth': [6, 12], 'random_state': [12345],\n",
       "                         'subsample': [0.5]},\n",
       "             scoring=make_scorer(rmse_scorer, greater_is_better=False),\n",
       "             verbose=1)"
      ]
     },
     "execution_count": 119,
     "metadata": {},
     "output_type": "execute_result"
    }
   ],
   "source": [
    "grid_xgbr.fit(x_train_filtered_df_encoder, y_train_filtered_df_encoder)"
   ]
  },
  {
   "cell_type": "code",
   "execution_count": 120,
   "metadata": {},
   "outputs": [
    {
     "name": "stdout",
     "output_type": "stream",
     "text": [
      "Лучшие параметры модели XGBRegressor для filtered_df_encoder - {'colsample_bytree': 0.5, 'learning_rate': 0.1, 'max_depth': 12, 'random_state': 12345, 'subsample': 0.5}\n"
     ]
    }
   ],
   "source": [
    "print('Лучшие параметры модели XGBRegressor для filtered_df_encoder - {}'.format(grid_xgbr.best_params_))"
   ]
  },
  {
   "cell_type": "code",
   "execution_count": 121,
   "metadata": {},
   "outputs": [],
   "source": [
    "model_xgbr = XGBRegressor(colsample_bytre=0.5,\n",
    "                          learning_rate=0.1,\n",
    "                          max_depth=12,\n",
    "                          random_state=STATE,\n",
    "                          subsample=0.5)"
   ]
  },
  {
   "cell_type": "code",
   "execution_count": 122,
   "metadata": {},
   "outputs": [
    {
     "name": "stdout",
     "output_type": "stream",
     "text": [
      "[10:45:42] WARNING: C:/Users/Administrator/workspace/xgboost-win64_release_1.6.0/src/learner.cc:627: \n",
      "Parameters: { \"colsample_bytre\" } might not be used.\n",
      "\n",
      "  This could be a false alarm, with some parameters getting used by language bindings but\n",
      "  then being mistakenly passed down to XGBoost core, or some parameter actually being used\n",
      "  but getting flagged wrongly here. Please open an issue if you find any such cases.\n",
      "\n",
      "\n"
     ]
    }
   ],
   "source": [
    "(rmse_model,\n",
    " time_fit, \n",
    " time_predict) = fit_models(model_xgbr,\n",
    "                            x_train_filtered_df_encoder,\n",
    "                            y_train_filtered_df_encoder, \n",
    "                            x_test_filtered_df_encoder, \n",
    "                            y_test_filtered_df_encoder)"
   ]
  },
  {
   "cell_type": "code",
   "execution_count": 123,
   "metadata": {},
   "outputs": [],
   "source": [
    "model_name = 'XGBRegressor for filtered_df_encoder'"
   ]
  },
  {
   "cell_type": "code",
   "execution_count": 124,
   "metadata": {},
   "outputs": [
    {
     "data": {
      "text/html": [
       "<div>\n",
       "<style scoped>\n",
       "    .dataframe tbody tr th:only-of-type {\n",
       "        vertical-align: middle;\n",
       "    }\n",
       "\n",
       "    .dataframe tbody tr th {\n",
       "        vertical-align: top;\n",
       "    }\n",
       "\n",
       "    .dataframe thead th {\n",
       "        text-align: right;\n",
       "    }\n",
       "</style>\n",
       "<table border=\"1\" class=\"dataframe\">\n",
       "  <thead>\n",
       "    <tr style=\"text-align: right;\">\n",
       "      <th></th>\n",
       "      <th>model_name</th>\n",
       "      <th>time_fit</th>\n",
       "      <th>time_predict</th>\n",
       "      <th>rmse_model</th>\n",
       "    </tr>\n",
       "  </thead>\n",
       "  <tbody>\n",
       "    <tr>\n",
       "      <th>0</th>\n",
       "      <td>LinearRegression for filtered_df_ohe</td>\n",
       "      <td>4602.689505</td>\n",
       "      <td>186.501741</td>\n",
       "      <td>2367.197584</td>\n",
       "    </tr>\n",
       "    <tr>\n",
       "      <th>1</th>\n",
       "      <td>LinearRegression for filtered_df_encoder</td>\n",
       "      <td>93.75</td>\n",
       "      <td>5.98526</td>\n",
       "      <td>2696.782272</td>\n",
       "    </tr>\n",
       "    <tr>\n",
       "      <th>2</th>\n",
       "      <td>RandomForestRegressor for filtered_df_ohe</td>\n",
       "      <td>154792.466164</td>\n",
       "      <td>496.670723</td>\n",
       "      <td>1713.614552</td>\n",
       "    </tr>\n",
       "    <tr>\n",
       "      <th>3</th>\n",
       "      <td>RandomForestRegressor for filtered_df_encoder</td>\n",
       "      <td>21973.091364</td>\n",
       "      <td>384.974241</td>\n",
       "      <td>1709.050554</td>\n",
       "    </tr>\n",
       "    <tr>\n",
       "      <th>4</th>\n",
       "      <td>CatBoostRegressor for filtered_df_ohe</td>\n",
       "      <td>70294.345617</td>\n",
       "      <td>581.445217</td>\n",
       "      <td>1434.457971</td>\n",
       "    </tr>\n",
       "    <tr>\n",
       "      <th>5</th>\n",
       "      <td>CatBoostRegressor for filtered_df_encoder</td>\n",
       "      <td>69232.55682</td>\n",
       "      <td>554.518223</td>\n",
       "      <td>1433.374578</td>\n",
       "    </tr>\n",
       "    <tr>\n",
       "      <th>6</th>\n",
       "      <td>LGBMRegressor for filtered_df_ohe</td>\n",
       "      <td>3091.12525</td>\n",
       "      <td>788.086653</td>\n",
       "      <td>1480.693069</td>\n",
       "    </tr>\n",
       "    <tr>\n",
       "      <th>7</th>\n",
       "      <td>LGBMRegressor for filtered_df_encoder</td>\n",
       "      <td>1094.083548</td>\n",
       "      <td>238.352299</td>\n",
       "      <td>1491.956922</td>\n",
       "    </tr>\n",
       "    <tr>\n",
       "      <th>8</th>\n",
       "      <td>XGBRegressor for filtered_df_ohe</td>\n",
       "      <td>303752.743244</td>\n",
       "      <td>895.543575</td>\n",
       "      <td>1443.285336</td>\n",
       "    </tr>\n",
       "    <tr>\n",
       "      <th>9</th>\n",
       "      <td>XGBRegressor for filtered_df_encoder</td>\n",
       "      <td>48070.919275</td>\n",
       "      <td>499.74823</td>\n",
       "      <td>1430.845376</td>\n",
       "    </tr>\n",
       "  </tbody>\n",
       "</table>\n",
       "</div>"
      ],
      "text/plain": [
       "                                      model_name       time_fit time_predict  \\\n",
       "0           LinearRegression for filtered_df_ohe    4602.689505   186.501741   \n",
       "1       LinearRegression for filtered_df_encoder          93.75      5.98526   \n",
       "2      RandomForestRegressor for filtered_df_ohe  154792.466164   496.670723   \n",
       "3  RandomForestRegressor for filtered_df_encoder   21973.091364   384.974241   \n",
       "4          CatBoostRegressor for filtered_df_ohe   70294.345617   581.445217   \n",
       "5      CatBoostRegressor for filtered_df_encoder    69232.55682   554.518223   \n",
       "6              LGBMRegressor for filtered_df_ohe     3091.12525   788.086653   \n",
       "7          LGBMRegressor for filtered_df_encoder    1094.083548   238.352299   \n",
       "8               XGBRegressor for filtered_df_ohe  303752.743244   895.543575   \n",
       "9           XGBRegressor for filtered_df_encoder   48070.919275    499.74823   \n",
       "\n",
       "    rmse_model  \n",
       "0  2367.197584  \n",
       "1  2696.782272  \n",
       "2  1713.614552  \n",
       "3  1709.050554  \n",
       "4  1434.457971  \n",
       "5  1433.374578  \n",
       "6  1480.693069  \n",
       "7  1491.956922  \n",
       "8  1443.285336  \n",
       "9  1430.845376  "
      ]
     },
     "execution_count": 124,
     "metadata": {},
     "output_type": "execute_result"
    }
   ],
   "source": [
    "df_results = update_results(model_name, time_fit, time_predict, rmse_model, df_results)\n",
    "df_results"
   ]
  },
  {
   "cell_type": "markdown",
   "metadata": {},
   "source": [
    "## Анализ моделей"
   ]
  },
  {
   "cell_type": "code",
   "execution_count": 125,
   "metadata": {},
   "outputs": [
    {
     "data": {
      "text/html": [
       "<div>\n",
       "<style scoped>\n",
       "    .dataframe tbody tr th:only-of-type {\n",
       "        vertical-align: middle;\n",
       "    }\n",
       "\n",
       "    .dataframe tbody tr th {\n",
       "        vertical-align: top;\n",
       "    }\n",
       "\n",
       "    .dataframe thead th {\n",
       "        text-align: right;\n",
       "    }\n",
       "</style>\n",
       "<table border=\"1\" class=\"dataframe\">\n",
       "  <thead>\n",
       "    <tr style=\"text-align: right;\">\n",
       "      <th></th>\n",
       "      <th>model_name</th>\n",
       "      <th>time_fit</th>\n",
       "      <th>time_predict</th>\n",
       "      <th>rmse_model</th>\n",
       "    </tr>\n",
       "  </thead>\n",
       "  <tbody>\n",
       "    <tr>\n",
       "      <th>0</th>\n",
       "      <td>LinearRegression for filtered_df_ohe</td>\n",
       "      <td>4602.689505</td>\n",
       "      <td>186.501741</td>\n",
       "      <td>2367.197584</td>\n",
       "    </tr>\n",
       "    <tr>\n",
       "      <th>1</th>\n",
       "      <td>LinearRegression for filtered_df_encoder</td>\n",
       "      <td>93.75</td>\n",
       "      <td>5.98526</td>\n",
       "      <td>2696.782272</td>\n",
       "    </tr>\n",
       "    <tr>\n",
       "      <th>2</th>\n",
       "      <td>RandomForestRegressor for filtered_df_ohe</td>\n",
       "      <td>154792.466164</td>\n",
       "      <td>496.670723</td>\n",
       "      <td>1713.614552</td>\n",
       "    </tr>\n",
       "    <tr>\n",
       "      <th>3</th>\n",
       "      <td>RandomForestRegressor for filtered_df_encoder</td>\n",
       "      <td>21973.091364</td>\n",
       "      <td>384.974241</td>\n",
       "      <td>1709.050554</td>\n",
       "    </tr>\n",
       "    <tr>\n",
       "      <th>4</th>\n",
       "      <td>CatBoostRegressor for filtered_df_ohe</td>\n",
       "      <td>70294.345617</td>\n",
       "      <td>581.445217</td>\n",
       "      <td>1434.457971</td>\n",
       "    </tr>\n",
       "    <tr>\n",
       "      <th>5</th>\n",
       "      <td>CatBoostRegressor for filtered_df_encoder</td>\n",
       "      <td>69232.55682</td>\n",
       "      <td>554.518223</td>\n",
       "      <td>1433.374578</td>\n",
       "    </tr>\n",
       "    <tr>\n",
       "      <th>6</th>\n",
       "      <td>LGBMRegressor for filtered_df_ohe</td>\n",
       "      <td>3091.12525</td>\n",
       "      <td>788.086653</td>\n",
       "      <td>1480.693069</td>\n",
       "    </tr>\n",
       "    <tr>\n",
       "      <th>7</th>\n",
       "      <td>LGBMRegressor for filtered_df_encoder</td>\n",
       "      <td>1094.083548</td>\n",
       "      <td>238.352299</td>\n",
       "      <td>1491.956922</td>\n",
       "    </tr>\n",
       "    <tr>\n",
       "      <th>8</th>\n",
       "      <td>XGBRegressor for filtered_df_ohe</td>\n",
       "      <td>303752.743244</td>\n",
       "      <td>895.543575</td>\n",
       "      <td>1443.285336</td>\n",
       "    </tr>\n",
       "    <tr>\n",
       "      <th>9</th>\n",
       "      <td>XGBRegressor for filtered_df_encoder</td>\n",
       "      <td>48070.919275</td>\n",
       "      <td>499.74823</td>\n",
       "      <td>1430.845376</td>\n",
       "    </tr>\n",
       "  </tbody>\n",
       "</table>\n",
       "</div>"
      ],
      "text/plain": [
       "                                      model_name       time_fit time_predict  \\\n",
       "0           LinearRegression for filtered_df_ohe    4602.689505   186.501741   \n",
       "1       LinearRegression for filtered_df_encoder          93.75      5.98526   \n",
       "2      RandomForestRegressor for filtered_df_ohe  154792.466164   496.670723   \n",
       "3  RandomForestRegressor for filtered_df_encoder   21973.091364   384.974241   \n",
       "4          CatBoostRegressor for filtered_df_ohe   70294.345617   581.445217   \n",
       "5      CatBoostRegressor for filtered_df_encoder    69232.55682   554.518223   \n",
       "6              LGBMRegressor for filtered_df_ohe     3091.12525   788.086653   \n",
       "7          LGBMRegressor for filtered_df_encoder    1094.083548   238.352299   \n",
       "8               XGBRegressor for filtered_df_ohe  303752.743244   895.543575   \n",
       "9           XGBRegressor for filtered_df_encoder   48070.919275    499.74823   \n",
       "\n",
       "    rmse_model  \n",
       "0  2367.197584  \n",
       "1  2696.782272  \n",
       "2  1713.614552  \n",
       "3  1709.050554  \n",
       "4  1434.457971  \n",
       "5  1433.374578  \n",
       "6  1480.693069  \n",
       "7  1491.956922  \n",
       "8  1443.285336  \n",
       "9  1430.845376  "
      ]
     },
     "execution_count": 125,
     "metadata": {},
     "output_type": "execute_result"
    }
   ],
   "source": [
    "df_results"
   ]
  },
  {
   "cell_type": "markdown",
   "metadata": {},
   "source": [
    "**Лучшая модель по результату среднеквадратичной ошибки `RMSE`:**\n",
    "- `XGBRegressor` с закодированными данными с помошью Ordinal Encoder."
   ]
  },
  {
   "cell_type": "code",
   "execution_count": 128,
   "metadata": {},
   "outputs": [
    {
     "data": {
      "text/plain": [
       "XGBRegressor(base_score=0.5, booster='gbtree', callbacks=None,\n",
       "             colsample_bylevel=1, colsample_bynode=1, colsample_bytre=0.5,\n",
       "             colsample_bytree=1, early_stopping_rounds=None,\n",
       "             enable_categorical=False, eval_metric=None, gamma=0, gpu_id=-1,\n",
       "             grow_policy='depthwise', importance_type=None,\n",
       "             interaction_constraints='', learning_rate=0.1, max_bin=256,\n",
       "             max_cat_to_onehot=4, max_delta_step=0, max_depth=12, max_leaves=0,\n",
       "             min_child_weight=1, missing=nan, monotone_constraints='()',\n",
       "             n_estimators=100, n_jobs=0, num_parallel_tree=1, predictor='auto',\n",
       "             random_state=12345, reg_alpha=0, ...)"
      ]
     },
     "execution_count": 128,
     "metadata": {},
     "output_type": "execute_result"
    }
   ],
   "source": [
    "model_xgbr"
   ]
  },
  {
   "cell_type": "markdown",
   "metadata": {},
   "source": [
    "**Лучшая модель по результату скорости предсказания:**\n",
    "- `LinearRegression ` с закодированными данными с помошью Ordinal Encoder."
   ]
  },
  {
   "cell_type": "markdown",
   "metadata": {},
   "source": [
    "**Лучшая модель по результату времени обучения:**\n",
    "- `LinearRegression ` с закодированными данными с помошью Ordinal Encoder."
   ]
  },
  {
   "cell_type": "code",
   "execution_count": 129,
   "metadata": {},
   "outputs": [
    {
     "data": {
      "text/plain": [
       "LinearRegression()"
      ]
     },
     "execution_count": 129,
     "metadata": {},
     "output_type": "execute_result"
    }
   ],
   "source": [
    "model_lr"
   ]
  },
  {
   "cell_type": "markdown",
   "metadata": {},
   "source": [
    "Наилучший результат, в совокупности со всеми метриками качества заказчика, показала модель `XGBRegressor` с закодированными данными с помошью Ordinal Encoder."
   ]
  },
  {
   "cell_type": "code",
   "execution_count": 130,
   "metadata": {},
   "outputs": [
    {
     "data": {
      "text/plain": [
       "XGBRegressor(base_score=0.5, booster='gbtree', callbacks=None,\n",
       "             colsample_bylevel=1, colsample_bynode=1, colsample_bytre=0.5,\n",
       "             colsample_bytree=1, early_stopping_rounds=None,\n",
       "             enable_categorical=False, eval_metric=None, gamma=0, gpu_id=-1,\n",
       "             grow_policy='depthwise', importance_type=None,\n",
       "             interaction_constraints='', learning_rate=0.1, max_bin=256,\n",
       "             max_cat_to_onehot=4, max_delta_step=0, max_depth=12, max_leaves=0,\n",
       "             min_child_weight=1, missing=nan, monotone_constraints='()',\n",
       "             n_estimators=100, n_jobs=0, num_parallel_tree=1, predictor='auto',\n",
       "             random_state=12345, reg_alpha=0, ...)"
      ]
     },
     "execution_count": 130,
     "metadata": {},
     "output_type": "execute_result"
    }
   ],
   "source": [
    "model_xgbr"
   ]
  },
  {
   "cell_type": "markdown",
   "metadata": {},
   "source": [
    "## Общий вывод"
   ]
  },
  {
   "cell_type": "markdown",
   "metadata": {},
   "source": [
    "1. С исходными данными была проведена сл. работа:\n",
    "- из данных были удалены дубликаты;\n",
    "- пропущенные значения в категорийный столбцах `VehicleType`, `Gearbox`, `Model`, `FuelType` были заменены модой;\n",
    "- пропущенные значения в столбце `NotRepaired` были заменены на `no`;\n",
    "- на основе датафрейма `df` создан датафрейм `filtered_df` для дальнейшего исследования, где были очищены выбросы и аномальные значения."
   ]
  },
  {
   "cell_type": "markdown",
   "metadata": {},
   "source": [
    "2. Исследование проводено на двух выборках:\n",
    "- `filtered_df_ohe` - с преобразованными категориальными признаками;\n",
    "- `filtered_df_encoder` - с закодированными данными с помошью Ordinal Encoder.\n",
    "- данные были разделены на тренировочные (75%) и тестовые выборки (25%);"
   ]
  },
  {
   "cell_type": "markdown",
   "metadata": {},
   "source": [
    "3. Были обучены модели:\n",
    "- `LinearRegression`;\n",
    "- `RandomForestRegressor`;\n",
    "- `CatBoostRegressor`;\n",
    "- `LGBMRegressor`;\n",
    "- `XGBRegressor`."
   ]
  },
  {
   "cell_type": "markdown",
   "metadata": {},
   "source": [
    "4. Наилучший результат, в совокупности со всеми метриками качества заказчика, показала модель `XGBRegressor` с закодированными данными с помошью Ordinal Encoder."
   ]
  }
 ],
 "metadata": {
  "ExecuteTimeLog": [
   {
    "duration": 1443,
    "start_time": "2022-05-23T11:48:21.029Z"
   },
   {
    "duration": 1014,
    "start_time": "2022-05-23T11:48:59.487Z"
   },
   {
    "duration": 4,
    "start_time": "2022-05-23T11:49:10.406Z"
   },
   {
    "duration": 760,
    "start_time": "2022-05-23T11:49:11.407Z"
   },
   {
    "duration": 769,
    "start_time": "2022-05-23T11:49:26.831Z"
   },
   {
    "duration": 1034,
    "start_time": "2022-05-23T11:49:30.541Z"
   },
   {
    "duration": 3,
    "start_time": "2022-05-23T11:55:16.186Z"
   },
   {
    "duration": 22,
    "start_time": "2022-05-23T11:55:19.166Z"
   },
   {
    "duration": 1181,
    "start_time": "2022-05-23T11:56:10.215Z"
   },
   {
    "duration": 3,
    "start_time": "2022-05-23T11:56:11.398Z"
   },
   {
    "duration": 757,
    "start_time": "2022-05-23T11:56:11.403Z"
   },
   {
    "duration": 1169,
    "start_time": "2022-05-23T11:56:12.162Z"
   },
   {
    "duration": 116,
    "start_time": "2022-05-23T11:56:13.333Z"
   },
   {
    "duration": 287,
    "start_time": "2022-05-23T11:58:07.811Z"
   },
   {
    "duration": 700,
    "start_time": "2022-05-23T11:58:20.290Z"
   },
   {
    "duration": 1238,
    "start_time": "2022-05-23T11:59:00.252Z"
   },
   {
    "duration": 4,
    "start_time": "2022-05-23T11:59:01.492Z"
   },
   {
    "duration": 839,
    "start_time": "2022-05-23T11:59:01.497Z"
   },
   {
    "duration": 1168,
    "start_time": "2022-05-23T11:59:02.338Z"
   },
   {
    "duration": 282,
    "start_time": "2022-05-23T11:59:03.508Z"
   },
   {
    "duration": 3,
    "start_time": "2022-05-23T12:00:28.392Z"
   },
   {
    "duration": 767,
    "start_time": "2022-05-23T12:00:29.380Z"
   },
   {
    "duration": 1147,
    "start_time": "2022-05-23T12:00:30.149Z"
   },
   {
    "duration": 4,
    "start_time": "2022-05-23T12:01:43.668Z"
   },
   {
    "duration": 721,
    "start_time": "2022-05-23T12:01:43.870Z"
   },
   {
    "duration": 949,
    "start_time": "2022-05-23T12:01:44.592Z"
   },
   {
    "duration": 31,
    "start_time": "2022-05-23T12:03:27.071Z"
   },
   {
    "duration": 29,
    "start_time": "2022-05-23T12:03:38.363Z"
   },
   {
    "duration": 3149,
    "start_time": "2022-05-23T12:04:12.859Z"
   },
   {
    "duration": 33,
    "start_time": "2022-05-23T12:05:12.431Z"
   },
   {
    "duration": 31,
    "start_time": "2022-05-23T12:05:27.342Z"
   },
   {
    "duration": 38,
    "start_time": "2022-05-23T12:05:35.605Z"
   },
   {
    "duration": 31,
    "start_time": "2022-05-23T12:05:54.443Z"
   },
   {
    "duration": 34,
    "start_time": "2022-05-23T12:06:03.259Z"
   },
   {
    "duration": 32,
    "start_time": "2022-05-23T12:06:22.496Z"
   },
   {
    "duration": 32,
    "start_time": "2022-05-23T12:06:26.434Z"
   },
   {
    "duration": 30,
    "start_time": "2022-05-23T12:06:40.116Z"
   },
   {
    "duration": 84,
    "start_time": "2022-05-23T12:08:30.057Z"
   },
   {
    "duration": 20,
    "start_time": "2022-05-23T12:08:32.826Z"
   },
   {
    "duration": 632,
    "start_time": "2022-05-23T12:08:45.506Z"
   },
   {
    "duration": 281,
    "start_time": "2022-05-23T12:09:20.809Z"
   },
   {
    "duration": 569,
    "start_time": "2022-05-23T12:11:45.722Z"
   },
   {
    "duration": 0,
    "start_time": "2022-05-23T12:11:46.292Z"
   },
   {
    "duration": 14,
    "start_time": "2022-05-23T12:13:12.405Z"
   },
   {
    "duration": 99,
    "start_time": "2022-05-23T12:13:14.026Z"
   },
   {
    "duration": 180,
    "start_time": "2022-05-23T12:13:37.260Z"
   },
   {
    "duration": 94,
    "start_time": "2022-05-23T12:14:05.710Z"
   },
   {
    "duration": 117,
    "start_time": "2022-05-23T12:17:40.546Z"
   },
   {
    "duration": 146,
    "start_time": "2022-05-23T12:48:38.369Z"
   },
   {
    "duration": 39,
    "start_time": "2022-05-23T12:48:54.596Z"
   },
   {
    "duration": 136,
    "start_time": "2022-05-23T12:48:58.768Z"
   },
   {
    "duration": 165,
    "start_time": "2022-05-23T12:49:02.944Z"
   },
   {
    "duration": 4,
    "start_time": "2022-05-23T12:50:13.111Z"
   },
   {
    "duration": 962,
    "start_time": "2022-05-23T12:50:20.569Z"
   },
   {
    "duration": 416,
    "start_time": "2022-05-23T12:51:43.076Z"
   },
   {
    "duration": 588,
    "start_time": "2022-05-23T12:51:43.735Z"
   },
   {
    "duration": 1467,
    "start_time": "2022-05-24T06:15:04.027Z"
   },
   {
    "duration": 3,
    "start_time": "2022-05-24T06:15:05.496Z"
   },
   {
    "duration": 1145,
    "start_time": "2022-05-24T06:15:05.501Z"
   },
   {
    "duration": 1095,
    "start_time": "2022-05-24T06:15:06.648Z"
   },
   {
    "duration": 246,
    "start_time": "2022-05-24T06:15:07.744Z"
   },
   {
    "duration": 86,
    "start_time": "2022-05-24T06:15:07.992Z"
   },
   {
    "duration": 22,
    "start_time": "2022-05-24T06:15:08.080Z"
   },
   {
    "duration": 103,
    "start_time": "2022-05-24T06:15:08.104Z"
   },
   {
    "duration": 137,
    "start_time": "2022-05-24T06:15:08.424Z"
   },
   {
    "duration": 3,
    "start_time": "2022-05-24T06:15:08.774Z"
   },
   {
    "duration": 325,
    "start_time": "2022-05-24T06:15:08.988Z"
   },
   {
    "duration": 396,
    "start_time": "2022-05-24T06:15:09.390Z"
   },
   {
    "duration": 1156,
    "start_time": "2022-05-24T06:17:26.985Z"
   },
   {
    "duration": 92,
    "start_time": "2022-05-24T06:17:46.441Z"
   },
   {
    "duration": 4,
    "start_time": "2022-05-24T06:21:09.375Z"
   },
   {
    "duration": 3,
    "start_time": "2022-05-24T06:21:09.977Z"
   },
   {
    "duration": 813,
    "start_time": "2022-05-24T06:21:10.159Z"
   },
   {
    "duration": 1017,
    "start_time": "2022-05-24T06:21:10.974Z"
   },
   {
    "duration": 247,
    "start_time": "2022-05-24T06:21:11.993Z"
   },
   {
    "duration": 80,
    "start_time": "2022-05-24T06:21:12.242Z"
   },
   {
    "duration": 29,
    "start_time": "2022-05-24T06:21:12.324Z"
   },
   {
    "duration": 103,
    "start_time": "2022-05-24T06:21:12.355Z"
   },
   {
    "duration": 3,
    "start_time": "2022-05-24T06:21:12.460Z"
   },
   {
    "duration": 7,
    "start_time": "2022-05-24T06:21:12.464Z"
   },
   {
    "duration": 301,
    "start_time": "2022-05-24T06:21:12.472Z"
   },
   {
    "duration": 440,
    "start_time": "2022-05-24T06:21:12.776Z"
   },
   {
    "duration": 90,
    "start_time": "2022-05-24T06:24:28.694Z"
   },
   {
    "duration": 86,
    "start_time": "2022-05-24T06:24:32.685Z"
   },
   {
    "duration": 39,
    "start_time": "2022-05-24T06:24:50.703Z"
   },
   {
    "duration": 97,
    "start_time": "2022-05-24T06:25:02.002Z"
   },
   {
    "duration": 1232,
    "start_time": "2022-05-24T06:31:34.595Z"
   },
   {
    "duration": 4,
    "start_time": "2022-05-24T06:31:35.829Z"
   },
   {
    "duration": 894,
    "start_time": "2022-05-24T06:31:35.834Z"
   },
   {
    "duration": 1032,
    "start_time": "2022-05-24T06:31:36.730Z"
   },
   {
    "duration": 226,
    "start_time": "2022-05-24T06:31:37.764Z"
   },
   {
    "duration": 80,
    "start_time": "2022-05-24T06:31:37.992Z"
   },
   {
    "duration": 25,
    "start_time": "2022-05-24T06:31:38.074Z"
   },
   {
    "duration": 103,
    "start_time": "2022-05-24T06:31:38.100Z"
   },
   {
    "duration": 35,
    "start_time": "2022-05-24T06:31:38.205Z"
   },
   {
    "duration": 19,
    "start_time": "2022-05-24T06:31:42.446Z"
   },
   {
    "duration": 107,
    "start_time": "2022-05-24T06:31:54.182Z"
   },
   {
    "duration": 487,
    "start_time": "2022-05-24T06:32:03.047Z"
   },
   {
    "duration": 16,
    "start_time": "2022-05-24T06:33:03.945Z"
   },
   {
    "duration": 20,
    "start_time": "2022-05-24T06:33:27.997Z"
   },
   {
    "duration": 25,
    "start_time": "2022-05-24T06:33:29.286Z"
   },
   {
    "duration": 16,
    "start_time": "2022-05-24T06:33:30.606Z"
   },
   {
    "duration": 41,
    "start_time": "2022-05-24T06:33:56.926Z"
   },
   {
    "duration": 16,
    "start_time": "2022-05-24T06:33:57.114Z"
   },
   {
    "duration": 3,
    "start_time": "2022-05-24T06:37:04.719Z"
   },
   {
    "duration": 4,
    "start_time": "2022-05-24T06:37:14.834Z"
   },
   {
    "duration": 15,
    "start_time": "2022-05-24T06:37:43.314Z"
   },
   {
    "duration": 25,
    "start_time": "2022-05-24T06:38:01.267Z"
   },
   {
    "duration": 3,
    "start_time": "2022-05-24T06:38:05.346Z"
   },
   {
    "duration": 135,
    "start_time": "2022-05-24T06:38:05.565Z"
   },
   {
    "duration": 3,
    "start_time": "2022-05-24T06:38:20.616Z"
   },
   {
    "duration": 120,
    "start_time": "2022-05-24T06:38:20.846Z"
   },
   {
    "duration": 4,
    "start_time": "2022-05-24T06:38:30.099Z"
   },
   {
    "duration": 372,
    "start_time": "2022-05-24T06:38:31.615Z"
   },
   {
    "duration": 320,
    "start_time": "2022-05-24T06:39:36.233Z"
   },
   {
    "duration": 288,
    "start_time": "2022-05-24T06:40:21.030Z"
   },
   {
    "duration": 3,
    "start_time": "2022-05-24T06:40:49.425Z"
   },
   {
    "duration": 228,
    "start_time": "2022-05-24T06:40:49.655Z"
   },
   {
    "duration": 307,
    "start_time": "2022-05-24T06:40:50.854Z"
   },
   {
    "duration": 3,
    "start_time": "2022-05-24T06:40:55.445Z"
   },
   {
    "duration": 347,
    "start_time": "2022-05-24T06:40:55.635Z"
   },
   {
    "duration": 321,
    "start_time": "2022-05-24T06:40:56.664Z"
   },
   {
    "duration": 3,
    "start_time": "2022-05-24T06:41:02.386Z"
   },
   {
    "duration": 264,
    "start_time": "2022-05-24T06:41:02.585Z"
   },
   {
    "duration": 237,
    "start_time": "2022-05-24T06:41:03.403Z"
   },
   {
    "duration": 3,
    "start_time": "2022-05-24T06:45:33.542Z"
   },
   {
    "duration": 1810,
    "start_time": "2022-05-24T06:45:44.039Z"
   },
   {
    "duration": 3,
    "start_time": "2022-05-24T06:46:02.937Z"
   },
   {
    "duration": 1572,
    "start_time": "2022-05-24T06:46:03.245Z"
   },
   {
    "duration": 3,
    "start_time": "2022-05-24T06:46:51.546Z"
   },
   {
    "duration": 1458,
    "start_time": "2022-05-24T06:46:51.815Z"
   },
   {
    "duration": 3,
    "start_time": "2022-05-24T06:46:55.794Z"
   },
   {
    "duration": 1484,
    "start_time": "2022-05-24T06:46:55.987Z"
   },
   {
    "duration": 3,
    "start_time": "2022-05-24T06:47:35.926Z"
   },
   {
    "duration": 1511,
    "start_time": "2022-05-24T06:47:45.027Z"
   },
   {
    "duration": 1339,
    "start_time": "2022-05-24T06:48:00.235Z"
   },
   {
    "duration": 3,
    "start_time": "2022-05-24T06:48:01.576Z"
   },
   {
    "duration": 860,
    "start_time": "2022-05-24T06:48:01.581Z"
   },
   {
    "duration": 1119,
    "start_time": "2022-05-24T06:48:02.443Z"
   },
   {
    "duration": 298,
    "start_time": "2022-05-24T06:48:03.564Z"
   },
   {
    "duration": 88,
    "start_time": "2022-05-24T06:48:03.864Z"
   },
   {
    "duration": 18,
    "start_time": "2022-05-24T06:48:03.954Z"
   },
   {
    "duration": 117,
    "start_time": "2022-05-24T06:48:03.974Z"
   },
   {
    "duration": 3,
    "start_time": "2022-05-24T06:48:04.093Z"
   },
   {
    "duration": 144,
    "start_time": "2022-05-24T06:48:04.098Z"
   },
   {
    "duration": 3,
    "start_time": "2022-05-24T06:48:10.430Z"
   },
   {
    "duration": 1479,
    "start_time": "2022-05-24T06:48:10.619Z"
   },
   {
    "duration": 1394,
    "start_time": "2022-05-24T06:48:23.725Z"
   },
   {
    "duration": 4,
    "start_time": "2022-05-24T06:49:05.085Z"
   },
   {
    "duration": 1514,
    "start_time": "2022-05-24T06:49:05.247Z"
   },
   {
    "duration": 1482,
    "start_time": "2022-05-24T06:49:09.974Z"
   },
   {
    "duration": 4,
    "start_time": "2022-05-24T06:51:26.828Z"
   },
   {
    "duration": 16,
    "start_time": "2022-05-24T06:51:27.029Z"
   },
   {
    "duration": 3,
    "start_time": "2022-05-24T06:51:48.991Z"
   },
   {
    "duration": 17,
    "start_time": "2022-05-24T06:51:49.191Z"
   },
   {
    "duration": 3,
    "start_time": "2022-05-24T06:52:06.098Z"
   },
   {
    "duration": 20,
    "start_time": "2022-05-24T06:52:06.401Z"
   },
   {
    "duration": 3,
    "start_time": "2022-05-24T06:52:20.341Z"
   },
   {
    "duration": 135,
    "start_time": "2022-05-24T06:52:20.678Z"
   },
   {
    "duration": 9,
    "start_time": "2022-05-24T06:52:33.773Z"
   },
   {
    "duration": 3,
    "start_time": "2022-05-24T06:52:35.759Z"
   },
   {
    "duration": 10,
    "start_time": "2022-05-24T06:52:35.987Z"
   },
   {
    "duration": 356,
    "start_time": "2022-05-24T06:52:39.601Z"
   },
   {
    "duration": 257,
    "start_time": "2022-05-24T06:52:43.004Z"
   },
   {
    "duration": 246,
    "start_time": "2022-05-24T06:52:47.563Z"
   },
   {
    "duration": 28,
    "start_time": "2022-05-24T06:55:54.272Z"
   },
   {
    "duration": 19,
    "start_time": "2022-05-24T06:55:57.252Z"
   },
   {
    "duration": 3,
    "start_time": "2022-05-24T06:55:59.407Z"
   },
   {
    "duration": 20,
    "start_time": "2022-05-24T06:55:59.575Z"
   },
   {
    "duration": 292,
    "start_time": "2022-05-24T06:56:13.078Z"
   },
   {
    "duration": 368,
    "start_time": "2022-05-24T06:56:26.209Z"
   },
   {
    "duration": 34,
    "start_time": "2022-05-24T06:57:23.405Z"
   },
   {
    "duration": 26,
    "start_time": "2022-05-24T06:57:23.603Z"
   },
   {
    "duration": 401,
    "start_time": "2022-05-24T06:57:35.181Z"
   },
   {
    "duration": 14,
    "start_time": "2022-05-24T06:57:58.570Z"
   },
   {
    "duration": 1319,
    "start_time": "2022-05-24T06:58:33.048Z"
   },
   {
    "duration": 4,
    "start_time": "2022-05-24T06:58:34.369Z"
   },
   {
    "duration": 828,
    "start_time": "2022-05-24T06:58:34.374Z"
   },
   {
    "duration": 1163,
    "start_time": "2022-05-24T06:58:35.205Z"
   },
   {
    "duration": 351,
    "start_time": "2022-05-24T06:58:36.371Z"
   },
   {
    "duration": 88,
    "start_time": "2022-05-24T06:58:36.724Z"
   },
   {
    "duration": 27,
    "start_time": "2022-05-24T06:58:36.814Z"
   },
   {
    "duration": 106,
    "start_time": "2022-05-24T06:58:36.843Z"
   },
   {
    "duration": 38,
    "start_time": "2022-05-24T06:58:36.951Z"
   },
   {
    "duration": 41,
    "start_time": "2022-05-24T06:58:36.991Z"
   },
   {
    "duration": 15,
    "start_time": "2022-05-24T06:58:37.034Z"
   },
   {
    "duration": 290,
    "start_time": "2022-05-24T06:58:37.051Z"
   },
   {
    "duration": 102,
    "start_time": "2022-05-24T06:59:02.598Z"
   },
   {
    "duration": 23,
    "start_time": "2022-05-24T06:59:13.829Z"
   },
   {
    "duration": 1347,
    "start_time": "2022-05-24T07:00:39.123Z"
   },
   {
    "duration": 4,
    "start_time": "2022-05-24T07:00:40.472Z"
   },
   {
    "duration": 845,
    "start_time": "2022-05-24T07:00:40.477Z"
   },
   {
    "duration": 1173,
    "start_time": "2022-05-24T07:00:41.324Z"
   },
   {
    "duration": 123,
    "start_time": "2022-05-24T07:00:42.499Z"
   },
   {
    "duration": 17,
    "start_time": "2022-05-24T07:00:42.627Z"
   },
   {
    "duration": 115,
    "start_time": "2022-05-24T07:00:42.646Z"
   },
   {
    "duration": 304,
    "start_time": "2022-05-24T07:00:42.763Z"
   },
   {
    "duration": 37,
    "start_time": "2022-05-24T07:00:43.069Z"
   },
   {
    "duration": 44,
    "start_time": "2022-05-24T07:00:43.109Z"
   },
   {
    "duration": 4,
    "start_time": "2022-05-24T07:00:43.155Z"
   },
   {
    "duration": 344,
    "start_time": "2022-05-24T07:00:43.160Z"
   },
   {
    "duration": 29,
    "start_time": "2022-05-24T07:02:03.388Z"
   },
   {
    "duration": 5,
    "start_time": "2022-05-24T07:09:57.397Z"
   },
   {
    "duration": 6,
    "start_time": "2022-05-24T07:10:11.468Z"
   },
   {
    "duration": 6,
    "start_time": "2022-05-24T07:10:38.818Z"
   },
   {
    "duration": 273,
    "start_time": "2022-05-24T07:11:13.906Z"
   },
   {
    "duration": 253,
    "start_time": "2022-05-24T07:11:26.437Z"
   },
   {
    "duration": 14,
    "start_time": "2022-05-24T07:11:36.269Z"
   },
   {
    "duration": 25,
    "start_time": "2022-05-24T07:11:36.530Z"
   },
   {
    "duration": 251,
    "start_time": "2022-05-24T07:12:19.128Z"
   },
   {
    "duration": 370,
    "start_time": "2022-05-24T07:13:56.123Z"
   },
   {
    "duration": 144,
    "start_time": "2022-05-24T07:13:59.720Z"
   },
   {
    "duration": 221,
    "start_time": "2022-05-24T07:14:04.901Z"
   },
   {
    "duration": 5,
    "start_time": "2022-05-24T07:14:47.093Z"
   },
   {
    "duration": 256,
    "start_time": "2022-05-24T07:14:55.318Z"
   },
   {
    "duration": 258,
    "start_time": "2022-05-24T07:15:13.854Z"
   },
   {
    "duration": 15,
    "start_time": "2022-05-24T07:15:44.416Z"
   },
   {
    "duration": 20,
    "start_time": "2022-05-24T07:16:57.975Z"
   },
   {
    "duration": 15,
    "start_time": "2022-05-24T07:17:00.925Z"
   },
   {
    "duration": 97,
    "start_time": "2022-05-24T07:18:37.490Z"
   },
   {
    "duration": 15,
    "start_time": "2022-05-24T07:18:40.972Z"
   },
   {
    "duration": 58,
    "start_time": "2022-05-24T07:18:49.856Z"
   },
   {
    "duration": 18,
    "start_time": "2022-05-24T07:19:03.311Z"
   },
   {
    "duration": 326,
    "start_time": "2022-05-24T07:19:24.921Z"
   },
   {
    "duration": 1340,
    "start_time": "2022-05-24T07:24:39.152Z"
   },
   {
    "duration": 5,
    "start_time": "2022-05-24T07:24:40.494Z"
   },
   {
    "duration": 861,
    "start_time": "2022-05-24T07:24:40.501Z"
   },
   {
    "duration": 1248,
    "start_time": "2022-05-24T07:24:41.364Z"
   },
   {
    "duration": 146,
    "start_time": "2022-05-24T07:24:42.614Z"
   },
   {
    "duration": 16,
    "start_time": "2022-05-24T07:24:42.761Z"
   },
   {
    "duration": 120,
    "start_time": "2022-05-24T07:24:42.778Z"
   },
   {
    "duration": 321,
    "start_time": "2022-05-24T07:24:44.316Z"
   },
   {
    "duration": 419,
    "start_time": "2022-05-24T07:24:45.052Z"
   },
   {
    "duration": 26,
    "start_time": "2022-05-24T07:24:45.912Z"
   },
   {
    "duration": 26,
    "start_time": "2022-05-24T07:24:47.288Z"
   },
   {
    "duration": 287,
    "start_time": "2022-05-24T07:24:48.519Z"
   },
   {
    "duration": 20,
    "start_time": "2022-05-24T07:24:50.822Z"
   },
   {
    "duration": 34,
    "start_time": "2022-05-24T07:24:52.394Z"
   },
   {
    "duration": 287,
    "start_time": "2022-05-24T07:24:53.210Z"
   },
   {
    "duration": 6,
    "start_time": "2022-05-24T07:24:55.497Z"
   },
   {
    "duration": 275,
    "start_time": "2022-05-24T07:24:55.703Z"
   },
   {
    "duration": 16,
    "start_time": "2022-05-24T07:25:02.115Z"
   },
   {
    "duration": 23,
    "start_time": "2022-05-24T07:25:05.473Z"
   },
   {
    "duration": 104,
    "start_time": "2022-05-24T07:25:06.769Z"
   },
   {
    "duration": 18,
    "start_time": "2022-05-24T07:25:07.318Z"
   },
   {
    "duration": 26,
    "start_time": "2022-05-24T07:25:19.288Z"
   },
   {
    "duration": 62,
    "start_time": "2022-05-24T07:25:26.657Z"
   },
   {
    "duration": 59,
    "start_time": "2022-05-24T07:25:36.481Z"
   },
   {
    "duration": 260,
    "start_time": "2022-05-24T07:26:35.775Z"
   },
   {
    "duration": 373,
    "start_time": "2022-05-24T07:33:58.788Z"
   },
   {
    "duration": 306,
    "start_time": "2022-05-24T07:35:36.259Z"
   },
   {
    "duration": 16,
    "start_time": "2022-05-24T07:35:52.109Z"
   },
   {
    "duration": 20,
    "start_time": "2022-05-24T07:35:57.282Z"
   },
   {
    "duration": 1258,
    "start_time": "2022-05-24T07:36:26.332Z"
   },
   {
    "duration": 4,
    "start_time": "2022-05-24T07:36:27.592Z"
   },
   {
    "duration": 789,
    "start_time": "2022-05-24T07:36:27.597Z"
   },
   {
    "duration": 1056,
    "start_time": "2022-05-24T07:36:28.388Z"
   },
   {
    "duration": 120,
    "start_time": "2022-05-24T07:36:29.446Z"
   },
   {
    "duration": 13,
    "start_time": "2022-05-24T07:36:29.567Z"
   },
   {
    "duration": 145,
    "start_time": "2022-05-24T07:36:29.582Z"
   },
   {
    "duration": 295,
    "start_time": "2022-05-24T07:36:29.730Z"
   },
   {
    "duration": 361,
    "start_time": "2022-05-24T07:36:30.027Z"
   },
   {
    "duration": 16,
    "start_time": "2022-05-24T07:36:30.414Z"
   },
   {
    "duration": 28,
    "start_time": "2022-05-24T07:36:30.649Z"
   },
   {
    "duration": 287,
    "start_time": "2022-05-24T07:36:30.887Z"
   },
   {
    "duration": 15,
    "start_time": "2022-05-24T07:36:33.037Z"
   },
   {
    "duration": 35,
    "start_time": "2022-05-24T07:36:34.567Z"
   },
   {
    "duration": 259,
    "start_time": "2022-05-24T07:36:34.760Z"
   },
   {
    "duration": 7,
    "start_time": "2022-05-24T07:36:36.408Z"
   },
   {
    "duration": 11,
    "start_time": "2022-05-24T07:36:36.644Z"
   },
   {
    "duration": 246,
    "start_time": "2022-05-24T07:36:37.342Z"
   },
   {
    "duration": 258,
    "start_time": "2022-05-24T07:36:50.462Z"
   },
   {
    "duration": 14,
    "start_time": "2022-05-24T07:37:24.088Z"
   },
   {
    "duration": 20,
    "start_time": "2022-05-24T07:37:31.723Z"
   },
   {
    "duration": 11,
    "start_time": "2022-05-24T07:37:50.094Z"
   },
   {
    "duration": 374,
    "start_time": "2022-05-24T07:38:09.493Z"
   },
   {
    "duration": 260,
    "start_time": "2022-05-24T07:38:49.094Z"
   },
   {
    "duration": 267,
    "start_time": "2022-05-24T07:38:52.077Z"
   },
   {
    "duration": 113,
    "start_time": "2022-05-24T07:39:04.526Z"
   },
   {
    "duration": 13,
    "start_time": "2022-05-24T07:39:04.957Z"
   },
   {
    "duration": 61,
    "start_time": "2022-05-24T07:39:06.446Z"
   },
   {
    "duration": 66,
    "start_time": "2022-05-24T07:43:56.332Z"
   },
   {
    "duration": 4,
    "start_time": "2022-05-24T07:44:15.813Z"
   },
   {
    "duration": 3,
    "start_time": "2022-05-24T07:44:23.890Z"
   },
   {
    "duration": 1278,
    "start_time": "2022-05-24T07:44:48.003Z"
   },
   {
    "duration": 3,
    "start_time": "2022-05-24T07:44:49.283Z"
   },
   {
    "duration": 816,
    "start_time": "2022-05-24T07:44:49.304Z"
   },
   {
    "duration": 1146,
    "start_time": "2022-05-24T07:44:50.122Z"
   },
   {
    "duration": 120,
    "start_time": "2022-05-24T07:44:51.271Z"
   },
   {
    "duration": 21,
    "start_time": "2022-05-24T07:44:51.393Z"
   },
   {
    "duration": 104,
    "start_time": "2022-05-24T07:44:52.197Z"
   },
   {
    "duration": 283,
    "start_time": "2022-05-24T07:44:55.816Z"
   },
   {
    "duration": 363,
    "start_time": "2022-05-24T07:44:56.618Z"
   },
   {
    "duration": 15,
    "start_time": "2022-05-24T07:44:58.175Z"
   },
   {
    "duration": 29,
    "start_time": "2022-05-24T07:44:58.395Z"
   },
   {
    "duration": 315,
    "start_time": "2022-05-24T07:45:00.990Z"
   },
   {
    "duration": 14,
    "start_time": "2022-05-24T07:45:12.215Z"
   },
   {
    "duration": 4,
    "start_time": "2022-05-24T07:46:35.812Z"
   },
   {
    "duration": 282,
    "start_time": "2022-05-24T07:47:37.556Z"
   },
   {
    "duration": 4,
    "start_time": "2022-05-24T07:47:43.421Z"
   },
   {
    "duration": 423,
    "start_time": "2022-05-24T07:48:14.158Z"
   },
   {
    "duration": 260,
    "start_time": "2022-05-24T07:48:47.356Z"
   },
   {
    "duration": 6,
    "start_time": "2022-05-24T07:48:51.636Z"
   },
   {
    "duration": 294,
    "start_time": "2022-05-24T07:48:55.564Z"
   },
   {
    "duration": 26,
    "start_time": "2022-05-24T07:49:19.898Z"
   },
   {
    "duration": 382,
    "start_time": "2022-05-24T07:49:21.466Z"
   },
   {
    "duration": 1277,
    "start_time": "2022-05-24T07:49:29.278Z"
   },
   {
    "duration": 4,
    "start_time": "2022-05-24T07:49:30.560Z"
   },
   {
    "duration": 894,
    "start_time": "2022-05-24T07:49:30.566Z"
   },
   {
    "duration": 1284,
    "start_time": "2022-05-24T07:49:31.462Z"
   },
   {
    "duration": 120,
    "start_time": "2022-05-24T07:49:32.748Z"
   },
   {
    "duration": 14,
    "start_time": "2022-05-24T07:49:32.870Z"
   },
   {
    "duration": 119,
    "start_time": "2022-05-24T07:49:32.886Z"
   },
   {
    "duration": 314,
    "start_time": "2022-05-24T07:49:33.124Z"
   },
   {
    "duration": 392,
    "start_time": "2022-05-24T07:49:33.522Z"
   },
   {
    "duration": 21,
    "start_time": "2022-05-24T07:49:33.917Z"
   },
   {
    "duration": 28,
    "start_time": "2022-05-24T07:49:33.950Z"
   },
   {
    "duration": 287,
    "start_time": "2022-05-24T07:49:34.504Z"
   },
   {
    "duration": 270,
    "start_time": "2022-05-24T07:49:35.436Z"
   },
   {
    "duration": 6,
    "start_time": "2022-05-24T07:49:36.678Z"
   },
   {
    "duration": 412,
    "start_time": "2022-05-24T07:49:37.242Z"
   },
   {
    "duration": 245,
    "start_time": "2022-05-24T07:49:39.136Z"
   },
   {
    "duration": 6,
    "start_time": "2022-05-24T07:49:40.379Z"
   },
   {
    "duration": 277,
    "start_time": "2022-05-24T07:49:41.454Z"
   },
   {
    "duration": 25,
    "start_time": "2022-05-24T07:49:43.699Z"
   },
   {
    "duration": 369,
    "start_time": "2022-05-24T07:49:44.147Z"
   },
   {
    "duration": 99,
    "start_time": "2022-05-24T07:49:55.203Z"
   },
   {
    "duration": 19,
    "start_time": "2022-05-24T07:49:56.308Z"
   },
   {
    "duration": 62,
    "start_time": "2022-05-24T07:49:56.907Z"
   },
   {
    "duration": 34,
    "start_time": "2022-05-24T07:50:16.772Z"
   },
   {
    "duration": 24,
    "start_time": "2022-05-24T07:51:01.914Z"
   },
   {
    "duration": 25,
    "start_time": "2022-05-24T07:51:16.803Z"
   },
   {
    "duration": 26,
    "start_time": "2022-05-24T07:51:25.877Z"
   },
   {
    "duration": 26,
    "start_time": "2022-05-24T07:51:33.866Z"
   },
   {
    "duration": 85,
    "start_time": "2022-05-24T07:51:40.679Z"
   },
   {
    "duration": 571,
    "start_time": "2022-05-24T07:54:10.733Z"
   },
   {
    "duration": 4,
    "start_time": "2022-05-24T07:56:01.381Z"
   },
   {
    "duration": 4,
    "start_time": "2022-05-24T07:56:17.989Z"
   },
   {
    "duration": 3,
    "start_time": "2022-05-24T07:57:01.582Z"
   },
   {
    "duration": 182,
    "start_time": "2022-05-24T07:58:23.642Z"
   },
   {
    "duration": 4,
    "start_time": "2022-05-24T08:00:00.234Z"
   },
   {
    "duration": 81,
    "start_time": "2022-05-24T08:00:14.053Z"
   },
   {
    "duration": 75,
    "start_time": "2022-05-24T08:00:27.130Z"
   },
   {
    "duration": 64,
    "start_time": "2022-05-24T08:00:42.848Z"
   },
   {
    "duration": 394,
    "start_time": "2022-05-24T08:01:05.921Z"
   },
   {
    "duration": 32,
    "start_time": "2022-05-24T08:01:25.381Z"
   },
   {
    "duration": 3,
    "start_time": "2022-05-24T08:04:34.370Z"
   },
   {
    "duration": 4,
    "start_time": "2022-05-24T08:04:58.014Z"
   },
   {
    "duration": 4,
    "start_time": "2022-05-24T08:05:09.877Z"
   },
   {
    "duration": 100,
    "start_time": "2022-05-24T08:16:41.396Z"
   },
   {
    "duration": 4,
    "start_time": "2022-05-24T08:17:13.268Z"
   },
   {
    "duration": 85,
    "start_time": "2022-05-24T08:17:13.518Z"
   },
   {
    "duration": 4,
    "start_time": "2022-05-24T08:17:13.875Z"
   },
   {
    "duration": 309,
    "start_time": "2022-05-24T08:17:14.407Z"
   },
   {
    "duration": 4,
    "start_time": "2022-05-24T08:17:14.726Z"
   },
   {
    "duration": 33,
    "start_time": "2022-05-24T08:17:15.825Z"
   },
   {
    "duration": 4,
    "start_time": "2022-05-24T08:17:16.050Z"
   },
   {
    "duration": 84,
    "start_time": "2022-05-24T08:17:16.562Z"
   },
   {
    "duration": 3,
    "start_time": "2022-05-24T08:17:22.879Z"
   },
   {
    "duration": 63,
    "start_time": "2022-05-24T08:17:23.114Z"
   },
   {
    "duration": 4,
    "start_time": "2022-05-24T08:17:23.323Z"
   },
   {
    "duration": 317,
    "start_time": "2022-05-24T08:17:23.560Z"
   },
   {
    "duration": 4,
    "start_time": "2022-05-24T08:17:23.880Z"
   },
   {
    "duration": 34,
    "start_time": "2022-05-24T08:17:24.978Z"
   },
   {
    "duration": 4,
    "start_time": "2022-05-24T08:17:25.441Z"
   },
   {
    "duration": 111,
    "start_time": "2022-05-24T08:17:26.065Z"
   },
   {
    "duration": 45108,
    "start_time": "2022-05-24T08:18:37.492Z"
   },
   {
    "duration": 1315,
    "start_time": "2022-05-24T08:19:36.071Z"
   },
   {
    "duration": 3,
    "start_time": "2022-05-24T08:19:37.388Z"
   },
   {
    "duration": 814,
    "start_time": "2022-05-24T08:19:37.393Z"
   },
   {
    "duration": 1186,
    "start_time": "2022-05-24T08:19:38.210Z"
   },
   {
    "duration": 134,
    "start_time": "2022-05-24T08:19:39.398Z"
   },
   {
    "duration": 16,
    "start_time": "2022-05-24T08:19:39.534Z"
   },
   {
    "duration": 115,
    "start_time": "2022-05-24T08:19:39.552Z"
   },
   {
    "duration": 311,
    "start_time": "2022-05-24T08:19:39.668Z"
   },
   {
    "duration": 374,
    "start_time": "2022-05-24T08:19:39.980Z"
   },
   {
    "duration": 16,
    "start_time": "2022-05-24T08:19:40.356Z"
   },
   {
    "duration": 26,
    "start_time": "2022-05-24T08:19:40.373Z"
   },
   {
    "duration": 296,
    "start_time": "2022-05-24T08:19:40.401Z"
   },
   {
    "duration": 305,
    "start_time": "2022-05-24T08:19:40.700Z"
   },
   {
    "duration": 4,
    "start_time": "2022-05-24T08:19:41.006Z"
   },
   {
    "duration": 432,
    "start_time": "2022-05-24T08:19:41.012Z"
   },
   {
    "duration": 265,
    "start_time": "2022-05-24T08:19:41.446Z"
   },
   {
    "duration": 6,
    "start_time": "2022-05-24T08:19:41.714Z"
   },
   {
    "duration": 311,
    "start_time": "2022-05-24T08:19:41.721Z"
   },
   {
    "duration": 25,
    "start_time": "2022-05-24T08:19:42.034Z"
   },
   {
    "duration": 388,
    "start_time": "2022-05-24T08:19:42.061Z"
   },
   {
    "duration": 117,
    "start_time": "2022-05-24T08:19:42.452Z"
   },
   {
    "duration": 15,
    "start_time": "2022-05-24T08:19:42.570Z"
   },
   {
    "duration": 86,
    "start_time": "2022-05-24T08:19:42.587Z"
   },
   {
    "duration": 60,
    "start_time": "2022-05-24T08:19:42.675Z"
   },
   {
    "duration": 547,
    "start_time": "2022-05-24T08:19:44.377Z"
   },
   {
    "duration": 4,
    "start_time": "2022-05-24T08:19:53.314Z"
   },
   {
    "duration": 4,
    "start_time": "2022-05-24T08:19:58.390Z"
   },
   {
    "duration": 64,
    "start_time": "2022-05-24T08:19:58.966Z"
   },
   {
    "duration": 5,
    "start_time": "2022-05-24T08:19:59.484Z"
   },
   {
    "duration": 374,
    "start_time": "2022-05-24T08:19:59.988Z"
   },
   {
    "duration": 7,
    "start_time": "2022-05-24T08:20:01.733Z"
   },
   {
    "duration": 35,
    "start_time": "2022-05-24T08:20:06.566Z"
   },
   {
    "duration": 4,
    "start_time": "2022-05-24T08:20:07.042Z"
   },
   {
    "duration": 204,
    "start_time": "2022-05-24T08:20:20.698Z"
   },
   {
    "duration": 46,
    "start_time": "2022-05-24T08:20:35.211Z"
   },
   {
    "duration": 4,
    "start_time": "2022-05-24T08:21:05.077Z"
   },
   {
    "duration": 72,
    "start_time": "2022-05-24T08:22:11.140Z"
   },
   {
    "duration": 5,
    "start_time": "2022-05-24T08:22:11.800Z"
   },
   {
    "duration": 61,
    "start_time": "2022-05-24T08:22:33.708Z"
   },
   {
    "duration": 3,
    "start_time": "2022-05-24T08:22:52.836Z"
   },
   {
    "duration": 73,
    "start_time": "2022-05-24T08:23:11.860Z"
   },
   {
    "duration": 12751,
    "start_time": "2022-05-24T08:23:18.485Z"
   },
   {
    "duration": 71,
    "start_time": "2022-05-24T08:24:15.078Z"
   },
   {
    "duration": 1411,
    "start_time": "2022-05-24T08:24:20.107Z"
   },
   {
    "duration": 9,
    "start_time": "2022-05-24T08:24:21.520Z"
   },
   {
    "duration": 856,
    "start_time": "2022-05-24T08:24:21.531Z"
   },
   {
    "duration": 1139,
    "start_time": "2022-05-24T08:24:22.389Z"
   },
   {
    "duration": 169,
    "start_time": "2022-05-24T08:24:23.530Z"
   },
   {
    "duration": 44,
    "start_time": "2022-05-24T08:24:23.701Z"
   },
   {
    "duration": 210,
    "start_time": "2022-05-24T08:24:23.749Z"
   },
   {
    "duration": 277,
    "start_time": "2022-05-24T08:24:23.961Z"
   },
   {
    "duration": 369,
    "start_time": "2022-05-24T08:24:24.240Z"
   },
   {
    "duration": 21,
    "start_time": "2022-05-24T08:24:24.612Z"
   },
   {
    "duration": 27,
    "start_time": "2022-05-24T08:24:24.635Z"
   },
   {
    "duration": 421,
    "start_time": "2022-05-24T08:24:24.664Z"
   },
   {
    "duration": 346,
    "start_time": "2022-05-24T08:24:25.087Z"
   },
   {
    "duration": 5,
    "start_time": "2022-05-24T08:24:25.434Z"
   },
   {
    "duration": 440,
    "start_time": "2022-05-24T08:24:25.440Z"
   },
   {
    "duration": 269,
    "start_time": "2022-05-24T08:24:25.882Z"
   },
   {
    "duration": 7,
    "start_time": "2022-05-24T08:24:26.153Z"
   },
   {
    "duration": 376,
    "start_time": "2022-05-24T08:24:26.162Z"
   },
   {
    "duration": 30,
    "start_time": "2022-05-24T08:24:26.542Z"
   },
   {
    "duration": 423,
    "start_time": "2022-05-24T08:24:26.577Z"
   },
   {
    "duration": 142,
    "start_time": "2022-05-24T08:24:27.002Z"
   },
   {
    "duration": 22,
    "start_time": "2022-05-24T08:24:27.146Z"
   },
   {
    "duration": 129,
    "start_time": "2022-05-24T08:24:27.170Z"
   },
   {
    "duration": 54,
    "start_time": "2022-05-24T08:24:27.301Z"
   },
   {
    "duration": 583,
    "start_time": "2022-05-24T08:24:27.357Z"
   },
   {
    "duration": 4,
    "start_time": "2022-05-24T08:24:27.942Z"
   },
   {
    "duration": 79,
    "start_time": "2022-05-24T08:24:27.948Z"
   },
   {
    "duration": 5,
    "start_time": "2022-05-24T08:24:28.030Z"
   },
   {
    "duration": 90,
    "start_time": "2022-05-24T08:24:28.037Z"
   },
   {
    "duration": 8,
    "start_time": "2022-05-24T08:24:28.129Z"
   },
   {
    "duration": 56,
    "start_time": "2022-05-24T08:24:28.139Z"
   },
   {
    "duration": 5,
    "start_time": "2022-05-24T08:24:28.197Z"
   },
   {
    "duration": 10,
    "start_time": "2022-05-24T08:24:28.203Z"
   },
   {
    "duration": 88,
    "start_time": "2022-05-24T08:24:28.214Z"
   },
   {
    "duration": 605,
    "start_time": "2022-05-24T08:24:28.304Z"
   },
   {
    "duration": 531,
    "start_time": "2022-05-24T08:24:44.145Z"
   },
   {
    "duration": 1061,
    "start_time": "2022-05-24T08:24:48.383Z"
   },
   {
    "duration": 402,
    "start_time": "2022-05-24T08:25:35.118Z"
   },
   {
    "duration": 555694,
    "start_time": "2022-05-24T08:25:38.801Z"
   },
   {
    "duration": 1414,
    "start_time": "2022-05-24T08:35:04.659Z"
   },
   {
    "duration": 5,
    "start_time": "2022-05-24T08:35:06.076Z"
   },
   {
    "duration": 998,
    "start_time": "2022-05-24T08:35:06.082Z"
   },
   {
    "duration": 1202,
    "start_time": "2022-05-24T08:35:07.082Z"
   },
   {
    "duration": 142,
    "start_time": "2022-05-24T08:35:08.286Z"
   },
   {
    "duration": 19,
    "start_time": "2022-05-24T08:35:08.430Z"
   },
   {
    "duration": 155,
    "start_time": "2022-05-24T08:35:08.450Z"
   },
   {
    "duration": 410,
    "start_time": "2022-05-24T08:35:08.607Z"
   },
   {
    "duration": 467,
    "start_time": "2022-05-24T08:35:09.019Z"
   },
   {
    "duration": 16,
    "start_time": "2022-05-24T08:35:09.488Z"
   },
   {
    "duration": 38,
    "start_time": "2022-05-24T08:35:09.505Z"
   },
   {
    "duration": 308,
    "start_time": "2022-05-24T08:35:09.545Z"
   },
   {
    "duration": 288,
    "start_time": "2022-05-24T08:35:09.855Z"
   },
   {
    "duration": 5,
    "start_time": "2022-05-24T08:35:10.145Z"
   },
   {
    "duration": 487,
    "start_time": "2022-05-24T08:35:10.152Z"
   },
   {
    "duration": 304,
    "start_time": "2022-05-24T08:35:10.641Z"
   },
   {
    "duration": 6,
    "start_time": "2022-05-24T08:35:10.947Z"
   },
   {
    "duration": 314,
    "start_time": "2022-05-24T08:35:10.954Z"
   },
   {
    "duration": 31,
    "start_time": "2022-05-24T08:35:11.272Z"
   },
   {
    "duration": 498,
    "start_time": "2022-05-24T08:35:11.305Z"
   },
   {
    "duration": 112,
    "start_time": "2022-05-24T08:35:11.806Z"
   },
   {
    "duration": 17,
    "start_time": "2022-05-24T08:35:11.926Z"
   },
   {
    "duration": 89,
    "start_time": "2022-05-24T08:35:11.945Z"
   },
   {
    "duration": 53,
    "start_time": "2022-05-24T08:35:12.036Z"
   },
   {
    "duration": 605,
    "start_time": "2022-05-24T08:35:12.091Z"
   },
   {
    "duration": 3,
    "start_time": "2022-05-24T08:35:12.698Z"
   },
   {
    "duration": 89,
    "start_time": "2022-05-24T08:35:12.703Z"
   },
   {
    "duration": 4,
    "start_time": "2022-05-24T08:35:12.794Z"
   },
   {
    "duration": 72,
    "start_time": "2022-05-24T08:35:13.081Z"
   },
   {
    "duration": 4,
    "start_time": "2022-05-24T08:35:13.375Z"
   },
   {
    "duration": 43,
    "start_time": "2022-05-24T08:35:13.723Z"
   },
   {
    "duration": 5,
    "start_time": "2022-05-24T08:35:14.720Z"
   },
   {
    "duration": 3709,
    "start_time": "2022-05-24T08:37:09.235Z"
   },
   {
    "duration": 3083,
    "start_time": "2022-05-24T08:38:12.445Z"
   },
   {
    "duration": 37,
    "start_time": "2022-05-24T08:39:08.547Z"
   },
   {
    "duration": 5,
    "start_time": "2022-05-24T08:39:30.754Z"
   },
   {
    "duration": 38,
    "start_time": "2022-05-24T08:39:35.658Z"
   },
   {
    "duration": 816,
    "start_time": "2022-05-24T08:40:27.409Z"
   },
   {
    "duration": 115,
    "start_time": "2022-05-24T08:43:35.027Z"
   },
   {
    "duration": 44,
    "start_time": "2022-05-24T08:44:45.231Z"
   },
   {
    "duration": 37,
    "start_time": "2022-05-24T08:45:08.856Z"
   },
   {
    "duration": 37,
    "start_time": "2022-05-24T08:45:21.224Z"
   },
   {
    "duration": 39,
    "start_time": "2022-05-24T08:45:24.679Z"
   },
   {
    "duration": 33,
    "start_time": "2022-05-24T08:45:27.138Z"
   },
   {
    "duration": 11,
    "start_time": "2022-05-24T08:48:45.032Z"
   },
   {
    "duration": 12,
    "start_time": "2022-05-24T08:48:55.332Z"
   },
   {
    "duration": 13,
    "start_time": "2022-05-24T08:49:02.514Z"
   },
   {
    "duration": 12,
    "start_time": "2022-05-24T08:49:38.270Z"
   },
   {
    "duration": 72,
    "start_time": "2022-05-24T08:50:29.233Z"
   },
   {
    "duration": 26,
    "start_time": "2022-05-24T08:50:58.226Z"
   },
   {
    "duration": 20,
    "start_time": "2022-05-24T08:51:05.260Z"
   },
   {
    "duration": 32,
    "start_time": "2022-05-24T08:51:20.182Z"
   },
   {
    "duration": 10,
    "start_time": "2022-05-24T08:51:54.143Z"
   },
   {
    "duration": 878,
    "start_time": "2022-05-24T08:52:08.638Z"
   },
   {
    "duration": 485,
    "start_time": "2022-05-24T08:53:17.931Z"
   },
   {
    "duration": 10984,
    "start_time": "2022-05-24T08:53:30.050Z"
   },
   {
    "duration": 389663,
    "start_time": "2022-05-24T08:53:50.618Z"
   },
   {
    "duration": 3564,
    "start_time": "2022-05-24T09:10:49.672Z"
   },
   {
    "duration": 9346,
    "start_time": "2022-05-24T09:11:21.029Z"
   },
   {
    "duration": 3101,
    "start_time": "2022-05-24T09:12:08.352Z"
   },
   {
    "duration": 15605,
    "start_time": "2022-05-24T09:12:14.246Z"
   },
   {
    "duration": 5,
    "start_time": "2022-05-24T09:12:32.125Z"
   },
   {
    "duration": 38011,
    "start_time": "2022-05-24T09:12:32.590Z"
   },
   {
    "duration": 11486,
    "start_time": "2022-05-24T09:13:34.318Z"
   },
   {
    "duration": 14,
    "start_time": "2022-05-24T09:20:24.901Z"
   },
   {
    "duration": 3,
    "start_time": "2022-05-24T09:20:54.661Z"
   },
   {
    "duration": 3,
    "start_time": "2022-05-24T09:20:58.089Z"
   },
   {
    "duration": 3,
    "start_time": "2022-05-24T09:21:00.822Z"
   },
   {
    "duration": 10,
    "start_time": "2022-05-24T09:21:03.464Z"
   },
   {
    "duration": 4,
    "start_time": "2022-05-24T09:22:00.071Z"
   },
   {
    "duration": 3,
    "start_time": "2022-05-24T09:22:02.641Z"
   },
   {
    "duration": 13,
    "start_time": "2022-05-24T09:22:02.842Z"
   },
   {
    "duration": 11,
    "start_time": "2022-05-24T09:22:18.244Z"
   },
   {
    "duration": 12,
    "start_time": "2022-05-24T09:22:25.226Z"
   },
   {
    "duration": 994,
    "start_time": "2022-05-24T09:22:55.834Z"
   },
   {
    "duration": 1102,
    "start_time": "2022-05-24T09:23:12.283Z"
   },
   {
    "duration": 946,
    "start_time": "2022-05-24T09:23:16.444Z"
   },
   {
    "duration": 1390,
    "start_time": "2022-05-24T09:24:55.164Z"
   },
   {
    "duration": 4,
    "start_time": "2022-05-24T09:24:56.556Z"
   },
   {
    "duration": 822,
    "start_time": "2022-05-24T09:24:56.562Z"
   },
   {
    "duration": 1098,
    "start_time": "2022-05-24T09:24:57.386Z"
   },
   {
    "duration": 120,
    "start_time": "2022-05-24T09:24:58.486Z"
   },
   {
    "duration": 24,
    "start_time": "2022-05-24T09:24:58.608Z"
   },
   {
    "duration": 104,
    "start_time": "2022-05-24T09:24:58.634Z"
   },
   {
    "duration": 282,
    "start_time": "2022-05-24T09:24:58.740Z"
   },
   {
    "duration": 340,
    "start_time": "2022-05-24T09:24:59.026Z"
   },
   {
    "duration": 15,
    "start_time": "2022-05-24T09:24:59.367Z"
   },
   {
    "duration": 26,
    "start_time": "2022-05-24T09:24:59.383Z"
   },
   {
    "duration": 269,
    "start_time": "2022-05-24T09:24:59.411Z"
   },
   {
    "duration": 255,
    "start_time": "2022-05-24T09:24:59.681Z"
   },
   {
    "duration": 4,
    "start_time": "2022-05-24T09:24:59.940Z"
   },
   {
    "duration": 417,
    "start_time": "2022-05-24T09:24:59.946Z"
   },
   {
    "duration": 236,
    "start_time": "2022-05-24T09:25:00.364Z"
   },
   {
    "duration": 6,
    "start_time": "2022-05-24T09:25:00.601Z"
   },
   {
    "duration": 287,
    "start_time": "2022-05-24T09:25:00.609Z"
   },
   {
    "duration": 29,
    "start_time": "2022-05-24T09:25:00.898Z"
   },
   {
    "duration": 391,
    "start_time": "2022-05-24T09:25:00.929Z"
   },
   {
    "duration": 96,
    "start_time": "2022-05-24T09:25:01.322Z"
   },
   {
    "duration": 15,
    "start_time": "2022-05-24T09:25:01.428Z"
   },
   {
    "duration": 101,
    "start_time": "2022-05-24T09:25:01.445Z"
   },
   {
    "duration": 52,
    "start_time": "2022-05-24T09:25:01.548Z"
   },
   {
    "duration": 4,
    "start_time": "2022-05-24T09:25:01.601Z"
   },
   {
    "duration": 111,
    "start_time": "2022-05-24T09:25:01.606Z"
   },
   {
    "duration": 4,
    "start_time": "2022-05-24T09:25:01.719Z"
   },
   {
    "duration": 109,
    "start_time": "2022-05-24T09:25:01.725Z"
   },
   {
    "duration": 6,
    "start_time": "2022-05-24T09:25:01.835Z"
   },
   {
    "duration": 152,
    "start_time": "2022-05-24T09:25:01.843Z"
   },
   {
    "duration": 0,
    "start_time": "2022-05-24T09:25:01.997Z"
   },
   {
    "duration": 66,
    "start_time": "2022-05-24T09:25:18.253Z"
   },
   {
    "duration": 98,
    "start_time": "2022-05-24T09:26:18.335Z"
   },
   {
    "duration": 58,
    "start_time": "2022-05-24T09:26:22.085Z"
   },
   {
    "duration": 6,
    "start_time": "2022-05-24T09:26:54.438Z"
   },
   {
    "duration": 6,
    "start_time": "2022-05-24T09:27:12.506Z"
   },
   {
    "duration": 232,
    "start_time": "2022-05-24T09:28:30.427Z"
   },
   {
    "duration": 170,
    "start_time": "2022-05-24T09:28:37.664Z"
   },
   {
    "duration": 146,
    "start_time": "2022-05-24T09:28:41.042Z"
   },
   {
    "duration": 158,
    "start_time": "2022-05-24T09:28:43.521Z"
   },
   {
    "duration": 132,
    "start_time": "2022-05-24T09:28:56.900Z"
   },
   {
    "duration": 130,
    "start_time": "2022-05-24T09:29:07.882Z"
   },
   {
    "duration": 95,
    "start_time": "2022-05-24T09:29:19.348Z"
   },
   {
    "duration": 165,
    "start_time": "2022-05-24T09:29:24.552Z"
   },
   {
    "duration": 154,
    "start_time": "2022-05-24T09:29:34.220Z"
   },
   {
    "duration": 327,
    "start_time": "2022-05-24T09:29:56.437Z"
   },
   {
    "duration": 159,
    "start_time": "2022-05-24T09:30:00.808Z"
   },
   {
    "duration": 271,
    "start_time": "2022-05-24T09:30:13.055Z"
   },
   {
    "duration": 1312,
    "start_time": "2022-05-24T09:30:19.857Z"
   },
   {
    "duration": 3,
    "start_time": "2022-05-24T09:30:21.171Z"
   },
   {
    "duration": 775,
    "start_time": "2022-05-24T09:30:21.472Z"
   },
   {
    "duration": 1070,
    "start_time": "2022-05-24T09:30:22.248Z"
   },
   {
    "duration": 123,
    "start_time": "2022-05-24T09:30:23.320Z"
   },
   {
    "duration": 16,
    "start_time": "2022-05-24T09:30:23.444Z"
   },
   {
    "duration": 109,
    "start_time": "2022-05-24T09:30:23.465Z"
   },
   {
    "duration": 273,
    "start_time": "2022-05-24T09:30:28.245Z"
   },
   {
    "duration": 348,
    "start_time": "2022-05-24T09:30:28.567Z"
   },
   {
    "duration": 20,
    "start_time": "2022-05-24T09:30:28.917Z"
   },
   {
    "duration": 25,
    "start_time": "2022-05-24T09:30:29.021Z"
   },
   {
    "duration": 251,
    "start_time": "2022-05-24T09:30:29.324Z"
   },
   {
    "duration": 246,
    "start_time": "2022-05-24T09:30:30.038Z"
   },
   {
    "duration": 6,
    "start_time": "2022-05-24T09:30:30.286Z"
   },
   {
    "duration": 401,
    "start_time": "2022-05-24T09:30:30.988Z"
   },
   {
    "duration": 221,
    "start_time": "2022-05-24T09:30:31.391Z"
   },
   {
    "duration": 6,
    "start_time": "2022-05-24T09:30:32.260Z"
   },
   {
    "duration": 262,
    "start_time": "2022-05-24T09:30:32.661Z"
   },
   {
    "duration": 24,
    "start_time": "2022-05-24T09:30:34.943Z"
   },
   {
    "duration": 133,
    "start_time": "2022-05-24T09:30:35.144Z"
   },
   {
    "duration": 258,
    "start_time": "2022-05-24T09:30:36.913Z"
   },
   {
    "duration": 267,
    "start_time": "2022-05-24T09:30:38.871Z"
   },
   {
    "duration": 78,
    "start_time": "2022-05-24T09:30:40.248Z"
   },
   {
    "duration": 13,
    "start_time": "2022-05-24T09:30:40.495Z"
   },
   {
    "duration": 72,
    "start_time": "2022-05-24T09:30:42.269Z"
   },
   {
    "duration": 58,
    "start_time": "2022-05-24T09:30:44.031Z"
   },
   {
    "duration": 6,
    "start_time": "2022-05-24T09:30:51.351Z"
   },
   {
    "duration": 1374,
    "start_time": "2022-05-24T09:31:16.043Z"
   },
   {
    "duration": 7,
    "start_time": "2022-05-24T09:31:17.420Z"
   },
   {
    "duration": 799,
    "start_time": "2022-05-24T09:31:17.429Z"
   },
   {
    "duration": 1202,
    "start_time": "2022-05-24T09:31:18.230Z"
   },
   {
    "duration": 130,
    "start_time": "2022-05-24T09:31:19.434Z"
   },
   {
    "duration": 17,
    "start_time": "2022-05-24T09:31:19.566Z"
   },
   {
    "duration": 114,
    "start_time": "2022-05-24T09:31:19.585Z"
   },
   {
    "duration": 305,
    "start_time": "2022-05-24T09:31:19.701Z"
   },
   {
    "duration": 389,
    "start_time": "2022-05-24T09:31:20.007Z"
   },
   {
    "duration": 15,
    "start_time": "2022-05-24T09:31:20.398Z"
   },
   {
    "duration": 36,
    "start_time": "2022-05-24T09:31:20.415Z"
   },
   {
    "duration": 342,
    "start_time": "2022-05-24T09:31:20.454Z"
   },
   {
    "duration": 310,
    "start_time": "2022-05-24T09:31:20.798Z"
   },
   {
    "duration": 4,
    "start_time": "2022-05-24T09:31:21.110Z"
   },
   {
    "duration": 468,
    "start_time": "2022-05-24T09:31:21.116Z"
   },
   {
    "duration": 227,
    "start_time": "2022-05-24T09:31:24.950Z"
   },
   {
    "duration": 6,
    "start_time": "2022-05-24T09:31:25.384Z"
   },
   {
    "duration": 290,
    "start_time": "2022-05-24T09:31:27.309Z"
   },
   {
    "duration": 23,
    "start_time": "2022-05-24T09:31:35.686Z"
   },
   {
    "duration": 6,
    "start_time": "2022-05-24T09:36:19.486Z"
   },
   {
    "duration": 145,
    "start_time": "2022-05-24T09:36:33.546Z"
   },
   {
    "duration": 214,
    "start_time": "2022-05-24T09:36:45.516Z"
   },
   {
    "duration": 1359,
    "start_time": "2022-05-24T09:36:55.613Z"
   },
   {
    "duration": 4,
    "start_time": "2022-05-24T09:36:56.975Z"
   },
   {
    "duration": 780,
    "start_time": "2022-05-24T09:36:56.980Z"
   },
   {
    "duration": 1082,
    "start_time": "2022-05-24T09:36:57.762Z"
   },
   {
    "duration": 124,
    "start_time": "2022-05-24T09:36:58.846Z"
   },
   {
    "duration": 15,
    "start_time": "2022-05-24T09:36:58.971Z"
   },
   {
    "duration": 118,
    "start_time": "2022-05-24T09:36:58.988Z"
   },
   {
    "duration": 289,
    "start_time": "2022-05-24T09:36:59.107Z"
   },
   {
    "duration": 353,
    "start_time": "2022-05-24T09:36:59.398Z"
   },
   {
    "duration": 15,
    "start_time": "2022-05-24T09:36:59.754Z"
   },
   {
    "duration": 27,
    "start_time": "2022-05-24T09:36:59.770Z"
   },
   {
    "duration": 290,
    "start_time": "2022-05-24T09:36:59.799Z"
   },
   {
    "duration": 280,
    "start_time": "2022-05-24T09:37:00.091Z"
   },
   {
    "duration": 4,
    "start_time": "2022-05-24T09:37:00.372Z"
   },
   {
    "duration": 402,
    "start_time": "2022-05-24T09:37:00.378Z"
   },
   {
    "duration": 261,
    "start_time": "2022-05-24T09:37:00.782Z"
   },
   {
    "duration": 5,
    "start_time": "2022-05-24T09:37:01.045Z"
   },
   {
    "duration": 314,
    "start_time": "2022-05-24T09:37:01.052Z"
   },
   {
    "duration": 24,
    "start_time": "2022-05-24T09:37:04.442Z"
   },
   {
    "duration": 8,
    "start_time": "2022-05-24T09:37:16.690Z"
   },
   {
    "duration": 18,
    "start_time": "2022-05-24T09:38:15.293Z"
   },
   {
    "duration": 7,
    "start_time": "2022-05-24T09:38:27.597Z"
   },
   {
    "duration": 6,
    "start_time": "2022-05-24T09:46:39.376Z"
   },
   {
    "duration": 8,
    "start_time": "2022-05-24T09:46:46.778Z"
   },
   {
    "duration": 1400,
    "start_time": "2022-05-24T09:47:25.224Z"
   },
   {
    "duration": 15,
    "start_time": "2022-05-24T09:47:26.626Z"
   },
   {
    "duration": 835,
    "start_time": "2022-05-24T09:47:26.642Z"
   },
   {
    "duration": 1267,
    "start_time": "2022-05-24T09:47:27.479Z"
   },
   {
    "duration": 151,
    "start_time": "2022-05-24T09:47:28.749Z"
   },
   {
    "duration": 26,
    "start_time": "2022-05-24T09:47:28.902Z"
   },
   {
    "duration": 125,
    "start_time": "2022-05-24T09:47:28.930Z"
   },
   {
    "duration": 330,
    "start_time": "2022-05-24T09:47:29.057Z"
   },
   {
    "duration": 368,
    "start_time": "2022-05-24T09:47:29.389Z"
   },
   {
    "duration": 15,
    "start_time": "2022-05-24T09:47:29.761Z"
   },
   {
    "duration": 26,
    "start_time": "2022-05-24T09:47:29.777Z"
   },
   {
    "duration": 308,
    "start_time": "2022-05-24T09:47:29.805Z"
   },
   {
    "duration": 286,
    "start_time": "2022-05-24T09:47:30.115Z"
   },
   {
    "duration": 5,
    "start_time": "2022-05-24T09:47:30.403Z"
   },
   {
    "duration": 448,
    "start_time": "2022-05-24T09:47:30.409Z"
   },
   {
    "duration": 271,
    "start_time": "2022-05-24T09:47:31.048Z"
   },
   {
    "duration": 7,
    "start_time": "2022-05-24T09:47:31.554Z"
   },
   {
    "duration": 286,
    "start_time": "2022-05-24T09:47:32.605Z"
   },
   {
    "duration": 24,
    "start_time": "2022-05-24T09:47:33.665Z"
   },
   {
    "duration": 8,
    "start_time": "2022-05-24T09:47:36.920Z"
   },
   {
    "duration": 21,
    "start_time": "2022-05-24T09:50:42.195Z"
   },
   {
    "duration": 8,
    "start_time": "2022-05-24T09:50:49.996Z"
   },
   {
    "duration": 371,
    "start_time": "2022-05-24T09:51:19.357Z"
   },
   {
    "duration": 88,
    "start_time": "2022-05-24T09:51:20.367Z"
   },
   {
    "duration": 14,
    "start_time": "2022-05-24T09:51:20.977Z"
   },
   {
    "duration": 69,
    "start_time": "2022-05-24T09:51:21.482Z"
   },
   {
    "duration": 67,
    "start_time": "2022-05-24T09:51:26.548Z"
   },
   {
    "duration": 57,
    "start_time": "2022-05-24T09:51:30.389Z"
   },
   {
    "duration": 3,
    "start_time": "2022-05-24T09:51:36.285Z"
   },
   {
    "duration": 59,
    "start_time": "2022-05-24T09:51:36.619Z"
   },
   {
    "duration": 4,
    "start_time": "2022-05-24T09:51:36.981Z"
   },
   {
    "duration": 75,
    "start_time": "2022-05-24T09:51:42.162Z"
   },
   {
    "duration": 4,
    "start_time": "2022-05-24T09:51:42.542Z"
   },
   {
    "duration": 111,
    "start_time": "2022-05-24T09:51:44.871Z"
   },
   {
    "duration": 624,
    "start_time": "2022-05-24T09:53:26.568Z"
   },
   {
    "duration": 4,
    "start_time": "2022-05-24T09:53:27.951Z"
   },
   {
    "duration": 83,
    "start_time": "2022-05-24T09:53:28.269Z"
   },
   {
    "duration": 5,
    "start_time": "2022-05-24T09:53:28.676Z"
   },
   {
    "duration": 56,
    "start_time": "2022-05-24T09:53:29.553Z"
   },
   {
    "duration": 5,
    "start_time": "2022-05-24T09:53:30.250Z"
   },
   {
    "duration": 36,
    "start_time": "2022-05-24T09:53:32.811Z"
   },
   {
    "duration": 4,
    "start_time": "2022-05-24T09:53:35.146Z"
   },
   {
    "duration": 1080600,
    "start_time": "2022-05-24T10:04:28.507Z"
   },
   {
    "duration": 3,
    "start_time": "2022-05-24T10:22:31.802Z"
   },
   {
    "duration": 61,
    "start_time": "2022-05-24T10:24:34.444Z"
   },
   {
    "duration": 5,
    "start_time": "2022-05-24T10:24:34.856Z"
   },
   {
    "duration": 97,
    "start_time": "2022-05-24T10:24:46.193Z"
   },
   {
    "duration": 5,
    "start_time": "2022-05-24T10:24:55.171Z"
   },
   {
    "duration": 38,
    "start_time": "2022-05-24T10:25:05.365Z"
   },
   {
    "duration": 5,
    "start_time": "2022-05-24T10:25:19.048Z"
   },
   {
    "duration": 1987,
    "start_time": "2022-05-24T10:25:40.724Z"
   },
   {
    "duration": 1051,
    "start_time": "2022-05-24T10:26:06.047Z"
   },
   {
    "duration": 1110,
    "start_time": "2022-05-24T10:26:19.157Z"
   },
   {
    "duration": 4,
    "start_time": "2022-05-24T10:26:32.991Z"
   },
   {
    "duration": 1150,
    "start_time": "2022-05-24T10:26:34.579Z"
   },
   {
    "duration": 986,
    "start_time": "2022-05-24T10:28:17.774Z"
   },
   {
    "duration": 876,
    "start_time": "2022-05-24T10:28:26.463Z"
   },
   {
    "duration": 1093,
    "start_time": "2022-05-24T10:30:33.425Z"
   },
   {
    "duration": 12779,
    "start_time": "2022-05-24T10:31:11.324Z"
   },
   {
    "duration": 3654,
    "start_time": "2022-05-24T10:31:40.394Z"
   },
   {
    "duration": 50370,
    "start_time": "2022-05-24T10:35:12.036Z"
   },
   {
    "duration": 4,
    "start_time": "2022-05-24T10:46:01.131Z"
   },
   {
    "duration": 9834,
    "start_time": "2022-05-24T10:46:01.730Z"
   },
   {
    "duration": 860262,
    "start_time": "2022-05-24T10:46:14.876Z"
   },
   {
    "duration": 3991,
    "start_time": "2022-05-24T11:01:55.481Z"
   },
   {
    "duration": 27,
    "start_time": "2022-05-24T11:04:52.947Z"
   },
   {
    "duration": 35,
    "start_time": "2022-05-24T11:05:32.220Z"
   },
   {
    "duration": 36,
    "start_time": "2022-05-24T11:05:39.430Z"
   },
   {
    "duration": 26,
    "start_time": "2022-05-24T11:06:15.175Z"
   },
   {
    "duration": 365,
    "start_time": "2022-05-24T11:06:33.342Z"
   },
   {
    "duration": 12,
    "start_time": "2022-05-24T11:06:34.925Z"
   },
   {
    "duration": 33,
    "start_time": "2022-05-24T11:06:47.186Z"
   },
   {
    "duration": 37,
    "start_time": "2022-05-24T11:06:50.610Z"
   },
   {
    "duration": 432,
    "start_time": "2022-05-24T11:09:10.845Z"
   },
   {
    "duration": 3,
    "start_time": "2022-05-24T11:09:26.494Z"
   },
   {
    "duration": 426,
    "start_time": "2022-05-24T11:09:26.666Z"
   },
   {
    "duration": 751,
    "start_time": "2022-05-24T11:10:04.814Z"
   },
   {
    "duration": 3,
    "start_time": "2022-05-24T11:10:15.669Z"
   },
   {
    "duration": 48,
    "start_time": "2022-05-24T11:10:18.530Z"
   },
   {
    "duration": 4,
    "start_time": "2022-05-24T11:10:19.864Z"
   },
   {
    "duration": 24,
    "start_time": "2022-05-24T11:10:57.733Z"
   },
   {
    "duration": 58,
    "start_time": "2022-05-24T11:11:32.981Z"
   },
   {
    "duration": 28,
    "start_time": "2022-05-24T11:11:35.887Z"
   },
   {
    "duration": 45,
    "start_time": "2022-05-24T11:12:01.866Z"
   },
   {
    "duration": 6,
    "start_time": "2022-05-24T11:12:02.924Z"
   },
   {
    "duration": 28,
    "start_time": "2022-05-24T11:12:15.896Z"
   },
   {
    "duration": 315581,
    "start_time": "2022-05-24T11:12:19.949Z"
   },
   {
    "duration": 560,
    "start_time": "2022-05-24T11:23:54.845Z"
   },
   {
    "duration": 5,
    "start_time": "2022-05-24T11:24:28.446Z"
   },
   {
    "duration": 949,
    "start_time": "2022-05-24T11:24:33.578Z"
   },
   {
    "duration": 510,
    "start_time": "2022-05-24T11:26:23.277Z"
   },
   {
    "duration": 2065,
    "start_time": "2022-05-24T11:27:55.887Z"
   },
   {
    "duration": 6,
    "start_time": "2022-05-24T11:39:09.587Z"
   },
   {
    "duration": 16,
    "start_time": "2022-05-24T11:39:32.148Z"
   },
   {
    "duration": 75,
    "start_time": "2022-05-24T11:39:33.811Z"
   },
   {
    "duration": 7,
    "start_time": "2022-05-24T11:39:34.357Z"
   },
   {
    "duration": 1423,
    "start_time": "2022-05-24T11:39:39.475Z"
   },
   {
    "duration": 7,
    "start_time": "2022-05-24T11:39:42.765Z"
   },
   {
    "duration": 986,
    "start_time": "2022-05-24T11:39:43.719Z"
   },
   {
    "duration": 117,
    "start_time": "2022-05-24T11:39:44.797Z"
   },
   {
    "duration": 3,
    "start_time": "2022-05-24T11:40:25.357Z"
   },
   {
    "duration": 4,
    "start_time": "2022-05-24T11:40:31.988Z"
   },
   {
    "duration": 5,
    "start_time": "2022-05-24T11:40:38.855Z"
   },
   {
    "duration": 873,
    "start_time": "2022-05-24T11:40:42.341Z"
   },
   {
    "duration": 34,
    "start_time": "2022-05-24T11:40:43.216Z"
   },
   {
    "duration": 8,
    "start_time": "2022-05-24T11:40:50.042Z"
   },
   {
    "duration": 10,
    "start_time": "2022-05-24T11:40:50.724Z"
   },
   {
    "duration": 858,
    "start_time": "2022-05-24T11:40:51.826Z"
   },
   {
    "duration": 28,
    "start_time": "2022-05-24T11:40:52.685Z"
   },
   {
    "duration": 4,
    "start_time": "2022-05-24T11:42:11.244Z"
   },
   {
    "duration": 805,
    "start_time": "2022-05-24T11:42:11.667Z"
   },
   {
    "duration": 1190,
    "start_time": "2022-05-24T11:42:12.474Z"
   },
   {
    "duration": 132,
    "start_time": "2022-05-24T11:42:21.917Z"
   },
   {
    "duration": 23,
    "start_time": "2022-05-24T11:42:49.615Z"
   },
   {
    "duration": 110,
    "start_time": "2022-05-24T11:42:50.043Z"
   },
   {
    "duration": 278,
    "start_time": "2022-05-24T11:42:50.944Z"
   },
   {
    "duration": 388,
    "start_time": "2022-05-24T11:42:51.224Z"
   },
   {
    "duration": 28,
    "start_time": "2022-05-24T11:42:51.614Z"
   },
   {
    "duration": 32,
    "start_time": "2022-05-24T11:42:51.645Z"
   },
   {
    "duration": 324,
    "start_time": "2022-05-24T11:42:51.680Z"
   },
   {
    "duration": 275,
    "start_time": "2022-05-24T11:42:52.006Z"
   },
   {
    "duration": 4,
    "start_time": "2022-05-24T11:42:52.283Z"
   },
   {
    "duration": 452,
    "start_time": "2022-05-24T11:42:52.290Z"
   },
   {
    "duration": 249,
    "start_time": "2022-05-24T11:42:52.744Z"
   },
   {
    "duration": 6,
    "start_time": "2022-05-24T11:42:52.996Z"
   },
   {
    "duration": 294,
    "start_time": "2022-05-24T11:42:53.005Z"
   },
   {
    "duration": 43,
    "start_time": "2022-05-24T11:42:53.301Z"
   },
   {
    "duration": 8,
    "start_time": "2022-05-24T11:42:53.347Z"
   },
   {
    "duration": 24,
    "start_time": "2022-05-24T11:42:53.356Z"
   },
   {
    "duration": 10,
    "start_time": "2022-05-24T11:42:53.476Z"
   },
   {
    "duration": 394,
    "start_time": "2022-05-24T11:42:53.747Z"
   },
   {
    "duration": 108,
    "start_time": "2022-05-24T11:42:54.475Z"
   },
   {
    "duration": 22,
    "start_time": "2022-05-24T11:42:54.867Z"
   },
   {
    "duration": 3,
    "start_time": "2022-05-24T11:42:55.054Z"
   },
   {
    "duration": 7,
    "start_time": "2022-05-24T11:42:55.244Z"
   },
   {
    "duration": 174,
    "start_time": "2022-05-24T11:42:55.407Z"
   },
   {
    "duration": 74,
    "start_time": "2022-05-24T11:42:55.867Z"
   },
   {
    "duration": 68,
    "start_time": "2022-05-24T11:42:56.077Z"
   },
   {
    "duration": 44,
    "start_time": "2022-05-24T11:42:56.374Z"
   },
   {
    "duration": 572,
    "start_time": "2022-05-24T11:44:23.440Z"
   },
   {
    "duration": 3,
    "start_time": "2022-05-24T11:44:24.014Z"
   },
   {
    "duration": 92,
    "start_time": "2022-05-24T11:44:24.019Z"
   },
   {
    "duration": 4,
    "start_time": "2022-05-24T11:44:24.113Z"
   },
   {
    "duration": 2,
    "start_time": "2022-05-24T11:44:24.196Z"
   },
   {
    "duration": 378,
    "start_time": "2022-05-24T11:44:24.346Z"
   },
   {
    "duration": 5,
    "start_time": "2022-05-24T11:44:24.856Z"
   },
   {
    "duration": 31,
    "start_time": "2022-05-24T11:44:25.076Z"
   },
   {
    "duration": 3,
    "start_time": "2022-05-24T11:44:25.767Z"
   },
   {
    "duration": 27,
    "start_time": "2022-05-24T11:46:35.013Z"
   },
   {
    "duration": 5,
    "start_time": "2022-05-24T11:49:03.164Z"
   },
   {
    "duration": 7,
    "start_time": "2022-05-24T11:49:12.973Z"
   },
   {
    "duration": 6,
    "start_time": "2022-05-24T11:49:18.472Z"
   },
   {
    "duration": 6,
    "start_time": "2022-05-24T11:49:26.373Z"
   },
   {
    "duration": 4,
    "start_time": "2022-05-24T11:49:43.015Z"
   },
   {
    "duration": 31,
    "start_time": "2022-05-24T11:50:09.974Z"
   },
   {
    "duration": 1430,
    "start_time": "2022-05-24T11:50:15.857Z"
   },
   {
    "duration": 4,
    "start_time": "2022-05-24T11:50:17.289Z"
   },
   {
    "duration": 903,
    "start_time": "2022-05-24T11:50:17.409Z"
   },
   {
    "duration": 1228,
    "start_time": "2022-05-24T11:50:18.315Z"
   },
   {
    "duration": 140,
    "start_time": "2022-05-24T11:50:19.545Z"
   },
   {
    "duration": 17,
    "start_time": "2022-05-24T11:50:19.687Z"
   },
   {
    "duration": 139,
    "start_time": "2022-05-24T11:50:19.707Z"
   },
   {
    "duration": 302,
    "start_time": "2022-05-24T11:50:19.848Z"
   },
   {
    "duration": 400,
    "start_time": "2022-05-24T11:50:20.152Z"
   },
   {
    "duration": 16,
    "start_time": "2022-05-24T11:50:20.554Z"
   },
   {
    "duration": 30,
    "start_time": "2022-05-24T11:50:20.572Z"
   },
   {
    "duration": 304,
    "start_time": "2022-05-24T11:50:20.605Z"
   },
   {
    "duration": 291,
    "start_time": "2022-05-24T11:50:20.911Z"
   },
   {
    "duration": 5,
    "start_time": "2022-05-24T11:50:21.204Z"
   },
   {
    "duration": 482,
    "start_time": "2022-05-24T11:50:21.211Z"
   },
   {
    "duration": 278,
    "start_time": "2022-05-24T11:50:21.695Z"
   },
   {
    "duration": 6,
    "start_time": "2022-05-24T11:50:21.975Z"
   },
   {
    "duration": 313,
    "start_time": "2022-05-24T11:50:21.983Z"
   },
   {
    "duration": 39,
    "start_time": "2022-05-24T11:50:22.299Z"
   },
   {
    "duration": 8,
    "start_time": "2022-05-24T11:50:22.344Z"
   },
   {
    "duration": 23,
    "start_time": "2022-05-24T11:50:22.355Z"
   },
   {
    "duration": 7,
    "start_time": "2022-05-24T11:50:22.379Z"
   },
   {
    "duration": 452,
    "start_time": "2022-05-24T11:50:22.388Z"
   },
   {
    "duration": 118,
    "start_time": "2022-05-24T11:50:22.842Z"
   },
   {
    "duration": 13,
    "start_time": "2022-05-24T11:50:22.962Z"
   },
   {
    "duration": 6,
    "start_time": "2022-05-24T11:50:22.977Z"
   },
   {
    "duration": 10,
    "start_time": "2022-05-24T11:50:22.985Z"
   },
   {
    "duration": 186,
    "start_time": "2022-05-24T11:50:22.997Z"
   },
   {
    "duration": 86,
    "start_time": "2022-05-24T11:50:23.185Z"
   },
   {
    "duration": 85,
    "start_time": "2022-05-24T11:50:23.274Z"
   },
   {
    "duration": 43,
    "start_time": "2022-05-24T11:50:23.361Z"
   },
   {
    "duration": 20,
    "start_time": "2022-05-24T11:51:54.599Z"
   },
   {
    "duration": 245,
    "start_time": "2022-05-24T11:52:26.247Z"
   },
   {
    "duration": 132,
    "start_time": "2022-05-24T11:52:35.015Z"
   },
   {
    "duration": 4,
    "start_time": "2022-05-24T11:52:51.419Z"
   },
   {
    "duration": 18,
    "start_time": "2022-05-24T11:53:03.818Z"
   },
   {
    "duration": 26,
    "start_time": "2022-05-24T11:53:10.705Z"
   },
   {
    "duration": 14,
    "start_time": "2022-05-24T11:53:19.650Z"
   },
   {
    "duration": 56,
    "start_time": "2022-05-24T11:53:20.495Z"
   },
   {
    "duration": 4,
    "start_time": "2022-05-24T11:53:25.768Z"
   },
   {
    "duration": 19,
    "start_time": "2022-05-24T11:55:08.602Z"
   },
   {
    "duration": 93,
    "start_time": "2022-05-24T11:55:15.948Z"
   },
   {
    "duration": 22,
    "start_time": "2022-05-24T11:55:27.829Z"
   },
   {
    "duration": 1395,
    "start_time": "2022-05-24T11:55:59.699Z"
   },
   {
    "duration": 4,
    "start_time": "2022-05-24T11:56:01.097Z"
   },
   {
    "duration": 960,
    "start_time": "2022-05-24T11:56:01.102Z"
   },
   {
    "duration": 1382,
    "start_time": "2022-05-24T11:56:02.065Z"
   },
   {
    "duration": 158,
    "start_time": "2022-05-24T11:56:03.449Z"
   },
   {
    "duration": 31,
    "start_time": "2022-05-24T11:56:03.609Z"
   },
   {
    "duration": 135,
    "start_time": "2022-05-24T11:56:03.642Z"
   },
   {
    "duration": 359,
    "start_time": "2022-05-24T11:56:09.365Z"
   },
   {
    "duration": 422,
    "start_time": "2022-05-24T11:56:18.231Z"
   },
   {
    "duration": 15,
    "start_time": "2022-05-24T11:56:19.002Z"
   },
   {
    "duration": 68,
    "start_time": "2022-05-24T11:56:24.020Z"
   },
   {
    "duration": 18,
    "start_time": "2022-05-24T11:56:29.855Z"
   },
   {
    "duration": 291,
    "start_time": "2022-05-24T11:56:48.662Z"
   },
   {
    "duration": 286,
    "start_time": "2022-05-24T11:56:49.682Z"
   },
   {
    "duration": 4,
    "start_time": "2022-05-24T11:56:50.412Z"
   },
   {
    "duration": 457,
    "start_time": "2022-05-24T11:56:50.780Z"
   },
   {
    "duration": 286,
    "start_time": "2022-05-24T11:56:51.239Z"
   },
   {
    "duration": 8,
    "start_time": "2022-05-24T11:56:53.972Z"
   },
   {
    "duration": 334,
    "start_time": "2022-05-24T11:56:54.202Z"
   },
   {
    "duration": 26,
    "start_time": "2022-05-24T11:56:54.971Z"
   },
   {
    "duration": 9,
    "start_time": "2022-05-24T11:56:55.462Z"
   },
   {
    "duration": 27,
    "start_time": "2022-05-24T11:56:56.963Z"
   },
   {
    "duration": 8,
    "start_time": "2022-05-24T11:56:58.262Z"
   },
   {
    "duration": 458,
    "start_time": "2022-05-24T11:56:58.612Z"
   },
   {
    "duration": 127,
    "start_time": "2022-05-24T11:57:00.743Z"
   },
   {
    "duration": 14,
    "start_time": "2022-05-24T11:57:04.755Z"
   },
   {
    "duration": 22,
    "start_time": "2022-05-24T11:57:09.421Z"
   },
   {
    "duration": 167,
    "start_time": "2022-05-24T11:57:11.052Z"
   },
   {
    "duration": 68,
    "start_time": "2022-05-24T11:57:11.662Z"
   },
   {
    "duration": 72,
    "start_time": "2022-05-24T11:57:16.235Z"
   },
   {
    "duration": 48,
    "start_time": "2022-05-24T11:57:17.394Z"
   },
   {
    "duration": 24,
    "start_time": "2022-05-24T11:57:17.922Z"
   },
   {
    "duration": 1321,
    "start_time": "2022-05-24T11:57:23.663Z"
   },
   {
    "duration": 3,
    "start_time": "2022-05-24T11:57:24.986Z"
   },
   {
    "duration": 857,
    "start_time": "2022-05-24T11:57:24.991Z"
   },
   {
    "duration": 1300,
    "start_time": "2022-05-24T11:57:25.851Z"
   },
   {
    "duration": 143,
    "start_time": "2022-05-24T11:57:27.152Z"
   },
   {
    "duration": 17,
    "start_time": "2022-05-24T11:57:27.297Z"
   },
   {
    "duration": 132,
    "start_time": "2022-05-24T11:57:27.316Z"
   },
   {
    "duration": 318,
    "start_time": "2022-05-24T11:57:27.450Z"
   },
   {
    "duration": 377,
    "start_time": "2022-05-24T11:57:27.769Z"
   },
   {
    "duration": 15,
    "start_time": "2022-05-24T11:57:28.148Z"
   },
   {
    "duration": 80,
    "start_time": "2022-05-24T11:57:28.165Z"
   },
   {
    "duration": 262,
    "start_time": "2022-05-24T11:57:28.247Z"
   },
   {
    "duration": 293,
    "start_time": "2022-05-24T11:57:28.511Z"
   },
   {
    "duration": 4,
    "start_time": "2022-05-24T11:57:32.918Z"
   },
   {
    "duration": 454,
    "start_time": "2022-05-24T11:57:33.202Z"
   },
   {
    "duration": 314,
    "start_time": "2022-05-24T11:57:33.658Z"
   },
   {
    "duration": 7,
    "start_time": "2022-05-24T11:57:33.974Z"
   },
   {
    "duration": 308,
    "start_time": "2022-05-24T11:57:33.983Z"
   },
   {
    "duration": 35,
    "start_time": "2022-05-24T11:57:34.293Z"
   },
   {
    "duration": 16,
    "start_time": "2022-05-24T11:57:34.334Z"
   },
   {
    "duration": 27,
    "start_time": "2022-05-24T11:57:34.353Z"
   },
   {
    "duration": 7,
    "start_time": "2022-05-24T11:57:34.382Z"
   },
   {
    "duration": 448,
    "start_time": "2022-05-24T11:57:34.496Z"
   },
   {
    "duration": 110,
    "start_time": "2022-05-24T11:57:34.950Z"
   },
   {
    "duration": 14,
    "start_time": "2022-05-24T11:57:35.062Z"
   },
   {
    "duration": 10,
    "start_time": "2022-05-24T11:57:35.078Z"
   },
   {
    "duration": 193,
    "start_time": "2022-05-24T11:57:35.148Z"
   },
   {
    "duration": 52,
    "start_time": "2022-05-24T11:57:35.354Z"
   },
   {
    "duration": 38,
    "start_time": "2022-05-24T11:57:35.525Z"
   },
   {
    "duration": 24,
    "start_time": "2022-05-24T11:57:35.744Z"
   },
   {
    "duration": 12,
    "start_time": "2022-05-24T11:57:36.057Z"
   },
   {
    "duration": 13,
    "start_time": "2022-05-24T11:57:44.575Z"
   },
   {
    "duration": 62,
    "start_time": "2022-05-24T11:57:45.726Z"
   },
   {
    "duration": 5,
    "start_time": "2022-05-24T11:57:47.755Z"
   },
   {
    "duration": 565,
    "start_time": "2022-05-24T11:58:13.960Z"
   },
   {
    "duration": 27,
    "start_time": "2022-05-24T11:58:17.566Z"
   },
   {
    "duration": 554,
    "start_time": "2022-05-24T11:58:21.398Z"
   },
   {
    "duration": 31,
    "start_time": "2022-05-24T11:58:22.966Z"
   },
   {
    "duration": 429,
    "start_time": "2022-05-24T11:59:05.615Z"
   },
   {
    "duration": 135,
    "start_time": "2022-05-24T11:59:08.506Z"
   },
   {
    "duration": 6,
    "start_time": "2022-05-24T11:59:16.463Z"
   },
   {
    "duration": 3,
    "start_time": "2022-05-24T11:59:26.006Z"
   },
   {
    "duration": 11,
    "start_time": "2022-05-24T12:00:51.946Z"
   },
   {
    "duration": 14,
    "start_time": "2022-05-24T12:02:49.424Z"
   },
   {
    "duration": 15,
    "start_time": "2022-05-24T12:02:55.983Z"
   },
   {
    "duration": 23,
    "start_time": "2022-05-24T12:03:46.336Z"
   },
   {
    "duration": 19,
    "start_time": "2022-05-24T12:04:05.996Z"
   },
   {
    "duration": 15,
    "start_time": "2022-05-24T12:05:31.745Z"
   },
   {
    "duration": 989,
    "start_time": "2022-05-24T12:06:28.986Z"
   },
   {
    "duration": 31,
    "start_time": "2022-05-24T12:06:37.013Z"
   },
   {
    "duration": 3,
    "start_time": "2022-05-24T12:06:57.058Z"
   },
   {
    "duration": 58,
    "start_time": "2022-05-24T12:07:59.350Z"
   },
   {
    "duration": 630,
    "start_time": "2022-05-24T12:08:09.575Z"
   },
   {
    "duration": 48,
    "start_time": "2022-05-24T12:08:28.415Z"
   },
   {
    "duration": 3,
    "start_time": "2022-05-24T12:08:29.417Z"
   },
   {
    "duration": 3,
    "start_time": "2022-05-24T12:08:30.687Z"
   },
   {
    "duration": 359,
    "start_time": "2022-05-24T12:08:31.163Z"
   },
   {
    "duration": 4,
    "start_time": "2022-05-24T12:08:32.971Z"
   },
   {
    "duration": 44,
    "start_time": "2022-05-24T12:08:36.698Z"
   },
   {
    "duration": 6,
    "start_time": "2022-05-24T12:08:37.127Z"
   },
   {
    "duration": 17,
    "start_time": "2022-05-24T12:08:43.906Z"
   },
   {
    "duration": 18,
    "start_time": "2022-05-24T12:08:51.363Z"
   },
   {
    "duration": 9,
    "start_time": "2022-05-24T12:09:13.495Z"
   },
   {
    "duration": 3,
    "start_time": "2022-05-24T12:09:26.457Z"
   },
   {
    "duration": 3,
    "start_time": "2022-05-24T12:09:26.815Z"
   },
   {
    "duration": 2685,
    "start_time": "2022-05-24T12:09:29.555Z"
   },
   {
    "duration": 8,
    "start_time": "2022-05-24T12:09:44.603Z"
   },
   {
    "duration": 2394,
    "start_time": "2022-05-24T12:10:39.044Z"
   },
   {
    "duration": 30,
    "start_time": "2022-05-24T12:11:15.856Z"
   },
   {
    "duration": 5,
    "start_time": "2022-05-24T12:11:16.207Z"
   },
   {
    "duration": 1264,
    "start_time": "2022-05-24T12:11:28.484Z"
   },
   {
    "duration": 4,
    "start_time": "2022-05-24T12:11:29.749Z"
   },
   {
    "duration": 859,
    "start_time": "2022-05-24T12:11:29.754Z"
   },
   {
    "duration": 1199,
    "start_time": "2022-05-24T12:11:30.616Z"
   },
   {
    "duration": 180,
    "start_time": "2022-05-24T12:11:31.817Z"
   },
   {
    "duration": 28,
    "start_time": "2022-05-24T12:11:31.999Z"
   },
   {
    "duration": 144,
    "start_time": "2022-05-24T12:11:32.029Z"
   },
   {
    "duration": 327,
    "start_time": "2022-05-24T12:11:32.175Z"
   },
   {
    "duration": 415,
    "start_time": "2022-05-24T12:11:32.503Z"
   },
   {
    "duration": 20,
    "start_time": "2022-05-24T12:11:32.921Z"
   },
   {
    "duration": 64,
    "start_time": "2022-05-24T12:11:32.942Z"
   },
   {
    "duration": 314,
    "start_time": "2022-05-24T12:11:33.007Z"
   },
   {
    "duration": 273,
    "start_time": "2022-05-24T12:11:33.323Z"
   },
   {
    "duration": 4,
    "start_time": "2022-05-24T12:11:33.598Z"
   },
   {
    "duration": 453,
    "start_time": "2022-05-24T12:11:33.604Z"
   },
   {
    "duration": 252,
    "start_time": "2022-05-24T12:11:34.059Z"
   },
   {
    "duration": 23,
    "start_time": "2022-05-24T12:11:34.313Z"
   },
   {
    "duration": 301,
    "start_time": "2022-05-24T12:11:34.343Z"
   },
   {
    "duration": 26,
    "start_time": "2022-05-24T12:11:34.646Z"
   },
   {
    "duration": 7,
    "start_time": "2022-05-24T12:11:34.674Z"
   },
   {
    "duration": 54,
    "start_time": "2022-05-24T12:11:34.683Z"
   },
   {
    "duration": 7,
    "start_time": "2022-05-24T12:11:34.745Z"
   },
   {
    "duration": 410,
    "start_time": "2022-05-24T12:11:34.754Z"
   },
   {
    "duration": 110,
    "start_time": "2022-05-24T12:11:35.167Z"
   },
   {
    "duration": 14,
    "start_time": "2022-05-24T12:11:35.279Z"
   },
   {
    "duration": 10,
    "start_time": "2022-05-24T12:11:35.295Z"
   },
   {
    "duration": 192,
    "start_time": "2022-05-24T12:11:35.307Z"
   },
   {
    "duration": 68,
    "start_time": "2022-05-24T12:11:35.500Z"
   },
   {
    "duration": 31,
    "start_time": "2022-05-24T12:11:35.570Z"
   },
   {
    "duration": 143,
    "start_time": "2022-05-24T12:11:35.603Z"
   },
   {
    "duration": 4,
    "start_time": "2022-05-24T12:12:35.474Z"
   },
   {
    "duration": 63,
    "start_time": "2022-05-24T12:12:35.984Z"
   },
   {
    "duration": 4,
    "start_time": "2022-05-24T12:12:42.660Z"
   },
   {
    "duration": 79,
    "start_time": "2022-05-24T12:12:44.071Z"
   },
   {
    "duration": 4,
    "start_time": "2022-05-24T12:12:57.312Z"
   },
   {
    "duration": 66,
    "start_time": "2022-05-24T12:12:57.712Z"
   },
   {
    "duration": 4,
    "start_time": "2022-05-24T12:13:23.320Z"
   },
   {
    "duration": 98,
    "start_time": "2022-05-24T12:13:23.812Z"
   },
   {
    "duration": 5,
    "start_time": "2022-05-24T12:13:45.160Z"
   },
   {
    "duration": 70,
    "start_time": "2022-05-24T12:13:45.654Z"
   },
   {
    "duration": 5,
    "start_time": "2022-05-24T12:14:36.162Z"
   },
   {
    "duration": 87,
    "start_time": "2022-05-24T12:14:36.365Z"
   },
   {
    "duration": 6,
    "start_time": "2022-05-24T12:14:38.964Z"
   },
   {
    "duration": 5,
    "start_time": "2022-05-24T12:14:48.943Z"
   },
   {
    "duration": 410,
    "start_time": "2022-05-24T12:14:50.244Z"
   },
   {
    "duration": 941,
    "start_time": "2022-05-24T12:14:50.894Z"
   },
   {
    "duration": 742,
    "start_time": "2022-05-24T12:14:55.151Z"
   },
   {
    "duration": 3,
    "start_time": "2022-05-24T12:14:56.402Z"
   },
   {
    "duration": 37,
    "start_time": "2022-05-24T12:14:56.883Z"
   },
   {
    "duration": 4,
    "start_time": "2022-05-24T12:14:57.285Z"
   },
   {
    "duration": 3,
    "start_time": "2022-05-24T12:14:57.849Z"
   },
   {
    "duration": 359,
    "start_time": "2022-05-24T12:14:58.363Z"
   },
   {
    "duration": 4,
    "start_time": "2022-05-24T12:14:58.894Z"
   },
   {
    "duration": 9,
    "start_time": "2022-05-24T12:14:59.492Z"
   },
   {
    "duration": 52,
    "start_time": "2022-05-24T12:15:14.359Z"
   },
   {
    "duration": 33,
    "start_time": "2022-05-24T12:15:35.851Z"
   },
   {
    "duration": 6,
    "start_time": "2022-05-24T12:15:36.057Z"
   },
   {
    "duration": 4,
    "start_time": "2022-05-24T12:15:42.279Z"
   },
   {
    "duration": 3106,
    "start_time": "2022-05-24T12:15:42.852Z"
   },
   {
    "duration": 568,
    "start_time": "2022-05-24T12:17:16.150Z"
   },
   {
    "duration": 589,
    "start_time": "2022-05-24T12:17:40.722Z"
   },
   {
    "duration": 1228,
    "start_time": "2022-05-24T12:19:46.171Z"
   },
   {
    "duration": 974,
    "start_time": "2022-05-24T12:20:23.678Z"
   },
   {
    "duration": 857,
    "start_time": "2022-05-24T12:20:46.962Z"
   },
   {
    "duration": 4,
    "start_time": "2022-05-24T12:29:22.450Z"
   },
   {
    "duration": 468826,
    "start_time": "2022-05-24T12:37:24.427Z"
   },
   {
    "duration": 4,
    "start_time": "2022-05-24T13:31:04.814Z"
   },
   {
    "duration": 4,
    "start_time": "2022-05-24T13:31:11.805Z"
   },
   {
    "duration": 13,
    "start_time": "2022-05-24T13:33:42.265Z"
   },
   {
    "duration": 12,
    "start_time": "2022-05-24T13:34:13.315Z"
   },
   {
    "duration": 4,
    "start_time": "2022-05-24T13:34:34.095Z"
   },
   {
    "duration": 4,
    "start_time": "2022-05-24T13:34:34.295Z"
   },
   {
    "duration": 5,
    "start_time": "2022-05-24T13:36:12.594Z"
   },
   {
    "duration": 6281,
    "start_time": "2022-05-24T13:36:37.524Z"
   },
   {
    "duration": 10,
    "start_time": "2022-05-24T13:36:50.967Z"
   },
   {
    "duration": 11,
    "start_time": "2022-05-24T13:37:58.386Z"
   },
   {
    "duration": 4,
    "start_time": "2022-05-24T13:38:38.443Z"
   },
   {
    "duration": 14,
    "start_time": "2022-05-24T13:38:42.905Z"
   },
   {
    "duration": 10,
    "start_time": "2022-05-24T13:39:38.698Z"
   },
   {
    "duration": 4,
    "start_time": "2022-05-24T13:40:27.275Z"
   },
   {
    "duration": 4,
    "start_time": "2022-05-24T13:40:27.915Z"
   },
   {
    "duration": 453122,
    "start_time": "2022-05-24T13:40:28.563Z"
   },
   {
    "duration": 7128,
    "start_time": "2022-05-24T13:48:01.687Z"
   },
   {
    "duration": 23,
    "start_time": "2022-05-24T13:48:08.817Z"
   },
   {
    "duration": 6408,
    "start_time": "2022-05-24T13:48:29.743Z"
   },
   {
    "duration": 4,
    "start_time": "2022-05-24T13:50:41.539Z"
   },
   {
    "duration": 10,
    "start_time": "2022-05-24T13:50:46.057Z"
   },
   {
    "duration": 4,
    "start_time": "2022-05-24T13:53:38.563Z"
   },
   {
    "duration": 4,
    "start_time": "2022-05-24T13:53:42.133Z"
   },
   {
    "duration": 6,
    "start_time": "2022-05-24T13:54:05.277Z"
   },
   {
    "duration": 4,
    "start_time": "2022-05-24T13:54:09.943Z"
   },
   {
    "duration": 5,
    "start_time": "2022-05-24T13:54:10.156Z"
   },
   {
    "duration": 6385,
    "start_time": "2022-05-24T13:54:48.877Z"
   },
   {
    "duration": 6382,
    "start_time": "2022-05-24T13:54:58.943Z"
   },
   {
    "duration": 11,
    "start_time": "2022-05-24T13:55:05.327Z"
   },
   {
    "duration": 8,
    "start_time": "2022-05-24T13:55:47.488Z"
   },
   {
    "duration": 9,
    "start_time": "2022-05-24T13:55:50.800Z"
   },
   {
    "duration": 13,
    "start_time": "2022-05-24T13:55:55.085Z"
   },
   {
    "duration": 13,
    "start_time": "2022-05-24T13:57:09.600Z"
   },
   {
    "duration": 2254,
    "start_time": "2022-05-24T13:57:30.843Z"
   },
   {
    "duration": 12,
    "start_time": "2022-05-24T13:58:28.188Z"
   },
   {
    "duration": 4,
    "start_time": "2022-05-24T13:59:03.083Z"
   },
   {
    "duration": 11,
    "start_time": "2022-05-24T13:59:07.156Z"
   },
   {
    "duration": 32912,
    "start_time": "2022-05-24T13:59:14.029Z"
   },
   {
    "duration": 14,
    "start_time": "2022-05-24T14:01:09.582Z"
   },
   {
    "duration": 3,
    "start_time": "2022-05-24T14:03:21.911Z"
   },
   {
    "duration": 4,
    "start_time": "2022-05-24T14:03:22.391Z"
   },
   {
    "duration": 6,
    "start_time": "2022-05-24T14:03:25.252Z"
   },
   {
    "duration": 20,
    "start_time": "2022-05-24T14:03:27.763Z"
   },
   {
    "duration": 14,
    "start_time": "2022-05-24T14:03:39.620Z"
   },
   {
    "duration": 14,
    "start_time": "2022-05-24T14:03:45.880Z"
   },
   {
    "duration": 1502,
    "start_time": "2022-05-24T14:04:00.681Z"
   },
   {
    "duration": 5,
    "start_time": "2022-05-24T14:04:02.186Z"
   },
   {
    "duration": 900,
    "start_time": "2022-05-24T14:04:02.193Z"
   },
   {
    "duration": 1231,
    "start_time": "2022-05-24T14:04:03.095Z"
   },
   {
    "duration": 129,
    "start_time": "2022-05-24T14:04:04.329Z"
   },
   {
    "duration": 18,
    "start_time": "2022-05-24T14:04:04.459Z"
   },
   {
    "duration": 121,
    "start_time": "2022-05-24T14:04:04.478Z"
   },
   {
    "duration": 340,
    "start_time": "2022-05-24T14:04:04.601Z"
   },
   {
    "duration": 390,
    "start_time": "2022-05-24T14:04:04.942Z"
   },
   {
    "duration": 16,
    "start_time": "2022-05-24T14:04:05.334Z"
   },
   {
    "duration": 80,
    "start_time": "2022-05-24T14:04:05.352Z"
   },
   {
    "duration": 288,
    "start_time": "2022-05-24T14:04:05.434Z"
   },
   {
    "duration": 324,
    "start_time": "2022-05-24T14:04:05.726Z"
   },
   {
    "duration": 5,
    "start_time": "2022-05-24T14:04:06.054Z"
   },
   {
    "duration": 538,
    "start_time": "2022-05-24T14:04:06.061Z"
   },
   {
    "duration": 304,
    "start_time": "2022-05-24T14:04:06.600Z"
   },
   {
    "duration": 5,
    "start_time": "2022-05-24T14:04:06.906Z"
   },
   {
    "duration": 348,
    "start_time": "2022-05-24T14:04:06.913Z"
   },
   {
    "duration": 28,
    "start_time": "2022-05-24T14:04:07.263Z"
   },
   {
    "duration": 9,
    "start_time": "2022-05-24T14:04:07.293Z"
   },
   {
    "duration": 47,
    "start_time": "2022-05-24T14:04:07.304Z"
   },
   {
    "duration": 9,
    "start_time": "2022-05-24T14:04:07.353Z"
   },
   {
    "duration": 433,
    "start_time": "2022-05-24T14:04:07.364Z"
   },
   {
    "duration": 91,
    "start_time": "2022-05-24T14:04:07.799Z"
   },
   {
    "duration": 16,
    "start_time": "2022-05-24T14:04:07.891Z"
   },
   {
    "duration": 24,
    "start_time": "2022-05-24T14:04:07.908Z"
   },
   {
    "duration": 177,
    "start_time": "2022-05-24T14:04:07.935Z"
   },
   {
    "duration": 67,
    "start_time": "2022-05-24T14:04:08.114Z"
   },
   {
    "duration": 29,
    "start_time": "2022-05-24T14:04:08.183Z"
   },
   {
    "duration": 17,
    "start_time": "2022-05-24T14:04:08.214Z"
   },
   {
    "duration": 470,
    "start_time": "2022-05-24T14:04:08.232Z"
   },
   {
    "duration": 1024,
    "start_time": "2022-05-24T14:04:08.705Z"
   },
   {
    "duration": 4,
    "start_time": "2022-05-24T14:04:09.731Z"
   },
   {
    "duration": 53,
    "start_time": "2022-05-24T14:04:09.737Z"
   },
   {
    "duration": 4,
    "start_time": "2022-05-24T14:04:09.792Z"
   },
   {
    "duration": 5,
    "start_time": "2022-05-24T14:04:09.798Z"
   },
   {
    "duration": 401,
    "start_time": "2022-05-24T14:04:09.805Z"
   },
   {
    "duration": 4,
    "start_time": "2022-05-24T14:04:10.208Z"
   },
   {
    "duration": 50,
    "start_time": "2022-05-24T14:04:10.214Z"
   },
   {
    "duration": 4,
    "start_time": "2022-05-24T14:04:10.266Z"
   },
   {
    "duration": 9,
    "start_time": "2022-05-24T14:04:10.275Z"
   },
   {
    "duration": 10,
    "start_time": "2022-05-24T14:04:10.286Z"
   },
   {
    "duration": 5,
    "start_time": "2022-05-24T14:04:10.298Z"
   },
   {
    "duration": 23,
    "start_time": "2022-05-24T14:04:10.304Z"
   },
   {
    "duration": 461822,
    "start_time": "2022-05-24T14:04:10.329Z"
   },
   {
    "duration": 6649,
    "start_time": "2022-05-24T14:11:52.153Z"
   },
   {
    "duration": 123,
    "start_time": "2022-05-24T14:11:58.804Z"
   },
   {
    "duration": 0,
    "start_time": "2022-05-24T14:11:58.928Z"
   },
   {
    "duration": 10,
    "start_time": "2022-05-24T14:14:44.710Z"
   },
   {
    "duration": 10,
    "start_time": "2022-05-24T14:14:47.779Z"
   },
   {
    "duration": 5,
    "start_time": "2022-05-24T14:14:59.981Z"
   },
   {
    "duration": 11,
    "start_time": "2022-05-24T14:15:03.208Z"
   },
   {
    "duration": 6904,
    "start_time": "2022-05-24T14:15:15.507Z"
   },
   {
    "duration": 12,
    "start_time": "2022-05-24T14:15:23.830Z"
   },
   {
    "duration": 5,
    "start_time": "2022-05-24T14:15:30.143Z"
   },
   {
    "duration": 6,
    "start_time": "2022-05-24T14:15:32.547Z"
   },
   {
    "duration": 11,
    "start_time": "2022-05-24T14:15:34.677Z"
   },
   {
    "duration": 4,
    "start_time": "2022-05-24T14:16:04.678Z"
   },
   {
    "duration": 12,
    "start_time": "2022-05-24T14:16:08.230Z"
   },
   {
    "duration": 5,
    "start_time": "2022-05-24T14:16:54.007Z"
   },
   {
    "duration": 3,
    "start_time": "2022-05-24T14:16:56.607Z"
   },
   {
    "duration": 11,
    "start_time": "2022-05-24T14:18:58.629Z"
   },
   {
    "duration": 5,
    "start_time": "2022-05-24T14:19:20.082Z"
   },
   {
    "duration": 3,
    "start_time": "2022-05-24T14:21:22.628Z"
   },
   {
    "duration": 8,
    "start_time": "2022-05-24T14:26:03.559Z"
   },
   {
    "duration": 12,
    "start_time": "2022-05-24T14:27:28.812Z"
   },
   {
    "duration": 10,
    "start_time": "2022-05-24T14:27:33.492Z"
   },
   {
    "duration": 5,
    "start_time": "2022-05-24T14:27:45.271Z"
   },
   {
    "duration": 9,
    "start_time": "2022-05-24T14:27:49.554Z"
   },
   {
    "duration": 5,
    "start_time": "2022-05-24T14:27:50.401Z"
   },
   {
    "duration": 4,
    "start_time": "2022-05-24T14:27:51.209Z"
   },
   {
    "duration": 4,
    "start_time": "2022-05-24T14:27:51.730Z"
   },
   {
    "duration": 11,
    "start_time": "2022-05-24T14:27:55.221Z"
   },
   {
    "duration": 1385,
    "start_time": "2022-05-24T14:28:26.242Z"
   },
   {
    "duration": 3,
    "start_time": "2022-05-24T14:28:27.629Z"
   },
   {
    "duration": 824,
    "start_time": "2022-05-24T14:28:27.635Z"
   },
   {
    "duration": 1172,
    "start_time": "2022-05-24T14:28:28.462Z"
   },
   {
    "duration": 131,
    "start_time": "2022-05-24T14:28:29.636Z"
   },
   {
    "duration": 17,
    "start_time": "2022-05-24T14:28:29.769Z"
   },
   {
    "duration": 117,
    "start_time": "2022-05-24T14:28:29.788Z"
   },
   {
    "duration": 308,
    "start_time": "2022-05-24T14:28:29.907Z"
   },
   {
    "duration": 389,
    "start_time": "2022-05-24T14:28:30.217Z"
   },
   {
    "duration": 25,
    "start_time": "2022-05-24T14:28:30.609Z"
   },
   {
    "duration": 65,
    "start_time": "2022-05-24T14:28:30.636Z"
   },
   {
    "duration": 297,
    "start_time": "2022-05-24T14:28:30.703Z"
   },
   {
    "duration": 309,
    "start_time": "2022-05-24T14:28:31.001Z"
   },
   {
    "duration": 5,
    "start_time": "2022-05-24T14:28:31.311Z"
   },
   {
    "duration": 410,
    "start_time": "2022-05-24T14:28:31.327Z"
   },
   {
    "duration": 291,
    "start_time": "2022-05-24T14:28:31.739Z"
   },
   {
    "duration": 7,
    "start_time": "2022-05-24T14:28:32.032Z"
   },
   {
    "duration": 329,
    "start_time": "2022-05-24T14:28:32.041Z"
   },
   {
    "duration": 25,
    "start_time": "2022-05-24T14:28:32.372Z"
   },
   {
    "duration": 8,
    "start_time": "2022-05-24T14:28:32.398Z"
   },
   {
    "duration": 42,
    "start_time": "2022-05-24T14:28:32.408Z"
   },
   {
    "duration": 9,
    "start_time": "2022-05-24T14:28:32.452Z"
   },
   {
    "duration": 400,
    "start_time": "2022-05-24T14:28:32.463Z"
   },
   {
    "duration": 95,
    "start_time": "2022-05-24T14:28:32.865Z"
   },
   {
    "duration": 13,
    "start_time": "2022-05-24T14:28:32.962Z"
   },
   {
    "duration": 15,
    "start_time": "2022-05-24T14:28:32.977Z"
   },
   {
    "duration": 171,
    "start_time": "2022-05-24T14:28:32.994Z"
   },
   {
    "duration": 62,
    "start_time": "2022-05-24T14:28:33.166Z"
   },
   {
    "duration": 33,
    "start_time": "2022-05-24T14:28:33.229Z"
   },
   {
    "duration": 5,
    "start_time": "2022-05-24T14:28:33.264Z"
   },
   {
    "duration": 443,
    "start_time": "2022-05-24T14:28:33.271Z"
   },
   {
    "duration": 939,
    "start_time": "2022-05-24T14:28:33.716Z"
   },
   {
    "duration": 3,
    "start_time": "2022-05-24T14:28:34.657Z"
   },
   {
    "duration": 48,
    "start_time": "2022-05-24T14:28:34.661Z"
   },
   {
    "duration": 4,
    "start_time": "2022-05-24T14:28:34.711Z"
   },
   {
    "duration": 13,
    "start_time": "2022-05-24T14:28:34.716Z"
   },
   {
    "duration": 374,
    "start_time": "2022-05-24T14:28:34.731Z"
   },
   {
    "duration": 4,
    "start_time": "2022-05-24T14:28:35.107Z"
   },
   {
    "duration": 56,
    "start_time": "2022-05-24T14:28:35.112Z"
   },
   {
    "duration": 4,
    "start_time": "2022-05-24T14:28:35.171Z"
   },
   {
    "duration": 17,
    "start_time": "2022-05-24T14:28:35.176Z"
   },
   {
    "duration": 10,
    "start_time": "2022-05-24T14:28:35.195Z"
   },
   {
    "duration": 3,
    "start_time": "2022-05-24T14:28:37.502Z"
   },
   {
    "duration": 4,
    "start_time": "2022-05-24T14:28:38.259Z"
   },
   {
    "duration": 4,
    "start_time": "2022-05-24T14:28:54.789Z"
   },
   {
    "duration": 444587,
    "start_time": "2022-05-24T14:28:55.353Z"
   },
   {
    "duration": 143,
    "start_time": "2022-05-24T14:36:19.941Z"
   },
   {
    "duration": 12,
    "start_time": "2022-05-24T14:36:20.086Z"
   },
   {
    "duration": 51,
    "start_time": "2022-05-24T14:36:34.914Z"
   },
   {
    "duration": 5,
    "start_time": "2022-05-24T14:36:55.280Z"
   },
   {
    "duration": 6778,
    "start_time": "2022-05-24T14:36:58.145Z"
   },
   {
    "duration": 10,
    "start_time": "2022-05-24T14:37:07.795Z"
   },
   {
    "duration": 11,
    "start_time": "2022-05-24T14:38:06.305Z"
   },
   {
    "duration": 10,
    "start_time": "2022-05-24T14:39:32.810Z"
   },
   {
    "duration": 18,
    "start_time": "2022-05-24T14:39:43.387Z"
   },
   {
    "duration": 9,
    "start_time": "2022-05-24T14:40:12.009Z"
   },
   {
    "duration": 13,
    "start_time": "2022-05-24T14:40:15.770Z"
   },
   {
    "duration": 1619,
    "start_time": "2022-05-25T06:39:22.708Z"
   },
   {
    "duration": 4,
    "start_time": "2022-05-25T06:39:27.579Z"
   },
   {
    "duration": 1316,
    "start_time": "2022-05-25T06:39:28.061Z"
   },
   {
    "duration": 1323,
    "start_time": "2022-05-25T06:39:29.380Z"
   },
   {
    "duration": 191,
    "start_time": "2022-05-25T06:39:30.707Z"
   },
   {
    "duration": 21,
    "start_time": "2022-05-25T06:39:30.901Z"
   },
   {
    "duration": 134,
    "start_time": "2022-05-25T06:39:32.055Z"
   },
   {
    "duration": 299,
    "start_time": "2022-05-25T06:39:33.168Z"
   },
   {
    "duration": 370,
    "start_time": "2022-05-25T06:39:34.318Z"
   },
   {
    "duration": 16,
    "start_time": "2022-05-25T06:39:34.691Z"
   },
   {
    "duration": 65,
    "start_time": "2022-05-25T06:39:34.940Z"
   },
   {
    "duration": 401,
    "start_time": "2022-05-25T06:40:53.997Z"
   },
   {
    "duration": 342,
    "start_time": "2022-05-25T06:41:00.041Z"
   },
   {
    "duration": 157,
    "start_time": "2022-05-25T06:41:06.772Z"
   },
   {
    "duration": 219,
    "start_time": "2022-05-25T06:41:12.771Z"
   },
   {
    "duration": 557,
    "start_time": "2022-05-25T06:41:21.257Z"
   },
   {
    "duration": 839,
    "start_time": "2022-05-25T06:41:26.133Z"
   },
   {
    "duration": 529,
    "start_time": "2022-05-25T06:41:30.867Z"
   },
   {
    "duration": 1570,
    "start_time": "2022-05-25T06:56:09.009Z"
   },
   {
    "duration": 42,
    "start_time": "2022-05-25T07:47:51.893Z"
   },
   {
    "duration": 373,
    "start_time": "2022-05-25T07:48:13.729Z"
   },
   {
    "duration": 4,
    "start_time": "2022-05-25T07:48:21.107Z"
   },
   {
    "duration": 1659,
    "start_time": "2022-05-25T07:48:26.010Z"
   },
   {
    "duration": 1588,
    "start_time": "2022-05-25T07:49:02.134Z"
   },
   {
    "duration": 136,
    "start_time": "2022-05-25T07:50:21.516Z"
   },
   {
    "duration": 1601,
    "start_time": "2022-05-25T08:13:40.835Z"
   },
   {
    "duration": 1738,
    "start_time": "2022-05-25T08:13:45.844Z"
   },
   {
    "duration": 1549,
    "start_time": "2022-05-25T08:13:52.004Z"
   },
   {
    "duration": 1788,
    "start_time": "2022-05-25T08:13:58.385Z"
   },
   {
    "duration": 18,
    "start_time": "2022-05-25T08:14:14.660Z"
   },
   {
    "duration": 13,
    "start_time": "2022-05-25T08:14:44.204Z"
   },
   {
    "duration": 11,
    "start_time": "2022-05-25T08:15:04.924Z"
   },
   {
    "duration": 1732,
    "start_time": "2022-05-25T08:16:10.682Z"
   },
   {
    "duration": 5,
    "start_time": "2022-05-25T08:16:13.609Z"
   },
   {
    "duration": 932,
    "start_time": "2022-05-25T08:16:14.155Z"
   },
   {
    "duration": 1401,
    "start_time": "2022-05-25T08:16:15.090Z"
   },
   {
    "duration": 130,
    "start_time": "2022-05-25T08:16:16.492Z"
   },
   {
    "duration": 28,
    "start_time": "2022-05-25T08:16:16.625Z"
   },
   {
    "duration": 147,
    "start_time": "2022-05-25T08:16:16.657Z"
   },
   {
    "duration": 371,
    "start_time": "2022-05-25T08:16:16.806Z"
   },
   {
    "duration": 391,
    "start_time": "2022-05-25T08:16:17.179Z"
   },
   {
    "duration": 15,
    "start_time": "2022-05-25T08:16:17.572Z"
   },
   {
    "duration": 72,
    "start_time": "2022-05-25T08:16:17.589Z"
   },
   {
    "duration": 1593,
    "start_time": "2022-05-25T08:16:17.663Z"
   },
   {
    "duration": 35631,
    "start_time": "2022-05-25T08:16:19.258Z"
   },
   {
    "duration": 349,
    "start_time": "2022-05-25T08:16:54.892Z"
   },
   {
    "duration": 3038,
    "start_time": "2022-05-25T08:17:17.653Z"
   },
   {
    "duration": 20166,
    "start_time": "2022-05-25T08:17:27.574Z"
   },
   {
    "duration": 1765,
    "start_time": "2022-05-25T08:18:35.994Z"
   },
   {
    "duration": 1718,
    "start_time": "2022-05-25T08:18:41.885Z"
   },
   {
    "duration": 1703,
    "start_time": "2022-05-25T08:18:54.452Z"
   },
   {
    "duration": 1871,
    "start_time": "2022-05-25T08:18:59.033Z"
   },
   {
    "duration": 2535,
    "start_time": "2022-05-25T08:19:06.459Z"
   },
   {
    "duration": 1892,
    "start_time": "2022-05-25T08:19:14.994Z"
   },
   {
    "duration": 1624,
    "start_time": "2022-05-25T08:19:23.481Z"
   },
   {
    "duration": 1924,
    "start_time": "2022-05-25T08:19:33.268Z"
   },
   {
    "duration": 2130,
    "start_time": "2022-05-25T08:20:19.679Z"
   },
   {
    "duration": 10,
    "start_time": "2022-05-25T08:20:29.407Z"
   },
   {
    "duration": 2289,
    "start_time": "2022-05-25T08:20:43.606Z"
   },
   {
    "duration": 33,
    "start_time": "2022-05-25T08:20:53.073Z"
   },
   {
    "duration": 10,
    "start_time": "2022-05-25T08:20:54.079Z"
   },
   {
    "duration": 41,
    "start_time": "2022-05-25T08:20:55.134Z"
   },
   {
    "duration": 16,
    "start_time": "2022-05-25T08:20:55.586Z"
   },
   {
    "duration": 3,
    "start_time": "2022-05-25T08:21:39.634Z"
   },
   {
    "duration": 2104,
    "start_time": "2022-05-25T08:21:52.478Z"
   },
   {
    "duration": 2160,
    "start_time": "2022-05-25T08:22:21.032Z"
   },
   {
    "duration": 1954,
    "start_time": "2022-05-25T08:22:38.106Z"
   },
   {
    "duration": 1682,
    "start_time": "2022-05-25T08:22:50.593Z"
   },
   {
    "duration": 11,
    "start_time": "2022-05-25T08:22:52.277Z"
   },
   {
    "duration": 1224,
    "start_time": "2022-05-25T08:22:52.317Z"
   },
   {
    "duration": 1596,
    "start_time": "2022-05-25T08:22:53.544Z"
   },
   {
    "duration": 209,
    "start_time": "2022-05-25T08:22:55.142Z"
   },
   {
    "duration": 28,
    "start_time": "2022-05-25T08:22:55.359Z"
   },
   {
    "duration": 193,
    "start_time": "2022-05-25T08:22:55.390Z"
   },
   {
    "duration": 8,
    "start_time": "2022-05-25T08:22:55.585Z"
   },
   {
    "duration": 504,
    "start_time": "2022-05-25T08:22:55.598Z"
   },
   {
    "duration": 568,
    "start_time": "2022-05-25T08:22:56.108Z"
   },
   {
    "duration": 19,
    "start_time": "2022-05-25T08:22:56.681Z"
   },
   {
    "duration": 127,
    "start_time": "2022-05-25T08:22:56.708Z"
   },
   {
    "duration": 2232,
    "start_time": "2022-05-25T08:22:56.838Z"
   },
   {
    "duration": 2276,
    "start_time": "2022-05-25T08:22:59.072Z"
   },
   {
    "duration": 7,
    "start_time": "2022-05-25T08:23:02.298Z"
   },
   {
    "duration": 728,
    "start_time": "2022-05-25T08:23:03.231Z"
   },
   {
    "duration": 2514,
    "start_time": "2022-05-25T08:23:03.961Z"
   },
   {
    "duration": 8,
    "start_time": "2022-05-25T08:23:08.087Z"
   },
   {
    "duration": 2430,
    "start_time": "2022-05-25T08:23:08.594Z"
   },
   {
    "duration": 2751,
    "start_time": "2022-05-25T08:23:18.532Z"
   },
   {
    "duration": 38,
    "start_time": "2022-05-25T08:23:24.165Z"
   },
   {
    "duration": 11,
    "start_time": "2022-05-25T08:23:24.632Z"
   },
   {
    "duration": 36,
    "start_time": "2022-05-25T08:23:26.209Z"
   },
   {
    "duration": 11,
    "start_time": "2022-05-25T08:23:26.580Z"
   },
   {
    "duration": 171,
    "start_time": "2022-05-25T08:24:26.708Z"
   },
   {
    "duration": 31,
    "start_time": "2022-05-25T08:24:27.633Z"
   },
   {
    "duration": 11,
    "start_time": "2022-05-25T08:24:29.142Z"
   },
   {
    "duration": 1422,
    "start_time": "2022-05-25T08:24:48.400Z"
   },
   {
    "duration": 83,
    "start_time": "2022-05-25T08:25:01.886Z"
   },
   {
    "duration": 39,
    "start_time": "2022-05-25T08:25:03.104Z"
   },
   {
    "duration": 7,
    "start_time": "2022-05-25T08:25:05.383Z"
   },
   {
    "duration": 705,
    "start_time": "2022-05-25T08:25:06.100Z"
   },
   {
    "duration": 1189,
    "start_time": "2022-05-25T08:25:06.807Z"
   },
   {
    "duration": 8,
    "start_time": "2022-05-25T08:25:09.365Z"
   },
   {
    "duration": 75,
    "start_time": "2022-05-25T08:25:09.997Z"
   },
   {
    "duration": 5,
    "start_time": "2022-05-25T08:25:10.293Z"
   },
   {
    "duration": 3,
    "start_time": "2022-05-25T08:25:10.727Z"
   },
   {
    "duration": 507,
    "start_time": "2022-05-25T08:25:11.180Z"
   },
   {
    "duration": 5,
    "start_time": "2022-05-25T08:25:11.691Z"
   },
   {
    "duration": 52,
    "start_time": "2022-05-25T08:25:16.687Z"
   },
   {
    "duration": 9,
    "start_time": "2022-05-25T08:25:17.470Z"
   },
   {
    "duration": 15,
    "start_time": "2022-05-25T08:25:20.589Z"
   },
   {
    "duration": 10,
    "start_time": "2022-05-25T08:25:22.646Z"
   },
   {
    "duration": 5,
    "start_time": "2022-05-25T08:25:23.185Z"
   },
   {
    "duration": 5,
    "start_time": "2022-05-25T08:25:24.245Z"
   },
   {
    "duration": 154715,
    "start_time": "2022-05-25T08:25:25.386Z"
   },
   {
    "duration": 10617,
    "start_time": "2022-05-25T08:28:00.104Z"
   },
   {
    "duration": 20,
    "start_time": "2022-05-25T08:28:10.723Z"
   },
   {
    "duration": 461,
    "start_time": "2022-05-25T08:28:10.752Z"
   },
   {
    "duration": 5,
    "start_time": "2022-05-25T08:29:43.576Z"
   },
   {
    "duration": 31,
    "start_time": "2022-05-25T08:29:54.585Z"
   },
   {
    "duration": 39,
    "start_time": "2022-05-25T08:30:00.315Z"
   },
   {
    "duration": 16,
    "start_time": "2022-05-25T08:30:13.134Z"
   },
   {
    "duration": 3,
    "start_time": "2022-05-25T08:30:15.186Z"
   },
   {
    "duration": 16,
    "start_time": "2022-05-25T08:30:15.388Z"
   },
   {
    "duration": 14,
    "start_time": "2022-05-25T08:30:23.317Z"
   },
   {
    "duration": 35,
    "start_time": "2022-05-25T08:31:35.008Z"
   },
   {
    "duration": 5,
    "start_time": "2022-05-25T08:31:44.118Z"
   },
   {
    "duration": 7,
    "start_time": "2022-05-25T08:31:45.850Z"
   },
   {
    "duration": 9,
    "start_time": "2022-05-25T08:31:52.986Z"
   },
   {
    "duration": 10,
    "start_time": "2022-05-25T08:33:32.212Z"
   },
   {
    "duration": 4,
    "start_time": "2022-05-25T08:33:38.032Z"
   },
   {
    "duration": 5,
    "start_time": "2022-05-25T08:33:46.380Z"
   },
   {
    "duration": 13834,
    "start_time": "2022-05-25T08:34:57.199Z"
   },
   {
    "duration": 134914,
    "start_time": "2022-05-25T08:35:19.379Z"
   },
   {
    "duration": 118392,
    "start_time": "2022-05-25T08:39:33.109Z"
   },
   {
    "duration": 269740,
    "start_time": "2022-05-25T08:41:40.578Z"
   },
   {
    "duration": 1741,
    "start_time": "2022-05-25T08:46:25.954Z"
   },
   {
    "duration": 5,
    "start_time": "2022-05-25T08:46:39.109Z"
   },
   {
    "duration": 5,
    "start_time": "2022-05-25T08:46:56.524Z"
   },
   {
    "duration": 2005,
    "start_time": "2022-05-25T08:47:25.523Z"
   },
   {
    "duration": 50049,
    "start_time": "2022-05-25T08:48:32.889Z"
   },
   {
    "duration": 44117,
    "start_time": "2022-05-25T08:53:16.295Z"
   },
   {
    "duration": 6,
    "start_time": "2022-05-25T08:54:00.414Z"
   },
   {
    "duration": 5,
    "start_time": "2022-05-25T08:54:23.807Z"
   },
   {
    "duration": 5,
    "start_time": "2022-05-25T08:54:35.370Z"
   },
   {
    "duration": 44745,
    "start_time": "2022-05-25T08:55:49.072Z"
   },
   {
    "duration": 5,
    "start_time": "2022-05-25T08:58:09.125Z"
   },
   {
    "duration": 48410,
    "start_time": "2022-05-25T08:58:23.195Z"
   },
   {
    "duration": 6,
    "start_time": "2022-05-25T08:59:11.607Z"
   },
   {
    "duration": 12280,
    "start_time": "2022-05-25T08:59:49.548Z"
   },
   {
    "duration": 5485,
    "start_time": "2022-05-25T09:00:56.160Z"
   },
   {
    "duration": 497242,
    "start_time": "2022-05-25T09:01:05.283Z"
   },
   {
    "duration": 158173,
    "start_time": "2022-05-25T09:10:07.525Z"
   },
   {
    "duration": 5372,
    "start_time": "2022-05-25T09:12:51.825Z"
   },
   {
    "duration": 71525,
    "start_time": "2022-05-25T09:12:59.869Z"
   },
   {
    "duration": 4,
    "start_time": "2022-05-25T09:14:11.396Z"
   },
   {
    "duration": 65644,
    "start_time": "2022-05-25T09:16:05.208Z"
   },
   {
    "duration": 3,
    "start_time": "2022-05-25T09:20:30.742Z"
   },
   {
    "duration": 3,
    "start_time": "2022-05-25T09:25:45.487Z"
   },
   {
    "duration": 11,
    "start_time": "2022-05-25T09:25:46.206Z"
   },
   {
    "duration": 3,
    "start_time": "2022-05-25T09:25:51.927Z"
   },
   {
    "duration": 15,
    "start_time": "2022-05-25T09:26:56.736Z"
   },
   {
    "duration": 13,
    "start_time": "2022-05-25T09:27:01.811Z"
   },
   {
    "duration": 31,
    "start_time": "2022-05-25T09:27:08.798Z"
   },
   {
    "duration": 33,
    "start_time": "2022-05-25T09:27:13.514Z"
   },
   {
    "duration": 27,
    "start_time": "2022-05-25T09:27:25.046Z"
   },
   {
    "duration": 27,
    "start_time": "2022-05-25T09:28:04.612Z"
   },
   {
    "duration": 3,
    "start_time": "2022-05-25T09:28:17.137Z"
   },
   {
    "duration": 29,
    "start_time": "2022-05-25T09:28:17.359Z"
   },
   {
    "duration": 44293,
    "start_time": "2022-05-25T09:31:07.484Z"
   },
   {
    "duration": 15053,
    "start_time": "2022-05-25T09:31:53.050Z"
   },
   {
    "duration": 8796,
    "start_time": "2022-05-25T09:32:15.544Z"
   },
   {
    "duration": 10757,
    "start_time": "2022-05-25T09:32:37.323Z"
   },
   {
    "duration": 141471,
    "start_time": "2022-05-25T09:32:51.797Z"
   },
   {
    "duration": 7770,
    "start_time": "2022-05-25T09:35:25.198Z"
   },
   {
    "duration": 6577,
    "start_time": "2022-05-25T09:35:42.239Z"
   },
   {
    "duration": 1786,
    "start_time": "2022-05-25T09:36:04.428Z"
   },
   {
    "duration": 450381,
    "start_time": "2022-05-25T09:36:25.099Z"
   },
   {
    "duration": 10064,
    "start_time": "2022-05-25T09:44:07.940Z"
   },
   {
    "duration": 15,
    "start_time": "2022-05-25T09:44:34.069Z"
   },
   {
    "duration": 15,
    "start_time": "2022-05-25T09:45:17.796Z"
   },
   {
    "duration": 13,
    "start_time": "2022-05-25T09:45:38.911Z"
   },
   {
    "duration": 15,
    "start_time": "2022-05-25T09:45:42.519Z"
   },
   {
    "duration": 14,
    "start_time": "2022-05-25T09:45:55.883Z"
   },
   {
    "duration": 18,
    "start_time": "2022-05-25T09:46:08.839Z"
   },
   {
    "duration": 5,
    "start_time": "2022-05-25T09:47:25.583Z"
   },
   {
    "duration": 5,
    "start_time": "2022-05-25T09:47:38.848Z"
   },
   {
    "duration": 460909,
    "start_time": "2022-05-25T09:47:58.282Z"
   },
   {
    "duration": 11,
    "start_time": "2022-05-25T09:55:39.193Z"
   },
   {
    "duration": 3,
    "start_time": "2022-05-25T09:55:53.586Z"
   },
   {
    "duration": 15,
    "start_time": "2022-05-25T09:55:54.513Z"
   },
   {
    "duration": 186660,
    "start_time": "2022-05-25T09:56:58.321Z"
   },
   {
    "duration": 84129,
    "start_time": "2022-05-25T10:00:35.227Z"
   },
   {
    "duration": 4,
    "start_time": "2022-05-25T10:01:59.358Z"
   },
   {
    "duration": 3,
    "start_time": "2022-05-25T10:02:09.902Z"
   },
   {
    "duration": 20,
    "start_time": "2022-05-25T10:02:10.604Z"
   },
   {
    "duration": 19,
    "start_time": "2022-05-25T10:02:29.203Z"
   },
   {
    "duration": 10,
    "start_time": "2022-05-25T10:04:46.096Z"
   },
   {
    "duration": 3,
    "start_time": "2022-05-25T10:04:50.638Z"
   },
   {
    "duration": 17,
    "start_time": "2022-05-25T10:04:50.939Z"
   },
   {
    "duration": 3,
    "start_time": "2022-05-25T10:04:53.682Z"
   },
   {
    "duration": 14,
    "start_time": "2022-05-25T10:04:54.048Z"
   },
   {
    "duration": 39,
    "start_time": "2022-05-25T10:07:53.301Z"
   },
   {
    "duration": 3,
    "start_time": "2022-05-25T10:08:08.384Z"
   },
   {
    "duration": 9564,
    "start_time": "2022-05-25T10:08:08.605Z"
   },
   {
    "duration": 94,
    "start_time": "2022-05-25T10:08:18.173Z"
   },
   {
    "duration": 11,
    "start_time": "2022-05-25T10:08:49.796Z"
   },
   {
    "duration": 2,
    "start_time": "2022-05-25T10:08:53.142Z"
   },
   {
    "duration": 14,
    "start_time": "2022-05-25T10:08:53.345Z"
   },
   {
    "duration": 3,
    "start_time": "2022-05-25T10:08:57.513Z"
   },
   {
    "duration": 18,
    "start_time": "2022-05-25T10:08:57.941Z"
   },
   {
    "duration": 3,
    "start_time": "2022-05-25T10:09:05.831Z"
   },
   {
    "duration": 19,
    "start_time": "2022-05-25T10:09:06.222Z"
   },
   {
    "duration": 12,
    "start_time": "2022-05-25T10:09:25.356Z"
   },
   {
    "duration": 2,
    "start_time": "2022-05-25T10:09:29.686Z"
   },
   {
    "duration": 13,
    "start_time": "2022-05-25T10:09:29.889Z"
   },
   {
    "duration": 3,
    "start_time": "2022-05-25T10:09:33.801Z"
   },
   {
    "duration": 23,
    "start_time": "2022-05-25T10:09:34.114Z"
   },
   {
    "duration": 3,
    "start_time": "2022-05-25T10:09:52.843Z"
   },
   {
    "duration": 15,
    "start_time": "2022-05-25T10:09:53.444Z"
   },
   {
    "duration": 1462,
    "start_time": "2022-05-25T10:10:15.731Z"
   },
   {
    "duration": 6,
    "start_time": "2022-05-25T10:10:17.195Z"
   },
   {
    "duration": 891,
    "start_time": "2022-05-25T10:10:17.203Z"
   },
   {
    "duration": 1242,
    "start_time": "2022-05-25T10:10:18.097Z"
   },
   {
    "duration": 142,
    "start_time": "2022-05-25T10:10:19.341Z"
   },
   {
    "duration": 22,
    "start_time": "2022-05-25T10:10:19.485Z"
   },
   {
    "duration": 125,
    "start_time": "2022-05-25T10:10:19.509Z"
   },
   {
    "duration": 17,
    "start_time": "2022-05-25T10:10:19.637Z"
   },
   {
    "duration": 379,
    "start_time": "2022-05-25T10:10:19.656Z"
   },
   {
    "duration": 460,
    "start_time": "2022-05-25T10:10:20.039Z"
   },
   {
    "duration": 17,
    "start_time": "2022-05-25T10:10:20.501Z"
   },
   {
    "duration": 86,
    "start_time": "2022-05-25T10:10:20.520Z"
   },
   {
    "duration": 1698,
    "start_time": "2022-05-25T10:10:20.609Z"
   },
   {
    "duration": 1682,
    "start_time": "2022-05-25T10:10:22.309Z"
   },
   {
    "duration": 5,
    "start_time": "2022-05-25T10:10:23.992Z"
   },
   {
    "duration": 522,
    "start_time": "2022-05-25T10:10:23.998Z"
   },
   {
    "duration": 1589,
    "start_time": "2022-05-25T10:10:24.522Z"
   },
   {
    "duration": 8,
    "start_time": "2022-05-25T10:10:26.113Z"
   },
   {
    "duration": 1514,
    "start_time": "2022-05-25T10:10:26.122Z"
   },
   {
    "duration": 35,
    "start_time": "2022-05-25T10:10:27.638Z"
   },
   {
    "duration": 8,
    "start_time": "2022-05-25T10:10:27.675Z"
   },
   {
    "duration": 27,
    "start_time": "2022-05-25T10:10:27.685Z"
   },
   {
    "duration": 9,
    "start_time": "2022-05-25T10:10:27.714Z"
   },
   {
    "duration": 141,
    "start_time": "2022-05-25T10:10:27.724Z"
   },
   {
    "duration": 14,
    "start_time": "2022-05-25T10:10:27.867Z"
   },
   {
    "duration": 9,
    "start_time": "2022-05-25T10:10:27.883Z"
   },
   {
    "duration": 1531,
    "start_time": "2022-05-25T10:10:27.894Z"
   },
   {
    "duration": 97,
    "start_time": "2022-05-25T10:10:29.431Z"
   },
   {
    "duration": 63,
    "start_time": "2022-05-25T10:10:29.530Z"
   },
   {
    "duration": 5,
    "start_time": "2022-05-25T10:10:29.596Z"
   },
   {
    "duration": 862,
    "start_time": "2022-05-25T10:10:29.604Z"
   },
   {
    "duration": 1141,
    "start_time": "2022-05-25T10:10:30.469Z"
   },
   {
    "duration": 3,
    "start_time": "2022-05-25T10:10:31.612Z"
   },
   {
    "duration": 66,
    "start_time": "2022-05-25T10:10:31.617Z"
   },
   {
    "duration": 6,
    "start_time": "2022-05-25T10:10:31.685Z"
   },
   {
    "duration": 44,
    "start_time": "2022-05-25T10:10:31.693Z"
   },
   {
    "duration": 508,
    "start_time": "2022-05-25T10:10:31.739Z"
   },
   {
    "duration": 4,
    "start_time": "2022-05-25T10:10:32.250Z"
   },
   {
    "duration": 69,
    "start_time": "2022-05-25T10:10:32.255Z"
   },
   {
    "duration": 4,
    "start_time": "2022-05-25T10:10:32.325Z"
   },
   {
    "duration": 80,
    "start_time": "2022-05-25T10:10:32.331Z"
   },
   {
    "duration": 19,
    "start_time": "2022-05-25T10:10:32.413Z"
   },
   {
    "duration": 31,
    "start_time": "2022-05-25T10:10:32.435Z"
   },
   {
    "duration": 18,
    "start_time": "2022-05-25T10:10:32.468Z"
   },
   {
    "duration": 53,
    "start_time": "2022-05-25T10:10:32.488Z"
   },
   {
    "duration": 44,
    "start_time": "2022-05-25T10:10:32.544Z"
   },
   {
    "duration": 19,
    "start_time": "2022-05-25T10:10:32.589Z"
   },
   {
    "duration": 10160,
    "start_time": "2022-05-25T10:10:32.610Z"
   },
   {
    "duration": 3,
    "start_time": "2022-05-25T10:10:42.773Z"
   },
   {
    "duration": 137,
    "start_time": "2022-05-25T10:10:42.777Z"
   },
   {
    "duration": 9,
    "start_time": "2022-05-25T10:14:49.040Z"
   },
   {
    "duration": 4,
    "start_time": "2022-05-25T10:15:03.458Z"
   },
   {
    "duration": 6,
    "start_time": "2022-05-25T10:15:07.968Z"
   },
   {
    "duration": 15,
    "start_time": "2022-05-25T10:15:12.336Z"
   },
   {
    "duration": 13,
    "start_time": "2022-05-25T10:15:17.120Z"
   },
   {
    "duration": 84900,
    "start_time": "2022-05-25T10:15:29.068Z"
   },
   {
    "duration": 3,
    "start_time": "2022-05-25T10:19:13.847Z"
   },
   {
    "duration": 5,
    "start_time": "2022-05-25T10:19:13.998Z"
   },
   {
    "duration": 10,
    "start_time": "2022-05-25T10:23:24.264Z"
   },
   {
    "duration": 3,
    "start_time": "2022-05-25T10:31:56.560Z"
   },
   {
    "duration": 5,
    "start_time": "2022-05-25T10:34:18.692Z"
   },
   {
    "duration": 3,
    "start_time": "2022-05-25T10:35:46.365Z"
   },
   {
    "duration": 14,
    "start_time": "2022-05-25T10:35:50.668Z"
   },
   {
    "duration": 11,
    "start_time": "2022-05-25T10:36:00.895Z"
   },
   {
    "duration": 4,
    "start_time": "2022-05-25T10:36:35.613Z"
   },
   {
    "duration": 10192,
    "start_time": "2022-05-25T10:36:41.715Z"
   },
   {
    "duration": 10639,
    "start_time": "2022-05-25T10:37:03.982Z"
   },
   {
    "duration": 3,
    "start_time": "2022-05-25T10:37:16.145Z"
   },
   {
    "duration": 12,
    "start_time": "2022-05-25T10:37:16.361Z"
   },
   {
    "duration": 13,
    "start_time": "2022-05-25T10:38:11.380Z"
   },
   {
    "duration": 11005,
    "start_time": "2022-05-25T10:38:20.895Z"
   },
   {
    "duration": 4,
    "start_time": "2022-05-25T10:38:31.903Z"
   },
   {
    "duration": 13,
    "start_time": "2022-05-25T10:38:33.064Z"
   },
   {
    "duration": 6,
    "start_time": "2022-05-25T11:15:58.648Z"
   },
   {
    "duration": 6,
    "start_time": "2022-05-25T11:16:07.044Z"
   },
   {
    "duration": 4,
    "start_time": "2022-05-25T11:18:56.408Z"
   },
   {
    "duration": 4,
    "start_time": "2022-05-25T11:19:18.552Z"
   },
   {
    "duration": 5,
    "start_time": "2022-05-25T11:19:48.801Z"
   },
   {
    "duration": 4,
    "start_time": "2022-05-25T11:20:23.354Z"
   },
   {
    "duration": 14,
    "start_time": "2022-05-25T11:23:19.089Z"
   },
   {
    "duration": 3,
    "start_time": "2022-05-25T11:24:09.352Z"
   },
   {
    "duration": 12,
    "start_time": "2022-05-25T11:24:53.081Z"
   },
   {
    "duration": 5,
    "start_time": "2022-05-25T11:25:10.431Z"
   },
   {
    "duration": 3,
    "start_time": "2022-05-25T11:26:41.713Z"
   },
   {
    "duration": 3,
    "start_time": "2022-05-25T11:27:03.464Z"
   },
   {
    "duration": 3,
    "start_time": "2022-05-25T11:27:03.656Z"
   },
   {
    "duration": 3,
    "start_time": "2022-05-25T11:28:41.407Z"
   },
   {
    "duration": 4,
    "start_time": "2022-05-25T11:28:42.832Z"
   },
   {
    "duration": 4,
    "start_time": "2022-05-25T11:28:49.808Z"
   },
   {
    "duration": 11,
    "start_time": "2022-05-25T11:28:53.209Z"
   },
   {
    "duration": 3,
    "start_time": "2022-05-25T11:29:02.917Z"
   },
   {
    "duration": 3,
    "start_time": "2022-05-25T11:29:03.182Z"
   },
   {
    "duration": 12,
    "start_time": "2022-05-25T11:29:03.493Z"
   },
   {
    "duration": 5,
    "start_time": "2022-05-25T11:29:31.331Z"
   },
   {
    "duration": 13,
    "start_time": "2022-05-25T11:29:37.304Z"
   },
   {
    "duration": 3,
    "start_time": "2022-05-25T11:30:52.977Z"
   },
   {
    "duration": 3,
    "start_time": "2022-05-25T11:38:31.541Z"
   },
   {
    "duration": 884604,
    "start_time": "2022-05-25T11:39:51.232Z"
   },
   {
    "duration": 3,
    "start_time": "2022-05-25T11:54:41.217Z"
   },
   {
    "duration": 4,
    "start_time": "2022-05-25T11:55:15.616Z"
   },
   {
    "duration": 54890,
    "start_time": "2022-05-25T11:55:17.299Z"
   },
   {
    "duration": 2,
    "start_time": "2022-05-25T11:56:21.774Z"
   },
   {
    "duration": 4,
    "start_time": "2022-05-25T11:56:23.424Z"
   },
   {
    "duration": 19716,
    "start_time": "2022-05-25T11:56:24.154Z"
   },
   {
    "duration": 3,
    "start_time": "2022-05-25T11:56:49.265Z"
   },
   {
    "duration": 8889,
    "start_time": "2022-05-25T11:56:51.273Z"
   },
   {
    "duration": 4,
    "start_time": "2022-05-25T11:57:01.004Z"
   },
   {
    "duration": 4,
    "start_time": "2022-05-25T11:57:01.600Z"
   },
   {
    "duration": 25414,
    "start_time": "2022-05-25T11:57:01.915Z"
   },
   {
    "duration": 11,
    "start_time": "2022-05-25T11:57:31.056Z"
   },
   {
    "duration": 3,
    "start_time": "2022-05-25T11:58:01.377Z"
   },
   {
    "duration": 3,
    "start_time": "2022-05-25T11:58:01.797Z"
   },
   {
    "duration": 661759,
    "start_time": "2022-05-25T11:58:02.207Z"
   },
   {
    "duration": 0,
    "start_time": "2022-05-25T12:09:03.968Z"
   },
   {
    "duration": 3,
    "start_time": "2022-05-25T12:13:26.600Z"
   },
   {
    "duration": 3,
    "start_time": "2022-05-25T12:13:36.862Z"
   },
   {
    "duration": 3,
    "start_time": "2022-05-25T12:13:37.573Z"
   },
   {
    "duration": 87245,
    "start_time": "2022-05-25T12:13:49.884Z"
   },
   {
    "duration": 5,
    "start_time": "2022-05-25T12:15:25.623Z"
   },
   {
    "duration": 5,
    "start_time": "2022-05-25T12:15:37.125Z"
   },
   {
    "duration": 220229,
    "start_time": "2022-05-25T12:16:17.765Z"
   },
   {
    "duration": 2,
    "start_time": "2022-05-25T12:20:20.921Z"
   },
   {
    "duration": 3,
    "start_time": "2022-05-25T12:20:27.353Z"
   },
   {
    "duration": 2,
    "start_time": "2022-05-25T12:20:27.858Z"
   },
   {
    "duration": 2,
    "start_time": "2022-05-25T12:20:28.039Z"
   },
   {
    "duration": 11,
    "start_time": "2022-05-25T12:20:41.510Z"
   },
   {
    "duration": 102811,
    "start_time": "2022-05-25T12:20:46.132Z"
   },
   {
    "duration": 42046,
    "start_time": "2022-05-25T12:22:30.018Z"
   },
   {
    "duration": 9965,
    "start_time": "2022-05-25T12:23:25.044Z"
   },
   {
    "duration": 222143,
    "start_time": "2022-05-25T12:23:38.955Z"
   },
   {
    "duration": 3,
    "start_time": "2022-05-25T12:27:27.929Z"
   },
   {
    "duration": 10761,
    "start_time": "2022-05-25T12:27:29.081Z"
   },
   {
    "duration": 12,
    "start_time": "2022-05-25T12:30:04.170Z"
   },
   {
    "duration": 10079,
    "start_time": "2022-05-25T12:30:23.800Z"
   },
   {
    "duration": 10,
    "start_time": "2022-05-25T12:31:11.469Z"
   },
   {
    "duration": 10,
    "start_time": "2022-05-25T12:32:00.828Z"
   },
   {
    "duration": 125,
    "start_time": "2022-05-25T12:32:04.788Z"
   },
   {
    "duration": 10,
    "start_time": "2022-05-25T12:32:07.173Z"
   },
   {
    "duration": 12688,
    "start_time": "2022-05-25T12:32:07.299Z"
   },
   {
    "duration": 0,
    "start_time": "2022-05-25T12:32:19.989Z"
   },
   {
    "duration": 9,
    "start_time": "2022-05-25T12:32:21.529Z"
   },
   {
    "duration": 12,
    "start_time": "2022-05-25T12:32:28.345Z"
   },
   {
    "duration": 4981,
    "start_time": "2022-05-25T12:32:56.305Z"
   },
   {
    "duration": 4,
    "start_time": "2022-05-25T12:33:01.288Z"
   },
   {
    "duration": 1314,
    "start_time": "2022-05-25T12:33:01.294Z"
   },
   {
    "duration": 1260,
    "start_time": "2022-05-25T12:33:02.611Z"
   },
   {
    "duration": 122,
    "start_time": "2022-05-25T12:33:03.873Z"
   },
   {
    "duration": 17,
    "start_time": "2022-05-25T12:33:03.997Z"
   },
   {
    "duration": 146,
    "start_time": "2022-05-25T12:33:04.016Z"
   },
   {
    "duration": 4,
    "start_time": "2022-05-25T12:33:04.168Z"
   },
   {
    "duration": 312,
    "start_time": "2022-05-25T12:33:04.174Z"
   },
   {
    "duration": 404,
    "start_time": "2022-05-25T12:33:04.489Z"
   },
   {
    "duration": 18,
    "start_time": "2022-05-25T12:33:04.897Z"
   },
   {
    "duration": 71,
    "start_time": "2022-05-25T12:33:04.917Z"
   },
   {
    "duration": 1724,
    "start_time": "2022-05-25T12:33:04.990Z"
   },
   {
    "duration": 1808,
    "start_time": "2022-05-25T12:33:06.715Z"
   },
   {
    "duration": 5,
    "start_time": "2022-05-25T12:33:08.524Z"
   },
   {
    "duration": 547,
    "start_time": "2022-05-25T12:33:08.531Z"
   },
   {
    "duration": 1605,
    "start_time": "2022-05-25T12:33:09.085Z"
   },
   {
    "duration": 7,
    "start_time": "2022-05-25T12:33:10.692Z"
   },
   {
    "duration": 1538,
    "start_time": "2022-05-25T12:33:10.700Z"
   },
   {
    "duration": 34,
    "start_time": "2022-05-25T12:33:12.242Z"
   },
   {
    "duration": 11,
    "start_time": "2022-05-25T12:33:12.278Z"
   },
   {
    "duration": 28,
    "start_time": "2022-05-25T12:33:12.290Z"
   },
   {
    "duration": 7,
    "start_time": "2022-05-25T12:33:12.320Z"
   },
   {
    "duration": 136,
    "start_time": "2022-05-25T12:33:12.329Z"
   },
   {
    "duration": 17,
    "start_time": "2022-05-25T12:33:12.468Z"
   },
   {
    "duration": 11,
    "start_time": "2022-05-25T12:33:12.487Z"
   },
   {
    "duration": 1504,
    "start_time": "2022-05-25T12:33:12.499Z"
   },
   {
    "duration": 70,
    "start_time": "2022-05-25T12:33:14.006Z"
   },
   {
    "duration": 42,
    "start_time": "2022-05-25T12:33:14.077Z"
   },
   {
    "duration": 5,
    "start_time": "2022-05-25T12:33:14.121Z"
   },
   {
    "duration": 606,
    "start_time": "2022-05-25T12:33:14.127Z"
   },
   {
    "duration": 1286,
    "start_time": "2022-05-25T12:33:14.736Z"
   },
   {
    "duration": 4,
    "start_time": "2022-05-25T12:33:16.024Z"
   },
   {
    "duration": 68,
    "start_time": "2022-05-25T12:33:16.030Z"
   },
   {
    "duration": 4,
    "start_time": "2022-05-25T12:33:16.100Z"
   },
   {
    "duration": 21,
    "start_time": "2022-05-25T12:33:16.106Z"
   },
   {
    "duration": 487,
    "start_time": "2022-05-25T12:33:16.129Z"
   },
   {
    "duration": 4,
    "start_time": "2022-05-25T12:33:16.618Z"
   },
   {
    "duration": 65,
    "start_time": "2022-05-25T12:33:16.624Z"
   },
   {
    "duration": 5,
    "start_time": "2022-05-25T12:33:16.691Z"
   },
   {
    "duration": 19,
    "start_time": "2022-05-25T12:33:16.697Z"
   },
   {
    "duration": 15,
    "start_time": "2022-05-25T12:33:16.718Z"
   },
   {
    "duration": 11,
    "start_time": "2022-05-25T12:33:16.735Z"
   },
   {
    "duration": 11,
    "start_time": "2022-05-25T12:33:16.748Z"
   },
   {
    "duration": 26,
    "start_time": "2022-05-25T12:33:16.762Z"
   },
   {
    "duration": 31,
    "start_time": "2022-05-25T12:33:16.790Z"
   },
   {
    "duration": 10319,
    "start_time": "2022-05-25T12:33:16.825Z"
   },
   {
    "duration": 4,
    "start_time": "2022-05-25T12:34:10.050Z"
   },
   {
    "duration": 10297,
    "start_time": "2022-05-25T12:34:13.223Z"
   },
   {
    "duration": 0,
    "start_time": "2022-05-25T12:34:23.522Z"
   },
   {
    "duration": 9991,
    "start_time": "2022-05-25T12:34:35.420Z"
   },
   {
    "duration": 9,
    "start_time": "2022-05-25T12:34:50.835Z"
   },
   {
    "duration": 11,
    "start_time": "2022-05-25T12:35:01.699Z"
   },
   {
    "duration": 12,
    "start_time": "2022-05-25T12:35:26.322Z"
   },
   {
    "duration": 5,
    "start_time": "2022-05-25T12:36:23.970Z"
   },
   {
    "duration": 10357,
    "start_time": "2022-05-25T12:36:27.336Z"
   },
   {
    "duration": 4,
    "start_time": "2022-05-25T12:37:21.994Z"
   },
   {
    "duration": 9946,
    "start_time": "2022-05-25T12:37:25.396Z"
   },
   {
    "duration": 5,
    "start_time": "2022-05-25T12:38:53.817Z"
   },
   {
    "duration": 75,
    "start_time": "2022-05-25T12:38:57.648Z"
   },
   {
    "duration": 10237,
    "start_time": "2022-05-25T12:39:09.292Z"
   },
   {
    "duration": 10,
    "start_time": "2022-05-25T12:39:20.841Z"
   },
   {
    "duration": 9881,
    "start_time": "2022-05-25T12:41:00.011Z"
   },
   {
    "duration": 9954,
    "start_time": "2022-05-25T12:41:46.816Z"
   },
   {
    "duration": 12,
    "start_time": "2022-05-25T12:45:44.329Z"
   },
   {
    "duration": 13,
    "start_time": "2022-05-25T12:45:53.215Z"
   },
   {
    "duration": 4,
    "start_time": "2022-05-25T12:46:51.668Z"
   },
   {
    "duration": 12,
    "start_time": "2022-05-25T12:46:55.012Z"
   },
   {
    "duration": 12,
    "start_time": "2022-05-25T12:49:26.422Z"
   },
   {
    "duration": 12,
    "start_time": "2022-05-25T12:51:37.540Z"
   },
   {
    "duration": 2,
    "start_time": "2022-05-25T12:52:25.025Z"
   },
   {
    "duration": 3,
    "start_time": "2022-05-25T12:52:30.938Z"
   },
   {
    "duration": 5,
    "start_time": "2022-05-25T12:53:24.014Z"
   },
   {
    "duration": 4,
    "start_time": "2022-05-25T12:53:46.938Z"
   },
   {
    "duration": 4,
    "start_time": "2022-05-25T12:56:49.045Z"
   },
   {
    "duration": 4,
    "start_time": "2022-05-25T12:56:53.343Z"
   },
   {
    "duration": 4,
    "start_time": "2022-05-25T12:56:56.510Z"
   },
   {
    "duration": 31,
    "start_time": "2022-05-25T12:57:24.549Z"
   },
   {
    "duration": 9619,
    "start_time": "2022-05-25T12:57:27.285Z"
   },
   {
    "duration": 5,
    "start_time": "2022-05-25T12:57:37.544Z"
   },
   {
    "duration": 3,
    "start_time": "2022-05-25T12:57:37.749Z"
   },
   {
    "duration": 4,
    "start_time": "2022-05-25T12:57:37.943Z"
   },
   {
    "duration": 5,
    "start_time": "2022-05-25T12:57:38.117Z"
   },
   {
    "duration": 57,
    "start_time": "2022-05-25T12:59:12.101Z"
   },
   {
    "duration": 14,
    "start_time": "2022-05-25T12:59:57.993Z"
   },
   {
    "duration": 6,
    "start_time": "2022-05-25T13:01:24.427Z"
   },
   {
    "duration": 24,
    "start_time": "2022-05-25T13:01:34.000Z"
   },
   {
    "duration": 6,
    "start_time": "2022-05-25T13:01:39.226Z"
   },
   {
    "duration": 7,
    "start_time": "2022-05-25T13:01:48.109Z"
   },
   {
    "duration": 4,
    "start_time": "2022-05-25T13:01:56.695Z"
   },
   {
    "duration": 6,
    "start_time": "2022-05-25T13:02:02.138Z"
   },
   {
    "duration": 17,
    "start_time": "2022-05-25T13:02:44.525Z"
   },
   {
    "duration": 6,
    "start_time": "2022-05-25T13:02:51.401Z"
   },
   {
    "duration": 8,
    "start_time": "2022-05-25T13:22:21.818Z"
   },
   {
    "duration": 14,
    "start_time": "2022-05-25T13:22:56.384Z"
   },
   {
    "duration": 14632,
    "start_time": "2022-05-25T13:22:59.634Z"
   },
   {
    "duration": 6,
    "start_time": "2022-05-25T13:23:16.398Z"
   },
   {
    "duration": 5,
    "start_time": "2022-05-25T13:23:17.534Z"
   },
   {
    "duration": 5,
    "start_time": "2022-05-25T13:23:19.424Z"
   },
   {
    "duration": 4,
    "start_time": "2022-05-25T13:24:13.535Z"
   },
   {
    "duration": 6,
    "start_time": "2022-05-25T13:25:05.504Z"
   },
   {
    "duration": 22,
    "start_time": "2022-05-25T13:25:09.756Z"
   },
   {
    "duration": 4,
    "start_time": "2022-05-25T13:25:38.745Z"
   },
   {
    "duration": 18,
    "start_time": "2022-05-25T13:25:40.273Z"
   },
   {
    "duration": 4,
    "start_time": "2022-05-25T13:25:59.243Z"
   },
   {
    "duration": 15,
    "start_time": "2022-05-25T13:25:59.623Z"
   },
   {
    "duration": 13,
    "start_time": "2022-05-25T13:26:17.465Z"
   },
   {
    "duration": 4,
    "start_time": "2022-05-25T13:26:19.572Z"
   },
   {
    "duration": 14,
    "start_time": "2022-05-25T13:26:19.736Z"
   },
   {
    "duration": 86481,
    "start_time": "2022-05-25T13:26:57.971Z"
   },
   {
    "duration": 3,
    "start_time": "2022-05-25T13:28:44.846Z"
   },
   {
    "duration": 16,
    "start_time": "2022-05-25T13:28:45.569Z"
   },
   {
    "duration": 10320,
    "start_time": "2022-05-25T13:29:22.509Z"
   },
   {
    "duration": 3,
    "start_time": "2022-05-25T13:29:32.831Z"
   },
   {
    "duration": 15,
    "start_time": "2022-05-25T13:29:32.836Z"
   },
   {
    "duration": 4,
    "start_time": "2022-05-25T13:29:56.835Z"
   },
   {
    "duration": 4,
    "start_time": "2022-05-25T13:30:10.383Z"
   },
   {
    "duration": 15,
    "start_time": "2022-05-25T13:30:11.156Z"
   },
   {
    "duration": 5,
    "start_time": "2022-05-25T13:30:17.617Z"
   },
   {
    "duration": 12,
    "start_time": "2022-05-25T13:30:21.839Z"
   },
   {
    "duration": 12,
    "start_time": "2022-05-25T13:30:28.954Z"
   },
   {
    "duration": 16,
    "start_time": "2022-05-25T13:30:31.983Z"
   },
   {
    "duration": 87179,
    "start_time": "2022-05-25T13:30:37.284Z"
   },
   {
    "duration": 4,
    "start_time": "2022-05-25T13:32:04.466Z"
   },
   {
    "duration": 21,
    "start_time": "2022-05-25T13:32:04.471Z"
   },
   {
    "duration": 10048,
    "start_time": "2022-05-25T13:32:58.023Z"
   },
   {
    "duration": 3,
    "start_time": "2022-05-25T13:33:13.432Z"
   },
   {
    "duration": 12,
    "start_time": "2022-05-25T13:33:16.667Z"
   },
   {
    "duration": 13,
    "start_time": "2022-05-25T13:33:48.435Z"
   },
   {
    "duration": 10578,
    "start_time": "2022-05-25T13:33:53.944Z"
   },
   {
    "duration": 4,
    "start_time": "2022-05-25T13:34:04.524Z"
   },
   {
    "duration": 23,
    "start_time": "2022-05-25T13:34:04.530Z"
   },
   {
    "duration": 86326,
    "start_time": "2022-05-25T13:34:04.555Z"
   },
   {
    "duration": 2,
    "start_time": "2022-05-25T13:35:30.883Z"
   },
   {
    "duration": 30,
    "start_time": "2022-05-25T13:35:30.887Z"
   },
   {
    "duration": 9670,
    "start_time": "2022-05-25T13:35:30.919Z"
   },
   {
    "duration": 2,
    "start_time": "2022-05-25T13:35:40.591Z"
   },
   {
    "duration": 19,
    "start_time": "2022-05-25T13:35:40.595Z"
   },
   {
    "duration": 21,
    "start_time": "2022-05-25T13:36:14.410Z"
   },
   {
    "duration": 11,
    "start_time": "2022-05-25T13:38:50.698Z"
   },
   {
    "duration": 3,
    "start_time": "2022-05-25T13:38:53.420Z"
   },
   {
    "duration": 225,
    "start_time": "2022-05-25T13:38:53.829Z"
   },
   {
    "duration": 4,
    "start_time": "2022-05-25T13:39:02.357Z"
   },
   {
    "duration": 11,
    "start_time": "2022-05-25T13:39:09.650Z"
   },
   {
    "duration": 15,
    "start_time": "2022-05-25T13:40:15.482Z"
   },
   {
    "duration": 3,
    "start_time": "2022-05-25T13:40:19.601Z"
   },
   {
    "duration": 15,
    "start_time": "2022-05-25T13:40:20.035Z"
   },
   {
    "duration": 13274,
    "start_time": "2022-05-25T13:40:24.759Z"
   },
   {
    "duration": 7,
    "start_time": "2022-05-25T13:40:38.036Z"
   },
   {
    "duration": 39,
    "start_time": "2022-05-25T13:40:38.060Z"
   },
   {
    "duration": 80962,
    "start_time": "2022-05-25T13:40:38.107Z"
   },
   {
    "duration": 0,
    "start_time": "2022-05-25T13:41:59.072Z"
   },
   {
    "duration": 0,
    "start_time": "2022-05-25T13:41:59.073Z"
   },
   {
    "duration": 0,
    "start_time": "2022-05-25T13:41:59.075Z"
   },
   {
    "duration": 0,
    "start_time": "2022-05-25T13:41:59.076Z"
   },
   {
    "duration": 0,
    "start_time": "2022-05-25T13:41:59.077Z"
   },
   {
    "duration": 0,
    "start_time": "2022-05-25T13:41:59.079Z"
   },
   {
    "duration": 0,
    "start_time": "2022-05-25T13:41:59.080Z"
   },
   {
    "duration": 0,
    "start_time": "2022-05-25T13:41:59.081Z"
   },
   {
    "duration": 0,
    "start_time": "2022-05-25T13:41:59.083Z"
   },
   {
    "duration": 0,
    "start_time": "2022-05-25T13:41:59.084Z"
   },
   {
    "duration": 0,
    "start_time": "2022-05-25T13:41:59.085Z"
   },
   {
    "duration": 0,
    "start_time": "2022-05-25T13:41:59.086Z"
   },
   {
    "duration": 0,
    "start_time": "2022-05-25T13:41:59.088Z"
   },
   {
    "duration": 0,
    "start_time": "2022-05-25T13:41:59.089Z"
   },
   {
    "duration": 1,
    "start_time": "2022-05-25T13:41:59.090Z"
   },
   {
    "duration": 9,
    "start_time": "2022-05-25T13:42:00.748Z"
   },
   {
    "duration": 11287,
    "start_time": "2022-05-25T13:42:04.491Z"
   },
   {
    "duration": 4,
    "start_time": "2022-05-25T13:42:15.781Z"
   },
   {
    "duration": 36,
    "start_time": "2022-05-25T13:42:15.787Z"
   },
   {
    "duration": 88539,
    "start_time": "2022-05-25T13:42:15.826Z"
   },
   {
    "duration": 2,
    "start_time": "2022-05-25T13:43:44.367Z"
   },
   {
    "duration": 22,
    "start_time": "2022-05-25T13:43:44.371Z"
   },
   {
    "duration": 9345,
    "start_time": "2022-05-25T13:43:44.395Z"
   },
   {
    "duration": 2,
    "start_time": "2022-05-25T13:43:53.742Z"
   },
   {
    "duration": 17,
    "start_time": "2022-05-25T13:43:53.746Z"
   },
   {
    "duration": 10,
    "start_time": "2022-05-25T13:43:53.766Z"
   },
   {
    "duration": 177,
    "start_time": "2022-05-25T13:43:53.778Z"
   },
   {
    "duration": 8,
    "start_time": "2022-05-25T13:43:53.957Z"
   },
   {
    "duration": 18,
    "start_time": "2022-05-25T13:43:54.053Z"
   },
   {
    "duration": 27526,
    "start_time": "2022-05-25T13:43:54.073Z"
   },
   {
    "duration": 3,
    "start_time": "2022-05-25T13:44:21.652Z"
   },
   {
    "duration": 116,
    "start_time": "2022-05-25T13:44:21.657Z"
   },
   {
    "duration": 97,
    "start_time": "2022-05-25T13:44:21.776Z"
   },
   {
    "duration": 4,
    "start_time": "2022-05-25T13:44:21.875Z"
   },
   {
    "duration": 118,
    "start_time": "2022-05-25T13:44:21.953Z"
   },
   {
    "duration": 1034,
    "start_time": "2022-05-25T13:46:25.293Z"
   },
   {
    "duration": 1740,
    "start_time": "2022-05-25T13:48:21.764Z"
   },
   {
    "duration": 16215,
    "start_time": "2022-05-25T13:49:26.481Z"
   },
   {
    "duration": 24712,
    "start_time": "2022-05-25T13:50:14.384Z"
   },
   {
    "duration": 22459,
    "start_time": "2022-05-25T13:51:50.484Z"
   },
   {
    "duration": 23571,
    "start_time": "2022-05-25T13:52:51.981Z"
   },
   {
    "duration": 23825,
    "start_time": "2022-05-25T13:53:24.856Z"
   },
   {
    "duration": 3,
    "start_time": "2022-05-25T13:53:59.816Z"
   },
   {
    "duration": 3,
    "start_time": "2022-05-25T13:54:00.487Z"
   },
   {
    "duration": 3,
    "start_time": "2022-05-25T13:54:01.403Z"
   },
   {
    "duration": 21564,
    "start_time": "2022-05-25T13:54:02.294Z"
   },
   {
    "duration": 4,
    "start_time": "2022-05-25T13:54:40.583Z"
   },
   {
    "duration": 42,
    "start_time": "2022-05-25T13:57:52.618Z"
   },
   {
    "duration": 3,
    "start_time": "2022-05-25T13:58:14.467Z"
   },
   {
    "duration": 1030,
    "start_time": "2022-05-25T13:58:22.851Z"
   },
   {
    "duration": 3,
    "start_time": "2022-05-25T13:58:46.942Z"
   },
   {
    "duration": 3,
    "start_time": "2022-05-25T13:58:49.993Z"
   },
   {
    "duration": 12,
    "start_time": "2022-05-25T13:59:00.243Z"
   },
   {
    "duration": 981,
    "start_time": "2022-05-25T13:59:46.849Z"
   },
   {
    "duration": 2857,
    "start_time": "2022-05-25T14:00:15.694Z"
   },
   {
    "duration": 3,
    "start_time": "2022-05-25T14:00:23.285Z"
   },
   {
    "duration": 11,
    "start_time": "2022-05-25T14:00:29.716Z"
   },
   {
    "duration": 883,
    "start_time": "2022-05-25T14:01:10.082Z"
   },
   {
    "duration": 3,
    "start_time": "2022-05-25T14:01:20.409Z"
   },
   {
    "duration": 14,
    "start_time": "2022-05-25T14:01:23.506Z"
   },
   {
    "duration": 1191,
    "start_time": "2022-05-25T14:02:53.315Z"
   },
   {
    "duration": 10,
    "start_time": "2022-05-25T14:03:20.562Z"
   },
   {
    "duration": 3,
    "start_time": "2022-05-25T14:03:24.068Z"
   },
   {
    "duration": 14,
    "start_time": "2022-05-25T14:03:24.361Z"
   },
   {
    "duration": 3,
    "start_time": "2022-05-25T14:03:27.369Z"
   },
   {
    "duration": 13,
    "start_time": "2022-05-25T14:03:27.802Z"
   },
   {
    "duration": 4,
    "start_time": "2022-05-25T14:03:31.155Z"
   },
   {
    "duration": 11,
    "start_time": "2022-05-25T14:03:31.659Z"
   },
   {
    "duration": 4,
    "start_time": "2022-05-25T14:03:35.390Z"
   },
   {
    "duration": 15,
    "start_time": "2022-05-25T14:03:35.736Z"
   },
   {
    "duration": 2,
    "start_time": "2022-05-25T14:03:42.634Z"
   },
   {
    "duration": 11,
    "start_time": "2022-05-25T14:03:43.427Z"
   },
   {
    "duration": 7,
    "start_time": "2022-05-25T14:03:48.027Z"
   },
   {
    "duration": 15,
    "start_time": "2022-05-25T14:03:48.408Z"
   },
   {
    "duration": 961,
    "start_time": "2022-05-25T14:04:02.712Z"
   },
   {
    "duration": 3,
    "start_time": "2022-05-25T14:04:05.066Z"
   },
   {
    "duration": 13,
    "start_time": "2022-05-25T14:04:06.099Z"
   },
   {
    "duration": 1432,
    "start_time": "2022-05-25T14:04:23.565Z"
   },
   {
    "duration": 3,
    "start_time": "2022-05-25T14:04:24.999Z"
   },
   {
    "duration": 1223,
    "start_time": "2022-05-25T14:04:25.004Z"
   },
   {
    "duration": 1122,
    "start_time": "2022-05-25T14:04:26.230Z"
   },
   {
    "duration": 107,
    "start_time": "2022-05-25T14:04:27.354Z"
   },
   {
    "duration": 13,
    "start_time": "2022-05-25T14:04:27.463Z"
   },
   {
    "duration": 112,
    "start_time": "2022-05-25T14:04:27.477Z"
   },
   {
    "duration": 3,
    "start_time": "2022-05-25T14:04:27.591Z"
   },
   {
    "duration": 305,
    "start_time": "2022-05-25T14:04:27.596Z"
   },
   {
    "duration": 376,
    "start_time": "2022-05-25T14:04:27.904Z"
   },
   {
    "duration": 15,
    "start_time": "2022-05-25T14:04:28.282Z"
   },
   {
    "duration": 70,
    "start_time": "2022-05-25T14:04:28.298Z"
   },
   {
    "duration": 1412,
    "start_time": "2022-05-25T14:04:28.369Z"
   },
   {
    "duration": 1815,
    "start_time": "2022-05-25T14:04:29.783Z"
   },
   {
    "duration": 5,
    "start_time": "2022-05-25T14:04:31.600Z"
   },
   {
    "duration": 450,
    "start_time": "2022-05-25T14:04:31.606Z"
   },
   {
    "duration": 1504,
    "start_time": "2022-05-25T14:04:32.059Z"
   },
   {
    "duration": 6,
    "start_time": "2022-05-25T14:04:33.565Z"
   },
   {
    "duration": 1514,
    "start_time": "2022-05-25T14:04:33.573Z"
   },
   {
    "duration": 32,
    "start_time": "2022-05-25T14:04:35.089Z"
   },
   {
    "duration": 11,
    "start_time": "2022-05-25T14:04:35.123Z"
   },
   {
    "duration": 32,
    "start_time": "2022-05-25T14:04:35.151Z"
   },
   {
    "duration": 13,
    "start_time": "2022-05-25T14:04:35.186Z"
   },
   {
    "duration": 159,
    "start_time": "2022-05-25T14:04:35.202Z"
   },
   {
    "duration": 20,
    "start_time": "2022-05-25T14:04:35.365Z"
   },
   {
    "duration": 42,
    "start_time": "2022-05-25T14:04:35.387Z"
   },
   {
    "duration": 1535,
    "start_time": "2022-05-25T14:04:35.434Z"
   },
   {
    "duration": 79,
    "start_time": "2022-05-25T14:04:36.974Z"
   },
   {
    "duration": 43,
    "start_time": "2022-05-25T14:04:37.055Z"
   },
   {
    "duration": 4,
    "start_time": "2022-05-25T14:04:37.100Z"
   },
   {
    "duration": 778,
    "start_time": "2022-05-25T14:04:37.106Z"
   },
   {
    "duration": 1068,
    "start_time": "2022-05-25T14:04:37.886Z"
   },
   {
    "duration": 4,
    "start_time": "2022-05-25T14:04:38.956Z"
   },
   {
    "duration": 65,
    "start_time": "2022-05-25T14:04:38.962Z"
   },
   {
    "duration": 5,
    "start_time": "2022-05-25T14:04:39.029Z"
   },
   {
    "duration": 7,
    "start_time": "2022-05-25T14:04:39.036Z"
   },
   {
    "duration": 450,
    "start_time": "2022-05-25T14:04:39.053Z"
   },
   {
    "duration": 5,
    "start_time": "2022-05-25T14:04:39.505Z"
   },
   {
    "duration": 59,
    "start_time": "2022-05-25T14:04:39.512Z"
   },
   {
    "duration": 4,
    "start_time": "2022-05-25T14:04:39.573Z"
   },
   {
    "duration": 13,
    "start_time": "2022-05-25T14:04:39.578Z"
   },
   {
    "duration": 9,
    "start_time": "2022-05-25T14:04:39.593Z"
   },
   {
    "duration": 10,
    "start_time": "2022-05-25T14:04:39.604Z"
   },
   {
    "duration": 12,
    "start_time": "2022-05-25T14:04:39.616Z"
   },
   {
    "duration": 224945,
    "start_time": "2022-05-25T14:04:39.629Z"
   },
   {
    "duration": 3,
    "start_time": "2022-05-25T14:08:24.576Z"
   },
   {
    "duration": 10307,
    "start_time": "2022-05-25T14:08:24.581Z"
   },
   {
    "duration": 3,
    "start_time": "2022-05-25T14:08:34.891Z"
   },
   {
    "duration": 21,
    "start_time": "2022-05-25T14:08:34.896Z"
   },
   {
    "duration": 87917,
    "start_time": "2022-05-25T14:08:34.919Z"
   },
   {
    "duration": 3,
    "start_time": "2022-05-25T14:10:02.839Z"
   },
   {
    "duration": 63,
    "start_time": "2022-05-25T14:10:02.843Z"
   },
   {
    "duration": 9863,
    "start_time": "2022-05-25T14:10:02.907Z"
   },
   {
    "duration": 3,
    "start_time": "2022-05-25T14:10:12.772Z"
   },
   {
    "duration": 16,
    "start_time": "2022-05-25T14:10:12.777Z"
   },
   {
    "duration": 9,
    "start_time": "2022-05-25T14:10:12.795Z"
   },
   {
    "duration": 250,
    "start_time": "2022-05-25T14:10:12.806Z"
   },
   {
    "duration": 6,
    "start_time": "2022-05-25T14:10:13.064Z"
   },
   {
    "duration": 96,
    "start_time": "2022-05-25T14:10:13.077Z"
   },
   {
    "duration": 35277,
    "start_time": "2022-05-25T14:10:13.175Z"
   },
   {
    "duration": 4,
    "start_time": "2022-05-25T14:10:48.454Z"
   },
   {
    "duration": 22,
    "start_time": "2022-05-25T14:10:48.460Z"
   },
   {
    "duration": 273,
    "start_time": "2022-05-25T14:10:48.483Z"
   },
   {
    "duration": 3,
    "start_time": "2022-05-25T14:10:48.758Z"
   },
   {
    "duration": 113,
    "start_time": "2022-05-25T14:10:48.763Z"
   },
   {
    "duration": 46,
    "start_time": "2022-05-25T14:10:48.878Z"
   },
   {
    "duration": 27,
    "start_time": "2022-05-25T14:10:48.926Z"
   },
   {
    "duration": 19,
    "start_time": "2022-05-25T14:10:48.955Z"
   },
   {
    "duration": 218,
    "start_time": "2022-05-25T14:10:48.976Z"
   },
   {
    "duration": 0,
    "start_time": "2022-05-25T14:10:49.196Z"
   },
   {
    "duration": 0,
    "start_time": "2022-05-25T14:10:49.198Z"
   },
   {
    "duration": 0,
    "start_time": "2022-05-25T14:10:49.199Z"
   },
   {
    "duration": 0,
    "start_time": "2022-05-25T14:10:49.200Z"
   },
   {
    "duration": 0,
    "start_time": "2022-05-25T14:10:49.202Z"
   },
   {
    "duration": 0,
    "start_time": "2022-05-25T14:10:49.204Z"
   },
   {
    "duration": 0,
    "start_time": "2022-05-25T14:10:49.205Z"
   },
   {
    "duration": 0,
    "start_time": "2022-05-25T14:10:49.206Z"
   },
   {
    "duration": 0,
    "start_time": "2022-05-25T14:10:49.209Z"
   },
   {
    "duration": 0,
    "start_time": "2022-05-25T14:10:49.210Z"
   },
   {
    "duration": 1,
    "start_time": "2022-05-25T14:10:49.211Z"
   },
   {
    "duration": 4,
    "start_time": "2022-05-25T14:11:21.531Z"
   },
   {
    "duration": 3,
    "start_time": "2022-05-25T14:11:21.939Z"
   },
   {
    "duration": 3,
    "start_time": "2022-05-25T14:11:22.905Z"
   },
   {
    "duration": 22895,
    "start_time": "2022-05-25T14:11:23.992Z"
   },
   {
    "duration": 4,
    "start_time": "2022-05-25T14:11:50.120Z"
   },
   {
    "duration": 3,
    "start_time": "2022-05-25T14:12:03.395Z"
   },
   {
    "duration": 832,
    "start_time": "2022-05-25T14:12:08.823Z"
   },
   {
    "duration": 3,
    "start_time": "2022-05-25T14:12:10.828Z"
   },
   {
    "duration": 15,
    "start_time": "2022-05-25T14:12:11.788Z"
   },
   {
    "duration": 2231,
    "start_time": "2022-05-25T14:12:14.630Z"
   },
   {
    "duration": 3,
    "start_time": "2022-05-25T14:12:17.629Z"
   },
   {
    "duration": 12,
    "start_time": "2022-05-25T14:12:18.082Z"
   },
   {
    "duration": 930,
    "start_time": "2022-05-25T14:12:22.778Z"
   },
   {
    "duration": 2,
    "start_time": "2022-05-25T14:12:24.410Z"
   },
   {
    "duration": 14,
    "start_time": "2022-05-25T14:12:24.967Z"
   },
   {
    "duration": 12035,
    "start_time": "2022-05-25T14:13:54.559Z"
   },
   {
    "duration": 4,
    "start_time": "2022-05-25T14:14:23.867Z"
   },
   {
    "duration": 5,
    "start_time": "2022-05-25T14:14:52.176Z"
   },
   {
    "duration": 8,
    "start_time": "2022-05-25T14:14:52.630Z"
   },
   {
    "duration": 152409,
    "start_time": "2022-05-25T14:14:54.085Z"
   },
   {
    "duration": 0,
    "start_time": "2022-05-25T14:17:26.497Z"
   },
   {
    "duration": 37556,
    "start_time": "2022-05-25T14:17:34.728Z"
   },
   {
    "duration": 10,
    "start_time": "2022-05-25T14:18:19.397Z"
   },
   {
    "duration": 14,
    "start_time": "2022-05-25T14:18:25.807Z"
   },
   {
    "duration": 96141,
    "start_time": "2022-05-25T14:18:57.228Z"
   },
   {
    "duration": 4,
    "start_time": "2022-05-25T14:20:46.094Z"
   },
   {
    "duration": 42,
    "start_time": "2022-05-25T14:20:46.724Z"
   },
   {
    "duration": 1912,
    "start_time": "2022-05-25T14:21:30.225Z"
   },
   {
    "duration": 5,
    "start_time": "2022-05-25T14:21:32.140Z"
   },
   {
    "duration": 1342,
    "start_time": "2022-05-25T14:21:32.147Z"
   },
   {
    "duration": 1256,
    "start_time": "2022-05-25T14:21:33.492Z"
   },
   {
    "duration": 119,
    "start_time": "2022-05-25T14:21:34.750Z"
   },
   {
    "duration": 17,
    "start_time": "2022-05-25T14:21:34.870Z"
   },
   {
    "duration": 126,
    "start_time": "2022-05-25T14:21:34.889Z"
   },
   {
    "duration": 5,
    "start_time": "2022-05-25T14:21:35.017Z"
   },
   {
    "duration": 476,
    "start_time": "2022-05-25T14:21:35.024Z"
   },
   {
    "duration": 449,
    "start_time": "2022-05-25T14:21:35.504Z"
   },
   {
    "duration": 15,
    "start_time": "2022-05-25T14:21:35.956Z"
   },
   {
    "duration": 79,
    "start_time": "2022-05-25T14:21:35.973Z"
   },
   {
    "duration": 1675,
    "start_time": "2022-05-25T14:21:36.054Z"
   },
   {
    "duration": 1770,
    "start_time": "2022-05-25T14:21:37.731Z"
   },
   {
    "duration": 7,
    "start_time": "2022-05-25T14:21:39.503Z"
   },
   {
    "duration": 460,
    "start_time": "2022-05-25T14:21:39.512Z"
   },
   {
    "duration": 1441,
    "start_time": "2022-05-25T14:21:39.974Z"
   },
   {
    "duration": 6,
    "start_time": "2022-05-25T14:21:41.417Z"
   },
   {
    "duration": 1561,
    "start_time": "2022-05-25T14:21:41.425Z"
   },
   {
    "duration": 26,
    "start_time": "2022-05-25T14:21:42.989Z"
   },
   {
    "duration": 10,
    "start_time": "2022-05-25T14:21:43.017Z"
   },
   {
    "duration": 55,
    "start_time": "2022-05-25T14:21:43.029Z"
   },
   {
    "duration": 8,
    "start_time": "2022-05-25T14:21:43.086Z"
   },
   {
    "duration": 186,
    "start_time": "2022-05-25T14:21:43.096Z"
   },
   {
    "duration": 16,
    "start_time": "2022-05-25T14:21:43.284Z"
   },
   {
    "duration": 14,
    "start_time": "2022-05-25T14:21:43.302Z"
   },
   {
    "duration": 1386,
    "start_time": "2022-05-25T14:21:43.318Z"
   },
   {
    "duration": 88,
    "start_time": "2022-05-25T14:21:44.711Z"
   },
   {
    "duration": 36,
    "start_time": "2022-05-25T14:21:44.801Z"
   },
   {
    "duration": 14,
    "start_time": "2022-05-25T14:21:44.839Z"
   },
   {
    "duration": 708,
    "start_time": "2022-05-25T14:21:44.855Z"
   },
   {
    "duration": 1268,
    "start_time": "2022-05-25T14:21:45.565Z"
   },
   {
    "duration": 3,
    "start_time": "2022-05-25T14:21:46.835Z"
   },
   {
    "duration": 84,
    "start_time": "2022-05-25T14:21:46.840Z"
   },
   {
    "duration": 5,
    "start_time": "2022-05-25T14:21:46.927Z"
   },
   {
    "duration": 24,
    "start_time": "2022-05-25T14:21:46.934Z"
   },
   {
    "duration": 450,
    "start_time": "2022-05-25T14:21:46.960Z"
   },
   {
    "duration": 4,
    "start_time": "2022-05-25T14:21:47.412Z"
   },
   {
    "duration": 79,
    "start_time": "2022-05-25T14:21:47.418Z"
   },
   {
    "duration": 5,
    "start_time": "2022-05-25T14:21:47.499Z"
   },
   {
    "duration": 24,
    "start_time": "2022-05-25T14:21:47.505Z"
   },
   {
    "duration": 13,
    "start_time": "2022-05-25T14:21:47.530Z"
   },
   {
    "duration": 12,
    "start_time": "2022-05-25T14:21:47.545Z"
   },
   {
    "duration": 14,
    "start_time": "2022-05-25T14:21:47.559Z"
   },
   {
    "duration": 219896,
    "start_time": "2022-05-25T14:21:47.575Z"
   },
   {
    "duration": 4,
    "start_time": "2022-05-25T14:25:27.473Z"
   },
   {
    "duration": 10106,
    "start_time": "2022-05-25T14:25:27.479Z"
   },
   {
    "duration": 3,
    "start_time": "2022-05-25T14:25:37.588Z"
   },
   {
    "duration": 23,
    "start_time": "2022-05-25T14:25:37.593Z"
   },
   {
    "duration": 87308,
    "start_time": "2022-05-25T14:25:37.618Z"
   },
   {
    "duration": 3,
    "start_time": "2022-05-25T14:27:04.928Z"
   },
   {
    "duration": 27,
    "start_time": "2022-05-25T14:27:04.932Z"
   },
   {
    "duration": 9712,
    "start_time": "2022-05-25T14:27:04.961Z"
   },
   {
    "duration": 3,
    "start_time": "2022-05-25T14:27:14.675Z"
   },
   {
    "duration": 17,
    "start_time": "2022-05-25T14:27:14.681Z"
   },
   {
    "duration": 10,
    "start_time": "2022-05-25T14:27:14.700Z"
   },
   {
    "duration": 240,
    "start_time": "2022-05-25T14:27:14.712Z"
   },
   {
    "duration": 3,
    "start_time": "2022-05-25T14:27:14.956Z"
   },
   {
    "duration": 93,
    "start_time": "2022-05-25T14:27:14.961Z"
   },
   {
    "duration": 32332,
    "start_time": "2022-05-25T14:27:15.057Z"
   },
   {
    "duration": 7,
    "start_time": "2022-05-25T14:27:47.452Z"
   },
   {
    "duration": 105,
    "start_time": "2022-05-25T14:27:47.461Z"
   },
   {
    "duration": 98,
    "start_time": "2022-05-25T14:27:47.568Z"
   },
   {
    "duration": 3,
    "start_time": "2022-05-25T14:27:47.668Z"
   },
   {
    "duration": 100,
    "start_time": "2022-05-25T14:27:47.753Z"
   },
   {
    "duration": 6,
    "start_time": "2022-05-25T14:27:47.856Z"
   },
   {
    "duration": 8,
    "start_time": "2022-05-25T14:27:47.864Z"
   },
   {
    "duration": 18,
    "start_time": "2022-05-25T14:27:47.875Z"
   },
   {
    "duration": 26938,
    "start_time": "2022-05-25T14:27:47.895Z"
   },
   {
    "duration": 168,
    "start_time": "2022-05-25T14:28:14.835Z"
   },
   {
    "duration": 0,
    "start_time": "2022-05-25T14:28:15.006Z"
   },
   {
    "duration": 0,
    "start_time": "2022-05-25T14:28:15.007Z"
   },
   {
    "duration": 0,
    "start_time": "2022-05-25T14:28:15.009Z"
   },
   {
    "duration": 0,
    "start_time": "2022-05-25T14:28:15.011Z"
   },
   {
    "duration": 0,
    "start_time": "2022-05-25T14:28:15.012Z"
   },
   {
    "duration": 0,
    "start_time": "2022-05-25T14:28:15.013Z"
   },
   {
    "duration": 0,
    "start_time": "2022-05-25T14:28:15.015Z"
   },
   {
    "duration": 0,
    "start_time": "2022-05-25T14:28:15.016Z"
   },
   {
    "duration": 0,
    "start_time": "2022-05-25T14:28:15.019Z"
   },
   {
    "duration": 1,
    "start_time": "2022-05-25T14:28:15.020Z"
   },
   {
    "duration": 0,
    "start_time": "2022-05-25T14:28:15.022Z"
   },
   {
    "duration": 0,
    "start_time": "2022-05-25T14:28:15.052Z"
   },
   {
    "duration": 0,
    "start_time": "2022-05-25T14:28:15.054Z"
   },
   {
    "duration": 0,
    "start_time": "2022-05-25T14:28:15.056Z"
   },
   {
    "duration": 4,
    "start_time": "2022-05-25T14:28:20.873Z"
   },
   {
    "duration": 4,
    "start_time": "2022-05-25T14:28:25.114Z"
   },
   {
    "duration": 935,
    "start_time": "2022-05-25T14:28:25.912Z"
   },
   {
    "duration": 3,
    "start_time": "2022-05-25T14:28:27.864Z"
   },
   {
    "duration": 12,
    "start_time": "2022-05-25T14:28:29.313Z"
   },
   {
    "duration": 2913,
    "start_time": "2022-05-25T14:28:31.520Z"
   },
   {
    "duration": 4,
    "start_time": "2022-05-25T14:28:34.435Z"
   },
   {
    "duration": 27,
    "start_time": "2022-05-25T14:28:34.441Z"
   },
   {
    "duration": 1293,
    "start_time": "2022-05-25T14:28:34.471Z"
   },
   {
    "duration": 3,
    "start_time": "2022-05-25T14:28:39.344Z"
   },
   {
    "duration": 13,
    "start_time": "2022-05-25T14:28:39.624Z"
   },
   {
    "duration": 3,
    "start_time": "2022-05-25T14:29:04.411Z"
   },
   {
    "duration": 3,
    "start_time": "2022-05-25T14:29:07.020Z"
   },
   {
    "duration": 0,
    "start_time": "2022-05-25T14:30:51.493Z"
   },
   {
    "duration": 48709,
    "start_time": "2022-05-25T14:31:45.879Z"
   },
   {
    "duration": 3,
    "start_time": "2022-05-25T14:32:36.426Z"
   },
   {
    "duration": 194199,
    "start_time": "2022-05-25T14:32:36.884Z"
   },
   {
    "duration": 0,
    "start_time": "2022-05-25T14:35:51.086Z"
   },
   {
    "duration": 3,
    "start_time": "2022-05-25T14:35:57.287Z"
   },
   {
    "duration": 47001,
    "start_time": "2022-05-25T14:35:57.893Z"
   },
   {
    "duration": 4,
    "start_time": "2022-05-25T14:37:19.502Z"
   },
   {
    "duration": 20121,
    "start_time": "2022-05-25T14:37:20.260Z"
   },
   {
    "duration": 1442,
    "start_time": "2022-05-25T18:42:40.035Z"
   },
   {
    "duration": 3,
    "start_time": "2022-05-25T18:42:41.479Z"
   },
   {
    "duration": 2763,
    "start_time": "2022-05-25T18:42:41.808Z"
   },
   {
    "duration": 1113,
    "start_time": "2022-05-25T18:42:44.573Z"
   },
   {
    "duration": 132,
    "start_time": "2022-05-25T18:42:45.688Z"
   },
   {
    "duration": 14,
    "start_time": "2022-05-25T18:42:45.822Z"
   },
   {
    "duration": 136,
    "start_time": "2022-05-25T18:42:45.838Z"
   },
   {
    "duration": 2,
    "start_time": "2022-05-25T18:42:46.280Z"
   },
   {
    "duration": 304,
    "start_time": "2022-05-25T18:42:46.502Z"
   },
   {
    "duration": 348,
    "start_time": "2022-05-25T18:42:46.808Z"
   },
   {
    "duration": 17,
    "start_time": "2022-05-25T18:42:47.159Z"
   },
   {
    "duration": 55,
    "start_time": "2022-05-25T18:42:47.180Z"
   },
   {
    "duration": 1593,
    "start_time": "2022-05-25T18:42:47.311Z"
   },
   {
    "duration": 1573,
    "start_time": "2022-05-25T18:42:48.906Z"
   },
   {
    "duration": 5,
    "start_time": "2022-05-25T18:42:50.480Z"
   },
   {
    "duration": 414,
    "start_time": "2022-05-25T18:42:50.487Z"
   },
   {
    "duration": 1515,
    "start_time": "2022-05-25T18:42:50.903Z"
   },
   {
    "duration": 6,
    "start_time": "2022-05-25T18:42:53.508Z"
   },
   {
    "duration": 1483,
    "start_time": "2022-05-25T18:42:53.815Z"
   },
   {
    "duration": 23,
    "start_time": "2022-05-25T18:42:55.300Z"
   },
   {
    "duration": 7,
    "start_time": "2022-05-25T18:42:55.324Z"
   },
   {
    "duration": 44,
    "start_time": "2022-05-25T18:42:55.332Z"
   },
   {
    "duration": 6,
    "start_time": "2022-05-25T18:42:55.378Z"
   },
   {
    "duration": 102,
    "start_time": "2022-05-25T18:42:55.848Z"
   },
   {
    "duration": 15,
    "start_time": "2022-05-25T18:42:56.108Z"
   },
   {
    "duration": 7,
    "start_time": "2022-05-25T18:42:56.335Z"
   },
   {
    "duration": 1287,
    "start_time": "2022-05-25T18:42:56.532Z"
   },
   {
    "duration": 75,
    "start_time": "2022-05-25T18:42:57.822Z"
   },
   {
    "duration": 44,
    "start_time": "2022-05-25T18:42:57.899Z"
   },
   {
    "duration": 8,
    "start_time": "2022-05-25T18:42:57.958Z"
   },
   {
    "duration": 607,
    "start_time": "2022-05-25T18:42:57.968Z"
   },
   {
    "duration": 1148,
    "start_time": "2022-05-25T18:42:58.576Z"
   },
   {
    "duration": 4,
    "start_time": "2022-05-25T18:42:59.726Z"
   },
   {
    "duration": 68,
    "start_time": "2022-05-25T18:42:59.732Z"
   },
   {
    "duration": 4,
    "start_time": "2022-05-25T18:42:59.802Z"
   },
   {
    "duration": 8,
    "start_time": "2022-05-25T18:42:59.807Z"
   },
   {
    "duration": 454,
    "start_time": "2022-05-25T18:42:59.816Z"
   },
   {
    "duration": 4,
    "start_time": "2022-05-25T18:43:00.272Z"
   },
   {
    "duration": 62,
    "start_time": "2022-05-25T18:43:00.278Z"
   },
   {
    "duration": 4,
    "start_time": "2022-05-25T18:43:00.545Z"
   },
   {
    "duration": 11,
    "start_time": "2022-05-25T18:43:01.078Z"
   },
   {
    "duration": 4,
    "start_time": "2022-05-25T18:43:01.387Z"
   },
   {
    "duration": 4,
    "start_time": "2022-05-25T18:43:02.176Z"
   },
   {
    "duration": 4,
    "start_time": "2022-05-25T18:43:02.743Z"
   },
   {
    "duration": 202268,
    "start_time": "2022-05-25T18:43:03.407Z"
   },
   {
    "duration": 3,
    "start_time": "2022-05-25T18:46:25.677Z"
   },
   {
    "duration": 9042,
    "start_time": "2022-05-25T18:46:25.682Z"
   },
   {
    "duration": 2,
    "start_time": "2022-05-25T18:46:34.726Z"
   },
   {
    "duration": 14,
    "start_time": "2022-05-25T18:46:34.730Z"
   },
   {
    "duration": 9928,
    "start_time": "2022-05-25T18:46:36.540Z"
   },
   {
    "duration": 4,
    "start_time": "2022-05-25T18:46:46.470Z"
   },
   {
    "duration": 11,
    "start_time": "2022-05-25T18:46:47.194Z"
   },
   {
    "duration": 79472,
    "start_time": "2022-05-25T18:46:47.973Z"
   },
   {
    "duration": 2,
    "start_time": "2022-05-25T18:48:07.447Z"
   },
   {
    "duration": 31,
    "start_time": "2022-05-25T18:48:07.450Z"
   },
   {
    "duration": 9277,
    "start_time": "2022-05-25T18:48:10.593Z"
   },
   {
    "duration": 6,
    "start_time": "2022-05-25T18:48:19.874Z"
   },
   {
    "duration": 12,
    "start_time": "2022-05-25T18:48:21.844Z"
   },
   {
    "duration": 3,
    "start_time": "2022-05-25T18:48:29.803Z"
   },
   {
    "duration": 63,
    "start_time": "2022-05-25T18:48:30.234Z"
   },
   {
    "duration": 3,
    "start_time": "2022-05-25T18:48:31.145Z"
   },
   {
    "duration": 13,
    "start_time": "2022-05-25T18:48:31.680Z"
   },
   {
    "duration": 44913,
    "start_time": "2022-05-25T18:48:34.146Z"
   },
   {
    "duration": 2,
    "start_time": "2022-05-25T18:49:19.061Z"
   },
   {
    "duration": 11,
    "start_time": "2022-05-25T18:49:23.125Z"
   },
   {
    "duration": 148,
    "start_time": "2022-05-25T18:49:28.115Z"
   },
   {
    "duration": 2,
    "start_time": "2022-05-25T18:49:28.872Z"
   },
   {
    "duration": 9,
    "start_time": "2022-05-25T18:49:29.391Z"
   },
   {
    "duration": 3,
    "start_time": "2022-05-25T18:49:32.751Z"
   },
   {
    "duration": 3,
    "start_time": "2022-05-25T18:49:33.185Z"
   },
   {
    "duration": 114,
    "start_time": "2022-05-25T18:49:34.008Z"
   },
   {
    "duration": 8,
    "start_time": "2022-05-25T18:49:34.880Z"
   },
   {
    "duration": 3,
    "start_time": "2022-05-25T18:49:47.416Z"
   },
   {
    "duration": 22065,
    "start_time": "2022-05-25T18:49:48.424Z"
   },
   {
    "duration": 14,
    "start_time": "2022-05-25T18:50:24.457Z"
   },
   {
    "duration": 3,
    "start_time": "2022-05-25T18:50:28.451Z"
   },
   {
    "duration": 843,
    "start_time": "2022-05-25T18:50:29.512Z"
   },
   {
    "duration": 2,
    "start_time": "2022-05-25T18:50:32.387Z"
   },
   {
    "duration": 11,
    "start_time": "2022-05-25T18:50:33.973Z"
   },
   {
    "duration": 2186,
    "start_time": "2022-05-25T18:50:39.350Z"
   },
   {
    "duration": 3,
    "start_time": "2022-05-25T18:50:42.103Z"
   },
   {
    "duration": 10,
    "start_time": "2022-05-25T18:50:42.690Z"
   },
   {
    "duration": 897,
    "start_time": "2022-05-25T18:50:44.995Z"
   },
   {
    "duration": 2,
    "start_time": "2022-05-25T18:50:47.103Z"
   },
   {
    "duration": 12,
    "start_time": "2022-05-25T18:50:47.873Z"
   },
   {
    "duration": 2,
    "start_time": "2022-05-25T18:50:50.392Z"
   },
   {
    "duration": 3,
    "start_time": "2022-05-25T18:50:52.129Z"
   },
   {
    "duration": 110104,
    "start_time": "2022-05-25T18:51:06.576Z"
   },
   {
    "duration": 3,
    "start_time": "2022-05-25T18:53:22.956Z"
   },
   {
    "duration": 128186,
    "start_time": "2022-05-25T18:53:23.598Z"
   },
   {
    "duration": 3,
    "start_time": "2022-05-25T18:56:15.020Z"
   },
   {
    "duration": 2,
    "start_time": "2022-05-25T18:59:47.480Z"
   },
   {
    "duration": 2,
    "start_time": "2022-05-25T19:00:22.184Z"
   },
   {
    "duration": 30,
    "start_time": "2022-05-25T19:00:22.686Z"
   },
   {
    "duration": 3,
    "start_time": "2022-05-25T19:00:30.603Z"
   },
   {
    "duration": 56103,
    "start_time": "2022-05-25T19:00:32.279Z"
   },
   {
    "duration": 2,
    "start_time": "2022-05-25T19:01:31.763Z"
   },
   {
    "duration": 331089,
    "start_time": "2022-05-25T19:01:32.178Z"
   },
   {
    "duration": 4,
    "start_time": "2022-05-25T19:07:03.270Z"
   },
   {
    "duration": 3,
    "start_time": "2022-05-25T19:07:34.228Z"
   },
   {
    "duration": 3,
    "start_time": "2022-05-25T19:07:52.009Z"
   },
   {
    "duration": 13,
    "start_time": "2022-05-25T19:08:10.045Z"
   },
   {
    "duration": 1006,
    "start_time": "2022-05-25T19:09:00.851Z"
   },
   {
    "duration": 3,
    "start_time": "2022-05-25T19:09:05.071Z"
   },
   {
    "duration": 11,
    "start_time": "2022-05-25T19:09:07.734Z"
   },
   {
    "duration": 1478,
    "start_time": "2022-05-25T19:11:18.444Z"
   },
   {
    "duration": 4,
    "start_time": "2022-05-25T19:11:19.924Z"
   },
   {
    "duration": 931,
    "start_time": "2022-05-25T19:11:19.929Z"
   },
   {
    "duration": 1293,
    "start_time": "2022-05-25T19:11:20.869Z"
   },
   {
    "duration": 138,
    "start_time": "2022-05-25T19:11:22.164Z"
   },
   {
    "duration": 26,
    "start_time": "2022-05-25T19:11:22.304Z"
   },
   {
    "duration": 137,
    "start_time": "2022-05-25T19:11:22.332Z"
   },
   {
    "duration": 4,
    "start_time": "2022-05-25T19:11:22.476Z"
   },
   {
    "duration": 310,
    "start_time": "2022-05-25T19:11:22.481Z"
   },
   {
    "duration": 435,
    "start_time": "2022-05-25T19:11:22.793Z"
   },
   {
    "duration": 15,
    "start_time": "2022-05-25T19:11:23.230Z"
   },
   {
    "duration": 68,
    "start_time": "2022-05-25T19:11:23.246Z"
   },
   {
    "duration": 1682,
    "start_time": "2022-05-25T19:11:23.316Z"
   },
   {
    "duration": 1851,
    "start_time": "2022-05-25T19:11:25.000Z"
   },
   {
    "duration": 12,
    "start_time": "2022-05-25T19:11:26.852Z"
   },
   {
    "duration": 497,
    "start_time": "2022-05-25T19:11:26.866Z"
   },
   {
    "duration": 1654,
    "start_time": "2022-05-25T19:11:27.373Z"
   },
   {
    "duration": 6,
    "start_time": "2022-05-25T19:11:29.028Z"
   },
   {
    "duration": 1600,
    "start_time": "2022-05-25T19:11:29.036Z"
   },
   {
    "duration": 37,
    "start_time": "2022-05-25T19:11:30.637Z"
   },
   {
    "duration": 18,
    "start_time": "2022-05-25T19:11:30.678Z"
   },
   {
    "duration": 42,
    "start_time": "2022-05-25T19:11:30.697Z"
   },
   {
    "duration": 15,
    "start_time": "2022-05-25T19:11:30.741Z"
   },
   {
    "duration": 191,
    "start_time": "2022-05-25T19:11:30.758Z"
   },
   {
    "duration": 27,
    "start_time": "2022-05-25T19:11:30.951Z"
   },
   {
    "duration": 12,
    "start_time": "2022-05-25T19:11:30.980Z"
   },
   {
    "duration": 1552,
    "start_time": "2022-05-25T19:11:30.994Z"
   },
   {
    "duration": 68,
    "start_time": "2022-05-25T19:11:32.549Z"
   },
   {
    "duration": 53,
    "start_time": "2022-05-25T19:11:32.618Z"
   },
   {
    "duration": 5,
    "start_time": "2022-05-25T19:11:32.673Z"
   },
   {
    "duration": 608,
    "start_time": "2022-05-25T19:11:32.679Z"
   },
   {
    "duration": 1244,
    "start_time": "2022-05-25T19:11:33.290Z"
   },
   {
    "duration": 4,
    "start_time": "2022-05-25T19:11:34.536Z"
   },
   {
    "duration": 64,
    "start_time": "2022-05-25T19:11:34.541Z"
   },
   {
    "duration": 5,
    "start_time": "2022-05-25T19:11:34.607Z"
   },
   {
    "duration": 19,
    "start_time": "2022-05-25T19:11:34.613Z"
   },
   {
    "duration": 494,
    "start_time": "2022-05-25T19:11:34.634Z"
   },
   {
    "duration": 4,
    "start_time": "2022-05-25T19:11:35.129Z"
   },
   {
    "duration": 60,
    "start_time": "2022-05-25T19:11:35.135Z"
   },
   {
    "duration": 3,
    "start_time": "2022-05-25T19:11:35.197Z"
   },
   {
    "duration": 16,
    "start_time": "2022-05-25T19:11:35.202Z"
   },
   {
    "duration": 7,
    "start_time": "2022-05-25T19:11:35.220Z"
   },
   {
    "duration": 17,
    "start_time": "2022-05-25T19:11:35.229Z"
   },
   {
    "duration": 17,
    "start_time": "2022-05-25T19:11:35.249Z"
   },
   {
    "duration": 227609,
    "start_time": "2022-05-25T19:11:35.269Z"
   },
   {
    "duration": 3,
    "start_time": "2022-05-25T19:15:22.880Z"
   },
   {
    "duration": 9195,
    "start_time": "2022-05-25T19:15:22.884Z"
   },
   {
    "duration": 3,
    "start_time": "2022-05-25T19:15:32.084Z"
   },
   {
    "duration": 18,
    "start_time": "2022-05-25T19:15:32.089Z"
   },
   {
    "duration": 83204,
    "start_time": "2022-05-25T19:15:32.109Z"
   },
   {
    "duration": 2,
    "start_time": "2022-05-25T19:16:55.315Z"
   },
   {
    "duration": 25,
    "start_time": "2022-05-25T19:16:55.319Z"
   },
   {
    "duration": 9472,
    "start_time": "2022-05-25T19:16:55.345Z"
   },
   {
    "duration": 3,
    "start_time": "2022-05-25T19:17:04.819Z"
   },
   {
    "duration": 13,
    "start_time": "2022-05-25T19:17:04.824Z"
   },
   {
    "duration": 5,
    "start_time": "2022-05-25T19:17:04.838Z"
   },
   {
    "duration": 132,
    "start_time": "2022-05-25T19:17:04.844Z"
   },
   {
    "duration": 84,
    "start_time": "2022-05-25T19:17:04.979Z"
   },
   {
    "duration": 28,
    "start_time": "2022-05-25T19:17:05.066Z"
   },
   {
    "duration": 50176,
    "start_time": "2022-05-25T19:17:05.096Z"
   },
   {
    "duration": 5,
    "start_time": "2022-05-25T19:17:55.274Z"
   },
   {
    "duration": 36,
    "start_time": "2022-05-25T19:17:55.359Z"
   },
   {
    "duration": 161,
    "start_time": "2022-05-25T19:17:55.397Z"
   },
   {
    "duration": 7,
    "start_time": "2022-05-25T19:17:55.561Z"
   },
   {
    "duration": 129,
    "start_time": "2022-05-25T19:17:55.570Z"
   },
   {
    "duration": 22,
    "start_time": "2022-05-25T19:17:55.701Z"
   },
   {
    "duration": 13,
    "start_time": "2022-05-25T19:17:55.725Z"
   },
   {
    "duration": 39,
    "start_time": "2022-05-25T19:17:55.739Z"
   },
   {
    "duration": 1833,
    "start_time": "2022-05-25T19:17:55.780Z"
   },
   {
    "duration": 0,
    "start_time": "2022-05-25T19:17:57.615Z"
   },
   {
    "duration": 0,
    "start_time": "2022-05-25T19:17:57.616Z"
   },
   {
    "duration": 0,
    "start_time": "2022-05-25T19:17:57.617Z"
   },
   {
    "duration": 0,
    "start_time": "2022-05-25T19:17:57.618Z"
   },
   {
    "duration": 0,
    "start_time": "2022-05-25T19:17:57.619Z"
   },
   {
    "duration": 0,
    "start_time": "2022-05-25T19:17:57.620Z"
   },
   {
    "duration": 0,
    "start_time": "2022-05-25T19:17:57.621Z"
   },
   {
    "duration": 0,
    "start_time": "2022-05-25T19:17:57.622Z"
   },
   {
    "duration": 0,
    "start_time": "2022-05-25T19:17:57.623Z"
   },
   {
    "duration": 0,
    "start_time": "2022-05-25T19:17:57.624Z"
   },
   {
    "duration": 0,
    "start_time": "2022-05-25T19:17:57.625Z"
   },
   {
    "duration": 0,
    "start_time": "2022-05-25T19:17:57.626Z"
   },
   {
    "duration": 0,
    "start_time": "2022-05-25T19:17:57.627Z"
   },
   {
    "duration": 0,
    "start_time": "2022-05-25T19:17:57.628Z"
   },
   {
    "duration": 0,
    "start_time": "2022-05-25T19:17:57.629Z"
   },
   {
    "duration": 0,
    "start_time": "2022-05-25T19:17:57.630Z"
   },
   {
    "duration": 0,
    "start_time": "2022-05-25T19:17:57.631Z"
   },
   {
    "duration": 0,
    "start_time": "2022-05-25T19:17:57.665Z"
   },
   {
    "duration": 0,
    "start_time": "2022-05-25T19:17:57.666Z"
   },
   {
    "duration": 0,
    "start_time": "2022-05-25T19:17:57.666Z"
   },
   {
    "duration": 0,
    "start_time": "2022-05-25T19:17:57.667Z"
   },
   {
    "duration": 0,
    "start_time": "2022-05-25T19:17:57.668Z"
   },
   {
    "duration": 0,
    "start_time": "2022-05-25T19:17:57.670Z"
   },
   {
    "duration": 0,
    "start_time": "2022-05-25T19:17:57.671Z"
   },
   {
    "duration": 0,
    "start_time": "2022-05-25T19:17:57.672Z"
   },
   {
    "duration": 3,
    "start_time": "2022-05-25T19:18:27.817Z"
   },
   {
    "duration": 3,
    "start_time": "2022-05-25T19:18:28.279Z"
   },
   {
    "duration": 23417,
    "start_time": "2022-05-25T19:18:29.368Z"
   },
   {
    "duration": 5,
    "start_time": "2022-05-25T19:18:54.784Z"
   },
   {
    "duration": 3,
    "start_time": "2022-05-25T19:18:57.341Z"
   },
   {
    "duration": 1239,
    "start_time": "2022-05-25T19:19:00.301Z"
   },
   {
    "duration": 4,
    "start_time": "2022-05-25T19:19:02.241Z"
   },
   {
    "duration": 11,
    "start_time": "2022-05-25T19:19:02.645Z"
   },
   {
    "duration": 2297,
    "start_time": "2022-05-25T19:19:05.330Z"
   },
   {
    "duration": 2,
    "start_time": "2022-05-25T19:19:08.398Z"
   },
   {
    "duration": 11,
    "start_time": "2022-05-25T19:19:08.848Z"
   },
   {
    "duration": 926,
    "start_time": "2022-05-25T19:19:16.998Z"
   },
   {
    "duration": 3,
    "start_time": "2022-05-25T19:19:18.504Z"
   },
   {
    "duration": 14,
    "start_time": "2022-05-25T19:19:18.978Z"
   },
   {
    "duration": 2,
    "start_time": "2022-05-25T19:19:21.848Z"
   },
   {
    "duration": 4,
    "start_time": "2022-05-25T19:19:22.958Z"
   },
   {
    "duration": 1008160,
    "start_time": "2022-05-25T19:19:24.215Z"
   },
   {
    "duration": 1383,
    "start_time": "2022-05-25T19:36:47.011Z"
   },
   {
    "duration": 4,
    "start_time": "2022-05-25T19:36:48.396Z"
   },
   {
    "duration": 855,
    "start_time": "2022-05-25T19:36:48.402Z"
   },
   {
    "duration": 1127,
    "start_time": "2022-05-25T19:36:49.260Z"
   },
   {
    "duration": 188,
    "start_time": "2022-05-25T19:36:50.389Z"
   },
   {
    "duration": 15,
    "start_time": "2022-05-25T19:36:50.579Z"
   },
   {
    "duration": 102,
    "start_time": "2022-05-25T19:36:50.596Z"
   },
   {
    "duration": 3,
    "start_time": "2022-05-25T19:36:50.699Z"
   },
   {
    "duration": 284,
    "start_time": "2022-05-25T19:36:50.703Z"
   },
   {
    "duration": 341,
    "start_time": "2022-05-25T19:36:50.989Z"
   },
   {
    "duration": 13,
    "start_time": "2022-05-25T19:36:51.331Z"
   },
   {
    "duration": 77,
    "start_time": "2022-05-25T19:36:51.346Z"
   },
   {
    "duration": 1576,
    "start_time": "2022-05-25T19:36:51.425Z"
   },
   {
    "duration": 1779,
    "start_time": "2022-05-25T19:36:53.003Z"
   },
   {
    "duration": 5,
    "start_time": "2022-05-25T19:36:54.784Z"
   },
   {
    "duration": 417,
    "start_time": "2022-05-25T19:36:54.791Z"
   },
   {
    "duration": 1421,
    "start_time": "2022-05-25T19:36:55.209Z"
   },
   {
    "duration": 5,
    "start_time": "2022-05-25T19:36:56.632Z"
   },
   {
    "duration": 1477,
    "start_time": "2022-05-25T19:36:56.638Z"
   },
   {
    "duration": 26,
    "start_time": "2022-05-25T19:36:58.117Z"
   },
   {
    "duration": 24,
    "start_time": "2022-05-25T19:36:58.144Z"
   },
   {
    "duration": 62,
    "start_time": "2022-05-25T19:36:58.170Z"
   },
   {
    "duration": 6,
    "start_time": "2022-05-25T19:36:58.234Z"
   },
   {
    "duration": 155,
    "start_time": "2022-05-25T19:36:58.242Z"
   },
   {
    "duration": 14,
    "start_time": "2022-05-25T19:36:58.398Z"
   },
   {
    "duration": 18,
    "start_time": "2022-05-25T19:36:58.414Z"
   },
   {
    "duration": 1323,
    "start_time": "2022-05-25T19:36:58.434Z"
   },
   {
    "duration": 56,
    "start_time": "2022-05-25T19:36:59.761Z"
   },
   {
    "duration": 56,
    "start_time": "2022-05-25T19:36:59.819Z"
   },
   {
    "duration": 4,
    "start_time": "2022-05-25T19:36:59.883Z"
   },
   {
    "duration": 533,
    "start_time": "2022-05-25T19:36:59.888Z"
   },
   {
    "duration": 1122,
    "start_time": "2022-05-25T19:37:00.423Z"
   },
   {
    "duration": 4,
    "start_time": "2022-05-25T19:37:01.546Z"
   },
   {
    "duration": 97,
    "start_time": "2022-05-25T19:37:01.551Z"
   },
   {
    "duration": 6,
    "start_time": "2022-05-25T19:37:01.650Z"
   },
   {
    "duration": 43,
    "start_time": "2022-05-25T19:37:01.658Z"
   },
   {
    "duration": 510,
    "start_time": "2022-05-25T19:37:01.705Z"
   },
   {
    "duration": 4,
    "start_time": "2022-05-25T19:37:02.217Z"
   },
   {
    "duration": 58,
    "start_time": "2022-05-25T19:37:02.222Z"
   },
   {
    "duration": 5,
    "start_time": "2022-05-25T19:37:02.281Z"
   },
   {
    "duration": 11,
    "start_time": "2022-05-25T19:37:02.287Z"
   },
   {
    "duration": 6,
    "start_time": "2022-05-25T19:37:02.299Z"
   },
   {
    "duration": 9,
    "start_time": "2022-05-25T19:37:02.307Z"
   },
   {
    "duration": 10,
    "start_time": "2022-05-25T19:37:02.317Z"
   },
   {
    "duration": 203100,
    "start_time": "2022-05-25T19:37:02.328Z"
   },
   {
    "duration": 3,
    "start_time": "2022-05-25T19:40:25.430Z"
   },
   {
    "duration": 9477,
    "start_time": "2022-05-25T19:40:25.434Z"
   },
   {
    "duration": 3,
    "start_time": "2022-05-25T19:40:34.912Z"
   },
   {
    "duration": 37,
    "start_time": "2022-05-25T19:40:34.916Z"
   },
   {
    "duration": 61339,
    "start_time": "2022-05-25T19:40:34.955Z"
   },
   {
    "duration": 1,
    "start_time": "2022-05-25T19:41:36.297Z"
   },
   {
    "duration": 0,
    "start_time": "2022-05-25T19:41:36.299Z"
   },
   {
    "duration": 0,
    "start_time": "2022-05-25T19:41:36.300Z"
   },
   {
    "duration": 0,
    "start_time": "2022-05-25T19:41:36.301Z"
   },
   {
    "duration": 0,
    "start_time": "2022-05-25T19:41:36.302Z"
   },
   {
    "duration": 0,
    "start_time": "2022-05-25T19:41:36.303Z"
   },
   {
    "duration": 0,
    "start_time": "2022-05-25T19:41:36.305Z"
   },
   {
    "duration": 0,
    "start_time": "2022-05-25T19:41:36.306Z"
   },
   {
    "duration": 0,
    "start_time": "2022-05-25T19:41:36.308Z"
   },
   {
    "duration": 0,
    "start_time": "2022-05-25T19:41:36.309Z"
   },
   {
    "duration": 0,
    "start_time": "2022-05-25T19:41:36.311Z"
   },
   {
    "duration": 0,
    "start_time": "2022-05-25T19:41:36.312Z"
   },
   {
    "duration": 0,
    "start_time": "2022-05-25T19:41:36.314Z"
   },
   {
    "duration": 0,
    "start_time": "2022-05-25T19:41:36.315Z"
   },
   {
    "duration": 0,
    "start_time": "2022-05-25T19:41:36.317Z"
   },
   {
    "duration": 0,
    "start_time": "2022-05-25T19:41:36.318Z"
   },
   {
    "duration": 0,
    "start_time": "2022-05-25T19:41:36.319Z"
   },
   {
    "duration": 0,
    "start_time": "2022-05-25T19:41:36.321Z"
   },
   {
    "duration": 0,
    "start_time": "2022-05-25T19:41:36.359Z"
   },
   {
    "duration": 0,
    "start_time": "2022-05-25T19:41:36.360Z"
   },
   {
    "duration": 0,
    "start_time": "2022-05-25T19:41:36.361Z"
   },
   {
    "duration": 0,
    "start_time": "2022-05-25T19:41:36.361Z"
   },
   {
    "duration": 0,
    "start_time": "2022-05-25T19:41:36.362Z"
   },
   {
    "duration": 0,
    "start_time": "2022-05-25T19:41:36.363Z"
   },
   {
    "duration": 0,
    "start_time": "2022-05-25T19:41:36.364Z"
   },
   {
    "duration": 0,
    "start_time": "2022-05-25T19:41:36.365Z"
   },
   {
    "duration": 0,
    "start_time": "2022-05-25T19:41:36.367Z"
   },
   {
    "duration": 0,
    "start_time": "2022-05-25T19:41:36.368Z"
   },
   {
    "duration": 0,
    "start_time": "2022-05-25T19:41:36.370Z"
   },
   {
    "duration": 0,
    "start_time": "2022-05-25T19:41:36.372Z"
   },
   {
    "duration": 0,
    "start_time": "2022-05-25T19:41:36.373Z"
   },
   {
    "duration": 0,
    "start_time": "2022-05-25T19:41:36.375Z"
   },
   {
    "duration": 0,
    "start_time": "2022-05-25T19:41:36.376Z"
   },
   {
    "duration": 0,
    "start_time": "2022-05-25T19:41:36.378Z"
   },
   {
    "duration": 0,
    "start_time": "2022-05-25T19:41:36.379Z"
   },
   {
    "duration": 0,
    "start_time": "2022-05-25T19:41:36.381Z"
   },
   {
    "duration": 0,
    "start_time": "2022-05-25T19:41:36.382Z"
   },
   {
    "duration": 0,
    "start_time": "2022-05-25T19:41:36.384Z"
   },
   {
    "duration": 0,
    "start_time": "2022-05-25T19:41:36.384Z"
   },
   {
    "duration": 0,
    "start_time": "2022-05-25T19:41:36.385Z"
   },
   {
    "duration": 0,
    "start_time": "2022-05-25T19:41:36.386Z"
   },
   {
    "duration": 0,
    "start_time": "2022-05-25T19:41:36.388Z"
   },
   {
    "duration": 0,
    "start_time": "2022-05-25T19:41:36.388Z"
   },
   {
    "duration": 0,
    "start_time": "2022-05-25T19:41:36.390Z"
   },
   {
    "duration": 86636,
    "start_time": "2022-05-25T19:41:40.848Z"
   },
   {
    "duration": 3,
    "start_time": "2022-05-25T19:43:13.273Z"
   },
   {
    "duration": 10,
    "start_time": "2022-05-25T19:43:14.195Z"
   },
   {
    "duration": 8661,
    "start_time": "2022-05-25T19:43:15.675Z"
   },
   {
    "duration": 2,
    "start_time": "2022-05-25T19:43:25.253Z"
   },
   {
    "duration": 9,
    "start_time": "2022-05-25T19:43:26.013Z"
   },
   {
    "duration": 2,
    "start_time": "2022-05-25T19:43:27.397Z"
   },
   {
    "duration": 81,
    "start_time": "2022-05-25T19:43:29.993Z"
   },
   {
    "duration": 2,
    "start_time": "2022-05-25T19:43:31.696Z"
   },
   {
    "duration": 9,
    "start_time": "2022-05-25T19:43:32.250Z"
   },
   {
    "duration": 58216,
    "start_time": "2022-05-25T19:43:34.752Z"
   },
   {
    "duration": 2,
    "start_time": "2022-05-25T19:44:41.186Z"
   },
   {
    "duration": 14,
    "start_time": "2022-05-25T19:44:41.746Z"
   },
   {
    "duration": 109,
    "start_time": "2022-05-25T19:44:45.758Z"
   },
   {
    "duration": 2,
    "start_time": "2022-05-25T19:44:46.895Z"
   },
   {
    "duration": 17,
    "start_time": "2022-05-25T19:44:47.361Z"
   },
   {
    "duration": 3,
    "start_time": "2022-05-25T19:44:50.129Z"
   },
   {
    "duration": 4,
    "start_time": "2022-05-25T19:44:51.812Z"
   },
   {
    "duration": 3,
    "start_time": "2022-05-25T19:44:55.156Z"
   },
   {
    "duration": 23258,
    "start_time": "2022-05-25T19:44:56.176Z"
   },
   {
    "duration": 21951,
    "start_time": "2022-05-25T19:45:23.032Z"
   },
   {
    "duration": 4,
    "start_time": "2022-05-25T19:45:47.988Z"
   },
   {
    "duration": 5,
    "start_time": "2022-05-25T19:45:53.451Z"
   },
   {
    "duration": 954,
    "start_time": "2022-05-25T19:45:56.425Z"
   },
   {
    "duration": 3,
    "start_time": "2022-05-25T19:45:58.276Z"
   },
   {
    "duration": 9,
    "start_time": "2022-05-25T19:45:59.279Z"
   },
   {
    "duration": 59568,
    "start_time": "2022-05-25T19:46:26.538Z"
   },
   {
    "duration": 5,
    "start_time": "2022-05-25T19:47:33.333Z"
   },
   {
    "duration": 4,
    "start_time": "2022-05-25T19:47:51.457Z"
   },
   {
    "duration": 2358,
    "start_time": "2022-05-25T19:47:59.977Z"
   },
   {
    "duration": 3,
    "start_time": "2022-05-25T19:48:06.411Z"
   },
   {
    "duration": 13,
    "start_time": "2022-05-25T19:48:07.108Z"
   },
   {
    "duration": 20423,
    "start_time": "2022-05-25T19:48:49.980Z"
   },
   {
    "duration": 4,
    "start_time": "2022-05-25T19:49:31.008Z"
   },
   {
    "duration": 3,
    "start_time": "2022-05-25T19:49:38.879Z"
   },
   {
    "duration": 840,
    "start_time": "2022-05-25T19:49:44.357Z"
   },
   {
    "duration": 2,
    "start_time": "2022-05-25T19:49:46.883Z"
   },
   {
    "duration": 12,
    "start_time": "2022-05-25T19:49:47.256Z"
   },
   {
    "duration": 2,
    "start_time": "2022-05-25T19:50:16.810Z"
   },
   {
    "duration": 3,
    "start_time": "2022-05-25T19:50:17.781Z"
   },
   {
    "duration": 917163,
    "start_time": "2022-05-25T19:50:19.010Z"
   },
   {
    "duration": 9,
    "start_time": "2022-05-25T20:05:36.176Z"
   },
   {
    "duration": 5,
    "start_time": "2022-05-25T20:05:36.187Z"
   },
   {
    "duration": 1779,
    "start_time": "2022-05-28T10:38:48.678Z"
   },
   {
    "duration": 3,
    "start_time": "2022-05-28T10:38:53.801Z"
   },
   {
    "duration": 2981,
    "start_time": "2022-05-28T10:38:54.867Z"
   },
   {
    "duration": 1207,
    "start_time": "2022-05-28T10:38:57.851Z"
   },
   {
    "duration": 117,
    "start_time": "2022-05-28T10:39:04.030Z"
   },
   {
    "duration": 15,
    "start_time": "2022-05-28T10:39:05.170Z"
   },
   {
    "duration": 111,
    "start_time": "2022-05-28T10:39:05.879Z"
   },
   {
    "duration": 2,
    "start_time": "2022-05-28T10:39:49.792Z"
   },
   {
    "duration": 297,
    "start_time": "2022-05-28T10:39:55.701Z"
   },
   {
    "duration": 370,
    "start_time": "2022-05-28T10:39:56.354Z"
   },
   {
    "duration": 15,
    "start_time": "2022-05-28T10:39:56.765Z"
   },
   {
    "duration": 64,
    "start_time": "2022-05-28T10:40:01.440Z"
   },
   {
    "duration": 1670,
    "start_time": "2022-05-28T10:40:13.385Z"
   },
   {
    "duration": 1643,
    "start_time": "2022-05-28T10:40:17.332Z"
   },
   {
    "duration": 5,
    "start_time": "2022-05-28T10:40:50.880Z"
   },
   {
    "duration": 390,
    "start_time": "2022-05-28T10:40:53.895Z"
   },
   {
    "duration": 1523,
    "start_time": "2022-05-28T10:40:59.265Z"
   },
   {
    "duration": 8,
    "start_time": "2022-05-28T10:41:03.099Z"
   },
   {
    "duration": 1685,
    "start_time": "2022-05-28T10:41:03.579Z"
   },
   {
    "duration": 31,
    "start_time": "2022-05-28T10:41:07.767Z"
   },
   {
    "duration": 9,
    "start_time": "2022-05-28T10:41:08.188Z"
   },
   {
    "duration": 37,
    "start_time": "2022-05-28T10:41:12.154Z"
   },
   {
    "duration": 12,
    "start_time": "2022-05-28T10:41:12.629Z"
   },
   {
    "duration": 113,
    "start_time": "2022-05-28T10:41:15.761Z"
   },
   {
    "duration": 27,
    "start_time": "2022-05-28T10:41:16.352Z"
   },
   {
    "duration": 12,
    "start_time": "2022-05-28T10:41:16.763Z"
   },
   {
    "duration": 1202,
    "start_time": "2022-05-28T10:41:49.323Z"
   },
   {
    "duration": 107,
    "start_time": "2022-05-28T10:41:53.428Z"
   },
   {
    "duration": 16,
    "start_time": "2022-05-28T10:41:54.108Z"
   },
   {
    "duration": 59,
    "start_time": "2022-05-28T10:41:55.072Z"
   },
   {
    "duration": 52,
    "start_time": "2022-05-28T10:41:57.802Z"
   },
   {
    "duration": 5,
    "start_time": "2022-05-28T10:42:05.799Z"
   },
   {
    "duration": 797,
    "start_time": "2022-05-28T10:42:17.638Z"
   },
   {
    "duration": 1073,
    "start_time": "2022-05-28T10:42:19.329Z"
   },
   {
    "duration": 4,
    "start_time": "2022-05-28T10:42:21.973Z"
   },
   {
    "duration": 56,
    "start_time": "2022-05-28T10:42:22.867Z"
   },
   {
    "duration": 4,
    "start_time": "2022-05-28T10:42:23.708Z"
   },
   {
    "duration": 2,
    "start_time": "2022-05-28T10:42:24.069Z"
   },
   {
    "duration": 455,
    "start_time": "2022-05-28T10:42:24.436Z"
   },
   {
    "duration": 5,
    "start_time": "2022-05-28T10:42:24.893Z"
   },
   {
    "duration": 46,
    "start_time": "2022-05-28T10:42:25.294Z"
   },
   {
    "duration": 4,
    "start_time": "2022-05-28T10:42:25.627Z"
   },
   {
    "duration": 9,
    "start_time": "2022-05-28T10:42:39.174Z"
   },
   {
    "duration": 3,
    "start_time": "2022-05-28T10:43:11.171Z"
   },
   {
    "duration": 5,
    "start_time": "2022-05-28T10:43:12.666Z"
   },
   {
    "duration": 4,
    "start_time": "2022-05-28T10:43:22.291Z"
   },
   {
    "duration": 4,
    "start_time": "2022-05-28T10:43:32.636Z"
   },
   {
    "duration": 2,
    "start_time": "2022-05-28T10:43:40.502Z"
   },
   {
    "duration": 3,
    "start_time": "2022-05-28T10:43:47.563Z"
   },
   {
    "duration": 548714,
    "start_time": "2022-05-28T10:43:54.755Z"
   },
   {
    "duration": 3,
    "start_time": "2022-05-28T10:53:03.471Z"
   },
   {
    "duration": 4,
    "start_time": "2022-05-28T10:53:35.937Z"
   },
   {
    "duration": 23,
    "start_time": "2022-05-28T10:53:43.147Z"
   },
   {
    "duration": 32,
    "start_time": "2022-05-28T10:54:10.109Z"
   },
   {
    "duration": 20,
    "start_time": "2022-05-28T10:54:54.405Z"
   },
   {
    "duration": 120,
    "start_time": "2022-05-28T10:55:12.866Z"
   },
   {
    "duration": 39,
    "start_time": "2022-05-28T10:55:20.260Z"
   },
   {
    "duration": 4,
    "start_time": "2022-05-28T10:56:14.013Z"
   },
   {
    "duration": 26,
    "start_time": "2022-05-28T10:56:20.349Z"
   },
   {
    "duration": 164,
    "start_time": "2022-05-28T10:56:34.538Z"
   },
   {
    "duration": 1363,
    "start_time": "2022-05-28T10:56:45.940Z"
   },
   {
    "duration": 4,
    "start_time": "2022-05-28T10:56:47.305Z"
   },
   {
    "duration": 885,
    "start_time": "2022-05-28T10:56:47.311Z"
   },
   {
    "duration": 1159,
    "start_time": "2022-05-28T10:56:48.198Z"
   },
   {
    "duration": 126,
    "start_time": "2022-05-28T10:56:49.358Z"
   },
   {
    "duration": 16,
    "start_time": "2022-05-28T10:56:49.486Z"
   },
   {
    "duration": 115,
    "start_time": "2022-05-28T10:56:49.504Z"
   },
   {
    "duration": 3,
    "start_time": "2022-05-28T10:56:49.621Z"
   },
   {
    "duration": 300,
    "start_time": "2022-05-28T10:56:49.626Z"
   },
   {
    "duration": 370,
    "start_time": "2022-05-28T10:56:49.928Z"
   },
   {
    "duration": 16,
    "start_time": "2022-05-28T10:56:50.300Z"
   },
   {
    "duration": 80,
    "start_time": "2022-05-28T10:56:50.317Z"
   },
   {
    "duration": 1485,
    "start_time": "2022-05-28T10:56:50.399Z"
   },
   {
    "duration": 1498,
    "start_time": "2022-05-28T10:56:51.885Z"
   },
   {
    "duration": 5,
    "start_time": "2022-05-28T10:56:53.385Z"
   },
   {
    "duration": 411,
    "start_time": "2022-05-28T10:56:53.391Z"
   },
   {
    "duration": 1515,
    "start_time": "2022-05-28T10:56:53.804Z"
   },
   {
    "duration": 6,
    "start_time": "2022-05-28T10:56:55.321Z"
   },
   {
    "duration": 1651,
    "start_time": "2022-05-28T10:56:55.329Z"
   },
   {
    "duration": 24,
    "start_time": "2022-05-28T10:56:56.984Z"
   },
   {
    "duration": 7,
    "start_time": "2022-05-28T10:56:57.010Z"
   },
   {
    "duration": 29,
    "start_time": "2022-05-28T10:56:57.018Z"
   },
   {
    "duration": 8,
    "start_time": "2022-05-28T10:56:57.049Z"
   },
   {
    "duration": 1323,
    "start_time": "2022-05-28T10:56:57.084Z"
   },
   {
    "duration": 112,
    "start_time": "2022-05-28T10:56:58.409Z"
   },
   {
    "duration": 18,
    "start_time": "2022-05-28T10:57:01.578Z"
   },
   {
    "duration": 3,
    "start_time": "2022-05-28T10:57:02.294Z"
   },
   {
    "duration": 59,
    "start_time": "2022-05-28T10:57:02.898Z"
   },
   {
    "duration": 38,
    "start_time": "2022-05-28T10:57:05.936Z"
   },
   {
    "duration": 22,
    "start_time": "2022-05-28T10:57:12.258Z"
   },
   {
    "duration": 5,
    "start_time": "2022-05-28T10:57:24.830Z"
   },
   {
    "duration": 28,
    "start_time": "2022-05-28T10:57:31.905Z"
   },
   {
    "duration": 574,
    "start_time": "2022-05-28T10:57:44.124Z"
   },
   {
    "duration": 31,
    "start_time": "2022-05-28T10:57:50.227Z"
   },
   {
    "duration": 3,
    "start_time": "2022-05-28T10:58:13.220Z"
   },
   {
    "duration": 2,
    "start_time": "2022-05-28T10:58:19.945Z"
   },
   {
    "duration": 1052,
    "start_time": "2022-05-28T10:58:42.713Z"
   },
   {
    "duration": 4,
    "start_time": "2022-05-28T10:58:47.331Z"
   },
   {
    "duration": 51,
    "start_time": "2022-05-28T10:58:47.716Z"
   },
   {
    "duration": 4,
    "start_time": "2022-05-28T10:58:48.167Z"
   },
   {
    "duration": 2,
    "start_time": "2022-05-28T10:58:50.896Z"
   },
   {
    "duration": 442,
    "start_time": "2022-05-28T10:58:51.267Z"
   },
   {
    "duration": 3,
    "start_time": "2022-05-28T10:58:53.742Z"
   },
   {
    "duration": 47,
    "start_time": "2022-05-28T10:58:55.762Z"
   },
   {
    "duration": 4,
    "start_time": "2022-05-28T10:58:56.096Z"
   },
   {
    "duration": 9,
    "start_time": "2022-05-28T10:59:00.118Z"
   },
   {
    "duration": 3,
    "start_time": "2022-05-28T10:59:01.994Z"
   },
   {
    "duration": 3,
    "start_time": "2022-05-28T10:59:02.717Z"
   },
   {
    "duration": 3,
    "start_time": "2022-05-28T10:59:03.558Z"
   },
   {
    "duration": 3,
    "start_time": "2022-05-28T10:59:05.594Z"
   },
   {
    "duration": 3,
    "start_time": "2022-05-28T10:59:05.964Z"
   },
   {
    "duration": 3,
    "start_time": "2022-05-28T10:59:06.950Z"
   },
   {
    "duration": 546822,
    "start_time": "2022-05-28T10:59:07.701Z"
   },
   {
    "duration": 3,
    "start_time": "2022-05-28T11:08:19.778Z"
   },
   {
    "duration": 3,
    "start_time": "2022-05-28T11:08:21.468Z"
   },
   {
    "duration": 15031,
    "start_time": "2022-05-28T11:08:24.831Z"
   },
   {
    "duration": 3,
    "start_time": "2022-05-28T11:08:42.336Z"
   },
   {
    "duration": 121,
    "start_time": "2022-05-28T11:08:43.510Z"
   },
   {
    "duration": 10,
    "start_time": "2022-05-28T11:08:50.450Z"
   },
   {
    "duration": 133141,
    "start_time": "2022-05-28T11:09:21.900Z"
   },
   {
    "duration": 3,
    "start_time": "2022-05-28T11:12:01.409Z"
   },
   {
    "duration": 10,
    "start_time": "2022-05-28T11:12:02.747Z"
   },
   {
    "duration": 15152,
    "start_time": "2022-05-28T11:12:06.024Z"
   },
   {
    "duration": 3,
    "start_time": "2022-05-28T11:12:24.876Z"
   },
   {
    "duration": 11,
    "start_time": "2022-05-28T11:12:25.437Z"
   },
   {
    "duration": 3,
    "start_time": "2022-05-28T11:12:42.564Z"
   },
   {
    "duration": 151,
    "start_time": "2022-05-28T11:12:43.037Z"
   },
   {
    "duration": 3,
    "start_time": "2022-05-28T11:12:46.357Z"
   },
   {
    "duration": 10,
    "start_time": "2022-05-28T11:12:46.726Z"
   },
   {
    "duration": 25063,
    "start_time": "2022-05-28T11:12:50.721Z"
   },
   {
    "duration": 3,
    "start_time": "2022-05-28T11:13:18.076Z"
   },
   {
    "duration": 10,
    "start_time": "2022-05-28T11:13:18.497Z"
   },
   {
    "duration": 181,
    "start_time": "2022-05-28T11:13:21.905Z"
   },
   {
    "duration": 2,
    "start_time": "2022-05-28T11:13:22.801Z"
   },
   {
    "duration": 10,
    "start_time": "2022-05-28T11:13:23.150Z"
   },
   {
    "duration": 3,
    "start_time": "2022-05-28T11:13:30.816Z"
   },
   {
    "duration": 3,
    "start_time": "2022-05-28T11:13:32.020Z"
   },
   {
    "duration": 3,
    "start_time": "2022-05-28T11:13:34.362Z"
   },
   {
    "duration": 20162,
    "start_time": "2022-05-28T11:13:35.923Z"
   },
   {
    "duration": 3,
    "start_time": "2022-05-28T11:14:43.563Z"
   },
   {
    "duration": 3,
    "start_time": "2022-05-28T11:14:51.199Z"
   },
   {
    "duration": 118938,
    "start_time": "2022-05-28T11:17:35.991Z"
   },
   {
    "duration": 0,
    "start_time": "2022-05-28T11:19:34.931Z"
   },
   {
    "duration": 1,
    "start_time": "2022-05-28T11:19:34.932Z"
   },
   {
    "duration": 4,
    "start_time": "2022-05-28T11:19:49.404Z"
   },
   {
    "duration": 4,
    "start_time": "2022-05-28T11:19:50.345Z"
   },
   {
    "duration": 6,
    "start_time": "2022-05-28T11:19:56.903Z"
   },
   {
    "duration": 3,
    "start_time": "2022-05-28T11:20:03.014Z"
   },
   {
    "duration": 162187,
    "start_time": "2022-05-28T11:20:09.399Z"
   },
   {
    "duration": 3,
    "start_time": "2022-05-28T11:23:00.970Z"
   },
   {
    "duration": 39,
    "start_time": "2022-05-28T11:24:44.351Z"
   },
   {
    "duration": 3,
    "start_time": "2022-05-28T11:24:51.866Z"
   },
   {
    "duration": 925,
    "start_time": "2022-05-28T11:25:04.010Z"
   },
   {
    "duration": 3,
    "start_time": "2022-05-28T11:25:11.403Z"
   },
   {
    "duration": 14,
    "start_time": "2022-05-28T11:25:16.522Z"
   },
   {
    "duration": 473910,
    "start_time": "2022-05-28T11:25:24.510Z"
   },
   {
    "duration": 5,
    "start_time": "2022-05-28T11:34:36.017Z"
   },
   {
    "duration": 3,
    "start_time": "2022-05-28T11:35:14.805Z"
   },
   {
    "duration": 2535,
    "start_time": "2022-05-28T11:35:20.011Z"
   },
   {
    "duration": 3,
    "start_time": "2022-05-28T11:35:28.807Z"
   },
   {
    "duration": 11,
    "start_time": "2022-05-28T11:35:33.758Z"
   },
   {
    "duration": 168912,
    "start_time": "2022-05-28T11:35:54.290Z"
   },
   {
    "duration": 3,
    "start_time": "2022-05-28T11:38:43.204Z"
   },
   {
    "duration": 3,
    "start_time": "2022-05-28T11:38:53.306Z"
   },
   {
    "duration": 911,
    "start_time": "2022-05-28T11:38:58.006Z"
   },
   {
    "duration": 3,
    "start_time": "2022-05-28T11:39:05.246Z"
   },
   {
    "duration": 11,
    "start_time": "2022-05-28T11:39:12.567Z"
   },
   {
    "duration": 3,
    "start_time": "2022-05-28T11:39:19.737Z"
   },
   {
    "duration": 3,
    "start_time": "2022-05-28T11:39:27.785Z"
   },
   {
    "duration": 3,
    "start_time": "2022-05-28T11:39:28.150Z"
   },
   {
    "duration": 1437211,
    "start_time": "2022-05-28T11:39:33.601Z"
   },
   {
    "duration": 0,
    "start_time": "2022-05-28T12:03:30.814Z"
   },
   {
    "duration": 4,
    "start_time": "2022-05-28T12:04:09.312Z"
   },
   {
    "duration": 2,
    "start_time": "2022-05-28T12:04:10.670Z"
   },
   {
    "duration": 1538,
    "start_time": "2022-05-28T12:12:26.912Z"
   },
   {
    "duration": 3,
    "start_time": "2022-05-28T12:12:28.452Z"
   },
   {
    "duration": 833,
    "start_time": "2022-05-28T12:12:28.457Z"
   },
   {
    "duration": 1093,
    "start_time": "2022-05-28T12:12:29.292Z"
   },
   {
    "duration": 120,
    "start_time": "2022-05-28T12:12:30.387Z"
   },
   {
    "duration": 20,
    "start_time": "2022-05-28T12:12:30.509Z"
   },
   {
    "duration": 117,
    "start_time": "2022-05-28T12:12:30.531Z"
   },
   {
    "duration": 3,
    "start_time": "2022-05-28T12:12:30.650Z"
   },
   {
    "duration": 295,
    "start_time": "2022-05-28T12:12:30.655Z"
   },
   {
    "duration": 389,
    "start_time": "2022-05-28T12:12:30.952Z"
   },
   {
    "duration": 17,
    "start_time": "2022-05-28T12:12:31.342Z"
   },
   {
    "duration": 73,
    "start_time": "2022-05-28T12:12:31.362Z"
   },
   {
    "duration": 1494,
    "start_time": "2022-05-28T12:12:31.437Z"
   },
   {
    "duration": 1527,
    "start_time": "2022-05-28T12:12:32.933Z"
   },
   {
    "duration": 5,
    "start_time": "2022-05-28T12:12:34.461Z"
   },
   {
    "duration": 389,
    "start_time": "2022-05-28T12:12:34.468Z"
   },
   {
    "duration": 1359,
    "start_time": "2022-05-28T12:12:34.859Z"
   },
   {
    "duration": 6,
    "start_time": "2022-05-28T12:12:36.219Z"
   },
   {
    "duration": 1521,
    "start_time": "2022-05-28T12:12:36.227Z"
   },
   {
    "duration": 34,
    "start_time": "2022-05-28T12:12:37.750Z"
   },
   {
    "duration": 7,
    "start_time": "2022-05-28T12:12:37.786Z"
   },
   {
    "duration": 24,
    "start_time": "2022-05-28T12:12:37.794Z"
   },
   {
    "duration": 7,
    "start_time": "2022-05-28T12:12:37.819Z"
   },
   {
    "duration": 1279,
    "start_time": "2022-05-28T12:12:37.828Z"
   },
   {
    "duration": 126,
    "start_time": "2022-05-28T12:12:39.109Z"
   },
   {
    "duration": 17,
    "start_time": "2022-05-28T12:12:39.237Z"
   },
   {
    "duration": 3,
    "start_time": "2022-05-28T12:12:39.256Z"
   },
   {
    "duration": 129,
    "start_time": "2022-05-28T12:12:39.264Z"
   },
   {
    "duration": 37,
    "start_time": "2022-05-28T12:12:39.395Z"
   },
   {
    "duration": 4,
    "start_time": "2022-05-28T12:12:39.433Z"
   },
   {
    "duration": 648,
    "start_time": "2022-05-28T12:12:39.439Z"
   },
   {
    "duration": 1079,
    "start_time": "2022-05-28T12:12:40.089Z"
   },
   {
    "duration": 3,
    "start_time": "2022-05-28T12:12:41.170Z"
   },
   {
    "duration": 65,
    "start_time": "2022-05-28T12:12:41.175Z"
   },
   {
    "duration": 8,
    "start_time": "2022-05-28T12:12:41.243Z"
   },
   {
    "duration": 9,
    "start_time": "2022-05-28T12:12:41.253Z"
   },
   {
    "duration": 477,
    "start_time": "2022-05-28T12:12:41.264Z"
   },
   {
    "duration": 5,
    "start_time": "2022-05-28T12:12:41.743Z"
   },
   {
    "duration": 81,
    "start_time": "2022-05-28T12:12:41.750Z"
   },
   {
    "duration": 5,
    "start_time": "2022-05-28T12:12:41.833Z"
   },
   {
    "duration": 13,
    "start_time": "2022-05-28T12:12:41.841Z"
   },
   {
    "duration": 7,
    "start_time": "2022-05-28T12:12:41.856Z"
   },
   {
    "duration": 20,
    "start_time": "2022-05-28T12:12:41.866Z"
   },
   {
    "duration": 11,
    "start_time": "2022-05-28T12:12:41.887Z"
   },
   {
    "duration": 7,
    "start_time": "2022-05-28T12:12:41.899Z"
   },
   {
    "duration": 8,
    "start_time": "2022-05-28T12:12:41.908Z"
   },
   {
    "duration": 6,
    "start_time": "2022-05-28T12:12:41.918Z"
   },
   {
    "duration": 463077,
    "start_time": "2022-05-28T12:12:41.925Z"
   },
   {
    "duration": 0,
    "start_time": "2022-05-28T12:20:25.005Z"
   },
   {
    "duration": 0,
    "start_time": "2022-05-28T12:20:25.006Z"
   },
   {
    "duration": 0,
    "start_time": "2022-05-28T12:20:25.007Z"
   },
   {
    "duration": 0,
    "start_time": "2022-05-28T12:20:25.009Z"
   },
   {
    "duration": 0,
    "start_time": "2022-05-28T12:20:25.010Z"
   },
   {
    "duration": 0,
    "start_time": "2022-05-28T12:20:25.011Z"
   },
   {
    "duration": 0,
    "start_time": "2022-05-28T12:20:25.012Z"
   },
   {
    "duration": 0,
    "start_time": "2022-05-28T12:20:25.013Z"
   },
   {
    "duration": 0,
    "start_time": "2022-05-28T12:20:25.014Z"
   },
   {
    "duration": 0,
    "start_time": "2022-05-28T12:20:25.016Z"
   },
   {
    "duration": 0,
    "start_time": "2022-05-28T12:20:25.017Z"
   },
   {
    "duration": 0,
    "start_time": "2022-05-28T12:20:25.018Z"
   },
   {
    "duration": 0,
    "start_time": "2022-05-28T12:20:25.019Z"
   },
   {
    "duration": 0,
    "start_time": "2022-05-28T12:20:25.020Z"
   },
   {
    "duration": 0,
    "start_time": "2022-05-28T12:20:25.022Z"
   },
   {
    "duration": 0,
    "start_time": "2022-05-28T12:20:25.023Z"
   },
   {
    "duration": 0,
    "start_time": "2022-05-28T12:20:25.023Z"
   },
   {
    "duration": 0,
    "start_time": "2022-05-28T12:20:25.024Z"
   },
   {
    "duration": 0,
    "start_time": "2022-05-28T12:20:25.026Z"
   },
   {
    "duration": 0,
    "start_time": "2022-05-28T12:20:25.027Z"
   },
   {
    "duration": 0,
    "start_time": "2022-05-28T12:20:25.029Z"
   },
   {
    "duration": 0,
    "start_time": "2022-05-28T12:20:25.030Z"
   },
   {
    "duration": 0,
    "start_time": "2022-05-28T12:20:25.031Z"
   },
   {
    "duration": 0,
    "start_time": "2022-05-28T12:20:25.033Z"
   },
   {
    "duration": 0,
    "start_time": "2022-05-28T12:20:25.087Z"
   },
   {
    "duration": 0,
    "start_time": "2022-05-28T12:20:25.088Z"
   },
   {
    "duration": 0,
    "start_time": "2022-05-28T12:20:25.091Z"
   },
   {
    "duration": 0,
    "start_time": "2022-05-28T12:20:25.092Z"
   },
   {
    "duration": 0,
    "start_time": "2022-05-28T12:20:25.094Z"
   },
   {
    "duration": 0,
    "start_time": "2022-05-28T12:20:25.096Z"
   },
   {
    "duration": 0,
    "start_time": "2022-05-28T12:20:25.098Z"
   },
   {
    "duration": 0,
    "start_time": "2022-05-28T12:20:25.099Z"
   },
   {
    "duration": 0,
    "start_time": "2022-05-28T12:20:25.101Z"
   },
   {
    "duration": 0,
    "start_time": "2022-05-28T12:20:25.103Z"
   },
   {
    "duration": 0,
    "start_time": "2022-05-28T12:20:25.105Z"
   },
   {
    "duration": 0,
    "start_time": "2022-05-28T12:20:25.107Z"
   },
   {
    "duration": 0,
    "start_time": "2022-05-28T12:20:25.108Z"
   },
   {
    "duration": 0,
    "start_time": "2022-05-28T12:20:25.110Z"
   },
   {
    "duration": 0,
    "start_time": "2022-05-28T12:20:25.112Z"
   },
   {
    "duration": 0,
    "start_time": "2022-05-28T12:20:25.115Z"
   },
   {
    "duration": 0,
    "start_time": "2022-05-28T12:20:25.116Z"
   },
   {
    "duration": 0,
    "start_time": "2022-05-28T12:20:25.117Z"
   },
   {
    "duration": 0,
    "start_time": "2022-05-28T12:20:25.119Z"
   },
   {
    "duration": 0,
    "start_time": "2022-05-28T12:20:25.120Z"
   },
   {
    "duration": 0,
    "start_time": "2022-05-28T12:20:25.121Z"
   },
   {
    "duration": 0,
    "start_time": "2022-05-28T12:20:25.122Z"
   },
   {
    "duration": 0,
    "start_time": "2022-05-28T12:20:25.124Z"
   },
   {
    "duration": 0,
    "start_time": "2022-05-28T12:20:25.125Z"
   },
   {
    "duration": 4,
    "start_time": "2022-05-28T12:21:04.156Z"
   },
   {
    "duration": 4,
    "start_time": "2022-05-28T12:21:04.971Z"
   },
   {
    "duration": 117248,
    "start_time": "2022-05-28T12:21:05.830Z"
   },
   {
    "duration": 5,
    "start_time": "2022-05-28T12:23:06.499Z"
   },
   {
    "duration": 3,
    "start_time": "2022-05-28T12:23:08.933Z"
   },
   {
    "duration": 19376,
    "start_time": "2022-05-28T12:23:09.401Z"
   },
   {
    "duration": 3,
    "start_time": "2022-05-28T12:23:40.069Z"
   },
   {
    "duration": 11,
    "start_time": "2022-05-28T12:23:40.446Z"
   },
   {
    "duration": 149651,
    "start_time": "2022-05-28T12:23:42.226Z"
   },
   {
    "duration": 3,
    "start_time": "2022-05-28T12:26:13.842Z"
   },
   {
    "duration": 11,
    "start_time": "2022-05-28T12:26:14.270Z"
   },
   {
    "duration": 19567,
    "start_time": "2022-05-28T12:26:16.514Z"
   },
   {
    "duration": 3,
    "start_time": "2022-05-28T12:26:37.231Z"
   },
   {
    "duration": 16,
    "start_time": "2022-05-28T12:26:37.580Z"
   },
   {
    "duration": 7,
    "start_time": "2022-05-28T12:26:38.685Z"
   },
   {
    "duration": 82,
    "start_time": "2022-05-28T12:26:38.931Z"
   },
   {
    "duration": 3,
    "start_time": "2022-05-28T12:26:40.823Z"
   },
   {
    "duration": 12,
    "start_time": "2022-05-28T12:26:41.110Z"
   },
   {
    "duration": 60174,
    "start_time": "2022-05-28T12:26:42.919Z"
   },
   {
    "duration": 3,
    "start_time": "2022-05-28T12:27:43.097Z"
   },
   {
    "duration": 105,
    "start_time": "2022-05-28T12:27:43.102Z"
   },
   {
    "duration": 91,
    "start_time": "2022-05-28T12:27:43.210Z"
   },
   {
    "duration": 3,
    "start_time": "2022-05-28T12:27:43.302Z"
   },
   {
    "duration": 93,
    "start_time": "2022-05-28T12:27:43.310Z"
   },
   {
    "duration": 3,
    "start_time": "2022-05-28T12:28:03.145Z"
   },
   {
    "duration": 3,
    "start_time": "2022-05-28T12:28:36.842Z"
   },
   {
    "duration": 3,
    "start_time": "2022-05-28T12:28:38.328Z"
   },
   {
    "duration": 37556,
    "start_time": "2022-05-28T12:28:41.509Z"
   },
   {
    "duration": 4,
    "start_time": "2022-05-28T12:29:44.565Z"
   },
   {
    "duration": 4,
    "start_time": "2022-05-28T12:29:59.019Z"
   },
   {
    "duration": 4,
    "start_time": "2022-05-28T12:29:59.347Z"
   },
   {
    "duration": 40183,
    "start_time": "2022-05-28T12:29:59.861Z"
   },
   {
    "duration": 4,
    "start_time": "2022-05-28T12:30:40.046Z"
   },
   {
    "duration": 5,
    "start_time": "2022-05-28T12:30:43.299Z"
   },
   {
    "duration": 4,
    "start_time": "2022-05-28T12:30:57.718Z"
   },
   {
    "duration": 1195,
    "start_time": "2022-05-28T12:30:58.206Z"
   },
   {
    "duration": 4,
    "start_time": "2022-05-28T12:31:00.875Z"
   },
   {
    "duration": 20,
    "start_time": "2022-05-28T12:31:01.273Z"
   },
   {
    "duration": 99282,
    "start_time": "2022-05-28T12:31:04.871Z"
   },
   {
    "duration": 4,
    "start_time": "2022-05-28T12:32:50.286Z"
   },
   {
    "duration": 4,
    "start_time": "2022-05-28T12:33:15.948Z"
   },
   {
    "duration": 2266,
    "start_time": "2022-05-28T12:33:16.380Z"
   },
   {
    "duration": 3,
    "start_time": "2022-05-28T12:33:20.491Z"
   },
   {
    "duration": 14,
    "start_time": "2022-05-28T12:33:20.707Z"
   },
   {
    "duration": 33810,
    "start_time": "2022-05-28T12:33:23.150Z"
   },
   {
    "duration": 3,
    "start_time": "2022-05-28T12:34:01.578Z"
   },
   {
    "duration": 3,
    "start_time": "2022-05-28T12:34:12.868Z"
   },
   {
    "duration": 952,
    "start_time": "2022-05-28T12:34:13.284Z"
   },
   {
    "duration": 3,
    "start_time": "2022-05-28T12:34:15.374Z"
   },
   {
    "duration": 11,
    "start_time": "2022-05-28T12:34:15.649Z"
   },
   {
    "duration": 9,
    "start_time": "2022-05-28T12:34:18.210Z"
   },
   {
    "duration": 5,
    "start_time": "2022-05-28T12:34:47.907Z"
   },
   {
    "duration": 3,
    "start_time": "2022-05-28T12:34:49.007Z"
   },
   {
    "duration": 648533,
    "start_time": "2022-05-28T12:34:49.717Z"
   },
   {
    "duration": 0,
    "start_time": "2022-05-28T12:45:38.252Z"
   },
   {
    "duration": 7729,
    "start_time": "2022-05-28T12:46:07.402Z"
   },
   {
    "duration": 1616,
    "start_time": "2022-05-28T12:46:23.992Z"
   },
   {
    "duration": 4,
    "start_time": "2022-05-28T12:46:25.610Z"
   },
   {
    "duration": 985,
    "start_time": "2022-05-28T12:46:25.695Z"
   },
   {
    "duration": 1368,
    "start_time": "2022-05-28T12:46:26.682Z"
   },
   {
    "duration": 188,
    "start_time": "2022-05-28T12:46:28.053Z"
   },
   {
    "duration": 21,
    "start_time": "2022-05-28T12:46:28.243Z"
   },
   {
    "duration": 168,
    "start_time": "2022-05-28T12:46:28.267Z"
   },
   {
    "duration": 4,
    "start_time": "2022-05-28T12:46:28.438Z"
   },
   {
    "duration": 364,
    "start_time": "2022-05-28T12:46:28.444Z"
   },
   {
    "duration": 451,
    "start_time": "2022-05-28T12:46:28.810Z"
   },
   {
    "duration": 31,
    "start_time": "2022-05-28T12:46:29.262Z"
   },
   {
    "duration": 69,
    "start_time": "2022-05-28T12:46:29.296Z"
   },
   {
    "duration": 1748,
    "start_time": "2022-05-28T12:46:29.367Z"
   },
   {
    "duration": 1928,
    "start_time": "2022-05-28T12:46:31.117Z"
   },
   {
    "duration": 5,
    "start_time": "2022-05-28T12:46:33.046Z"
   },
   {
    "duration": 499,
    "start_time": "2022-05-28T12:46:33.053Z"
   },
   {
    "duration": 1624,
    "start_time": "2022-05-28T12:46:33.554Z"
   },
   {
    "duration": 25,
    "start_time": "2022-05-28T12:46:35.180Z"
   },
   {
    "duration": 1680,
    "start_time": "2022-05-28T12:46:35.207Z"
   },
   {
    "duration": 28,
    "start_time": "2022-05-28T12:46:36.890Z"
   },
   {
    "duration": 7,
    "start_time": "2022-05-28T12:46:36.920Z"
   },
   {
    "duration": 27,
    "start_time": "2022-05-28T12:46:36.929Z"
   },
   {
    "duration": 26,
    "start_time": "2022-05-28T12:46:36.960Z"
   },
   {
    "duration": 1486,
    "start_time": "2022-05-28T12:46:36.988Z"
   },
   {
    "duration": 134,
    "start_time": "2022-05-28T12:46:38.476Z"
   },
   {
    "duration": 20,
    "start_time": "2022-05-28T12:46:38.612Z"
   },
   {
    "duration": 5,
    "start_time": "2022-05-28T12:46:38.634Z"
   },
   {
    "duration": 95,
    "start_time": "2022-05-28T12:46:38.640Z"
   },
   {
    "duration": 51,
    "start_time": "2022-05-28T12:46:38.737Z"
   },
   {
    "duration": 6,
    "start_time": "2022-05-28T12:46:38.794Z"
   },
   {
    "duration": 627,
    "start_time": "2022-05-28T12:46:38.803Z"
   },
   {
    "duration": 1223,
    "start_time": "2022-05-28T12:46:39.432Z"
   },
   {
    "duration": 3,
    "start_time": "2022-05-28T12:46:40.657Z"
   },
   {
    "duration": 70,
    "start_time": "2022-05-28T12:46:40.662Z"
   },
   {
    "duration": 5,
    "start_time": "2022-05-28T12:46:40.734Z"
   },
   {
    "duration": 9,
    "start_time": "2022-05-28T12:46:40.741Z"
   },
   {
    "duration": 514,
    "start_time": "2022-05-28T12:46:40.751Z"
   },
   {
    "duration": 4,
    "start_time": "2022-05-28T12:46:41.267Z"
   },
   {
    "duration": 69,
    "start_time": "2022-05-28T12:46:41.272Z"
   },
   {
    "duration": 4,
    "start_time": "2022-05-28T12:46:41.343Z"
   },
   {
    "duration": 11,
    "start_time": "2022-05-28T12:46:41.349Z"
   },
   {
    "duration": 23,
    "start_time": "2022-05-28T12:46:41.362Z"
   },
   {
    "duration": 20,
    "start_time": "2022-05-28T12:46:41.387Z"
   },
   {
    "duration": 5,
    "start_time": "2022-05-28T12:46:41.409Z"
   },
   {
    "duration": 5,
    "start_time": "2022-05-28T12:46:41.416Z"
   },
   {
    "duration": 5,
    "start_time": "2022-05-28T12:46:41.422Z"
   },
   {
    "duration": 7,
    "start_time": "2022-05-28T12:46:41.429Z"
   },
   {
    "duration": 118514,
    "start_time": "2022-05-28T12:46:41.438Z"
   },
   {
    "duration": 3,
    "start_time": "2022-05-28T12:48:39.954Z"
   },
   {
    "duration": 20,
    "start_time": "2022-05-28T12:48:39.959Z"
   },
   {
    "duration": 17071,
    "start_time": "2022-05-28T12:48:39.981Z"
   },
   {
    "duration": 3,
    "start_time": "2022-05-28T12:48:57.054Z"
   },
   {
    "duration": 15,
    "start_time": "2022-05-28T12:48:57.058Z"
   },
   {
    "duration": 148948,
    "start_time": "2022-05-28T12:48:57.089Z"
   },
   {
    "duration": 3,
    "start_time": "2022-05-28T12:51:26.039Z"
   },
   {
    "duration": 20,
    "start_time": "2022-05-28T12:51:26.043Z"
   },
   {
    "duration": 17066,
    "start_time": "2022-05-28T12:51:26.065Z"
   },
   {
    "duration": 3,
    "start_time": "2022-05-28T12:51:43.133Z"
   },
   {
    "duration": 16,
    "start_time": "2022-05-28T12:51:43.138Z"
   },
   {
    "duration": 5,
    "start_time": "2022-05-28T12:51:43.155Z"
   },
   {
    "duration": 234,
    "start_time": "2022-05-28T12:51:43.162Z"
   },
   {
    "duration": 4,
    "start_time": "2022-05-28T12:51:43.402Z"
   },
   {
    "duration": 86,
    "start_time": "2022-05-28T12:51:43.409Z"
   },
   {
    "duration": 63787,
    "start_time": "2022-05-28T12:51:43.498Z"
   },
   {
    "duration": 4,
    "start_time": "2022-05-28T12:52:47.305Z"
   },
   {
    "duration": 17,
    "start_time": "2022-05-28T12:52:47.311Z"
   },
   {
    "duration": 166,
    "start_time": "2022-05-28T12:52:47.330Z"
   },
   {
    "duration": 5,
    "start_time": "2022-05-28T12:52:47.499Z"
   },
   {
    "duration": 175,
    "start_time": "2022-05-28T12:52:47.508Z"
   },
   {
    "duration": 15,
    "start_time": "2022-05-28T12:52:47.686Z"
   },
   {
    "duration": 5,
    "start_time": "2022-05-28T12:52:47.703Z"
   },
   {
    "duration": 6,
    "start_time": "2022-05-28T12:52:47.710Z"
   },
   {
    "duration": 33038,
    "start_time": "2022-05-28T12:52:47.718Z"
   },
   {
    "duration": 4,
    "start_time": "2022-05-28T12:53:20.758Z"
   },
   {
    "duration": 11,
    "start_time": "2022-05-28T12:53:20.763Z"
   },
   {
    "duration": 883,
    "start_time": "2022-05-28T12:53:20.775Z"
   },
   {
    "duration": 3,
    "start_time": "2022-05-28T12:53:21.660Z"
   },
   {
    "duration": 17,
    "start_time": "2022-05-28T12:53:21.664Z"
   },
   {
    "duration": 93978,
    "start_time": "2022-05-28T12:53:21.684Z"
   },
   {
    "duration": 3,
    "start_time": "2022-05-28T12:54:55.663Z"
   },
   {
    "duration": 9,
    "start_time": "2022-05-28T12:54:55.668Z"
   },
   {
    "duration": 2392,
    "start_time": "2022-05-28T12:54:55.678Z"
   },
   {
    "duration": 3,
    "start_time": "2022-05-28T12:54:58.073Z"
   },
   {
    "duration": 51,
    "start_time": "2022-05-28T12:54:58.078Z"
   },
   {
    "duration": 34950,
    "start_time": "2022-05-28T12:54:58.131Z"
   },
   {
    "duration": 3,
    "start_time": "2022-05-28T12:55:33.083Z"
   },
   {
    "duration": 7,
    "start_time": "2022-05-28T12:55:33.088Z"
   },
   {
    "duration": 946,
    "start_time": "2022-05-28T12:55:33.097Z"
   },
   {
    "duration": 2,
    "start_time": "2022-05-28T12:55:34.045Z"
   },
   {
    "duration": 14,
    "start_time": "2022-05-28T12:55:34.049Z"
   },
   {
    "duration": 7,
    "start_time": "2022-05-28T12:55:34.064Z"
   },
   {
    "duration": 6,
    "start_time": "2022-05-28T12:55:34.072Z"
   },
   {
    "duration": 7,
    "start_time": "2022-05-28T12:55:34.080Z"
   },
   {
    "duration": 6955,
    "start_time": "2022-05-28T12:57:49.961Z"
   },
   {
    "duration": 1588,
    "start_time": "2022-05-28T12:57:56.918Z"
   },
   {
    "duration": 6,
    "start_time": "2022-05-28T12:57:58.509Z"
   },
   {
    "duration": 935,
    "start_time": "2022-05-28T12:57:58.517Z"
   },
   {
    "duration": 1314,
    "start_time": "2022-05-28T12:57:59.454Z"
   },
   {
    "duration": 159,
    "start_time": "2022-05-28T12:58:00.770Z"
   },
   {
    "duration": 14,
    "start_time": "2022-05-28T12:58:00.931Z"
   },
   {
    "duration": 150,
    "start_time": "2022-05-28T12:58:00.947Z"
   },
   {
    "duration": 4,
    "start_time": "2022-05-28T12:58:01.100Z"
   },
   {
    "duration": 380,
    "start_time": "2022-05-28T12:58:01.107Z"
   },
   {
    "duration": 441,
    "start_time": "2022-05-28T12:58:01.489Z"
   },
   {
    "duration": 17,
    "start_time": "2022-05-28T12:58:01.932Z"
   },
   {
    "duration": 86,
    "start_time": "2022-05-28T12:58:01.951Z"
   },
   {
    "duration": 1805,
    "start_time": "2022-05-28T12:58:02.039Z"
   },
   {
    "duration": 1711,
    "start_time": "2022-05-28T12:58:03.846Z"
   },
   {
    "duration": 4,
    "start_time": "2022-05-28T12:58:05.559Z"
   },
   {
    "duration": 462,
    "start_time": "2022-05-28T12:58:05.565Z"
   },
   {
    "duration": 1597,
    "start_time": "2022-05-28T12:58:06.029Z"
   },
   {
    "duration": 6,
    "start_time": "2022-05-28T12:58:07.628Z"
   },
   {
    "duration": 1678,
    "start_time": "2022-05-28T12:58:07.635Z"
   },
   {
    "duration": 24,
    "start_time": "2022-05-28T12:58:09.314Z"
   },
   {
    "duration": 7,
    "start_time": "2022-05-28T12:58:09.340Z"
   },
   {
    "duration": 41,
    "start_time": "2022-05-28T12:58:09.349Z"
   },
   {
    "duration": 12,
    "start_time": "2022-05-28T12:58:09.392Z"
   },
   {
    "duration": 1358,
    "start_time": "2022-05-28T12:58:09.405Z"
   },
   {
    "duration": 120,
    "start_time": "2022-05-28T12:58:10.765Z"
   },
   {
    "duration": 28,
    "start_time": "2022-05-28T12:58:10.887Z"
   },
   {
    "duration": 4,
    "start_time": "2022-05-28T12:58:10.918Z"
   },
   {
    "duration": 95,
    "start_time": "2022-05-28T12:58:10.924Z"
   },
   {
    "duration": 34,
    "start_time": "2022-05-28T12:58:11.020Z"
   },
   {
    "duration": 5,
    "start_time": "2022-05-28T12:58:11.055Z"
   },
   {
    "duration": 661,
    "start_time": "2022-05-28T12:58:11.061Z"
   },
   {
    "duration": 1229,
    "start_time": "2022-05-28T12:58:11.724Z"
   },
   {
    "duration": 3,
    "start_time": "2022-05-28T12:58:12.955Z"
   },
   {
    "duration": 66,
    "start_time": "2022-05-28T12:58:12.960Z"
   },
   {
    "duration": 3,
    "start_time": "2022-05-28T12:58:13.028Z"
   },
   {
    "duration": 6,
    "start_time": "2022-05-28T12:58:13.033Z"
   },
   {
    "duration": 494,
    "start_time": "2022-05-28T12:58:13.040Z"
   },
   {
    "duration": 3,
    "start_time": "2022-05-28T12:58:13.536Z"
   },
   {
    "duration": 56,
    "start_time": "2022-05-28T12:58:13.541Z"
   },
   {
    "duration": 5,
    "start_time": "2022-05-28T12:58:13.600Z"
   },
   {
    "duration": 12,
    "start_time": "2022-05-28T12:58:13.608Z"
   },
   {
    "duration": 6,
    "start_time": "2022-05-28T12:58:13.622Z"
   },
   {
    "duration": 5,
    "start_time": "2022-05-28T12:58:13.630Z"
   },
   {
    "duration": 6,
    "start_time": "2022-05-28T12:58:13.637Z"
   },
   {
    "duration": 4,
    "start_time": "2022-05-28T12:58:16.441Z"
   },
   {
    "duration": 146,
    "start_time": "2022-05-28T12:58:16.847Z"
   },
   {
    "duration": 3,
    "start_time": "2022-05-28T12:58:17.176Z"
   },
   {
    "duration": 22,
    "start_time": "2022-05-28T12:58:17.481Z"
   },
   {
    "duration": 73518,
    "start_time": "2022-05-28T12:58:17.770Z"
   },
   {
    "duration": 10,
    "start_time": "2022-05-28T12:59:31.300Z"
   },
   {
    "duration": 24,
    "start_time": "2022-05-28T12:59:31.315Z"
   },
   {
    "duration": 172,
    "start_time": "2022-05-28T12:59:31.342Z"
   },
   {
    "duration": 87,
    "start_time": "2022-05-28T12:59:31.517Z"
   },
   {
    "duration": 75,
    "start_time": "2022-05-28T12:59:31.615Z"
   },
   {
    "duration": 3,
    "start_time": "2022-05-28T12:59:37.440Z"
   },
   {
    "duration": 3,
    "start_time": "2022-05-28T12:59:37.723Z"
   },
   {
    "duration": 4,
    "start_time": "2022-05-28T12:59:37.967Z"
   },
   {
    "duration": 125484,
    "start_time": "2022-05-28T12:59:39.204Z"
   },
   {
    "duration": 16,
    "start_time": "2022-05-28T13:01:44.690Z"
   },
   {
    "duration": 8,
    "start_time": "2022-05-28T13:01:44.708Z"
   },
   {
    "duration": 18774,
    "start_time": "2022-05-28T13:01:44.722Z"
   },
   {
    "duration": 6,
    "start_time": "2022-05-28T13:02:03.498Z"
   },
   {
    "duration": 33,
    "start_time": "2022-05-28T13:02:03.505Z"
   },
   {
    "duration": 146864,
    "start_time": "2022-05-28T13:02:03.540Z"
   },
   {
    "duration": 2,
    "start_time": "2022-05-28T13:04:30.407Z"
   },
   {
    "duration": 41,
    "start_time": "2022-05-28T13:04:30.411Z"
   },
   {
    "duration": 16979,
    "start_time": "2022-05-28T13:04:30.455Z"
   },
   {
    "duration": 2,
    "start_time": "2022-05-28T13:04:47.436Z"
   },
   {
    "duration": 21,
    "start_time": "2022-05-28T13:04:47.440Z"
   },
   {
    "duration": 4,
    "start_time": "2022-05-28T13:04:53.056Z"
   },
   {
    "duration": 5,
    "start_time": "2022-05-28T13:04:54.670Z"
   },
   {
    "duration": 4,
    "start_time": "2022-05-28T13:04:55.635Z"
   },
   {
    "duration": 38233,
    "start_time": "2022-05-28T13:04:56.630Z"
   },
   {
    "duration": 4,
    "start_time": "2022-05-28T13:05:39.028Z"
   },
   {
    "duration": 4,
    "start_time": "2022-05-28T13:05:44.223Z"
   },
   {
    "duration": 987,
    "start_time": "2022-05-28T13:05:44.861Z"
   },
   {
    "duration": 4,
    "start_time": "2022-05-28T13:05:47.554Z"
   },
   {
    "duration": 16,
    "start_time": "2022-05-28T13:05:47.945Z"
   },
   {
    "duration": 102791,
    "start_time": "2022-05-28T13:05:50.244Z"
   },
   {
    "duration": 5,
    "start_time": "2022-05-28T13:07:37.809Z"
   },
   {
    "duration": 3,
    "start_time": "2022-05-28T13:07:41.198Z"
   },
   {
    "duration": 2242,
    "start_time": "2022-05-28T13:07:41.682Z"
   },
   {
    "duration": 2,
    "start_time": "2022-05-28T13:07:45.517Z"
   },
   {
    "duration": 13,
    "start_time": "2022-05-28T13:07:45.849Z"
   },
   {
    "duration": 33901,
    "start_time": "2022-05-28T13:07:48.027Z"
   },
   {
    "duration": 3,
    "start_time": "2022-05-28T13:08:25.040Z"
   },
   {
    "duration": 4,
    "start_time": "2022-05-28T13:08:29.667Z"
   },
   {
    "duration": 959,
    "start_time": "2022-05-28T13:08:30.789Z"
   },
   {
    "duration": 4,
    "start_time": "2022-05-28T13:08:32.602Z"
   },
   {
    "duration": 13,
    "start_time": "2022-05-28T13:08:32.774Z"
   },
   {
    "duration": 3,
    "start_time": "2022-05-28T13:08:35.447Z"
   },
   {
    "duration": 4,
    "start_time": "2022-05-28T13:08:38.235Z"
   },
   {
    "duration": 3,
    "start_time": "2022-05-28T13:08:39.098Z"
   },
   {
    "duration": 719646,
    "start_time": "2022-05-28T13:08:40.020Z"
   },
   {
    "duration": 0,
    "start_time": "2022-05-28T13:20:39.668Z"
   },
   {
    "duration": 17,
    "start_time": "2022-05-28T13:21:03.875Z"
   },
   {
    "duration": 3,
    "start_time": "2022-05-28T13:21:04.354Z"
   },
   {
    "duration": 471243,
    "start_time": "2022-05-28T13:21:04.757Z"
   },
   {
    "duration": 7,
    "start_time": "2022-05-28T13:29:09.392Z"
   },
   {
    "duration": 3,
    "start_time": "2022-05-28T13:29:10.225Z"
   },
   {
    "duration": 573945,
    "start_time": "2022-05-28T13:29:10.578Z"
   },
   {
    "duration": 7054,
    "start_time": "2022-05-28T15:34:50.536Z"
   },
   {
    "duration": 1512,
    "start_time": "2022-05-28T15:34:57.592Z"
   },
   {
    "duration": 15,
    "start_time": "2022-05-28T15:35:20.098Z"
   },
   {
    "duration": 4,
    "start_time": "2022-05-28T15:35:28.418Z"
   },
   {
    "duration": 4,
    "start_time": "2022-05-28T15:35:34.136Z"
   },
   {
    "duration": 871,
    "start_time": "2022-05-28T15:35:34.828Z"
   },
   {
    "duration": 1261,
    "start_time": "2022-05-28T15:35:35.701Z"
   },
   {
    "duration": 143,
    "start_time": "2022-05-28T15:35:36.964Z"
   },
   {
    "duration": 135,
    "start_time": "2022-05-28T15:35:55.230Z"
   },
   {
    "duration": 655,
    "start_time": "2022-05-28T15:37:19.524Z"
   },
   {
    "duration": 138,
    "start_time": "2022-05-28T15:38:11.672Z"
   },
   {
    "duration": 73,
    "start_time": "2022-05-28T15:40:41.182Z"
   },
   {
    "duration": 165,
    "start_time": "2022-05-28T15:45:03.480Z"
   },
   {
    "duration": 21,
    "start_time": "2022-05-28T15:45:11.914Z"
   },
   {
    "duration": 296,
    "start_time": "2022-05-28T15:45:15.272Z"
   },
   {
    "duration": 834,
    "start_time": "2022-05-28T15:45:29.074Z"
   },
   {
    "duration": 396,
    "start_time": "2022-05-28T15:46:06.079Z"
   },
   {
    "duration": 367,
    "start_time": "2022-05-28T15:46:19.968Z"
   },
   {
    "duration": 537,
    "start_time": "2022-05-28T15:46:20.338Z"
   },
   {
    "duration": 35,
    "start_time": "2022-05-28T15:48:04.929Z"
   },
   {
    "duration": 6,
    "start_time": "2022-05-28T15:48:21.414Z"
   },
   {
    "duration": 1840,
    "start_time": "2022-05-28T15:48:21.772Z"
   },
   {
    "duration": 1862,
    "start_time": "2022-05-28T15:48:25.190Z"
   },
   {
    "duration": 188,
    "start_time": "2022-05-28T15:48:58.064Z"
   },
   {
    "duration": 1821,
    "start_time": "2022-05-28T15:49:05.373Z"
   },
   {
    "duration": 2025,
    "start_time": "2022-05-28T15:49:17.958Z"
   },
   {
    "duration": 14,
    "start_time": "2022-05-28T15:54:23.169Z"
   },
   {
    "duration": 9,
    "start_time": "2022-05-28T15:54:28.003Z"
   },
   {
    "duration": 6,
    "start_time": "2022-05-28T15:54:38.502Z"
   },
   {
    "duration": 4,
    "start_time": "2022-05-28T15:54:56.830Z"
   },
   {
    "duration": 7,
    "start_time": "2022-05-28T15:56:26.717Z"
   },
   {
    "duration": 214,
    "start_time": "2022-05-28T15:56:40.096Z"
   },
   {
    "duration": 1715,
    "start_time": "2022-05-28T15:57:03.317Z"
   },
   {
    "duration": 15,
    "start_time": "2022-05-28T15:58:29.604Z"
   },
   {
    "duration": 12,
    "start_time": "2022-05-28T15:58:37.911Z"
   },
   {
    "duration": 76,
    "start_time": "2022-05-28T15:59:03.535Z"
   },
   {
    "duration": 315,
    "start_time": "2022-05-28T15:59:50.414Z"
   },
   {
    "duration": 80,
    "start_time": "2022-05-28T15:59:57.713Z"
   },
   {
    "duration": 1703,
    "start_time": "2022-05-28T15:59:59.230Z"
   },
   {
    "duration": 7428,
    "start_time": "2022-05-28T16:00:14.013Z"
   },
   {
    "duration": 1498,
    "start_time": "2022-05-28T16:00:21.444Z"
   },
   {
    "duration": 16,
    "start_time": "2022-05-28T16:00:22.943Z"
   },
   {
    "duration": 51,
    "start_time": "2022-05-28T16:00:22.961Z"
   },
   {
    "duration": 25,
    "start_time": "2022-05-28T16:00:23.015Z"
   },
   {
    "duration": 1068,
    "start_time": "2022-05-28T16:00:23.043Z"
   },
   {
    "duration": 1330,
    "start_time": "2022-05-28T16:00:24.113Z"
   },
   {
    "duration": 154,
    "start_time": "2022-05-28T16:00:25.445Z"
   },
   {
    "duration": 661,
    "start_time": "2022-05-28T16:00:25.603Z"
   },
   {
    "duration": 159,
    "start_time": "2022-05-28T16:00:26.266Z"
   },
   {
    "duration": 160,
    "start_time": "2022-05-28T16:00:26.427Z"
   },
   {
    "duration": 24,
    "start_time": "2022-05-28T16:00:26.597Z"
   },
   {
    "duration": 282,
    "start_time": "2022-05-28T16:00:26.623Z"
   },
   {
    "duration": 425,
    "start_time": "2022-05-28T16:00:26.907Z"
   },
   {
    "duration": 570,
    "start_time": "2022-05-28T16:00:27.335Z"
   },
   {
    "duration": 48,
    "start_time": "2022-05-28T16:00:30.865Z"
   },
   {
    "duration": 4,
    "start_time": "2022-05-28T16:00:31.637Z"
   },
   {
    "duration": 1683,
    "start_time": "2022-05-28T16:00:32.791Z"
   },
   {
    "duration": 1613,
    "start_time": "2022-05-28T16:00:34.476Z"
   },
   {
    "duration": 6,
    "start_time": "2022-05-28T16:00:38.477Z"
   },
   {
    "duration": 277,
    "start_time": "2022-05-28T16:00:39.861Z"
   },
   {
    "duration": 81,
    "start_time": "2022-05-28T16:01:06.437Z"
   },
   {
    "duration": 1689,
    "start_time": "2022-05-28T16:01:07.337Z"
   },
   {
    "duration": 559,
    "start_time": "2022-05-28T16:02:20.133Z"
   },
   {
    "duration": 71,
    "start_time": "2022-05-28T16:02:23.509Z"
   },
   {
    "duration": 1766,
    "start_time": "2022-05-28T16:02:23.968Z"
   },
   {
    "duration": 1750,
    "start_time": "2022-05-28T16:02:44.471Z"
   },
   {
    "duration": 7714,
    "start_time": "2022-05-28T16:02:58.950Z"
   },
   {
    "duration": 1798,
    "start_time": "2022-05-28T16:03:06.670Z"
   },
   {
    "duration": 25,
    "start_time": "2022-05-28T16:03:08.470Z"
   },
   {
    "duration": 23,
    "start_time": "2022-05-28T16:03:08.506Z"
   },
   {
    "duration": 9,
    "start_time": "2022-05-28T16:03:08.531Z"
   },
   {
    "duration": 1127,
    "start_time": "2022-05-28T16:03:08.542Z"
   },
   {
    "duration": 1520,
    "start_time": "2022-05-28T16:03:09.671Z"
   },
   {
    "duration": 189,
    "start_time": "2022-05-28T16:03:11.193Z"
   },
   {
    "duration": 731,
    "start_time": "2022-05-28T16:03:11.387Z"
   },
   {
    "duration": 160,
    "start_time": "2022-05-28T16:03:12.122Z"
   },
   {
    "duration": 194,
    "start_time": "2022-05-28T16:03:12.283Z"
   },
   {
    "duration": 42,
    "start_time": "2022-05-28T16:03:12.479Z"
   },
   {
    "duration": 349,
    "start_time": "2022-05-28T16:03:12.524Z"
   },
   {
    "duration": 485,
    "start_time": "2022-05-28T16:03:12.874Z"
   },
   {
    "duration": 593,
    "start_time": "2022-05-28T16:03:13.361Z"
   },
   {
    "duration": 58,
    "start_time": "2022-05-28T16:03:13.956Z"
   },
   {
    "duration": 6,
    "start_time": "2022-05-28T16:03:14.016Z"
   },
   {
    "duration": 2099,
    "start_time": "2022-05-28T16:03:14.024Z"
   },
   {
    "duration": 2086,
    "start_time": "2022-05-28T16:03:16.125Z"
   },
   {
    "duration": 2021,
    "start_time": "2022-05-28T16:03:18.213Z"
   },
   {
    "duration": 41,
    "start_time": "2022-05-28T16:06:21.807Z"
   },
   {
    "duration": 1916,
    "start_time": "2022-05-28T16:06:34.606Z"
   },
   {
    "duration": 6,
    "start_time": "2022-05-28T16:12:32.860Z"
   },
   {
    "duration": 39,
    "start_time": "2022-05-28T16:12:54.954Z"
   },
   {
    "duration": 25,
    "start_time": "2022-05-28T16:13:10.218Z"
   },
   {
    "duration": 1582,
    "start_time": "2022-05-28T16:13:11.365Z"
   },
   {
    "duration": 35,
    "start_time": "2022-05-28T16:14:32.895Z"
   },
   {
    "duration": 1605,
    "start_time": "2022-05-28T16:14:41.859Z"
   },
   {
    "duration": 12,
    "start_time": "2022-05-28T16:16:53.158Z"
   },
   {
    "duration": 35,
    "start_time": "2022-05-28T16:19:51.254Z"
   },
   {
    "duration": 14,
    "start_time": "2022-05-28T16:19:52.313Z"
   },
   {
    "duration": 13,
    "start_time": "2022-05-28T16:20:02.010Z"
   },
   {
    "duration": 78,
    "start_time": "2022-05-28T16:20:13.171Z"
   },
   {
    "duration": 7600,
    "start_time": "2022-05-28T16:21:02.325Z"
   },
   {
    "duration": 1528,
    "start_time": "2022-05-28T16:21:09.928Z"
   },
   {
    "duration": 12,
    "start_time": "2022-05-28T16:21:11.458Z"
   },
   {
    "duration": 4,
    "start_time": "2022-05-28T16:21:11.472Z"
   },
   {
    "duration": 5,
    "start_time": "2022-05-28T16:21:11.492Z"
   },
   {
    "duration": 1093,
    "start_time": "2022-05-28T16:21:11.501Z"
   },
   {
    "duration": 1502,
    "start_time": "2022-05-28T16:21:12.596Z"
   },
   {
    "duration": 162,
    "start_time": "2022-05-28T16:21:14.106Z"
   },
   {
    "duration": 704,
    "start_time": "2022-05-28T16:21:14.271Z"
   },
   {
    "duration": 164,
    "start_time": "2022-05-28T16:21:14.978Z"
   },
   {
    "duration": 181,
    "start_time": "2022-05-28T16:21:15.144Z"
   },
   {
    "duration": 22,
    "start_time": "2022-05-28T16:21:15.328Z"
   },
   {
    "duration": 337,
    "start_time": "2022-05-28T16:21:15.352Z"
   },
   {
    "duration": 446,
    "start_time": "2022-05-28T16:21:15.693Z"
   },
   {
    "duration": 559,
    "start_time": "2022-05-28T16:21:16.141Z"
   },
   {
    "duration": 42,
    "start_time": "2022-05-28T16:21:17.532Z"
   },
   {
    "duration": 5,
    "start_time": "2022-05-28T16:21:18.382Z"
   },
   {
    "duration": 1944,
    "start_time": "2022-05-28T16:21:19.599Z"
   },
   {
    "duration": 1909,
    "start_time": "2022-05-28T16:21:21.545Z"
   },
   {
    "duration": 51,
    "start_time": "2022-05-28T16:22:58.179Z"
   },
   {
    "duration": 1923,
    "start_time": "2022-05-28T16:22:59.184Z"
   },
   {
    "duration": 16,
    "start_time": "2022-05-28T16:23:05.881Z"
   },
   {
    "duration": 47,
    "start_time": "2022-05-28T16:23:06.561Z"
   },
   {
    "duration": 1909,
    "start_time": "2022-05-28T16:23:09.263Z"
   },
   {
    "duration": 26,
    "start_time": "2022-05-28T16:24:12.835Z"
   },
   {
    "duration": 2036,
    "start_time": "2022-05-28T16:24:13.829Z"
   },
   {
    "duration": 7,
    "start_time": "2022-05-28T16:24:54.441Z"
   },
   {
    "duration": 40,
    "start_time": "2022-05-28T16:24:55.199Z"
   },
   {
    "duration": 1977,
    "start_time": "2022-05-28T16:24:56.555Z"
   },
   {
    "duration": 31,
    "start_time": "2022-05-28T16:25:23.519Z"
   },
   {
    "duration": 1841,
    "start_time": "2022-05-28T16:25:24.960Z"
   },
   {
    "duration": 9,
    "start_time": "2022-05-28T16:25:33.736Z"
   },
   {
    "duration": 32,
    "start_time": "2022-05-28T16:25:38.032Z"
   },
   {
    "duration": 11,
    "start_time": "2022-05-28T16:25:38.817Z"
   },
   {
    "duration": 93,
    "start_time": "2022-05-28T16:25:45.203Z"
   },
   {
    "duration": 8606,
    "start_time": "2022-05-28T16:27:51.828Z"
   },
   {
    "duration": 1702,
    "start_time": "2022-05-28T16:28:00.437Z"
   },
   {
    "duration": 21,
    "start_time": "2022-05-28T16:28:02.142Z"
   },
   {
    "duration": 8,
    "start_time": "2022-05-28T16:28:02.169Z"
   },
   {
    "duration": 54,
    "start_time": "2022-05-28T16:28:02.180Z"
   },
   {
    "duration": 1128,
    "start_time": "2022-05-28T16:28:02.239Z"
   },
   {
    "duration": 1584,
    "start_time": "2022-05-28T16:28:03.369Z"
   },
   {
    "duration": 257,
    "start_time": "2022-05-28T16:28:04.956Z"
   },
   {
    "duration": 740,
    "start_time": "2022-05-28T16:28:05.217Z"
   },
   {
    "duration": 174,
    "start_time": "2022-05-28T16:28:05.960Z"
   },
   {
    "duration": 198,
    "start_time": "2022-05-28T16:28:06.136Z"
   },
   {
    "duration": 29,
    "start_time": "2022-05-28T16:28:06.336Z"
   },
   {
    "duration": 363,
    "start_time": "2022-05-28T16:28:06.367Z"
   },
   {
    "duration": 502,
    "start_time": "2022-05-28T16:28:06.733Z"
   },
   {
    "duration": 731,
    "start_time": "2022-05-28T16:28:07.237Z"
   },
   {
    "duration": 60,
    "start_time": "2022-05-28T16:28:07.970Z"
   },
   {
    "duration": 23,
    "start_time": "2022-05-28T16:28:08.035Z"
   },
   {
    "duration": 2244,
    "start_time": "2022-05-28T16:28:08.060Z"
   },
   {
    "duration": 1970,
    "start_time": "2022-05-28T16:28:10.307Z"
   },
   {
    "duration": 41,
    "start_time": "2022-05-28T16:28:57.559Z"
   },
   {
    "duration": 1991,
    "start_time": "2022-05-28T16:28:58.840Z"
   },
   {
    "duration": 6,
    "start_time": "2022-05-28T16:29:06.024Z"
   },
   {
    "duration": 31,
    "start_time": "2022-05-28T16:29:06.433Z"
   },
   {
    "duration": 2072,
    "start_time": "2022-05-28T16:29:07.277Z"
   },
   {
    "duration": 25,
    "start_time": "2022-05-28T16:29:11.349Z"
   },
   {
    "duration": 1820,
    "start_time": "2022-05-28T16:29:12.435Z"
   },
   {
    "duration": 9,
    "start_time": "2022-05-28T16:29:15.821Z"
   },
   {
    "duration": 30,
    "start_time": "2022-05-28T16:29:16.533Z"
   },
   {
    "duration": 15,
    "start_time": "2022-05-28T16:29:17.377Z"
   },
   {
    "duration": 76,
    "start_time": "2022-05-28T16:29:20.934Z"
   },
   {
    "duration": 29,
    "start_time": "2022-05-28T16:30:03.077Z"
   },
   {
    "duration": 4,
    "start_time": "2022-05-28T16:30:16.557Z"
   },
   {
    "duration": 84,
    "start_time": "2022-05-28T16:30:25.936Z"
   },
   {
    "duration": 56,
    "start_time": "2022-05-28T16:30:28.029Z"
   },
   {
    "duration": 684,
    "start_time": "2022-05-28T16:42:55.012Z"
   },
   {
    "duration": 1382,
    "start_time": "2022-05-28T16:43:01.688Z"
   },
   {
    "duration": 45,
    "start_time": "2022-05-28T16:43:27.987Z"
   },
   {
    "duration": 1155,
    "start_time": "2022-05-28T16:43:28.985Z"
   },
   {
    "duration": 5,
    "start_time": "2022-05-28T16:43:31.680Z"
   },
   {
    "duration": 62,
    "start_time": "2022-05-28T16:43:32.351Z"
   },
   {
    "duration": 5,
    "start_time": "2022-05-28T16:43:34.120Z"
   },
   {
    "duration": 77,
    "start_time": "2022-05-28T16:43:42.621Z"
   },
   {
    "duration": 5,
    "start_time": "2022-05-28T16:43:43.779Z"
   },
   {
    "duration": 30,
    "start_time": "2022-05-28T16:43:55.791Z"
   },
   {
    "duration": 39,
    "start_time": "2022-05-28T16:44:12.468Z"
   },
   {
    "duration": 40,
    "start_time": "2022-05-28T16:44:30.080Z"
   },
   {
    "duration": 33,
    "start_time": "2022-05-28T16:44:39.095Z"
   },
   {
    "duration": 1061,
    "start_time": "2022-05-28T16:44:39.979Z"
   },
   {
    "duration": 29,
    "start_time": "2022-05-28T16:44:46.823Z"
   },
   {
    "duration": 24,
    "start_time": "2022-05-28T16:45:40.144Z"
   },
   {
    "duration": 31,
    "start_time": "2022-05-28T16:45:57.952Z"
   },
   {
    "duration": 23,
    "start_time": "2022-05-28T16:46:18.612Z"
   },
   {
    "duration": 33,
    "start_time": "2022-05-28T16:46:54.101Z"
   },
   {
    "duration": 7662,
    "start_time": "2022-05-28T16:47:22.752Z"
   },
   {
    "duration": 1731,
    "start_time": "2022-05-28T16:47:30.417Z"
   },
   {
    "duration": 15,
    "start_time": "2022-05-28T16:47:32.151Z"
   },
   {
    "duration": 26,
    "start_time": "2022-05-28T16:47:32.169Z"
   },
   {
    "duration": 16,
    "start_time": "2022-05-28T16:47:32.197Z"
   },
   {
    "duration": 1048,
    "start_time": "2022-05-28T16:47:32.215Z"
   },
   {
    "duration": 1475,
    "start_time": "2022-05-28T16:47:33.268Z"
   },
   {
    "duration": 204,
    "start_time": "2022-05-28T16:47:34.745Z"
   },
   {
    "duration": 698,
    "start_time": "2022-05-28T16:47:34.951Z"
   },
   {
    "duration": 153,
    "start_time": "2022-05-28T16:47:35.651Z"
   },
   {
    "duration": 159,
    "start_time": "2022-05-28T16:47:35.807Z"
   },
   {
    "duration": 39,
    "start_time": "2022-05-28T16:47:35.968Z"
   },
   {
    "duration": 289,
    "start_time": "2022-05-28T16:47:36.011Z"
   },
   {
    "duration": 439,
    "start_time": "2022-05-28T16:47:36.304Z"
   },
   {
    "duration": 547,
    "start_time": "2022-05-28T16:47:36.745Z"
   },
   {
    "duration": 44,
    "start_time": "2022-05-28T16:47:37.293Z"
   },
   {
    "duration": 3,
    "start_time": "2022-05-28T16:47:37.340Z"
   },
   {
    "duration": 1880,
    "start_time": "2022-05-28T16:47:37.346Z"
   },
   {
    "duration": 1899,
    "start_time": "2022-05-28T16:47:39.228Z"
   },
   {
    "duration": 37,
    "start_time": "2022-05-28T16:47:41.130Z"
   },
   {
    "duration": 1781,
    "start_time": "2022-05-28T16:47:41.169Z"
   },
   {
    "duration": 7,
    "start_time": "2022-05-28T16:47:42.952Z"
   },
   {
    "duration": 46,
    "start_time": "2022-05-28T16:47:42.961Z"
   },
   {
    "duration": 1720,
    "start_time": "2022-05-28T16:47:43.009Z"
   },
   {
    "duration": 31,
    "start_time": "2022-05-28T16:47:44.733Z"
   },
   {
    "duration": 1582,
    "start_time": "2022-05-28T16:47:44.766Z"
   },
   {
    "duration": 7,
    "start_time": "2022-05-28T16:47:46.351Z"
   },
   {
    "duration": 49,
    "start_time": "2022-05-28T16:47:46.360Z"
   },
   {
    "duration": 11,
    "start_time": "2022-05-28T16:47:46.412Z"
   },
   {
    "duration": 4,
    "start_time": "2022-05-28T16:47:46.425Z"
   },
   {
    "duration": 96,
    "start_time": "2022-05-28T16:47:46.431Z"
   },
   {
    "duration": 69,
    "start_time": "2022-05-28T16:47:46.529Z"
   },
   {
    "duration": 19,
    "start_time": "2022-05-28T16:47:50.114Z"
   },
   {
    "duration": 683,
    "start_time": "2022-05-28T16:47:58.439Z"
   },
   {
    "duration": 44,
    "start_time": "2022-05-28T16:48:03.422Z"
   },
   {
    "duration": 1333,
    "start_time": "2022-05-28T16:48:15.809Z"
   },
   {
    "duration": 26,
    "start_time": "2022-05-28T16:48:25.648Z"
   },
   {
    "duration": 4,
    "start_time": "2022-05-28T16:48:41.309Z"
   },
   {
    "duration": 75,
    "start_time": "2022-05-28T16:48:41.953Z"
   },
   {
    "duration": 5,
    "start_time": "2022-05-28T16:48:42.506Z"
   },
   {
    "duration": 584,
    "start_time": "2022-05-28T16:48:44.114Z"
   },
   {
    "duration": 7,
    "start_time": "2022-05-28T16:48:44.700Z"
   },
   {
    "duration": 55,
    "start_time": "2022-05-28T16:48:46.211Z"
   },
   {
    "duration": 11,
    "start_time": "2022-05-28T16:48:46.601Z"
   },
   {
    "duration": 5,
    "start_time": "2022-05-28T16:49:23.948Z"
   },
   {
    "duration": 6,
    "start_time": "2022-05-28T16:49:24.611Z"
   },
   {
    "duration": 3,
    "start_time": "2022-05-28T16:49:51.865Z"
   },
   {
    "duration": 4,
    "start_time": "2022-05-28T16:49:58.019Z"
   },
   {
    "duration": 129,
    "start_time": "2022-05-28T16:49:58.657Z"
   },
   {
    "duration": 4,
    "start_time": "2022-05-28T16:50:00.248Z"
   },
   {
    "duration": 15,
    "start_time": "2022-05-28T16:50:00.652Z"
   },
   {
    "duration": 45492,
    "start_time": "2022-05-28T16:50:03.315Z"
   },
   {
    "duration": 3,
    "start_time": "2022-05-28T16:50:48.809Z"
   },
   {
    "duration": 185,
    "start_time": "2022-05-28T16:50:48.813Z"
   },
   {
    "duration": 102,
    "start_time": "2022-05-28T16:50:49.007Z"
   },
   {
    "duration": 3,
    "start_time": "2022-05-28T16:50:49.111Z"
   },
   {
    "duration": 183,
    "start_time": "2022-05-28T16:50:49.116Z"
   },
   {
    "duration": 4,
    "start_time": "2022-05-28T16:50:52.511Z"
   },
   {
    "duration": 4,
    "start_time": "2022-05-28T16:50:53.274Z"
   },
   {
    "duration": 3,
    "start_time": "2022-05-28T16:50:54.363Z"
   },
   {
    "duration": 124352,
    "start_time": "2022-05-28T16:50:55.115Z"
   },
   {
    "duration": 3,
    "start_time": "2022-05-28T16:52:59.470Z"
   },
   {
    "duration": 1080,
    "start_time": "2022-05-28T16:56:23.768Z"
   },
   {
    "duration": 32,
    "start_time": "2022-05-28T16:56:28.801Z"
   },
   {
    "duration": 22,
    "start_time": "2022-05-28T16:56:39.818Z"
   },
   {
    "duration": 7420,
    "start_time": "2022-05-28T16:56:55.168Z"
   },
   {
    "duration": 1569,
    "start_time": "2022-05-28T16:57:02.591Z"
   },
   {
    "duration": 14,
    "start_time": "2022-05-28T16:57:04.162Z"
   },
   {
    "duration": 13,
    "start_time": "2022-05-28T16:57:04.179Z"
   },
   {
    "duration": 11,
    "start_time": "2022-05-28T16:57:04.199Z"
   },
   {
    "duration": 955,
    "start_time": "2022-05-28T16:57:04.212Z"
   },
   {
    "duration": 1414,
    "start_time": "2022-05-28T16:57:05.169Z"
   },
   {
    "duration": 141,
    "start_time": "2022-05-28T16:57:06.587Z"
   },
   {
    "duration": 767,
    "start_time": "2022-05-28T16:57:06.730Z"
   },
   {
    "duration": 211,
    "start_time": "2022-05-28T16:57:07.502Z"
   },
   {
    "duration": 191,
    "start_time": "2022-05-28T16:57:07.716Z"
   },
   {
    "duration": 36,
    "start_time": "2022-05-28T16:57:07.909Z"
   },
   {
    "duration": 364,
    "start_time": "2022-05-28T16:57:07.948Z"
   },
   {
    "duration": 469,
    "start_time": "2022-05-28T16:57:08.315Z"
   },
   {
    "duration": 551,
    "start_time": "2022-05-28T16:57:08.796Z"
   },
   {
    "duration": 54,
    "start_time": "2022-05-28T16:57:09.349Z"
   },
   {
    "duration": 4,
    "start_time": "2022-05-28T16:57:09.405Z"
   },
   {
    "duration": 1897,
    "start_time": "2022-05-28T16:57:09.410Z"
   },
   {
    "duration": 1842,
    "start_time": "2022-05-28T16:57:11.310Z"
   },
   {
    "duration": 44,
    "start_time": "2022-05-28T16:57:13.154Z"
   },
   {
    "duration": 1709,
    "start_time": "2022-05-28T16:57:13.202Z"
   },
   {
    "duration": 6,
    "start_time": "2022-05-28T16:57:14.913Z"
   },
   {
    "duration": 29,
    "start_time": "2022-05-28T16:57:14.921Z"
   },
   {
    "duration": 1880,
    "start_time": "2022-05-28T16:57:14.952Z"
   },
   {
    "duration": 26,
    "start_time": "2022-05-28T16:57:16.834Z"
   },
   {
    "duration": 1875,
    "start_time": "2022-05-28T16:57:16.862Z"
   },
   {
    "duration": 8,
    "start_time": "2022-05-28T16:57:18.739Z"
   },
   {
    "duration": 49,
    "start_time": "2022-05-28T16:57:18.751Z"
   },
   {
    "duration": 8,
    "start_time": "2022-05-28T16:57:18.802Z"
   },
   {
    "duration": 4,
    "start_time": "2022-05-28T16:57:18.812Z"
   },
   {
    "duration": 96,
    "start_time": "2022-05-28T16:57:18.817Z"
   },
   {
    "duration": 39,
    "start_time": "2022-05-28T16:57:18.916Z"
   },
   {
    "duration": 721,
    "start_time": "2022-05-28T16:57:26.502Z"
   },
   {
    "duration": 1484,
    "start_time": "2022-05-28T16:57:27.446Z"
   },
   {
    "duration": 29,
    "start_time": "2022-05-28T16:57:36.917Z"
   },
   {
    "duration": 39,
    "start_time": "2022-05-28T16:57:40.220Z"
   },
   {
    "duration": 24,
    "start_time": "2022-05-28T16:57:45.700Z"
   },
   {
    "duration": 3,
    "start_time": "2022-05-28T16:58:59.812Z"
   },
   {
    "duration": 102,
    "start_time": "2022-05-28T16:59:00.263Z"
   },
   {
    "duration": 5,
    "start_time": "2022-05-28T16:59:00.932Z"
   },
   {
    "duration": 493,
    "start_time": "2022-05-28T16:59:02.659Z"
   },
   {
    "duration": 5,
    "start_time": "2022-05-28T16:59:03.154Z"
   },
   {
    "duration": 69,
    "start_time": "2022-05-28T16:59:05.124Z"
   },
   {
    "duration": 5,
    "start_time": "2022-05-28T16:59:05.439Z"
   },
   {
    "duration": 5,
    "start_time": "2022-05-28T16:59:09.786Z"
   },
   {
    "duration": 15,
    "start_time": "2022-05-28T16:59:13.084Z"
   },
   {
    "duration": 3,
    "start_time": "2022-05-28T16:59:14.249Z"
   },
   {
    "duration": 309,
    "start_time": "2022-05-28T16:59:14.910Z"
   },
   {
    "duration": 861,
    "start_time": "2022-05-28T17:01:00.402Z"
   },
   {
    "duration": 1317,
    "start_time": "2022-05-28T17:01:15.547Z"
   },
   {
    "duration": 3,
    "start_time": "2022-05-28T17:01:17.465Z"
   },
   {
    "duration": 496,
    "start_time": "2022-05-28T17:01:18.677Z"
   },
   {
    "duration": 5,
    "start_time": "2022-05-28T17:01:20.984Z"
   },
   {
    "duration": 60,
    "start_time": "2022-05-28T17:01:21.669Z"
   },
   {
    "duration": 5,
    "start_time": "2022-05-28T17:01:22.062Z"
   },
   {
    "duration": 6,
    "start_time": "2022-05-28T17:01:29.698Z"
   },
   {
    "duration": 4,
    "start_time": "2022-05-28T17:01:30.632Z"
   },
   {
    "duration": 3,
    "start_time": "2022-05-28T17:01:47.016Z"
   },
   {
    "duration": 47635,
    "start_time": "2022-05-28T17:01:48.875Z"
   },
   {
    "duration": 85,
    "start_time": "2022-05-28T17:02:36.513Z"
   },
   {
    "duration": 92,
    "start_time": "2022-05-28T17:02:36.603Z"
   },
   {
    "duration": 70,
    "start_time": "2022-05-28T17:02:39.224Z"
   },
   {
    "duration": 2,
    "start_time": "2022-05-28T17:02:39.960Z"
   },
   {
    "duration": 11,
    "start_time": "2022-05-28T17:02:40.647Z"
   },
   {
    "duration": 4,
    "start_time": "2022-05-28T17:02:46.977Z"
   },
   {
    "duration": 4,
    "start_time": "2022-05-28T17:02:48.602Z"
   },
   {
    "duration": 4,
    "start_time": "2022-05-28T17:02:52.055Z"
   },
   {
    "duration": 10199,
    "start_time": "2022-05-28T17:03:12.474Z"
   },
   {
    "duration": 3,
    "start_time": "2022-05-28T17:03:59.891Z"
   },
   {
    "duration": 3,
    "start_time": "2022-05-28T17:04:00.230Z"
   },
   {
    "duration": 4,
    "start_time": "2022-05-28T17:04:01.266Z"
   },
   {
    "duration": 7295,
    "start_time": "2022-05-28T17:05:16.197Z"
   },
   {
    "duration": 1544,
    "start_time": "2022-05-28T17:05:23.497Z"
   },
   {
    "duration": 13,
    "start_time": "2022-05-28T17:05:25.043Z"
   },
   {
    "duration": 11,
    "start_time": "2022-05-28T17:05:25.058Z"
   },
   {
    "duration": 35,
    "start_time": "2022-05-28T17:05:25.071Z"
   },
   {
    "duration": 994,
    "start_time": "2022-05-28T17:05:25.107Z"
   },
   {
    "duration": 1476,
    "start_time": "2022-05-28T17:05:26.103Z"
   },
   {
    "duration": 164,
    "start_time": "2022-05-28T17:05:27.584Z"
   },
   {
    "duration": 755,
    "start_time": "2022-05-28T17:05:27.750Z"
   },
   {
    "duration": 131,
    "start_time": "2022-05-28T17:05:28.508Z"
   },
   {
    "duration": 183,
    "start_time": "2022-05-28T17:05:28.642Z"
   },
   {
    "duration": 24,
    "start_time": "2022-05-28T17:05:28.827Z"
   },
   {
    "duration": 334,
    "start_time": "2022-05-28T17:05:28.853Z"
   },
   {
    "duration": 414,
    "start_time": "2022-05-28T17:05:29.188Z"
   },
   {
    "duration": 512,
    "start_time": "2022-05-28T17:05:29.604Z"
   },
   {
    "duration": 37,
    "start_time": "2022-05-28T17:05:30.118Z"
   },
   {
    "duration": 4,
    "start_time": "2022-05-28T17:05:30.157Z"
   },
   {
    "duration": 1710,
    "start_time": "2022-05-28T17:05:30.162Z"
   },
   {
    "duration": 1735,
    "start_time": "2022-05-28T17:05:31.874Z"
   },
   {
    "duration": 28,
    "start_time": "2022-05-28T17:05:33.611Z"
   },
   {
    "duration": 1709,
    "start_time": "2022-05-28T17:05:33.641Z"
   },
   {
    "duration": 5,
    "start_time": "2022-05-28T17:05:35.352Z"
   },
   {
    "duration": 48,
    "start_time": "2022-05-28T17:05:35.359Z"
   },
   {
    "duration": 1765,
    "start_time": "2022-05-28T17:05:35.410Z"
   },
   {
    "duration": 34,
    "start_time": "2022-05-28T17:05:37.177Z"
   },
   {
    "duration": 1682,
    "start_time": "2022-05-28T17:05:37.213Z"
   },
   {
    "duration": 12,
    "start_time": "2022-05-28T17:05:38.898Z"
   },
   {
    "duration": 28,
    "start_time": "2022-05-28T17:05:38.916Z"
   },
   {
    "duration": 7,
    "start_time": "2022-05-28T17:05:38.946Z"
   },
   {
    "duration": 4,
    "start_time": "2022-05-28T17:05:38.955Z"
   },
   {
    "duration": 71,
    "start_time": "2022-05-28T17:05:38.987Z"
   },
   {
    "duration": 53,
    "start_time": "2022-05-28T17:05:39.060Z"
   },
   {
    "duration": 744,
    "start_time": "2022-05-28T17:05:39.115Z"
   },
   {
    "duration": 1343,
    "start_time": "2022-05-28T17:05:39.861Z"
   },
   {
    "duration": 4,
    "start_time": "2022-05-28T17:05:41.206Z"
   },
   {
    "duration": 496,
    "start_time": "2022-05-28T17:05:41.212Z"
   },
   {
    "duration": 4,
    "start_time": "2022-05-28T17:05:41.710Z"
   },
   {
    "duration": 73,
    "start_time": "2022-05-28T17:05:41.715Z"
   },
   {
    "duration": 15,
    "start_time": "2022-05-28T17:05:41.789Z"
   },
   {
    "duration": 9,
    "start_time": "2022-05-28T17:05:46.190Z"
   },
   {
    "duration": 5,
    "start_time": "2022-05-28T17:05:46.833Z"
   },
   {
    "duration": 3,
    "start_time": "2022-05-28T17:05:47.728Z"
   },
   {
    "duration": 146,
    "start_time": "2022-05-28T17:05:48.147Z"
   },
   {
    "duration": 3,
    "start_time": "2022-05-28T17:06:08.803Z"
   },
   {
    "duration": 51051,
    "start_time": "2022-05-28T17:06:09.248Z"
   },
   {
    "duration": 6,
    "start_time": "2022-05-28T17:07:00.302Z"
   },
   {
    "duration": 106,
    "start_time": "2022-05-28T17:07:00.311Z"
   },
   {
    "duration": 166,
    "start_time": "2022-05-28T17:07:00.419Z"
   },
   {
    "duration": 5,
    "start_time": "2022-05-28T17:07:00.588Z"
   },
   {
    "duration": 123,
    "start_time": "2022-05-28T17:07:00.596Z"
   },
   {
    "duration": 3,
    "start_time": "2022-05-28T17:07:34.821Z"
   },
   {
    "duration": 3,
    "start_time": "2022-05-28T17:07:38.608Z"
   },
   {
    "duration": 2,
    "start_time": "2022-05-28T17:07:42.645Z"
   },
   {
    "duration": 900052,
    "start_time": "2022-05-28T17:07:44.516Z"
   },
   {
    "duration": 4,
    "start_time": "2022-05-28T17:22:44.570Z"
   },
   {
    "duration": 3,
    "start_time": "2022-05-28T17:35:00.403Z"
   },
   {
    "duration": 139592,
    "start_time": "2022-05-28T17:35:02.674Z"
   },
   {
    "duration": 3,
    "start_time": "2022-05-28T17:37:25.633Z"
   },
   {
    "duration": 18,
    "start_time": "2022-05-28T17:37:26.167Z"
   },
   {
    "duration": 241,
    "start_time": "2022-05-28T17:38:25.367Z"
   },
   {
    "duration": 42,
    "start_time": "2022-05-28T17:38:38.219Z"
   },
   {
    "duration": 1623,
    "start_time": "2022-05-28T17:38:49.784Z"
   },
   {
    "duration": 7,
    "start_time": "2022-05-28T17:39:27.563Z"
   },
   {
    "duration": 190,
    "start_time": "2022-05-28T17:39:28.011Z"
   },
   {
    "duration": 4,
    "start_time": "2022-05-28T17:39:46.708Z"
   },
   {
    "duration": 74,
    "start_time": "2022-05-28T17:39:47.321Z"
   },
   {
    "duration": 37,
    "start_time": "2022-05-28T17:39:53.616Z"
   },
   {
    "duration": 673,
    "start_time": "2022-05-28T17:40:04.102Z"
   },
   {
    "duration": 1248,
    "start_time": "2022-05-28T17:40:04.777Z"
   },
   {
    "duration": 4,
    "start_time": "2022-05-28T17:40:06.027Z"
   },
   {
    "duration": 461,
    "start_time": "2022-05-28T17:40:06.033Z"
   },
   {
    "duration": 8,
    "start_time": "2022-05-28T17:40:06.499Z"
   },
   {
    "duration": 51,
    "start_time": "2022-05-28T17:40:07.411Z"
   },
   {
    "duration": 4,
    "start_time": "2022-05-28T17:40:07.825Z"
   },
   {
    "duration": 3,
    "start_time": "2022-05-28T17:40:10.413Z"
   },
   {
    "duration": 4,
    "start_time": "2022-05-28T17:40:10.646Z"
   },
   {
    "duration": 6,
    "start_time": "2022-05-28T17:40:11.681Z"
   },
   {
    "duration": 49989,
    "start_time": "2022-05-28T17:40:12.098Z"
   },
   {
    "duration": 4,
    "start_time": "2022-05-28T17:41:02.092Z"
   },
   {
    "duration": 96,
    "start_time": "2022-05-28T17:41:02.098Z"
   },
   {
    "duration": 11,
    "start_time": "2022-05-28T17:41:09.651Z"
   },
   {
    "duration": 11,
    "start_time": "2022-05-28T17:41:12.533Z"
   },
   {
    "duration": 5,
    "start_time": "2022-05-28T17:41:29.671Z"
   },
   {
    "duration": 5,
    "start_time": "2022-05-28T17:41:53.812Z"
   },
   {
    "duration": 488,
    "start_time": "2022-05-28T17:41:54.474Z"
   },
   {
    "duration": 201,
    "start_time": "2022-05-28T17:42:17.843Z"
   },
   {
    "duration": 7263,
    "start_time": "2022-05-28T17:42:27.763Z"
   },
   {
    "duration": 1484,
    "start_time": "2022-05-28T17:42:35.029Z"
   },
   {
    "duration": 13,
    "start_time": "2022-05-28T17:42:36.515Z"
   },
   {
    "duration": 7,
    "start_time": "2022-05-28T17:42:36.530Z"
   },
   {
    "duration": 11,
    "start_time": "2022-05-28T17:42:36.539Z"
   },
   {
    "duration": 1014,
    "start_time": "2022-05-28T17:42:36.552Z"
   },
   {
    "duration": 1499,
    "start_time": "2022-05-28T17:42:37.569Z"
   },
   {
    "duration": 169,
    "start_time": "2022-05-28T17:42:39.072Z"
   },
   {
    "duration": 663,
    "start_time": "2022-05-28T17:42:39.243Z"
   },
   {
    "duration": 133,
    "start_time": "2022-05-28T17:42:39.909Z"
   },
   {
    "duration": 180,
    "start_time": "2022-05-28T17:42:40.044Z"
   },
   {
    "duration": 34,
    "start_time": "2022-05-28T17:42:40.226Z"
   },
   {
    "duration": 311,
    "start_time": "2022-05-28T17:42:40.263Z"
   },
   {
    "duration": 378,
    "start_time": "2022-05-28T17:42:40.576Z"
   },
   {
    "duration": 552,
    "start_time": "2022-05-28T17:42:40.956Z"
   },
   {
    "duration": 50,
    "start_time": "2022-05-28T17:42:41.510Z"
   },
   {
    "duration": 4,
    "start_time": "2022-05-28T17:42:41.562Z"
   },
   {
    "duration": 1869,
    "start_time": "2022-05-28T17:42:41.585Z"
   },
   {
    "duration": 1653,
    "start_time": "2022-05-28T17:42:43.456Z"
   },
   {
    "duration": 35,
    "start_time": "2022-05-28T17:42:45.111Z"
   },
   {
    "duration": 1682,
    "start_time": "2022-05-28T17:42:45.148Z"
   },
   {
    "duration": 5,
    "start_time": "2022-05-28T17:42:46.832Z"
   },
   {
    "duration": 29,
    "start_time": "2022-05-28T17:42:46.839Z"
   },
   {
    "duration": 1809,
    "start_time": "2022-05-28T17:42:46.887Z"
   },
   {
    "duration": 32,
    "start_time": "2022-05-28T17:42:48.702Z"
   },
   {
    "duration": 1596,
    "start_time": "2022-05-28T17:42:48.735Z"
   },
   {
    "duration": 10,
    "start_time": "2022-05-28T17:42:50.333Z"
   },
   {
    "duration": 24,
    "start_time": "2022-05-28T17:42:50.348Z"
   },
   {
    "duration": 22,
    "start_time": "2022-05-28T17:42:50.373Z"
   },
   {
    "duration": 15,
    "start_time": "2022-05-28T17:42:50.397Z"
   },
   {
    "duration": 6,
    "start_time": "2022-05-28T17:43:01.202Z"
   },
   {
    "duration": 5,
    "start_time": "2022-05-28T17:43:25.415Z"
   },
   {
    "duration": 221,
    "start_time": "2022-05-28T17:43:25.941Z"
   },
   {
    "duration": 7127,
    "start_time": "2022-05-28T17:43:39.175Z"
   },
   {
    "duration": 1540,
    "start_time": "2022-05-28T17:43:46.306Z"
   },
   {
    "duration": 14,
    "start_time": "2022-05-28T17:43:47.848Z"
   },
   {
    "duration": 4,
    "start_time": "2022-05-28T17:43:47.865Z"
   },
   {
    "duration": 38,
    "start_time": "2022-05-28T17:43:47.871Z"
   },
   {
    "duration": 1066,
    "start_time": "2022-05-28T17:43:47.912Z"
   },
   {
    "duration": 1449,
    "start_time": "2022-05-28T17:43:48.980Z"
   },
   {
    "duration": 146,
    "start_time": "2022-05-28T17:43:50.431Z"
   },
   {
    "duration": 688,
    "start_time": "2022-05-28T17:43:50.579Z"
   },
   {
    "duration": 142,
    "start_time": "2022-05-28T17:43:51.270Z"
   },
   {
    "duration": 161,
    "start_time": "2022-05-28T17:43:51.414Z"
   },
   {
    "duration": 35,
    "start_time": "2022-05-28T17:43:51.577Z"
   },
   {
    "duration": 325,
    "start_time": "2022-05-28T17:43:51.613Z"
   },
   {
    "duration": 390,
    "start_time": "2022-05-28T17:43:51.940Z"
   },
   {
    "duration": 543,
    "start_time": "2022-05-28T17:43:52.333Z"
   },
   {
    "duration": 61,
    "start_time": "2022-05-28T17:43:52.884Z"
   },
   {
    "duration": 5,
    "start_time": "2022-05-28T17:43:52.947Z"
   },
   {
    "duration": 1806,
    "start_time": "2022-05-28T17:43:52.954Z"
   },
   {
    "duration": 1643,
    "start_time": "2022-05-28T17:43:54.762Z"
   },
   {
    "duration": 30,
    "start_time": "2022-05-28T17:43:56.407Z"
   },
   {
    "duration": 1836,
    "start_time": "2022-05-28T17:43:56.440Z"
   },
   {
    "duration": 23,
    "start_time": "2022-05-28T17:43:58.278Z"
   },
   {
    "duration": 70,
    "start_time": "2022-05-28T17:43:58.303Z"
   },
   {
    "duration": 1696,
    "start_time": "2022-05-28T17:43:58.375Z"
   },
   {
    "duration": 38,
    "start_time": "2022-05-28T17:44:00.074Z"
   },
   {
    "duration": 1678,
    "start_time": "2022-05-28T17:44:00.114Z"
   },
   {
    "duration": 16,
    "start_time": "2022-05-28T17:44:01.794Z"
   },
   {
    "duration": 28,
    "start_time": "2022-05-28T17:44:01.815Z"
   },
   {
    "duration": 10,
    "start_time": "2022-05-28T17:44:01.846Z"
   },
   {
    "duration": 6,
    "start_time": "2022-05-28T17:44:04.755Z"
   },
   {
    "duration": 7,
    "start_time": "2022-05-28T17:44:05.038Z"
   },
   {
    "duration": 198,
    "start_time": "2022-05-28T17:44:05.668Z"
   },
   {
    "duration": 4,
    "start_time": "2022-05-28T17:44:18.005Z"
   },
   {
    "duration": 77,
    "start_time": "2022-05-28T17:44:19.017Z"
   },
   {
    "duration": 41,
    "start_time": "2022-05-28T17:44:21.956Z"
   },
   {
    "duration": 730,
    "start_time": "2022-05-28T17:44:52.324Z"
   },
   {
    "duration": 1305,
    "start_time": "2022-05-28T17:44:53.057Z"
   },
   {
    "duration": 4,
    "start_time": "2022-05-28T17:44:54.364Z"
   },
   {
    "duration": 519,
    "start_time": "2022-05-28T17:44:54.370Z"
   },
   {
    "duration": 6,
    "start_time": "2022-05-28T17:44:54.893Z"
   },
   {
    "duration": 68,
    "start_time": "2022-05-28T17:44:56.289Z"
   },
   {
    "duration": 6,
    "start_time": "2022-05-28T17:44:56.479Z"
   },
   {
    "duration": 5,
    "start_time": "2022-05-28T17:44:59.862Z"
   },
   {
    "duration": 6,
    "start_time": "2022-05-28T17:45:01.835Z"
   },
   {
    "duration": 3,
    "start_time": "2022-05-28T17:45:02.828Z"
   },
   {
    "duration": 44951,
    "start_time": "2022-05-28T17:45:03.340Z"
   },
   {
    "duration": 14,
    "start_time": "2022-05-28T17:45:48.294Z"
   },
   {
    "duration": 101,
    "start_time": "2022-05-28T17:45:48.311Z"
   },
   {
    "duration": 110,
    "start_time": "2022-05-28T17:45:56.000Z"
   },
   {
    "duration": 2,
    "start_time": "2022-05-28T17:45:57.443Z"
   },
   {
    "duration": 14,
    "start_time": "2022-05-28T17:45:58.462Z"
   },
   {
    "duration": 3,
    "start_time": "2022-05-28T17:46:02.211Z"
   },
   {
    "duration": 4,
    "start_time": "2022-05-28T17:46:02.603Z"
   },
   {
    "duration": 3,
    "start_time": "2022-05-28T17:46:03.654Z"
   },
   {
    "duration": 307948,
    "start_time": "2022-05-28T17:46:04.109Z"
   },
   {
    "duration": 0,
    "start_time": "2022-05-28T17:51:12.060Z"
   },
   {
    "duration": 0,
    "start_time": "2022-05-28T17:51:12.061Z"
   },
   {
    "duration": 1268,
    "start_time": "2022-05-28T17:51:35.462Z"
   },
   {
    "duration": 737,
    "start_time": "2022-05-28T17:51:36.732Z"
   },
   {
    "duration": 5,
    "start_time": "2022-05-28T17:51:39.913Z"
   },
   {
    "duration": 67,
    "start_time": "2022-05-28T17:51:52.055Z"
   },
   {
    "duration": 5,
    "start_time": "2022-05-28T17:51:52.314Z"
   },
   {
    "duration": 442,
    "start_time": "2022-05-28T17:51:52.549Z"
   },
   {
    "duration": 5,
    "start_time": "2022-05-28T17:51:53.506Z"
   },
   {
    "duration": 7213,
    "start_time": "2022-05-28T17:52:04.482Z"
   },
   {
    "duration": 1497,
    "start_time": "2022-05-28T17:52:11.697Z"
   },
   {
    "duration": 14,
    "start_time": "2022-05-28T17:52:13.202Z"
   },
   {
    "duration": 5,
    "start_time": "2022-05-28T17:52:13.219Z"
   },
   {
    "duration": 5,
    "start_time": "2022-05-28T17:52:13.226Z"
   },
   {
    "duration": 1048,
    "start_time": "2022-05-28T17:52:13.233Z"
   },
   {
    "duration": 1444,
    "start_time": "2022-05-28T17:52:14.282Z"
   },
   {
    "duration": 162,
    "start_time": "2022-05-28T17:52:15.728Z"
   },
   {
    "duration": 710,
    "start_time": "2022-05-28T17:52:15.891Z"
   },
   {
    "duration": 137,
    "start_time": "2022-05-28T17:52:16.606Z"
   },
   {
    "duration": 216,
    "start_time": "2022-05-28T17:52:16.745Z"
   },
   {
    "duration": 35,
    "start_time": "2022-05-28T17:52:16.963Z"
   },
   {
    "duration": 367,
    "start_time": "2022-05-28T17:52:17.002Z"
   },
   {
    "duration": 486,
    "start_time": "2022-05-28T17:52:17.371Z"
   },
   {
    "duration": 635,
    "start_time": "2022-05-28T17:52:17.859Z"
   },
   {
    "duration": 40,
    "start_time": "2022-05-28T17:52:18.502Z"
   },
   {
    "duration": 4,
    "start_time": "2022-05-28T17:52:18.544Z"
   },
   {
    "duration": 1819,
    "start_time": "2022-05-28T17:52:18.551Z"
   },
   {
    "duration": 1752,
    "start_time": "2022-05-28T17:52:20.372Z"
   },
   {
    "duration": 29,
    "start_time": "2022-05-28T17:52:22.126Z"
   },
   {
    "duration": 1735,
    "start_time": "2022-05-28T17:52:22.157Z"
   },
   {
    "duration": 8,
    "start_time": "2022-05-28T17:52:23.898Z"
   },
   {
    "duration": 36,
    "start_time": "2022-05-28T17:52:23.908Z"
   },
   {
    "duration": 1803,
    "start_time": "2022-05-28T17:52:23.946Z"
   },
   {
    "duration": 52,
    "start_time": "2022-05-28T17:52:25.751Z"
   },
   {
    "duration": 1800,
    "start_time": "2022-05-28T17:52:25.808Z"
   },
   {
    "duration": 10,
    "start_time": "2022-05-28T17:52:27.610Z"
   },
   {
    "duration": 34,
    "start_time": "2022-05-28T17:52:27.628Z"
   },
   {
    "duration": 29,
    "start_time": "2022-05-28T17:52:27.664Z"
   },
   {
    "duration": 9,
    "start_time": "2022-05-28T17:52:27.699Z"
   },
   {
    "duration": 8,
    "start_time": "2022-05-28T17:52:27.711Z"
   },
   {
    "duration": 258,
    "start_time": "2022-05-28T17:52:27.721Z"
   },
   {
    "duration": 9,
    "start_time": "2022-05-28T17:52:27.984Z"
   },
   {
    "duration": 103,
    "start_time": "2022-05-28T17:52:27.995Z"
   },
   {
    "duration": 48,
    "start_time": "2022-05-28T17:52:28.100Z"
   },
   {
    "duration": 1366,
    "start_time": "2022-05-28T17:52:28.150Z"
   },
   {
    "duration": 745,
    "start_time": "2022-05-28T17:52:33.868Z"
   },
   {
    "duration": 3,
    "start_time": "2022-05-28T17:52:35.464Z"
   },
   {
    "duration": 57,
    "start_time": "2022-05-28T17:52:36.474Z"
   },
   {
    "duration": 4,
    "start_time": "2022-05-28T17:52:37.136Z"
   },
   {
    "duration": 458,
    "start_time": "2022-05-28T17:52:39.006Z"
   },
   {
    "duration": 5,
    "start_time": "2022-05-28T17:52:39.466Z"
   },
   {
    "duration": 3,
    "start_time": "2022-05-28T17:52:41.413Z"
   },
   {
    "duration": 6,
    "start_time": "2022-05-28T17:52:41.754Z"
   },
   {
    "duration": 7,
    "start_time": "2022-05-28T17:52:44.193Z"
   },
   {
    "duration": 211,
    "start_time": "2022-05-28T17:53:07.672Z"
   },
   {
    "duration": 3,
    "start_time": "2022-05-28T17:53:08.443Z"
   },
   {
    "duration": 13,
    "start_time": "2022-05-28T17:53:08.875Z"
   },
   {
    "duration": 51192,
    "start_time": "2022-05-28T17:53:12.409Z"
   },
   {
    "duration": 5,
    "start_time": "2022-05-28T17:54:03.604Z"
   },
   {
    "duration": 110,
    "start_time": "2022-05-28T17:54:03.612Z"
   },
   {
    "duration": 7309,
    "start_time": "2022-05-28T17:54:55.540Z"
   },
   {
    "duration": 1488,
    "start_time": "2022-05-28T17:55:02.852Z"
   },
   {
    "duration": 14,
    "start_time": "2022-05-28T17:55:04.342Z"
   },
   {
    "duration": 14,
    "start_time": "2022-05-28T17:55:04.358Z"
   },
   {
    "duration": 33,
    "start_time": "2022-05-28T17:55:04.374Z"
   },
   {
    "duration": 970,
    "start_time": "2022-05-28T17:55:04.409Z"
   },
   {
    "duration": 1370,
    "start_time": "2022-05-28T17:55:05.381Z"
   },
   {
    "duration": 150,
    "start_time": "2022-05-28T17:55:06.753Z"
   },
   {
    "duration": 691,
    "start_time": "2022-05-28T17:55:06.905Z"
   },
   {
    "duration": 137,
    "start_time": "2022-05-28T17:55:07.602Z"
   },
   {
    "duration": 184,
    "start_time": "2022-05-28T17:55:07.741Z"
   },
   {
    "duration": 34,
    "start_time": "2022-05-28T17:55:07.928Z"
   },
   {
    "duration": 345,
    "start_time": "2022-05-28T17:55:07.964Z"
   },
   {
    "duration": 491,
    "start_time": "2022-05-28T17:55:08.312Z"
   },
   {
    "duration": 534,
    "start_time": "2022-05-28T17:55:08.805Z"
   },
   {
    "duration": 54,
    "start_time": "2022-05-28T17:55:09.341Z"
   },
   {
    "duration": 4,
    "start_time": "2022-05-28T17:55:09.399Z"
   },
   {
    "duration": 1702,
    "start_time": "2022-05-28T17:55:09.405Z"
   },
   {
    "duration": 1727,
    "start_time": "2022-05-28T17:55:11.109Z"
   },
   {
    "duration": 28,
    "start_time": "2022-05-28T17:55:12.838Z"
   },
   {
    "duration": 1522,
    "start_time": "2022-05-28T17:55:12.868Z"
   },
   {
    "duration": 11,
    "start_time": "2022-05-28T17:55:14.395Z"
   },
   {
    "duration": 41,
    "start_time": "2022-05-28T17:55:14.409Z"
   },
   {
    "duration": 1587,
    "start_time": "2022-05-28T17:55:14.452Z"
   },
   {
    "duration": 24,
    "start_time": "2022-05-28T17:55:16.041Z"
   },
   {
    "duration": 1541,
    "start_time": "2022-05-28T17:55:16.067Z"
   },
   {
    "duration": 10,
    "start_time": "2022-05-28T17:55:17.611Z"
   },
   {
    "duration": 25,
    "start_time": "2022-05-28T17:55:17.624Z"
   },
   {
    "duration": 9,
    "start_time": "2022-05-28T17:55:17.650Z"
   },
   {
    "duration": 28,
    "start_time": "2022-05-28T17:55:17.661Z"
   },
   {
    "duration": 21,
    "start_time": "2022-05-28T17:55:17.691Z"
   },
   {
    "duration": 211,
    "start_time": "2022-05-28T17:55:17.714Z"
   },
   {
    "duration": 4,
    "start_time": "2022-05-28T17:55:17.928Z"
   },
   {
    "duration": 90,
    "start_time": "2022-05-28T17:55:17.935Z"
   },
   {
    "duration": 63,
    "start_time": "2022-05-28T17:55:18.027Z"
   },
   {
    "duration": 652,
    "start_time": "2022-05-28T17:55:19.484Z"
   },
   {
    "duration": 1297,
    "start_time": "2022-05-28T17:55:20.138Z"
   },
   {
    "duration": 4,
    "start_time": "2022-05-28T17:55:21.440Z"
   },
   {
    "duration": 478,
    "start_time": "2022-05-28T17:55:21.447Z"
   },
   {
    "duration": 5,
    "start_time": "2022-05-28T17:55:21.926Z"
   },
   {
    "duration": 80,
    "start_time": "2022-05-28T17:55:21.932Z"
   },
   {
    "duration": 5,
    "start_time": "2022-05-28T17:55:22.013Z"
   },
   {
    "duration": 7,
    "start_time": "2022-05-28T17:55:22.022Z"
   },
   {
    "duration": 7,
    "start_time": "2022-05-28T17:55:22.031Z"
   },
   {
    "duration": 4,
    "start_time": "2022-05-28T17:55:41.002Z"
   },
   {
    "duration": 40694,
    "start_time": "2022-05-28T17:55:41.400Z"
   },
   {
    "duration": 7,
    "start_time": "2022-05-28T17:56:22.098Z"
   },
   {
    "duration": 120,
    "start_time": "2022-05-28T17:56:22.107Z"
   },
   {
    "duration": 128,
    "start_time": "2022-05-28T17:56:22.285Z"
   },
   {
    "duration": 77,
    "start_time": "2022-05-28T17:56:22.415Z"
   },
   {
    "duration": 113,
    "start_time": "2022-05-28T17:56:22.498Z"
   },
   {
    "duration": 6,
    "start_time": "2022-05-28T17:56:22.614Z"
   },
   {
    "duration": 5,
    "start_time": "2022-05-28T17:56:22.623Z"
   },
   {
    "duration": 9,
    "start_time": "2022-05-28T17:56:22.631Z"
   },
   {
    "duration": 865713,
    "start_time": "2022-05-28T17:56:22.643Z"
   },
   {
    "duration": 4,
    "start_time": "2022-05-28T18:10:48.358Z"
   },
   {
    "duration": 24,
    "start_time": "2022-05-28T18:10:48.365Z"
   },
   {
    "duration": 132339,
    "start_time": "2022-05-28T18:10:48.396Z"
   },
   {
    "duration": 3,
    "start_time": "2022-05-28T18:13:00.737Z"
   },
   {
    "duration": 66,
    "start_time": "2022-05-28T18:13:00.743Z"
   },
   {
    "duration": 113389,
    "start_time": "2022-05-28T18:13:00.812Z"
   },
   {
    "duration": 4,
    "start_time": "2022-05-28T18:14:54.205Z"
   },
   {
    "duration": 10,
    "start_time": "2022-05-28T18:14:54.211Z"
   },
   {
    "duration": 16606,
    "start_time": "2022-05-28T18:14:54.223Z"
   },
   {
    "duration": 3,
    "start_time": "2022-05-28T18:15:10.831Z"
   },
   {
    "duration": 19,
    "start_time": "2022-05-28T18:15:10.835Z"
   },
   {
    "duration": 4,
    "start_time": "2022-05-28T18:36:16.603Z"
   },
   {
    "duration": 3,
    "start_time": "2022-05-28T18:36:20.467Z"
   },
   {
    "duration": 4,
    "start_time": "2022-05-28T18:36:22.560Z"
   },
   {
    "duration": 3,
    "start_time": "2022-05-28T18:37:14.664Z"
   },
   {
    "duration": 4,
    "start_time": "2022-05-28T18:37:15.810Z"
   },
   {
    "duration": 4,
    "start_time": "2022-05-28T18:37:16.631Z"
   },
   {
    "duration": 94085,
    "start_time": "2022-05-28T18:37:17.367Z"
   },
   {
    "duration": 4,
    "start_time": "2022-05-28T18:38:51.454Z"
   },
   {
    "duration": 4,
    "start_time": "2022-05-28T18:38:54.963Z"
   },
   {
    "duration": 4,
    "start_time": "2022-05-28T18:39:08.962Z"
   },
   {
    "duration": 2289,
    "start_time": "2022-05-28T18:39:09.891Z"
   },
   {
    "duration": 3,
    "start_time": "2022-05-28T18:39:13.585Z"
   },
   {
    "duration": 26,
    "start_time": "2022-05-28T18:39:14.281Z"
   },
   {
    "duration": 34451,
    "start_time": "2022-05-28T18:39:17.404Z"
   },
   {
    "duration": 4,
    "start_time": "2022-05-28T18:39:55.020Z"
   },
   {
    "duration": 4,
    "start_time": "2022-05-28T18:40:12.266Z"
   },
   {
    "duration": 1071,
    "start_time": "2022-05-28T18:40:13.293Z"
   },
   {
    "duration": 3,
    "start_time": "2022-05-28T18:40:15.616Z"
   },
   {
    "duration": 15,
    "start_time": "2022-05-28T18:40:16.002Z"
   },
   {
    "duration": 3,
    "start_time": "2022-05-28T18:40:34.603Z"
   },
   {
    "duration": 5,
    "start_time": "2022-05-28T18:40:36.899Z"
   },
   {
    "duration": 6,
    "start_time": "2022-05-28T18:40:38.795Z"
   },
   {
    "duration": 3,
    "start_time": "2022-05-28T18:42:44.837Z"
   },
   {
    "duration": 5,
    "start_time": "2022-05-28T18:42:45.346Z"
   },
   {
    "duration": 3,
    "start_time": "2022-05-28T18:42:47.760Z"
   },
   {
    "duration": 2921434,
    "start_time": "2022-05-28T18:42:48.305Z"
   },
   {
    "duration": 0,
    "start_time": "2022-05-28T19:31:29.741Z"
   },
   {
    "duration": 4,
    "start_time": "2022-05-28T19:33:02.168Z"
   },
   {
    "duration": 27701,
    "start_time": "2022-05-28T19:33:03.303Z"
   },
   {
    "duration": 5,
    "start_time": "2022-05-28T19:33:43.272Z"
   },
   {
    "duration": 6,
    "start_time": "2022-05-28T19:33:43.681Z"
   },
   {
    "duration": 4,
    "start_time": "2022-05-28T19:33:44.143Z"
   },
   {
    "duration": 9232,
    "start_time": "2022-05-28T19:33:44.774Z"
   },
   {
    "duration": 130739,
    "start_time": "2022-05-28T19:34:09.973Z"
   },
   {
    "duration": 0,
    "start_time": "2022-05-28T19:36:20.714Z"
   },
   {
    "duration": 3,
    "start_time": "2022-05-28T19:36:47.068Z"
   },
   {
    "duration": 3,
    "start_time": "2022-05-28T19:36:57.606Z"
   },
   {
    "duration": 13,
    "start_time": "2022-05-28T19:36:59.481Z"
   },
   {
    "duration": 94135,
    "start_time": "2022-05-28T19:37:05.870Z"
   },
   {
    "duration": 12,
    "start_time": "2022-05-28T19:43:13.102Z"
   },
   {
    "duration": 6,
    "start_time": "2022-05-28T19:44:13.082Z"
   },
   {
    "duration": 13,
    "start_time": "2022-05-28T19:44:14.155Z"
   },
   {
    "duration": 11,
    "start_time": "2022-05-28T19:44:40.811Z"
   },
   {
    "duration": 12,
    "start_time": "2022-05-28T19:44:54.821Z"
   },
   {
    "duration": 16,
    "start_time": "2022-05-28T19:46:06.850Z"
   },
   {
    "duration": 73926,
    "start_time": "2022-05-28T19:46:21.171Z"
   },
   {
    "duration": 18599,
    "start_time": "2022-05-28T19:47:54.109Z"
   },
   {
    "duration": 12,
    "start_time": "2022-05-28T19:48:49.307Z"
   },
   {
    "duration": 13,
    "start_time": "2022-05-28T19:49:13.428Z"
   },
   {
    "duration": 10776,
    "start_time": "2022-05-28T19:49:23.231Z"
   },
   {
    "duration": 3,
    "start_time": "2022-05-28T19:50:03.072Z"
   },
   {
    "duration": 4,
    "start_time": "2022-05-28T19:50:03.970Z"
   },
   {
    "duration": 3,
    "start_time": "2022-05-28T19:50:04.874Z"
   },
   {
    "duration": 3,
    "start_time": "2022-05-28T19:50:10.220Z"
   },
   {
    "duration": 3030116,
    "start_time": "2022-05-28T19:50:11.199Z"
   },
   {
    "duration": 0,
    "start_time": "2022-05-28T20:40:41.318Z"
   },
   {
    "duration": 0,
    "start_time": "2022-05-28T20:40:41.319Z"
   },
   {
    "duration": 0,
    "start_time": "2022-05-28T20:40:41.320Z"
   },
   {
    "duration": 3,
    "start_time": "2022-05-28T20:40:50.055Z"
   },
   {
    "duration": 3,
    "start_time": "2022-05-28T20:40:50.850Z"
   }
  ],
  "kernelspec": {
   "display_name": "Python 3 (ipykernel)",
   "language": "python",
   "name": "python3"
  },
  "language_info": {
   "codemirror_mode": {
    "name": "ipython",
    "version": 3
   },
   "file_extension": ".py",
   "mimetype": "text/x-python",
   "name": "python",
   "nbconvert_exporter": "python",
   "pygments_lexer": "ipython3",
   "version": "3.8.12"
  },
  "toc": {
   "base_numbering": 1,
   "nav_menu": {},
   "number_sections": true,
   "sideBar": true,
   "skip_h1_title": true,
   "title_cell": "Table of Contents",
   "title_sidebar": "Contents",
   "toc_cell": false,
   "toc_position": {},
   "toc_section_display": true,
   "toc_window_display": true
  }
 },
 "nbformat": 4,
 "nbformat_minor": 2
}
